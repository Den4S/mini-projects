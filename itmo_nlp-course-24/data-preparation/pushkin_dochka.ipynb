{
 "cells": [
  {
   "cell_type": "markdown",
   "id": "5074f5e9-21e7-4482-bb5c-5dcba9185ea6",
   "metadata": {},
   "source": [
    "#### Imports"
   ]
  },
  {
   "cell_type": "code",
   "execution_count": 1,
   "id": "10c3b946-fb60-413a-8b45-8ce85f4c12ee",
   "metadata": {},
   "outputs": [],
   "source": [
    "import numpy as np\n",
    "import pandas as pd"
   ]
  },
  {
   "cell_type": "code",
   "execution_count": 2,
   "id": "e2c9677d-9e66-4dde-acb8-282267fe433d",
   "metadata": {},
   "outputs": [],
   "source": [
    "from razdel import sentenize"
   ]
  },
  {
   "cell_type": "code",
   "execution_count": 3,
   "id": "7df815b6-e599-4f42-92c7-482ea0f76dfa",
   "metadata": {},
   "outputs": [],
   "source": [
    "import random"
   ]
  },
  {
   "cell_type": "code",
   "execution_count": 4,
   "id": "5be5acb0-2aec-4b18-a5f6-23c08af28a33",
   "metadata": {},
   "outputs": [],
   "source": [
    "from tqdm import tqdm"
   ]
  },
  {
   "cell_type": "code",
   "execution_count": 5,
   "id": "459b48fd-5fd6-41a8-8a64-86899a34297e",
   "metadata": {},
   "outputs": [],
   "source": [
    "import re\n",
    "import os"
   ]
  },
  {
   "cell_type": "markdown",
   "id": "e9b8b751-90d6-4987-aa31-563765b97afe",
   "metadata": {},
   "source": [
    "#### Visualisation"
   ]
  },
  {
   "cell_type": "code",
   "execution_count": 6,
   "id": "d9af1fae-9b87-48ad-8c0d-267a9f562659",
   "metadata": {},
   "outputs": [],
   "source": [
    "import matplotlib\n",
    "import matplotlib.pyplot as plt"
   ]
  },
  {
   "cell_type": "code",
   "execution_count": 7,
   "id": "99e2284b-7913-416c-b8fb-0f9304700280",
   "metadata": {},
   "outputs": [],
   "source": [
    "import scienceplots\n",
    "\n",
    "plt.style.use('science')\n",
    "%config InlineBackend.figure_format = 'retina'\n",
    "\n",
    "lables_fs = 16\n",
    "ticks_fs = 12"
   ]
  },
  {
   "cell_type": "code",
   "execution_count": null,
   "id": "d6d64fc5-2d3c-459e-95cb-221cf3fc2737",
   "metadata": {},
   "outputs": [],
   "source": []
  },
  {
   "cell_type": "markdown",
   "id": "b9557e16-0a74-4d98-8959-4639df830236",
   "metadata": {},
   "source": [
    "## \"Капитанская дочка\" (1833-1836), А.С. Пушкин"
   ]
  },
  {
   "cell_type": "code",
   "execution_count": 8,
   "id": "4ad9f73a-b761-4d9d-951a-962eeb17412c",
   "metadata": {},
   "outputs": [],
   "source": [
    "pushkin_raw_dir = '../data/raw/pushkin'\n",
    "dochka_filename = 'kapitanskaya_dochka.txt'  # ~ 383 KB"
   ]
  },
  {
   "cell_type": "code",
   "execution_count": 9,
   "id": "0bc5a587-128c-4d7f-8b3e-09acce638f0c",
   "metadata": {},
   "outputs": [],
   "source": [
    "with open(os.path.join(pushkin_raw_dir, dochka_filename), 'r') as file:\n",
    "    dochka_raw = file.read()"
   ]
  },
  {
   "cell_type": "markdown",
   "id": "95bf54e6-0dd5-4d15-a214-eaf4dbe390c9",
   "metadata": {},
   "source": [
    "### Splitting by chapters\n",
    "\n",
    "Every **chapter** in the book is starting from a paragraph:\n",
    "\n",
    "    (\\n\\n)\n",
    "    ГЛАВА XIII(\\n)\n",
    "    АРЕСТ(\\n)\n",
    "    Не гневайтесь, сударь: по долгу моему(\\n)\n",
    "    Я должен сей же час отправить вас в тюрьму.(\\n)\n",
    "    — Извольте, я готов; но я в такой надежде,(\\n)\n",
    "    Что дело объяснить дозволите мне прежде.(\\n)\n",
    "    Княжнин.(\\n)\n",
    "    (\\n\\n)\n",
    "    \n",
    "with two `\\n` before the paragraph and two `\\n` after. Let's split chapters and remove that paragraphs with chapters names and with epigraphs.\n",
    "\n",
    "**The additional chapter** (in the end of file) having another header:\n",
    "\n",
    "    (\\n)\n",
    "    ПРИЛОЖЕНИЕ(\\n)\n",
    "    ПРОПУЩЕННАЯ ГЛАВА *(\\n)\n",
    "\n",
    "with onl one `\\n` before the chapter's content."
   ]
  },
  {
   "cell_type": "code",
   "execution_count": 10,
   "id": "2fd826a3-df92-4253-a4a5-bc6089dc1514",
   "metadata": {},
   "outputs": [
    {
     "name": "stdout",
     "output_type": "stream",
     "text": [
      "67\n",
      "229\n",
      "14064\t<- Chapter 1\n",
      "233\n",
      "15620\t<- Chapter 2\n",
      "210\n",
      "10162\t<- Chapter 3\n",
      "101\n",
      "14666\t<- Chapter 4\n",
      "280\n",
      "12568\t<- Chapter 5\n",
      "101\n",
      "17065\t<- Chapter 6\n",
      "334\n",
      "11699\t<- Chapter 7\n",
      "66\n",
      "13516\t<- Chapter 8\n",
      "134\n",
      "8004\t<- Chapter 9\n",
      "199\n",
      "13044\t<- Chapter 10\n",
      "148\n",
      "18081\t<- Chapter 11\n",
      "189\n",
      "10972\t<- Chapter 12\n",
      "191\n",
      "11195\t<- Chapter 13\n",
      "55\n",
      "19091\t<- Chapter 14\n",
      "13\n",
      "19531\t<- Chapter 15\n"
     ]
    }
   ],
   "source": [
    "# also chapters can be detected by their length!\n",
    "chapter_length_th = 1000  # chapter length threshold\n",
    "\n",
    "chapter_num = 1\n",
    "for prt in re.split('\\n\\n', dochka_raw):\n",
    "    if len(prt) > chapter_length_th:\n",
    "        print(f'{len(prt)}\\t<- Chapter {chapter_num}')\n",
    "        chapter_num += 1\n",
    "    else:\n",
    "        print(len(prt))"
   ]
  },
  {
   "cell_type": "code",
   "execution_count": 11,
   "id": "9c7ad6a7-e78f-419b-a8b8-b90adb9258a2",
   "metadata": {},
   "outputs": [],
   "source": [
    "chapters_list = []  # list with chapters text (with replaced '\\n' by ' ')\n",
    "\n",
    "for text_part in re.split('\\n\\n', dochka_raw):  # includes paragraphs with chapter's numbers and epigraphs\n",
    "    if len(text_part) > chapter_length_th:\n",
    "        if re.search('(ГЛАВА.+)\\n', text_part):  # clean last additional chapter from the header\n",
    "            chapters_list.append(re.split('(ГЛАВА.+)\\n', text_part)[-1].replace('\\n', ' '))\n",
    "        else:\n",
    "            chapters_list.append(text_part.replace('\\n', ' '))  # add chapter text without '\\n'"
   ]
  },
  {
   "cell_type": "code",
   "execution_count": 12,
   "id": "236259a7-07e0-4b39-910f-67e3b1324f03",
   "metadata": {},
   "outputs": [
    {
     "name": "stdout",
     "output_type": "stream",
     "text": [
      "Number of chapters: 15\n"
     ]
    }
   ],
   "source": [
    "print(f'Number of chapters: {len(chapters_list)}')"
   ]
  },
  {
   "cell_type": "code",
   "execution_count": null,
   "id": "d7915a34-aeb4-409f-9188-b82213038b89",
   "metadata": {},
   "outputs": [],
   "source": []
  },
  {
   "cell_type": "markdown",
   "id": "d50d0bdd-4c24-4b0f-b6b2-62aeeb01f962",
   "metadata": {},
   "source": [
    "### Splitting by sentences\n",
    "\n",
    "Let's try to use [`razdel`](https://github.com/natasha/razdel) to atomize chapters by sentences. It seems really good solution!"
   ]
  },
  {
   "cell_type": "markdown",
   "id": "dd854ef5-d097-4b6b-85ed-af24e79627ac",
   "metadata": {},
   "source": [
    "#### Example"
   ]
  },
  {
   "cell_type": "code",
   "execution_count": 13,
   "id": "fc95a692-a478-4559-a68d-6f058aba02d5",
   "metadata": {},
   "outputs": [],
   "source": [
    "chapter_number = 7\n",
    "test_chapter_text = chapters_list[chapter_number - 1]"
   ]
  },
  {
   "cell_type": "code",
   "execution_count": 14,
   "id": "8594808d-a674-4558-a132-a6a9471e28f9",
   "metadata": {},
   "outputs": [],
   "source": [
    "subs_gen = sentenize(test_chapter_text)  # generator of Substrings\n",
    "subs_list = list(subs_gen)"
   ]
  },
  {
   "cell_type": "code",
   "execution_count": 15,
   "id": "1ec40085-de95-4259-83a5-25db160c9aa2",
   "metadata": {},
   "outputs": [
    {
     "name": "stdout",
     "output_type": "stream",
     "text": [
      "Number of sentences in Chapter 7: 184\n"
     ]
    }
   ],
   "source": [
    "print(f'Number of sentences in Chapter {chapter_number}: {len(subs_list)}')"
   ]
  },
  {
   "cell_type": "code",
   "execution_count": 16,
   "id": "0077be0c-dfa1-4ac4-9d7e-ce1fb2cf8a24",
   "metadata": {},
   "outputs": [
    {
     "data": {
      "text/plain": [
       "Substring(4324,\n",
       "          4392,\n",
       "          '— Здесь не бабье дело; уведи Машу; видишь: девка ни жива ни мертва».')"
      ]
     },
     "execution_count": 16,
     "metadata": {},
     "output_type": "execute_result"
    }
   ],
   "source": [
    "# Substring example\n",
    "random_subs = random.choice(subs_list)\n",
    "random_subs"
   ]
  },
  {
   "cell_type": "code",
   "execution_count": 17,
   "id": "a3aa24c0-9f9e-499c-9b7a-70f0adc7f1d9",
   "metadata": {},
   "outputs": [
    {
     "data": {
      "text/plain": [
       "'— Здесь не бабье дело; уведи Машу; видишь: девка ни жива ни мертва».'"
      ]
     },
     "execution_count": 17,
     "metadata": {},
     "output_type": "execute_result"
    }
   ],
   "source": [
    "# way to apply to sentence text\n",
    "random_subs.text"
   ]
  },
  {
   "cell_type": "code",
   "execution_count": 18,
   "id": "2f448ff7-b51f-4556-87ad-a16851ee48bf",
   "metadata": {},
   "outputs": [
    {
     "data": {
      "text/plain": [
       "'— Здесь не бабье дело; уведи Машу; видишь: девка ни жива ни мертва».'"
      ]
     },
     "execution_count": 18,
     "metadata": {},
     "output_type": "execute_result"
    }
   ],
   "source": [
    "# another way to apply to the sentence\n",
    "test_chapter_text[random_subs.start:random_subs.stop]"
   ]
  },
  {
   "cell_type": "markdown",
   "id": "4a80bea7-7198-41cc-9919-b05ecd76336c",
   "metadata": {},
   "source": [
    "#### Number of sentences in each Chapter"
   ]
  },
  {
   "cell_type": "code",
   "execution_count": 20,
   "id": "d5c129f2-77b7-41ce-aa97-93b772ad03b8",
   "metadata": {},
   "outputs": [
    {
     "name": "stdout",
     "output_type": "stream",
     "text": [
      "Chapter 1:\t 190\n",
      "Chapter 2:\t 246\n",
      "Chapter 3:\t 144\n",
      "Chapter 4:\t 214\n",
      "Chapter 5:\t 161\n",
      "Chapter 6:\t 208\n",
      "Chapter 7:\t 184\n",
      "Chapter 8:\t 198\n",
      "Chapter 9:\t 123\n",
      "Chapter 10:\t 164\n",
      "Chapter 11:\t 279\n",
      "Chapter 12:\t 189\n",
      "Chapter 13:\t 183\n",
      "Chapter 14:\t 212\n",
      "Chapter 15:\t 345\n",
      "\n",
      "Total number of sentences: 3040\n"
     ]
    }
   ],
   "source": [
    "num_sentences_by_chapters = []\n",
    "\n",
    "for chapter_number in range(len(chapters_list)):\n",
    "    num_sentences_by_chapters.append(len(list(sentenize(chapters_list[chapter_number]))))\n",
    "    print(f'Chapter {chapter_number + 1}:\\t {num_sentences_by_chapters[-1]}')\n",
    "\n",
    "print(f'\\nTotal number of sentences: {sum(num_sentences_by_chapters)}')"
   ]
  },
  {
   "cell_type": "code",
   "execution_count": null,
   "id": "e6373a0f-b11a-4ec2-8cfb-6de2ac7fb46e",
   "metadata": {},
   "outputs": [],
   "source": []
  },
  {
   "cell_type": "markdown",
   "id": "2945d60d-8f19-4631-99c5-99fa2c53f0cb",
   "metadata": {},
   "source": [
    "### Sentence cleaning\n",
    "\n",
    "We will restrict our model to prediction of `,` (commas) within a sentence and `!` (exclamation point), `?` (question mark) and `.` (periods) in the end of a sentence.\n",
    "\n",
    "Hence a **processing of other punctuation** is as following:\n",
    "1. substitute of `:` (colon) or `;` (semicolon) by `,` (comma);\n",
    "2. substitute of `!` and `?` in the middle of a sentence by `,` (comma);\n",
    "3. substitute of `—` (dash) by `,` (comma) in the middle of a sentence;\n",
    "4. delete `—` in the beginning of a sentence;\n",
    "5. delete all `\"'«»` (quotes).\n",
    "\n",
    "Additional symbols:\n",
    "1. there is some info in periods `()` in the book text - delete it (or leave if it is a complete sentence);\n",
    "2. all `*` must be deleted."
   ]
  },
  {
   "cell_type": "code",
   "execution_count": 21,
   "id": "d66409c8-0f8f-42e6-8f69-9423316587fe",
   "metadata": {},
   "outputs": [],
   "source": [
    "def process_sentence(sentence):\n",
    "    # THIS FUNCTION WAS LATER FIXED IN `processing.py`!\n",
    "    # final data preparation for `kapitanskaya_dochka` was done with `pushkin_common.ipynb`!\n",
    "    \n",
    "    subs_by_comma = ['? ', '! ', ': ', ', — ', ' — ', '; ']  # substitute by ', '\n",
    "    quotes_arr= ['\"', \"'\", '«', '»', '*']\n",
    "    cases_arr = ['(', ')', '[', ']']\n",
    "\n",
    "    sentence = sentence.lower()  # lowercase\n",
    "    \n",
    "    # deleting of a dash in the beginning of the sentence\n",
    "    if sentence[0] == '—':\n",
    "        sentence = sentence[2:]\n",
    "    \n",
    "    # deleting of text in cases: '[*]' and the '(*)'\n",
    "    sentence_no_cases = re.sub('[\\(\\[].*?[\\)\\]]', '', sentence)\n",
    "    if len(sentence_no_cases) < 2:  # check if we have not deleted complete sentence\n",
    "        for case in cases_arr:\n",
    "            sentence = sentence.replace(case, '')\n",
    "    else:\n",
    "        sentence = sentence_no_cases\n",
    "        \n",
    "    # deleting of quotes\n",
    "    for quote in quotes_arr:\n",
    "        sentence = sentence.replace(quote, '')\n",
    "\n",
    "    # punctuation in the end of the sentence can be multiple\n",
    "    # for example: '...', '!..', '?..'\n",
    "    # convert to:  '.', '!' and '?'\n",
    "    n_of_last_punct = 0\n",
    "    for char in sentence[::-1]:\n",
    "        if bool(re.search('[а-яА-Я]', char)):\n",
    "            break\n",
    "        else:\n",
    "            n_of_last_punct += 1\n",
    "    for mark in sentence[-n_of_last_punct:]:\n",
    "        if not mark == ' ':  \n",
    "            last_punct = mark  # only one punctuation mark in the end\n",
    "            break\n",
    "    if last_punct == ';':\n",
    "        last_punct = '.'  # last mark of the sentence cant be a ';'\n",
    "    sentence = sentence[:-n_of_last_punct]  # delete final punctuation (add it in the end)\n",
    "    \n",
    "    # substitute of all punctuation within the sentence by ',' (comma)\n",
    "    for mark in subs_by_comma:\n",
    "        sentence = sentence.replace(mark, ', ')\n",
    "\n",
    "    # delete all periods within the sentence\n",
    "    sentence = sentence.replace('.', '')\n",
    "\n",
    "    # check if the first symbol is space - delete it\n",
    "    if sentence[0] == ' ':\n",
    "        sentence = sentence[1:]\n",
    "\n",
    "    # replace all multiple spaces by single space ' '\n",
    "    sentence = re.sub(r'\\s+', ' ', sentence)\n",
    "    \n",
    "    # save edited sentence (adding the punctuation in the end of sentence)\n",
    "    return sentence + last_punct"
   ]
  },
  {
   "cell_type": "code",
   "execution_count": 22,
   "id": "6c89d563-2012-4996-81bc-61433f6427e1",
   "metadata": {},
   "outputs": [
    {
     "name": "stdout",
     "output_type": "stream",
     "text": [
      "CPU times: user 88.4 ms, sys: 6.85 ms, total: 95.3 ms\n",
      "Wall time: 253 ms\n"
     ]
    }
   ],
   "source": [
    "%%time\n",
    "\n",
    "all_sentences_raw = []\n",
    "all_sentences_processed = []\n",
    "all_sentences_lengths = []\n",
    "\n",
    "for chapter_number in range(len(chapters_list)):\n",
    "    for substring in sentenize(chapters_list[chapter_number]):\n",
    "        sentence = substring.text\n",
    "        all_sentences_raw.append(sentence)\n",
    "        \n",
    "        processed_sentence = process_sentence(sentence)  # process sentence\n",
    "        len_processed = len(processed_sentence.split(' '))  # find length of the sentence\n",
    "        all_sentences_processed.append(processed_sentence)\n",
    "        all_sentences_lengths.append(len_processed)"
   ]
  },
  {
   "cell_type": "markdown",
   "id": "4952038d-e1bf-477e-87fe-abe177633147",
   "metadata": {},
   "source": [
    "#### DataFrame with sentences"
   ]
  },
  {
   "cell_type": "code",
   "execution_count": 23,
   "id": "4ded0cea-384c-4b4e-8366-9598d410cf72",
   "metadata": {},
   "outputs": [],
   "source": [
    "dochka_sent_df = pd.DataFrame()\n",
    "\n",
    "dochka_sent_df['raw'] = all_sentences_raw\n",
    "dochka_sent_df['processed'] = all_sentences_processed\n",
    "dochka_sent_df['len'] = all_sentences_lengths"
   ]
  },
  {
   "cell_type": "code",
   "execution_count": 24,
   "id": "425a1501-8e84-4a29-85a6-0c71bf05ae35",
   "metadata": {},
   "outputs": [
    {
     "data": {
      "text/plain": [
       "(3040, 3)"
      ]
     },
     "execution_count": 24,
     "metadata": {},
     "output_type": "execute_result"
    }
   ],
   "source": [
    "dochka_sent_df.shape"
   ]
  },
  {
   "cell_type": "code",
   "execution_count": 25,
   "id": "55e2f2ef-e170-495c-8003-eedf79261b62",
   "metadata": {},
   "outputs": [
    {
     "data": {
      "text/html": [
       "<div>\n",
       "<style scoped>\n",
       "    .dataframe tbody tr th:only-of-type {\n",
       "        vertical-align: middle;\n",
       "    }\n",
       "\n",
       "    .dataframe tbody tr th {\n",
       "        vertical-align: top;\n",
       "    }\n",
       "\n",
       "    .dataframe thead th {\n",
       "        text-align: right;\n",
       "    }\n",
       "</style>\n",
       "<table border=\"1\" class=\"dataframe\">\n",
       "  <thead>\n",
       "    <tr style=\"text-align: right;\">\n",
       "      <th></th>\n",
       "      <th>raw</th>\n",
       "      <th>processed</th>\n",
       "      <th>len</th>\n",
       "    </tr>\n",
       "  </thead>\n",
       "  <tbody>\n",
       "    <tr>\n",
       "      <th>2247</th>\n",
       "      <td>Мы говорили и не могли наговориться.</td>\n",
       "      <td>мы говорили и не могли наговориться.</td>\n",
       "      <td>6</td>\n",
       "    </tr>\n",
       "    <tr>\n",
       "      <th>517</th>\n",
       "      <td>Мы тотчас познакомились.</td>\n",
       "      <td>мы тотчас познакомились.</td>\n",
       "      <td>3</td>\n",
       "    </tr>\n",
       "    <tr>\n",
       "      <th>1606</th>\n",
       "      <td>— Это что еще! — вскричал Пугачев, сверкнув огненными глазами.</td>\n",
       "      <td>это что еще, вскричал пугачев, сверкнув огненными глазами.</td>\n",
       "      <td>8</td>\n",
       "    </tr>\n",
       "    <tr>\n",
       "      <th>2808</th>\n",
       "      <td>Я спешил их вывести из заключения, — но, подошед к двери, я нашел ее снова запертою.</td>\n",
       "      <td>я спешил их вывести из заключения, но, подошед к двери, я нашел ее снова запертою.</td>\n",
       "      <td>15</td>\n",
       "    </tr>\n",
       "    <tr>\n",
       "      <th>462</th>\n",
       "      <td>Она разматывала нитки, которые держал, распялив на руках, кривой старичок в офицерском мундире.</td>\n",
       "      <td>она разматывала нитки, которые держал, распялив на руках, кривой старичок в офицерском мундире.</td>\n",
       "      <td>13</td>\n",
       "    </tr>\n",
       "  </tbody>\n",
       "</table>\n",
       "</div>"
      ],
      "text/plain": [
       "                                                                                                  raw  \\\n",
       "2247                                                             Мы говорили и не могли наговориться.   \n",
       "517                                                                          Мы тотчас познакомились.   \n",
       "1606                                   — Это что еще! — вскричал Пугачев, сверкнув огненными глазами.   \n",
       "2808             Я спешил их вывести из заключения, — но, подошед к двери, я нашел ее снова запертою.   \n",
       "462   Она разматывала нитки, которые держал, распялив на руках, кривой старичок в офицерском мундире.   \n",
       "\n",
       "                                                                                            processed  \\\n",
       "2247                                                             мы говорили и не могли наговориться.   \n",
       "517                                                                          мы тотчас познакомились.   \n",
       "1606                                       это что еще, вскричал пугачев, сверкнув огненными глазами.   \n",
       "2808               я спешил их вывести из заключения, но, подошед к двери, я нашел ее снова запертою.   \n",
       "462   она разматывала нитки, которые держал, распялив на руках, кривой старичок в офицерском мундире.   \n",
       "\n",
       "      len  \n",
       "2247    6  \n",
       "517     3  \n",
       "1606    8  \n",
       "2808   15  \n",
       "462    13  "
      ]
     },
     "execution_count": 25,
     "metadata": {},
     "output_type": "execute_result"
    }
   ],
   "source": [
    "pd.options.display.max_colwidth = 200\n",
    "dochka_sent_df.sample(5)"
   ]
  },
  {
   "cell_type": "markdown",
   "id": "2c72043f-50f9-4eaa-83a5-e2296d7ee75c",
   "metadata": {},
   "source": [
    "#### Sentences length statistics"
   ]
  },
  {
   "cell_type": "code",
   "execution_count": 26,
   "id": "f5900109-a7f6-439e-96ff-e52f66879b8b",
   "metadata": {},
   "outputs": [
    {
     "data": {
      "image/png": "[encoded data removed]",
      "text/plain": [
       "<Figure size 500x300 with 1 Axes>"
      ]
     },
     "metadata": {
      "image/png": {
       "height": 285,
       "width": 451
      }
     },
     "output_type": "display_data"
    }
   ],
   "source": [
    "fig, ax = plt.subplots(figsize=(5, 3))\n",
    "\n",
    "pd.DataFrame.hist(\n",
    "    data=dochka_sent_df,\n",
    "    column='len',\n",
    "    ax=ax,\n",
    "    bins=29,\n",
    "    legend=False,\n",
    "    color='lightcoral',\n",
    "    alpha=1,\n",
    "    edgecolor='k',\n",
    "    lw=0.5,\n",
    ")\n",
    "\n",
    "ax.tick_params(axis='both', which='major', labelsize=ticks_fs)\n",
    "\n",
    "plt.title(None)\n",
    "plt.xlabel('sentence length', fontsize=lables_fs)\n",
    "plt.ylabel('number of files', fontsize=lables_fs)\n",
    "\n",
    "ax.grid(False)\n",
    "plt.show()\n",
    "# fig.savefig(f'figures/name.eps', format='eps')"
   ]
  },
  {
   "cell_type": "markdown",
   "id": "06a3682b-6532-41f3-919e-501d48a21643",
   "metadata": {},
   "source": [
    "### Punctuation tokenization"
   ]
  },
  {
   "cell_type": "code",
   "execution_count": 27,
   "id": "3325eb34-a422-4942-bbea-5afb4b38f6d0",
   "metadata": {},
   "outputs": [],
   "source": [
    "punct_to_token = {\n",
    "    ' ' : 'S',  # space\n",
    "    ',' : 'C',  # comma\n",
    "    '.' : 'P',  # period\n",
    "    '!' : 'EX', # exclamation\n",
    "    '?' : 'Q'   # question\n",
    "}"
   ]
  },
  {
   "cell_type": "code",
   "execution_count": 28,
   "id": "8954184d-6d17-4bf7-a564-9e23cdac1307",
   "metadata": {},
   "outputs": [],
   "source": [
    "REMAIN_PUNCT = [',', '.', '!', '?']"
   ]
  },
  {
   "cell_type": "markdown",
   "id": "a515f99e-9b3c-40ef-a187-3c51edb5cb9c",
   "metadata": {},
   "source": [
    "#### Example"
   ]
  },
  {
   "cell_type": "code",
   "execution_count": 29,
   "id": "1e93dbe6-34f2-41d9-bc1f-e28d3f804428",
   "metadata": {},
   "outputs": [
    {
     "data": {
      "text/plain": [
       "'зурин взглянул на часы, положил кий и объявил мне, что я проиграл сто рублей.'"
      ]
     },
     "execution_count": 29,
     "metadata": {},
     "output_type": "execute_result"
    }
   ],
   "source": [
    "ind_sent = 124\n",
    "raw_sent, proc_sent, len_sent = dochka_sent_df.iloc[ind_sent]\n",
    "proc_sent"
   ]
  },
  {
   "cell_type": "code",
   "execution_count": 30,
   "id": "e2ff4edb-2ab3-4dc2-9357-334d81f01113",
   "metadata": {},
   "outputs": [
    {
     "data": {
      "text/plain": [
       "'зурин взглянул на часы положил кий и объявил мне что я проиграл сто рублей'"
      ]
     },
     "execution_count": 30,
     "metadata": {},
     "output_type": "execute_result"
    }
   ],
   "source": [
    "words_sent = proc_sent\n",
    "\n",
    "for mark in REMAIN_PUNCT:\n",
    "    words_sent = words_sent.replace(mark, '')\n",
    "\n",
    "words_sent  # INPUT for the prediction!"
   ]
  },
  {
   "cell_type": "code",
   "execution_count": 31,
   "id": "ee773164-19fb-4a53-ab74-adc497c84924",
   "metadata": {},
   "outputs": [],
   "source": [
    "def tokenize(sentence, tokens_dict=punct_to_token):\n",
    "    tokens_sent = []\n",
    "    for word in sentence.split(' '):\n",
    "        # print(word)\n",
    "        if word[-1] not in tokens_dict.keys():\n",
    "            tokens_sent.append(tokens_dict[' '])\n",
    "        else:\n",
    "            tokens_sent.append(tokens_dict[word[-1]])\n",
    "    return ' '.join(tokens_sent)"
   ]
  },
  {
   "cell_type": "code",
   "execution_count": 32,
   "id": "2aa5d703-22e8-41e9-95e8-7bbc3888558e",
   "metadata": {},
   "outputs": [
    {
     "data": {
      "text/plain": [
       "'S S S C S S S S C S S S S P'"
      ]
     },
     "execution_count": 32,
     "metadata": {},
     "output_type": "execute_result"
    }
   ],
   "source": [
    "tokenize(proc_sent)  # TARGET for the punctuation prediction"
   ]
  },
  {
   "cell_type": "code",
   "execution_count": 33,
   "id": "b9c0219d-e3ed-48bf-9c72-1401f3604bad",
   "metadata": {},
   "outputs": [],
   "source": [
    "assert len(tokenize(proc_sent).split(' ')) == len_sent"
   ]
  },
  {
   "cell_type": "markdown",
   "id": "d73483ce-f042-4dc9-8ffc-d68225011943",
   "metadata": {},
   "source": [
    "### Prepare all sentences and targets for further prediction"
   ]
  },
  {
   "cell_type": "code",
   "execution_count": 34,
   "id": "e9f49e68-275f-493c-b9ae-160deede0ead",
   "metadata": {},
   "outputs": [
    {
     "name": "stderr",
     "output_type": "stream",
     "text": [
      "100%|████████████████████████████████████| 3040/3040 [00:00<00:00, 28074.57it/s]\n"
     ]
    }
   ],
   "source": [
    "all_inputs = []\n",
    "all_targets = []\n",
    "\n",
    "for ind_row in tqdm(range(dochka_sent_df.shape[0])):\n",
    "    sentence_this = dochka_sent_df.iloc[ind_row]['processed']\n",
    "\n",
    "    input_this = sentence_this\n",
    "    for mark in REMAIN_PUNCT:\n",
    "        input_this = input_this.replace(mark, '')\n",
    "\n",
    "    target_this = tokenize(sentence_this)\n",
    "\n",
    "    assert len(target_this.split(' ')) == len(input_this.split(' '))\n",
    "    \n",
    "    all_inputs.append(input_this)\n",
    "    all_targets.append(target_this)"
   ]
  },
  {
   "cell_type": "code",
   "execution_count": 35,
   "id": "ce16eba9-6568-44d0-8096-d3b4b56757a9",
   "metadata": {},
   "outputs": [],
   "source": [
    "# add new rows to DF\n",
    "dochka_sent_df['input'] = all_inputs\n",
    "dochka_sent_df['target'] = all_targets"
   ]
  },
  {
   "cell_type": "markdown",
   "id": "e7455f71-8d64-4464-a3bb-9f04e3a17313",
   "metadata": {},
   "source": [
    "### Saving prepared data"
   ]
  },
  {
   "cell_type": "code",
   "execution_count": 36,
   "id": "255a276f-63f5-4e1c-9656-065b05309ae8",
   "metadata": {},
   "outputs": [
    {
     "data": {
      "text/html": [
       "<div>\n",
       "<style scoped>\n",
       "    .dataframe tbody tr th:only-of-type {\n",
       "        vertical-align: middle;\n",
       "    }\n",
       "\n",
       "    .dataframe tbody tr th {\n",
       "        vertical-align: top;\n",
       "    }\n",
       "\n",
       "    .dataframe thead th {\n",
       "        text-align: right;\n",
       "    }\n",
       "</style>\n",
       "<table border=\"1\" class=\"dataframe\">\n",
       "  <thead>\n",
       "    <tr style=\"text-align: right;\">\n",
       "      <th></th>\n",
       "      <th>raw</th>\n",
       "      <th>processed</th>\n",
       "      <th>len</th>\n",
       "      <th>input</th>\n",
       "      <th>target</th>\n",
       "    </tr>\n",
       "  </thead>\n",
       "  <tbody>\n",
       "    <tr>\n",
       "      <th>1842</th>\n",
       "      <td>«Ну, Савельич, — сказал я ему, — отдай же мне теперь половину; а остальное возьми себе.</td>\n",
       "      <td>ну, савельич, сказал я ему, отдай же мне теперь половину, а остальное возьми себе.</td>\n",
       "      <td>14</td>\n",
       "      <td>ну савельич сказал я ему отдай же мне теперь половину а остальное возьми себе</td>\n",
       "      <td>C C S S C S S S S C S S S P</td>\n",
       "    </tr>\n",
       "    <tr>\n",
       "      <th>2676</th>\n",
       "      <td>Марья Ивановна приняла письмо дрожащею рукою и, заплакав, упала к ногам императрицы, которая подняла ее и поцеловала.</td>\n",
       "      <td>марья ивановна приняла письмо дрожащею рукою и, заплакав, упала к ногам императрицы, которая подняла ее и поцеловала.</td>\n",
       "      <td>17</td>\n",
       "      <td>марья ивановна приняла письмо дрожащею рукою и заплакав упала к ногам императрицы которая подняла ее и поцеловала</td>\n",
       "      <td>S S S S S S C C S S S C S S S S P</td>\n",
       "    </tr>\n",
       "    <tr>\n",
       "      <th>2659</th>\n",
       "      <td>Камер-лакей объявил, что государыне угодно было, чтоб Марья Ивановна ехала одна и в том, в чем ее застанут.</td>\n",
       "      <td>камер-лакей объявил, что государыне угодно было, чтоб марья ивановна ехала одна и в том, в чем ее застанут.</td>\n",
       "      <td>18</td>\n",
       "      <td>камер-лакей объявил что государыне угодно было чтоб марья ивановна ехала одна и в том в чем ее застанут</td>\n",
       "      <td>S C S S S C S S S S S S S C S S S P</td>\n",
       "    </tr>\n",
       "    <tr>\n",
       "      <th>787</th>\n",
       "      <td>Опустясь по крутой тропинке, мы остановились у самой реки и обнажили шпаги.</td>\n",
       "      <td>опустясь по крутой тропинке, мы остановились у самой реки и обнажили шпаги.</td>\n",
       "      <td>12</td>\n",
       "      <td>опустясь по крутой тропинке мы остановились у самой реки и обнажили шпаги</td>\n",
       "      <td>S S S C S S S S S S S P</td>\n",
       "    </tr>\n",
       "    <tr>\n",
       "      <th>1603</th>\n",
       "      <td>Секретарь продолжал: — «Одеяло ситцевое, другое тафтяное на хлопчатой бумаге четыре рубля.</td>\n",
       "      <td>секретарь продолжал, одеяло ситцевое, другое тафтяное на хлопчатой бумаге четыре рубля.</td>\n",
       "      <td>11</td>\n",
       "      <td>секретарь продолжал одеяло ситцевое другое тафтяное на хлопчатой бумаге четыре рубля</td>\n",
       "      <td>S C S C S S S S S S P</td>\n",
       "    </tr>\n",
       "    <tr>\n",
       "      <th>559</th>\n",
       "      <td>«Мне так сказывали в Оренбурге», — отвечал я.</td>\n",
       "      <td>мне так сказывали в оренбурге, отвечал я.</td>\n",
       "      <td>7</td>\n",
       "      <td>мне так сказывали в оренбурге отвечал я</td>\n",
       "      <td>S S S S C S P</td>\n",
       "    </tr>\n",
       "    <tr>\n",
       "      <th>2052</th>\n",
       "      <td>— Я офицер и дворянин; вчера еще дрался противу тебя, а сегодня еду с тобой в одной кибитке, и счастие всей моей жизни зависит от тебя.</td>\n",
       "      <td>я офицер и дворянин, вчера еще дрался противу тебя, а сегодня еду с тобой в одной кибитке, и счастие всей моей жизни зависит от тебя.</td>\n",
       "      <td>25</td>\n",
       "      <td>я офицер и дворянин вчера еще дрался противу тебя а сегодня еду с тобой в одной кибитке и счастие всей моей жизни зависит от тебя</td>\n",
       "      <td>S S S C S S S S C S S S S S S S C S S S S S S S P</td>\n",
       "    </tr>\n",
       "    <tr>\n",
       "      <th>122</th>\n",
       "      <td>Шары поминутно летали у меня через борт; я горячился, бранил маркера, который считал бог ведает как, час от часу умножал игру, словом — вел себя как мальчишка, вырвавшийся на волю.</td>\n",
       "      <td>шары поминутно летали у меня через борт, я горячился, бранил маркера, который считал бог ведает как, час от часу умножал игру, словом, вел себя как мальчишка, вырвавшийся на волю.</td>\n",
       "      <td>29</td>\n",
       "      <td>шары поминутно летали у меня через борт я горячился бранил маркера который считал бог ведает как час от часу умножал игру словом вел себя как мальчишка вырвавшийся на волю</td>\n",
       "      <td>S S S S S S C S C S C S S S S C S S S S C C S S S C S S P</td>\n",
       "    </tr>\n",
       "    <tr>\n",
       "      <th>678</th>\n",
       "      <td>Мы условились драться за скирдами, что находились подле крепости, и явиться туда на другой день в седьмом часу утра.</td>\n",
       "      <td>мы условились драться за скирдами, что находились подле крепости, и явиться туда на другой день в седьмом часу утра.</td>\n",
       "      <td>19</td>\n",
       "      <td>мы условились драться за скирдами что находились подле крепости и явиться туда на другой день в седьмом часу утра</td>\n",
       "      <td>S S S S C S S S C S S S S S S S S S P</td>\n",
       "    </tr>\n",
       "    <tr>\n",
       "      <th>1607</th>\n",
       "      <td>Признаюсь, я перепугался за бедного моего дядьку.</td>\n",
       "      <td>признаюсь, я перепугался за бедного моего дядьку.</td>\n",
       "      <td>7</td>\n",
       "      <td>признаюсь я перепугался за бедного моего дядьку</td>\n",
       "      <td>C S S S S S P</td>\n",
       "    </tr>\n",
       "  </tbody>\n",
       "</table>\n",
       "</div>"
      ],
      "text/plain": [
       "                                                                                                                                                                                       raw  \\\n",
       "1842                                                                                               «Ну, Савельич, — сказал я ему, — отдай же мне теперь половину; а остальное возьми себе.   \n",
       "2676                                                                 Марья Ивановна приняла письмо дрожащею рукою и, заплакав, упала к ногам императрицы, которая подняла ее и поцеловала.   \n",
       "2659                                                                           Камер-лакей объявил, что государыне угодно было, чтоб Марья Ивановна ехала одна и в том, в чем ее застанут.   \n",
       "787                                                                                                            Опустясь по крутой тропинке, мы остановились у самой реки и обнажили шпаги.   \n",
       "1603                                                                                            Секретарь продолжал: — «Одеяло ситцевое, другое тафтяное на хлопчатой бумаге четыре рубля.   \n",
       "559                                                                                                                                          «Мне так сказывали в Оренбурге», — отвечал я.   \n",
       "2052                                               — Я офицер и дворянин; вчера еще дрался противу тебя, а сегодня еду с тобой в одной кибитке, и счастие всей моей жизни зависит от тебя.   \n",
       "122   Шары поминутно летали у меня через борт; я горячился, бранил маркера, который считал бог ведает как, час от часу умножал игру, словом — вел себя как мальчишка, вырвавшийся на волю.   \n",
       "678                                                                   Мы условились драться за скирдами, что находились подле крепости, и явиться туда на другой день в седьмом часу утра.   \n",
       "1607                                                                                                                                     Признаюсь, я перепугался за бедного моего дядьку.   \n",
       "\n",
       "                                                                                                                                                                                processed  \\\n",
       "1842                                                                                                   ну, савельич, сказал я ему, отдай же мне теперь половину, а остальное возьми себе.   \n",
       "2676                                                                марья ивановна приняла письмо дрожащею рукою и, заплакав, упала к ногам императрицы, которая подняла ее и поцеловала.   \n",
       "2659                                                                          камер-лакей объявил, что государыне угодно было, чтоб марья ивановна ехала одна и в том, в чем ее застанут.   \n",
       "787                                                                                                           опустясь по крутой тропинке, мы остановились у самой реки и обнажили шпаги.   \n",
       "1603                                                                                              секретарь продолжал, одеяло ситцевое, другое тафтяное на хлопчатой бумаге четыре рубля.   \n",
       "559                                                                                                                                             мне так сказывали в оренбурге, отвечал я.   \n",
       "2052                                                я офицер и дворянин, вчера еще дрался противу тебя, а сегодня еду с тобой в одной кибитке, и счастие всей моей жизни зависит от тебя.   \n",
       "122   шары поминутно летали у меня через борт, я горячился, бранил маркера, который считал бог ведает как, час от часу умножал игру, словом, вел себя как мальчишка, вырвавшийся на волю.   \n",
       "678                                                                  мы условились драться за скирдами, что находились подле крепости, и явиться туда на другой день в седьмом часу утра.   \n",
       "1607                                                                                                                                    признаюсь, я перепугался за бедного моего дядьку.   \n",
       "\n",
       "      len  \\\n",
       "1842   14   \n",
       "2676   17   \n",
       "2659   18   \n",
       "787    12   \n",
       "1603   11   \n",
       "559     7   \n",
       "2052   25   \n",
       "122    29   \n",
       "678    19   \n",
       "1607    7   \n",
       "\n",
       "                                                                                                                                                                            input  \\\n",
       "1842                                                                                                ну савельич сказал я ему отдай же мне теперь половину а остальное возьми себе   \n",
       "2676                                                            марья ивановна приняла письмо дрожащею рукою и заплакав упала к ногам императрицы которая подняла ее и поцеловала   \n",
       "2659                                                                      камер-лакей объявил что государыне угодно было чтоб марья ивановна ехала одна и в том в чем ее застанут   \n",
       "787                                                                                                     опустясь по крутой тропинке мы остановились у самой реки и обнажили шпаги   \n",
       "1603                                                                                         секретарь продолжал одеяло ситцевое другое тафтяное на хлопчатой бумаге четыре рубля   \n",
       "559                                                                                                                                       мне так сказывали в оренбурге отвечал я   \n",
       "2052                                            я офицер и дворянин вчера еще дрался противу тебя а сегодня еду с тобой в одной кибитке и счастие всей моей жизни зависит от тебя   \n",
       "122   шары поминутно летали у меня через борт я горячился бранил маркера который считал бог ведает как час от часу умножал игру словом вел себя как мальчишка вырвавшийся на волю   \n",
       "678                                                             мы условились драться за скирдами что находились подле крепости и явиться туда на другой день в седьмом часу утра   \n",
       "1607                                                                                                                              признаюсь я перепугался за бедного моего дядьку   \n",
       "\n",
       "                                                         target  \n",
       "1842                                C C S S C S S S S C S S S P  \n",
       "2676                          S S S S S S C C S S S C S S S S P  \n",
       "2659                        S C S S S C S S S S S S S C S S S P  \n",
       "787                                     S S S C S S S S S S S P  \n",
       "1603                                      S C S C S S S S S S P  \n",
       "559                                               S S S S C S P  \n",
       "2052          S S S C S S S S C S S S S S S S C S S S S S S S P  \n",
       "122   S S S S S S C S C S C S S S S C S S S S C C S S S C S S P  \n",
       "678                       S S S S C S S S C S S S S S S S S S P  \n",
       "1607                                              C S S S S S P  "
      ]
     },
     "execution_count": 36,
     "metadata": {},
     "output_type": "execute_result"
    }
   ],
   "source": [
    "dochka_sent_df.sample(10)"
   ]
  },
  {
   "cell_type": "code",
   "execution_count": 39,
   "id": "ff1bf419-5dd1-4604-be89-fda79bb63b2a",
   "metadata": {},
   "outputs": [],
   "source": [
    "pushkin_prepared_dir = '../data/prepared/pushkin'\n",
    "dochka_filename_csv = dochka_filename.split('.')[0] + '.csv'"
   ]
  },
  {
   "cell_type": "code",
   "execution_count": 40,
   "id": "2f753867-3675-4c69-87a0-343966cb24fb",
   "metadata": {},
   "outputs": [],
   "source": [
    "# saving dataframe (only 'input' and 'target' columns)\n",
    "dochka_sent_df[['input', 'target']].to_csv(os.path.join(pushkin_prepared_dir, dochka_filename_csv))"
   ]
  },
  {
   "cell_type": "code",
   "execution_count": null,
   "id": "b07d22eb-db47-4528-940a-6aea9da26ca7",
   "metadata": {},
   "outputs": [],
   "source": []
  },
  {
   "cell_type": "code",
   "execution_count": null,
   "id": "3b9c2843-13c6-474b-9c25-9a8e6d6e5192",
   "metadata": {},
   "outputs": [],
   "source": []
  }
 ],
 "metadata": {
  "kernelspec": {
   "display_name": "Python 3 (ipykernel)",
   "language": "python",
   "name": "python3"
  },
  "language_info": {
   "codemirror_mode": {
    "name": "ipython",
    "version": 3
   },
   "file_extension": ".py",
   "mimetype": "text/x-python",
   "name": "python",
   "nbconvert_exporter": "python",
   "pygments_lexer": "ipython3",
   "version": "3.8.10"
  }
 },
 "nbformat": 4,
 "nbformat_minor": 5
}
