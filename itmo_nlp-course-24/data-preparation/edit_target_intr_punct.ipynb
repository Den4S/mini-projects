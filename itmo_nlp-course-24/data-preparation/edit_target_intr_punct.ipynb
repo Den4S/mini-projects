{
 "cells": [
  {
   "cell_type": "markdown",
   "id": "a2a9e14b-fc5e-4d9c-bd37-9f5e07e9905f",
   "metadata": {},
   "source": [
    "#### Imports"
   ]
  },
  {
   "cell_type": "code",
   "execution_count": 1,
   "id": "0238208b-3f8f-4ee2-8553-aac09b7f190c",
   "metadata": {},
   "outputs": [],
   "source": [
    "import numpy as np\n",
    "import pandas as pd"
   ]
  },
  {
   "cell_type": "code",
   "execution_count": 2,
   "id": "6adaa191-4785-4046-91d0-420c2633e343",
   "metadata": {},
   "outputs": [],
   "source": [
    "import random"
   ]
  },
  {
   "cell_type": "code",
   "execution_count": 3,
   "id": "3d007b57-5e9f-4942-b057-306ba0d8fe87",
   "metadata": {},
   "outputs": [],
   "source": [
    "from tqdm import tqdm"
   ]
  },
  {
   "cell_type": "code",
   "execution_count": 4,
   "id": "14a04da2-9f67-4c89-9c90-cbc22f7ca28b",
   "metadata": {},
   "outputs": [],
   "source": [
    "import re\n",
    "import os"
   ]
  },
  {
   "cell_type": "markdown",
   "id": "ffaaa44a-42ab-47a3-8b7c-6bb934177649",
   "metadata": {},
   "source": [
    "### Load data"
   ]
  },
  {
   "cell_type": "code",
   "execution_count": 5,
   "id": "7902d343-9bd3-48e5-9c72-adaa5eb5e188",
   "metadata": {},
   "outputs": [],
   "source": [
    "prepared_dir = '../data/prepared'\n",
    "filename_csv = '01_punct_pushkin.csv'"
   ]
  },
  {
   "cell_type": "code",
   "execution_count": 6,
   "id": "09a5f1d8-816b-4446-814e-64bb92340b68",
   "metadata": {},
   "outputs": [
    {
     "data": {
      "text/html": [
       "<div>\n",
       "<style scoped>\n",
       "    .dataframe tbody tr th:only-of-type {\n",
       "        vertical-align: middle;\n",
       "    }\n",
       "\n",
       "    .dataframe tbody tr th {\n",
       "        vertical-align: top;\n",
       "    }\n",
       "\n",
       "    .dataframe thead th {\n",
       "        text-align: right;\n",
       "    }\n",
       "</style>\n",
       "<table border=\"1\" class=\"dataframe\">\n",
       "  <thead>\n",
       "    <tr style=\"text-align: right;\">\n",
       "      <th></th>\n",
       "      <th>input</th>\n",
       "      <th>input_lemma</th>\n",
       "      <th>input_pos</th>\n",
       "      <th>target</th>\n",
       "    </tr>\n",
       "  </thead>\n",
       "  <tbody>\n",
       "    <tr>\n",
       "      <th>940</th>\n",
       "      <td>шуба лисья крытая алым ратином 40 рублей</td>\n",
       "      <td>шуба лисий крытый алым ратин 40 рубль</td>\n",
       "      <td>NOUN ADJ NOUN NOUN NOUN NUM NOUN</td>\n",
       "      <td>S C S S C S P</td>\n",
       "    </tr>\n",
       "    <tr>\n",
       "      <th>578</th>\n",
       "      <td>а для чего ж было тебе запирать палашку спросила комендантша</td>\n",
       "      <td>а для что ж быть ты запирать палашка спросить комендантша</td>\n",
       "      <td>CCONJ ADP PRON PART AUX PRON VERB NOUN VERB NOUN</td>\n",
       "      <td>S S S S S S S C S P</td>\n",
       "    </tr>\n",
       "    <tr>\n",
       "      <th>1216</th>\n",
       "      <td>улица моя тесна воли мне мало</td>\n",
       "      <td>улица мой тесный воля я мало</td>\n",
       "      <td>NOUN DET NOUN NOUN PRON ADV</td>\n",
       "      <td>S S C S S P</td>\n",
       "    </tr>\n",
       "    <tr>\n",
       "      <th>2154</th>\n",
       "      <td>симонов оробел к счастию в крепости находился капитан крылов человек решительный и благоразумный</td>\n",
       "      <td>симонов оробеть к счастие в крепость находиться капитан крылов человек решительный и благоразумный</td>\n",
       "      <td>NOUN VERB ADP NOUN ADP NOUN VERB NOUN NOUN NOUN ADJ CCONJ ADJ</td>\n",
       "      <td>S C S C S S S S C S S S P</td>\n",
       "    </tr>\n",
       "    <tr>\n",
       "      <th>3616</th>\n",
       "      <td>и старушка поглядывающая на него из-за перегородки не могла знать заснул ли он или только задумался</td>\n",
       "      <td>и старушка поглядывать на он из-за перегородка не мочь знать заснуть ли он или только задуматься</td>\n",
       "      <td>CCONJ NOUN VERB ADP PRON ADP NOUN PART VERB VERB NOUN PART PRON CCONJ PART VERB</td>\n",
       "      <td>S C S S S S C S S C S S S S S P</td>\n",
       "    </tr>\n",
       "  </tbody>\n",
       "</table>\n",
       "</div>"
      ],
      "text/plain": [
       "                                                                                                    input  \\\n",
       "940                                                              шуба лисья крытая алым ратином 40 рублей   \n",
       "578                                          а для чего ж было тебе запирать палашку спросила комендантша   \n",
       "1216                                                                        улица моя тесна воли мне мало   \n",
       "2154     симонов оробел к счастию в крепости находился капитан крылов человек решительный и благоразумный   \n",
       "3616  и старушка поглядывающая на него из-за перегородки не могла знать заснул ли он или только задумался   \n",
       "\n",
       "                                                                                             input_lemma  \\\n",
       "940                                                                шуба лисий крытый алым ратин 40 рубль   \n",
       "578                                            а для что ж быть ты запирать палашка спросить комендантша   \n",
       "1216                                                                        улица мой тесный воля я мало   \n",
       "2154  симонов оробеть к счастие в крепость находиться капитан крылов человек решительный и благоразумный   \n",
       "3616    и старушка поглядывать на он из-за перегородка не мочь знать заснуть ли он или только задуматься   \n",
       "\n",
       "                                                                            input_pos  \\\n",
       "940                                                  NOUN ADJ NOUN NOUN NOUN NUM NOUN   \n",
       "578                                  CCONJ ADP PRON PART AUX PRON VERB NOUN VERB NOUN   \n",
       "1216                                                      NOUN DET NOUN NOUN PRON ADV   \n",
       "2154                    NOUN VERB ADP NOUN ADP NOUN VERB NOUN NOUN NOUN ADJ CCONJ ADJ   \n",
       "3616  CCONJ NOUN VERB ADP PRON ADP NOUN PART VERB VERB NOUN PART PRON CCONJ PART VERB   \n",
       "\n",
       "                               target  \n",
       "940                     S C S S C S P  \n",
       "578               S S S S S S S C S P  \n",
       "1216                      S S C S S P  \n",
       "2154        S C S C S S S S C S S S P  \n",
       "3616  S C S S S S C S S C S S S S S P  "
      ]
     },
     "execution_count": 6,
     "metadata": {},
     "output_type": "execute_result"
    }
   ],
   "source": [
    "pushkin_data_df = pd.read_csv(os.path.join(prepared_dir, filename_csv), index_col=0)\n",
    "\n",
    "pd.options.display.max_colwidth = 200\n",
    "pushkin_data_df.sample(5)"
   ]
  },
  {
   "cell_type": "markdown",
   "id": "3ec90bb9-411c-4bbf-a661-426afb7b2f91",
   "metadata": {},
   "source": [
    "#### Editing of targets by changing of a final token in each target by the same token"
   ]
  },
  {
   "cell_type": "code",
   "execution_count": 7,
   "id": "d11b857b-4187-46f5-8f69-a36acc39eb7a",
   "metadata": {},
   "outputs": [],
   "source": [
    "final_token = 'F'\n",
    "new_target_col = 'new_target'\n",
    "\n",
    "pushkin_data_df[new_target_col] = pushkin_data_df.apply(\n",
    "    lambda row: ' '.join(row.target.split(' ')[:-1]) + ' ' + final_token,\n",
    "    axis = 1\n",
    ")"
   ]
  },
  {
   "cell_type": "code",
   "execution_count": 8,
   "id": "c383cb98-89f3-4e41-ad9c-1b177728bfc0",
   "metadata": {},
   "outputs": [],
   "source": [
    "for ind in range(len(pushkin_data_df)):\n",
    "    len_target_0 = len(pushkin_data_df.iloc[ind]['target'].split(' '))\n",
    "    len_target_new = len(pushkin_data_df.iloc[ind][new_target_col].split(' '))\n",
    "\n",
    "    len_sent = len(pushkin_data_df.iloc[ind]['input'].split(' '))\n",
    "    len_sent_lemma = len(pushkin_data_df.iloc[ind]['input_lemma'].split(' '))\n",
    "    \n",
    "    assert (len_target_0 == len_target_new) and (len_target_0 == len_sent)\n",
    "    assert len_sent == len_sent_lemma"
   ]
  },
  {
   "cell_type": "code",
   "execution_count": 9,
   "id": "ceb0a3bb-605c-4721-8fbb-2ce0e674f51d",
   "metadata": {},
   "outputs": [
    {
     "data": {
      "text/html": [
       "<div>\n",
       "<style scoped>\n",
       "    .dataframe tbody tr th:only-of-type {\n",
       "        vertical-align: middle;\n",
       "    }\n",
       "\n",
       "    .dataframe tbody tr th {\n",
       "        vertical-align: top;\n",
       "    }\n",
       "\n",
       "    .dataframe thead th {\n",
       "        text-align: right;\n",
       "    }\n",
       "</style>\n",
       "<table border=\"1\" class=\"dataframe\">\n",
       "  <thead>\n",
       "    <tr style=\"text-align: right;\">\n",
       "      <th></th>\n",
       "      <th>input</th>\n",
       "      <th>input_lemma</th>\n",
       "      <th>new_target</th>\n",
       "    </tr>\n",
       "  </thead>\n",
       "  <tbody>\n",
       "    <tr>\n",
       "      <th>3950</th>\n",
       "      <td>я вас люблю сказал бурмин я вас люблю страстно</td>\n",
       "      <td>я вы любить сказать бурмин я вы любить страстно</td>\n",
       "      <td>S S C S C S S S F</td>\n",
       "    </tr>\n",
       "    <tr>\n",
       "      <th>4155</th>\n",
       "      <td>правду ли говорил немец или только желал похвастаться дальновидностию но он нимало тем не утешил бедного больного</td>\n",
       "      <td>правда ли говорить немец или только желать похвастаться дальновидность но он нимало тот не утешить бедный больной</td>\n",
       "      <td>S S S S S S S S C S S S S S S S F</td>\n",
       "    </tr>\n",
       "    <tr>\n",
       "      <th>4394</th>\n",
       "      <td>дверь отворилась он повернул голову с таким равнодушием с такою гордою небрежностью что сердце самой закоренелой кокетки непременно должно было бы содрогнуться</td>\n",
       "      <td>дверь отвориться он повернуть голова с такой равнодушие с такой гордый небрежность что сердце сам закоренелый кокетка непременно должный быть бы содрогнуться</td>\n",
       "      <td>S C S S S S S C S S S C S S S S S S S S S F</td>\n",
       "    </tr>\n",
       "    <tr>\n",
       "      <th>740</th>\n",
       "      <td>отец герасим бледный и дрожащий стоял у крыльца с крестом в руках и казалось молча умолял его за предстоящие жертвы</td>\n",
       "      <td>отец герасим бледный и дрожать стоять у крыльцо с крест в рука и казаться молча умолять он за предстоящий жертва</td>\n",
       "      <td>S C S S C S S C S S S C C C S S S S S F</td>\n",
       "    </tr>\n",
       "    <tr>\n",
       "      <th>649</th>\n",
       "      <td>ну матушка возразил иван кузмич оставайся пожалуй коли ты на крепость нашу надеешься</td>\n",
       "      <td>ну матушка возразить иван кузмич оставаться пожалуй коли ты на крепость наш надеяться</td>\n",
       "      <td>C C S S C C C S S S S S F</td>\n",
       "    </tr>\n",
       "  </tbody>\n",
       "</table>\n",
       "</div>"
      ],
      "text/plain": [
       "                                                                                                                                                                input  \\\n",
       "3950                                                                                                                   я вас люблю сказал бурмин я вас люблю страстно   \n",
       "4155                                                правду ли говорил немец или только желал похвастаться дальновидностию но он нимало тем не утешил бедного больного   \n",
       "4394  дверь отворилась он повернул голову с таким равнодушием с такою гордою небрежностью что сердце самой закоренелой кокетки непременно должно было бы содрогнуться   \n",
       "740                                               отец герасим бледный и дрожащий стоял у крыльца с крестом в руках и казалось молча умолял его за предстоящие жертвы   \n",
       "649                                                                              ну матушка возразил иван кузмич оставайся пожалуй коли ты на крепость нашу надеешься   \n",
       "\n",
       "                                                                                                                                                        input_lemma  \\\n",
       "3950                                                                                                                я вы любить сказать бурмин я вы любить страстно   \n",
       "4155                                              правда ли говорить немец или только желать похвастаться дальновидность но он нимало тот не утешить бедный больной   \n",
       "4394  дверь отвориться он повернуть голова с такой равнодушие с такой гордый небрежность что сердце сам закоренелый кокетка непременно должный быть бы содрогнуться   \n",
       "740                                                отец герасим бледный и дрожать стоять у крыльцо с крест в рука и казаться молча умолять он за предстоящий жертва   \n",
       "649                                                                           ну матушка возразить иван кузмич оставаться пожалуй коли ты на крепость наш надеяться   \n",
       "\n",
       "                                       new_target  \n",
       "3950                            S S C S C S S S F  \n",
       "4155            S S S S S S S S C S S S S S S S F  \n",
       "4394  S C S S S S S C S S S C S S S S S S S S S F  \n",
       "740       S C S S C S S C S S S C C C S S S S S F  \n",
       "649                     C C S S C C C S S S S S F  "
      ]
     },
     "execution_count": 9,
     "metadata": {},
     "output_type": "execute_result"
    }
   ],
   "source": [
    "new_pushkin_data_df = pushkin_data_df[['input', 'input_lemma', new_target_col]]\n",
    "new_pushkin_data_df.sample(5)"
   ]
  },
  {
   "cell_type": "markdown",
   "id": "7d95ebd9-fad5-41ff-93eb-968d7e1b5815",
   "metadata": {},
   "source": [
    "#### Saving"
   ]
  },
  {
   "cell_type": "code",
   "execution_count": 10,
   "id": "ab626497-4c76-401a-89d1-91ec0e3886d1",
   "metadata": {},
   "outputs": [],
   "source": [
    "new_filename_csv = '02_punct_pushkin.csv'"
   ]
  },
  {
   "cell_type": "code",
   "execution_count": 11,
   "id": "730a16dd-d7c7-4506-bebe-4ee5bada25b7",
   "metadata": {},
   "outputs": [],
   "source": [
    "new_pushkin_data_df.to_csv(os.path.join(prepared_dir, new_filename_csv))"
   ]
  },
  {
   "cell_type": "code",
   "execution_count": null,
   "id": "ef3468e8-10be-4e51-a64e-6851d6b142cc",
   "metadata": {},
   "outputs": [],
   "source": []
  }
 ],
 "metadata": {
  "kernelspec": {
   "display_name": "Python 3 (ipykernel)",
   "language": "python",
   "name": "python3"
  },
  "language_info": {
   "codemirror_mode": {
    "name": "ipython",
    "version": 3
   },
   "file_extension": ".py",
   "mimetype": "text/x-python",
   "name": "python",
   "nbconvert_exporter": "python",
   "pygments_lexer": "ipython3",
   "version": "3.8.10"
  }
 },
 "nbformat": 4,
 "nbformat_minor": 5
}
