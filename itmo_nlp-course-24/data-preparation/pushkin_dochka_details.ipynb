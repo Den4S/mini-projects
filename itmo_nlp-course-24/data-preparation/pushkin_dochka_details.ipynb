{
 "cells": [
  {
   "cell_type": "markdown",
   "id": "5074f5e9-21e7-4482-bb5c-5dcba9185ea6",
   "metadata": {},
   "source": [
    "#### Imports"
   ]
  },
  {
   "cell_type": "code",
   "execution_count": 1,
   "id": "10c3b946-fb60-413a-8b45-8ce85f4c12ee",
   "metadata": {},
   "outputs": [],
   "source": [
    "import numpy as np\n",
    "import pandas as pd"
   ]
  },
  {
   "cell_type": "code",
   "execution_count": 2,
   "id": "e2c9677d-9e66-4dde-acb8-282267fe433d",
   "metadata": {},
   "outputs": [],
   "source": [
    "from razdel import sentenize"
   ]
  },
  {
   "cell_type": "code",
   "execution_count": 3,
   "id": "7df815b6-e599-4f42-92c7-482ea0f76dfa",
   "metadata": {},
   "outputs": [],
   "source": [
    "import random"
   ]
  },
  {
   "cell_type": "code",
   "execution_count": 4,
   "id": "5be5acb0-2aec-4b18-a5f6-23c08af28a33",
   "metadata": {},
   "outputs": [],
   "source": [
    "from tqdm import tqdm"
   ]
  },
  {
   "cell_type": "code",
   "execution_count": 5,
   "id": "459b48fd-5fd6-41a8-8a64-86899a34297e",
   "metadata": {},
   "outputs": [],
   "source": [
    "import re\n",
    "import os"
   ]
  },
  {
   "cell_type": "markdown",
   "id": "4039fcee-c964-449c-a8ab-27335c18c8d9",
   "metadata": {},
   "source": [
    "#### User-defined"
   ]
  },
  {
   "cell_type": "code",
   "execution_count": 6,
   "id": "d1ab2782-96b8-44cb-985a-8c70cd71aefc",
   "metadata": {},
   "outputs": [],
   "source": [
    "from processing import REMAIN_PUNCT, END_PUNC, PUNCT_TO_TOKEN\n",
    "from processing import process_raw_sentence, tokenize"
   ]
  },
  {
   "cell_type": "markdown",
   "id": "e9b8b751-90d6-4987-aa31-563765b97afe",
   "metadata": {},
   "source": [
    "#### Visualisation"
   ]
  },
  {
   "cell_type": "code",
   "execution_count": 7,
   "id": "d9af1fae-9b87-48ad-8c0d-267a9f562659",
   "metadata": {},
   "outputs": [],
   "source": [
    "import matplotlib\n",
    "import matplotlib.pyplot as plt"
   ]
  },
  {
   "cell_type": "code",
   "execution_count": 8,
   "id": "99e2284b-7913-416c-b8fb-0f9304700280",
   "metadata": {},
   "outputs": [],
   "source": [
    "import scienceplots\n",
    "\n",
    "plt.style.use('science')\n",
    "%config InlineBackend.figure_format = 'retina'\n",
    "\n",
    "lables_fs = 16\n",
    "ticks_fs = 12"
   ]
  },
  {
   "cell_type": "code",
   "execution_count": null,
   "id": "d6d64fc5-2d3c-459e-95cb-221cf3fc2737",
   "metadata": {},
   "outputs": [],
   "source": []
  },
  {
   "cell_type": "markdown",
   "id": "b9557e16-0a74-4d98-8959-4639df830236",
   "metadata": {},
   "source": [
    "## All downloaded books by Pushkin"
   ]
  },
  {
   "cell_type": "code",
   "execution_count": 9,
   "id": "4ad9f73a-b761-4d9d-951a-962eeb17412c",
   "metadata": {},
   "outputs": [],
   "source": [
    "pushkin_raw_dir = '../data/raw/pushkin'"
   ]
  },
  {
   "cell_type": "code",
   "execution_count": 10,
   "id": "ac2ac544-5c00-434c-8c31-44ccc214ce48",
   "metadata": {},
   "outputs": [
    {
     "name": "stdout",
     "output_type": "stream",
     "text": [
      "dubrovsky.txt\n",
      "povesti_belkina.txt\n",
      "kapitanskaya_dochka.txt\n",
      "pugachevs_story.txt\n"
     ]
    }
   ],
   "source": [
    "books = []\n",
    "\n",
    "for file in os.listdir(pushkin_raw_dir):  # through files in selected directory            \n",
    "    filename = os.fsdecode(file)\n",
    "    if filename.endswith(\".txt\"):  # looking for .txt files in the directory\n",
    "        books.append(filename)\n",
    "\n",
    "print(*books, sep='\\n')"
   ]
  },
  {
   "cell_type": "code",
   "execution_count": 11,
   "id": "3ecba363-e789-4c0e-95c4-52d18cbe4bde",
   "metadata": {},
   "outputs": [
    {
     "data": {
      "text/plain": [
       "'dubrovsky.txt'"
      ]
     },
     "execution_count": 11,
     "metadata": {},
     "output_type": "execute_result"
    }
   ],
   "source": [
    "# select book\n",
    "book_filename = books[0]\n",
    "book_filename"
   ]
  },
  {
   "cell_type": "code",
   "execution_count": 12,
   "id": "0bc5a587-128c-4d7f-8b3e-09acce638f0c",
   "metadata": {},
   "outputs": [],
   "source": [
    "with open(os.path.join(pushkin_raw_dir, book_filename), 'r') as file:\n",
    "    book_raw = file.read()"
   ]
  },
  {
   "cell_type": "markdown",
   "id": "95bf54e6-0dd5-4d15-a214-eaf4dbe390c9",
   "metadata": {},
   "source": [
    "### Splitting by chapters"
   ]
  },
  {
   "cell_type": "code",
   "execution_count": 13,
   "id": "2fd826a3-df92-4253-a4a5-bc6089dc1514",
   "metadata": {},
   "outputs": [
    {
     "name": "stdout",
     "output_type": "stream",
     "text": [
      "39\n",
      "15\n",
      "9\n",
      "14047\t<- Chapter 1\n",
      "9\n",
      "12206\t<- Chapter 2\n",
      "10\n",
      "8960\t<- Chapter 3\n",
      "9\n",
      "4296\t<- Chapter 4\n",
      "8\n",
      "8610\t<- Chapter 5\n",
      "9\n",
      "6952\t<- Chapter 6\n",
      "10\n",
      "2986\t<- Chapter 7\n",
      "11\n",
      "7804\t<- Chapter 8\n",
      "14\n",
      "10\n",
      "13040\t<- Chapter 9\n",
      "8\n",
      "4882\t<- Chapter 10\n",
      "9\n",
      "9113\t<- Chapter 11\n",
      "10\n",
      "8401\t<- Chapter 12\n",
      "11\n",
      "6676\t<- Chapter 13\n",
      "10\n",
      "2170\t<- Chapter 14\n",
      "9\n",
      "3130\t<- Chapter 15\n",
      "10\n",
      "4368\t<- Chapter 16\n",
      "11\n",
      "8813\t<- Chapter 17\n",
      "11\n",
      "4311\t<- Chapter 18\n",
      "10\n",
      "5240\t<- Chapter 19\n"
     ]
    }
   ],
   "source": [
    "# also chapters can be detected by their length!\n",
    "chapter_length_th = 1000  # chapter length threshold\n",
    "\n",
    "chapter_num = 1\n",
    "for prt in re.split('\\n\\n', book_raw):\n",
    "    if len(prt) > chapter_length_th:\n",
    "        print(f'{len(prt)}\\t<- Chapter {chapter_num}')\n",
    "        chapter_num += 1\n",
    "    else:\n",
    "        print(len(prt))"
   ]
  },
  {
   "cell_type": "code",
   "execution_count": 14,
   "id": "9c7ad6a7-e78f-419b-a8b8-b90adb9258a2",
   "metadata": {},
   "outputs": [],
   "source": [
    "chapters_list = []  # list with chapters text (with replaced '\\n' by ' ')\n",
    "\n",
    "for text_part in re.split('\\n\\n', book_raw):  # includes paragraphs with chapter's numbers and epigraphs\n",
    "    if len(text_part) > chapter_length_th:\n",
    "        text_part = text_part.replace('\\n', ' ')\n",
    "        text_part = re.sub('[\\[].*?[\\]]', '', text_part)\n",
    "        chapters_list.append(text_part)  # add chapter text without '\\n'"
   ]
  },
  {
   "cell_type": "code",
   "execution_count": 15,
   "id": "236259a7-07e0-4b39-910f-67e3b1324f03",
   "metadata": {},
   "outputs": [
    {
     "name": "stdout",
     "output_type": "stream",
     "text": [
      "Number of chapters: 19\n"
     ]
    }
   ],
   "source": [
    "print(f'Number of chapters: {len(chapters_list)}')"
   ]
  },
  {
   "cell_type": "code",
   "execution_count": null,
   "id": "d7915a34-aeb4-409f-9188-b82213038b89",
   "metadata": {},
   "outputs": [],
   "source": []
  },
  {
   "cell_type": "markdown",
   "id": "d50d0bdd-4c24-4b0f-b6b2-62aeeb01f962",
   "metadata": {},
   "source": [
    "### Splitting by sentences\n",
    "\n",
    "Let's try to use [`razdel`](https://github.com/natasha/razdel) to atomize chapters by sentences. It seems really good solution!"
   ]
  },
  {
   "cell_type": "code",
   "execution_count": 16,
   "id": "d5c129f2-77b7-41ce-aa97-93b772ad03b8",
   "metadata": {},
   "outputs": [
    {
     "name": "stdout",
     "output_type": "stream",
     "text": [
      "Chapter 1:\t 117\n",
      "Chapter 2:\t 49\n",
      "Chapter 3:\t 82\n",
      "Chapter 4:\t 47\n",
      "Chapter 5:\t 105\n",
      "Chapter 6:\t 98\n",
      "Chapter 7:\t 25\n",
      "Chapter 8:\t 59\n",
      "Chapter 9:\t 150\n",
      "Chapter 10:\t 53\n",
      "Chapter 11:\t 107\n",
      "Chapter 12:\t 101\n",
      "Chapter 13:\t 64\n",
      "Chapter 14:\t 27\n",
      "Chapter 15:\t 38\n",
      "Chapter 16:\t 43\n",
      "Chapter 17:\t 113\n",
      "Chapter 18:\t 47\n",
      "Chapter 19:\t 50\n",
      "\n",
      "Total number of sentences: 1375\n"
     ]
    }
   ],
   "source": [
    "num_sentences_by_chapters = []\n",
    "\n",
    "for chapter_number in range(len(chapters_list)):\n",
    "    num_sentences_by_chapters.append(len(list(sentenize(chapters_list[chapter_number]))))\n",
    "    print(f'Chapter {chapter_number + 1}:\\t {num_sentences_by_chapters[-1]}')\n",
    "\n",
    "print(f'\\nTotal number of sentences: {sum(num_sentences_by_chapters)}')"
   ]
  },
  {
   "cell_type": "code",
   "execution_count": null,
   "id": "e6373a0f-b11a-4ec2-8cfb-6de2ac7fb46e",
   "metadata": {},
   "outputs": [],
   "source": []
  },
  {
   "cell_type": "markdown",
   "id": "2945d60d-8f19-4631-99c5-99fa2c53f0cb",
   "metadata": {},
   "source": [
    "### Sentence cleaning\n",
    "\n",
    "We will restrict our model to prediction of `,` (commas) within a sentence and `!` (exclamation point), `?` (question mark) and `.` (periods) in the end of a sentence.\n",
    "\n",
    "Hence a **processing of other punctuation** is as following:\n",
    "1. substitute of `:` (colon) or `;` (semicolon) by `,` (comma);\n",
    "2. substitute of `!` and `?` in the middle of a sentence by `,` (comma);\n",
    "3. substitute of `—` (dash) by `,` (comma) in the middle of a sentence;\n",
    "4. delete `—` in the beginning of a sentence;\n",
    "5. delete all `\"'«»` (quotes).\n",
    "\n",
    "Additional symbols:\n",
    "1. there is some info in periods `()` in the book text - delete it (or leave if it is a complete sentence);\n",
    "2. all `*` must be deleted."
   ]
  },
  {
   "cell_type": "code",
   "execution_count": 17,
   "id": "6c89d563-2012-4996-81bc-61433f6427e1",
   "metadata": {},
   "outputs": [
    {
     "name": "stdout",
     "output_type": "stream",
     "text": [
      "CPU times: user 53.5 ms, sys: 2.07 ms, total: 55.6 ms\n",
      "Wall time: 55.7 ms\n"
     ]
    }
   ],
   "source": [
    "%%time\n",
    "\n",
    "all_sentences_raw = []\n",
    "all_sentences_processed = []\n",
    "all_sentences_lengths = []\n",
    "\n",
    "for chapter_number in range(len(chapters_list)):\n",
    "    for substring in sentenize(chapters_list[chapter_number]):\n",
    "        sentence = substring.text\n",
    "        \n",
    "        if len(sentence) > 5 and not bool(re.search('[a-zA-Z]', sentence)):\n",
    "            # delete too short sentences and sentences with non-russian letters\n",
    "            all_sentences_raw.append(sentence)\n",
    "            \n",
    "            processed_sentence = process_raw_sentence(sentence)  # process sentence\n",
    "            len_processed = len(processed_sentence.split(' '))  # find length of the sentence\n",
    "            all_sentences_processed.append(processed_sentence)\n",
    "            all_sentences_lengths.append(len_processed)"
   ]
  },
  {
   "cell_type": "markdown",
   "id": "4952038d-e1bf-477e-87fe-abe177633147",
   "metadata": {},
   "source": [
    "#### DataFrame with sentences"
   ]
  },
  {
   "cell_type": "code",
   "execution_count": 18,
   "id": "4ded0cea-384c-4b4e-8366-9598d410cf72",
   "metadata": {},
   "outputs": [],
   "source": [
    "book_sent_df = pd.DataFrame()\n",
    "\n",
    "book_sent_df['raw'] = all_sentences_raw\n",
    "book_sent_df['processed'] = all_sentences_processed\n",
    "book_sent_df['len'] = all_sentences_lengths"
   ]
  },
  {
   "cell_type": "code",
   "execution_count": 19,
   "id": "425a1501-8e84-4a29-85a6-0c71bf05ae35",
   "metadata": {},
   "outputs": [
    {
     "data": {
      "text/plain": [
       "(1363, 3)"
      ]
     },
     "execution_count": 19,
     "metadata": {},
     "output_type": "execute_result"
    }
   ],
   "source": [
    "book_sent_df.shape"
   ]
  },
  {
   "cell_type": "code",
   "execution_count": 20,
   "id": "55e2f2ef-e170-495c-8003-eedf79261b62",
   "metadata": {},
   "outputs": [
    {
     "data": {
      "text/html": [
       "<div>\n",
       "<style scoped>\n",
       "    .dataframe tbody tr th:only-of-type {\n",
       "        vertical-align: middle;\n",
       "    }\n",
       "\n",
       "    .dataframe tbody tr th {\n",
       "        vertical-align: top;\n",
       "    }\n",
       "\n",
       "    .dataframe thead th {\n",
       "        text-align: right;\n",
       "    }\n",
       "</style>\n",
       "<table border=\"1\" class=\"dataframe\">\n",
       "  <thead>\n",
       "    <tr style=\"text-align: right;\">\n",
       "      <th></th>\n",
       "      <th>raw</th>\n",
       "      <th>processed</th>\n",
       "      <th>len</th>\n",
       "    </tr>\n",
       "  </thead>\n",
       "  <tbody>\n",
       "    <tr>\n",
       "      <th>1317</th>\n",
       "      <td>Караульщик кончил свою работу, встряхнул свою рухлядь, полюбовался заплатою, приколол к рукаву иголку – сел на пушку верхом и запел во все горло меланхолическую старую песню: Не шуми, мати зеленая...</td>\n",
       "      <td>караульщик кончил свою работу, встряхнул свою рухлядь, полюбовался заплатою, приколол к рукаву иголку, сел на пушку верхом и запел во все горло меланхолическую старую песню, не шуми, мати зеленая ...</td>\n",
       "      <td>36</td>\n",
       "    </tr>\n",
       "    <tr>\n",
       "      <th>286</th>\n",
       "      <td>Лицо его стало мрачнее ночи, он с презрением улыбнулся, грозно взглянул на дворню и поехал шагом около двора.</td>\n",
       "      <td>лицо его стало мрачнее ночи, он с презрением улыбнулся, грозно взглянул на дворню и поехал шагом около двора.</td>\n",
       "      <td>18</td>\n",
       "    </tr>\n",
       "    <tr>\n",
       "      <th>1115</th>\n",
       "      <td>Он о любви не хлопотал, довольный ее безмолвным согласием.</td>\n",
       "      <td>он о любви не хлопотал, довольный ее безмолвным согласием.</td>\n",
       "      <td>9</td>\n",
       "    </tr>\n",
       "    <tr>\n",
       "      <th>1172</th>\n",
       "      <td>– Тебе како дело? – отвечал мальчишка, стараясь от него освободиться.</td>\n",
       "      <td>тебе како дело, отвечал мальчишка, стараясь от него освободиться.</td>\n",
       "      <td>9</td>\n",
       "    </tr>\n",
       "    <tr>\n",
       "      <th>3</th>\n",
       "      <td>Кирила Петрович принимал знаки подобострастия как надлежащую дань; дом его всегда был полон гостями, готовыми тешить его барскую праздность, разделяя шумные, а иногда и буйные его увеселения.</td>\n",
       "      <td>кирила петрович принимал знаки подобострастия как надлежащую дань, дом его всегда был полон гостями, готовыми тешить его барскую праздность, разделяя шумные, а иногда и буйные его увеселения.</td>\n",
       "      <td>27</td>\n",
       "    </tr>\n",
       "  </tbody>\n",
       "</table>\n",
       "</div>"
      ],
      "text/plain": [
       "                                                                                                                                                                                                          raw  \\\n",
       "1317  Караульщик кончил свою работу, встряхнул свою рухлядь, полюбовался заплатою, приколол к рукаву иголку – сел на пушку верхом и запел во все горло меланхолическую старую песню: Не шуми, мати зеленая...   \n",
       "286                                                                                             Лицо его стало мрачнее ночи, он с презрением улыбнулся, грозно взглянул на дворню и поехал шагом около двора.   \n",
       "1115                                                                                                                                               Он о любви не хлопотал, довольный ее безмолвным согласием.   \n",
       "1172                                                                                                                                    – Тебе како дело? – отвечал мальчишка, стараясь от него освободиться.   \n",
       "3             Кирила Петрович принимал знаки подобострастия как надлежащую дань; дом его всегда был полон гостями, готовыми тешить его барскую праздность, разделяя шумные, а иногда и буйные его увеселения.   \n",
       "\n",
       "                                                                                                                                                                                                    processed  \\\n",
       "1317  караульщик кончил свою работу, встряхнул свою рухлядь, полюбовался заплатою, приколол к рукаву иголку, сел на пушку верхом и запел во все горло меланхолическую старую песню, не шуми, мати зеленая ...   \n",
       "286                                                                                             лицо его стало мрачнее ночи, он с презрением улыбнулся, грозно взглянул на дворню и поехал шагом около двора.   \n",
       "1115                                                                                                                                               он о любви не хлопотал, довольный ее безмолвным согласием.   \n",
       "1172                                                                                                                                        тебе како дело, отвечал мальчишка, стараясь от него освободиться.   \n",
       "3             кирила петрович принимал знаки подобострастия как надлежащую дань, дом его всегда был полон гостями, готовыми тешить его барскую праздность, разделяя шумные, а иногда и буйные его увеселения.   \n",
       "\n",
       "      len  \n",
       "1317   36  \n",
       "286    18  \n",
       "1115    9  \n",
       "1172    9  \n",
       "3      27  "
      ]
     },
     "execution_count": 20,
     "metadata": {},
     "output_type": "execute_result"
    }
   ],
   "source": [
    "pd.options.display.max_colwidth = 200\n",
    "book_sent_df.sample(5)"
   ]
  },
  {
   "cell_type": "code",
   "execution_count": null,
   "id": "8d42f78a-da9c-445d-a332-03262d72dbb5",
   "metadata": {},
   "outputs": [],
   "source": []
  },
  {
   "cell_type": "markdown",
   "id": "2c72043f-50f9-4eaa-83a5-e2296d7ee75c",
   "metadata": {},
   "source": [
    "#### Sentences length statistics"
   ]
  },
  {
   "cell_type": "code",
   "execution_count": 21,
   "id": "f5900109-a7f6-439e-96ff-e52f66879b8b",
   "metadata": {},
   "outputs": [
    {
     "data": {
      "image/png": "[encoded data removed]",
      "text/plain": [
       "<Figure size 500x300 with 1 Axes>"
      ]
     },
     "metadata": {
      "image/png": {
       "height": 285,
       "width": 451
      }
     },
     "output_type": "display_data"
    }
   ],
   "source": [
    "fig, ax = plt.subplots(figsize=(5, 3))\n",
    "\n",
    "pd.DataFrame.hist(\n",
    "    data=book_sent_df,\n",
    "    column='len',\n",
    "    ax=ax,\n",
    "    bins=29,\n",
    "    legend=False,\n",
    "    color='lightcoral',\n",
    "    alpha=1,\n",
    "    edgecolor='k',\n",
    "    lw=0.5,\n",
    ")\n",
    "\n",
    "ax.set_title(book_filename, fontsize=lables_fs)\n",
    "\n",
    "ax.tick_params(axis='both', which='major', labelsize=ticks_fs)\n",
    "\n",
    "plt.title(None)\n",
    "plt.xlabel('sentence length', fontsize=lables_fs)\n",
    "plt.ylabel('number of files', fontsize=lables_fs)\n",
    "\n",
    "ax.grid(False)\n",
    "plt.show()\n",
    "# fig.savefig(f'figures/name.eps', format='eps')"
   ]
  },
  {
   "cell_type": "markdown",
   "id": "d73483ce-f042-4dc9-8ffc-d68225011943",
   "metadata": {},
   "source": [
    "### Prepare all sentences and targets for further prediction"
   ]
  },
  {
   "cell_type": "code",
   "execution_count": 22,
   "id": "e9f49e68-275f-493c-b9ae-160deede0ead",
   "metadata": {},
   "outputs": [
    {
     "name": "stderr",
     "output_type": "stream",
     "text": [
      "100%|████████████████████████████████████| 1363/1363 [00:00<00:00, 25452.39it/s]\n"
     ]
    }
   ],
   "source": [
    "all_inputs = []\n",
    "all_targets = []\n",
    "\n",
    "for ind_row in tqdm(range(book_sent_df.shape[0])):\n",
    "    sentence_this = book_sent_df.iloc[ind_row]['processed']\n",
    "\n",
    "    input_this = sentence_this\n",
    "    for mark in REMAIN_PUNCT:\n",
    "        input_this = input_this.replace(mark, '')\n",
    "\n",
    "    target_this = tokenize(sentence_this)\n",
    "\n",
    "    assert len(target_this.split(' ')) == len(input_this.split(' '))\n",
    "    \n",
    "    all_inputs.append(input_this)\n",
    "    all_targets.append(target_this)"
   ]
  },
  {
   "cell_type": "code",
   "execution_count": 23,
   "id": "ce16eba9-6568-44d0-8096-d3b4b56757a9",
   "metadata": {},
   "outputs": [],
   "source": [
    "# add new rows to DF\n",
    "book_sent_df['input'] = all_inputs\n",
    "book_sent_df['target'] = all_targets"
   ]
  },
  {
   "cell_type": "markdown",
   "id": "e7455f71-8d64-4464-a3bb-9f04e3a17313",
   "metadata": {},
   "source": [
    "### Saving prepared data"
   ]
  },
  {
   "cell_type": "code",
   "execution_count": 24,
   "id": "255a276f-63f5-4e1c-9656-065b05309ae8",
   "metadata": {},
   "outputs": [
    {
     "data": {
      "text/html": [
       "<div>\n",
       "<style scoped>\n",
       "    .dataframe tbody tr th:only-of-type {\n",
       "        vertical-align: middle;\n",
       "    }\n",
       "\n",
       "    .dataframe tbody tr th {\n",
       "        vertical-align: top;\n",
       "    }\n",
       "\n",
       "    .dataframe thead th {\n",
       "        text-align: right;\n",
       "    }\n",
       "</style>\n",
       "<table border=\"1\" class=\"dataframe\">\n",
       "  <thead>\n",
       "    <tr style=\"text-align: right;\">\n",
       "      <th></th>\n",
       "      <th>raw</th>\n",
       "      <th>processed</th>\n",
       "      <th>len</th>\n",
       "      <th>input</th>\n",
       "      <th>target</th>\n",
       "    </tr>\n",
       "  </thead>\n",
       "  <tbody>\n",
       "    <tr>\n",
       "      <th>997</th>\n",
       "      <td>Князь прихрамывал, устав от своей прогулки, и уже раскаиваясь в своем посещении.</td>\n",
       "      <td>князь прихрамывал, устав от своей прогулки, и уже раскаиваясь в своем посещении.</td>\n",
       "      <td>12</td>\n",
       "      <td>князь прихрамывал устав от своей прогулки и уже раскаиваясь в своем посещении</td>\n",
       "      <td>S C S S S C S S S S S P</td>\n",
       "    </tr>\n",
       "    <tr>\n",
       "      <th>358</th>\n",
       "      <td>Владимир смотрел на них, и странные чувства волновали его.</td>\n",
       "      <td>владимир смотрел на них, и странные чувства волновали его.</td>\n",
       "      <td>9</td>\n",
       "      <td>владимир смотрел на них и странные чувства волновали его</td>\n",
       "      <td>S S S C S S S S P</td>\n",
       "    </tr>\n",
       "    <tr>\n",
       "      <th>710</th>\n",
       "      <td>Этот был не промах, не разиня.</td>\n",
       "      <td>этот был не промах, не разиня.</td>\n",
       "      <td>6</td>\n",
       "      <td>этот был не промах не разиня</td>\n",
       "      <td>S S S C S P</td>\n",
       "    </tr>\n",
       "    <tr>\n",
       "      <th>605</th>\n",
       "      <td>– Это кто? – спросил хозяин.</td>\n",
       "      <td>это кто, спросил хозяин.</td>\n",
       "      <td>4</td>\n",
       "      <td>это кто спросил хозяин</td>\n",
       "      <td>S C S P</td>\n",
       "    </tr>\n",
       "    <tr>\n",
       "      <th>616</th>\n",
       "      <td>– Как за что, батюшка Кирила Петрович? а за тяжбу-то покойника Андрея Гавриловича.</td>\n",
       "      <td>как за что, батюшка кирила петрович, а за тяжбу-то покойника андрея гавриловича.</td>\n",
       "      <td>12</td>\n",
       "      <td>как за что батюшка кирила петрович а за тяжбу-то покойника андрея гавриловича</td>\n",
       "      <td>S S C S S C S S S S S P</td>\n",
       "    </tr>\n",
       "    <tr>\n",
       "      <th>1199</th>\n",
       "      <td>Признавайся во всем, или так отдеру тебя розгою, что ты и своих не узнаешь.</td>\n",
       "      <td>признавайся во всем, или так отдеру тебя розгою, что ты и своих не узнаешь.</td>\n",
       "      <td>14</td>\n",
       "      <td>признавайся во всем или так отдеру тебя розгою что ты и своих не узнаешь</td>\n",
       "      <td>S S C S S S S C S S S S S P</td>\n",
       "    </tr>\n",
       "    <tr>\n",
       "      <th>670</th>\n",
       "      <td>– Я отдал ему письмо и деньги.</td>\n",
       "      <td>я отдал ему письмо и деньги.</td>\n",
       "      <td>6</td>\n",
       "      <td>я отдал ему письмо и деньги</td>\n",
       "      <td>S S S S S P</td>\n",
       "    </tr>\n",
       "    <tr>\n",
       "      <th>408</th>\n",
       "      <td>Наконец все утихло.</td>\n",
       "      <td>наконец все утихло.</td>\n",
       "      <td>3</td>\n",
       "      <td>наконец все утихло</td>\n",
       "      <td>S S P</td>\n",
       "    </tr>\n",
       "    <tr>\n",
       "      <th>908</th>\n",
       "      <td>– Обстоятельства требуют… я должен вас оставить, – сказал он наконец, – вы скоро, может быть, услышите…</td>\n",
       "      <td>обстоятельства требуют я должен вас оставить, сказал он наконец, вы скоро, может быть, услышите.</td>\n",
       "      <td>14</td>\n",
       "      <td>обстоятельства требуют я должен вас оставить сказал он наконец вы скоро может быть услышите</td>\n",
       "      <td>S S S S S C S S C S C S C P</td>\n",
       "    </tr>\n",
       "    <tr>\n",
       "      <th>357</th>\n",
       "      <td>Умрем, а не выдадим.</td>\n",
       "      <td>умрем, а не выдадим.</td>\n",
       "      <td>4</td>\n",
       "      <td>умрем а не выдадим</td>\n",
       "      <td>C S S P</td>\n",
       "    </tr>\n",
       "  </tbody>\n",
       "</table>\n",
       "</div>"
      ],
      "text/plain": [
       "                                                                                                          raw  \\\n",
       "997                          Князь прихрамывал, устав от своей прогулки, и уже раскаиваясь в своем посещении.   \n",
       "358                                                Владимир смотрел на них, и странные чувства волновали его.   \n",
       "710                                                                            Этот был не промах, не разиня.   \n",
       "605                                                                              – Это кто? – спросил хозяин.   \n",
       "616                        – Как за что, батюшка Кирила Петрович? а за тяжбу-то покойника Андрея Гавриловича.   \n",
       "1199                              Признавайся во всем, или так отдеру тебя розгою, что ты и своих не узнаешь.   \n",
       "670                                                                            – Я отдал ему письмо и деньги.   \n",
       "408                                                                                       Наконец все утихло.   \n",
       "908   – Обстоятельства требуют… я должен вас оставить, – сказал он наконец, – вы скоро, может быть, услышите…   \n",
       "357                                                                                      Умрем, а не выдадим.   \n",
       "\n",
       "                                                                                             processed  \\\n",
       "997                   князь прихрамывал, устав от своей прогулки, и уже раскаиваясь в своем посещении.   \n",
       "358                                         владимир смотрел на них, и странные чувства волновали его.   \n",
       "710                                                                     этот был не промах, не разиня.   \n",
       "605                                                                           это кто, спросил хозяин.   \n",
       "616                   как за что, батюшка кирила петрович, а за тяжбу-то покойника андрея гавриловича.   \n",
       "1199                       признавайся во всем, или так отдеру тебя розгою, что ты и своих не узнаешь.   \n",
       "670                                                                       я отдал ему письмо и деньги.   \n",
       "408                                                                                наконец все утихло.   \n",
       "908   обстоятельства требуют я должен вас оставить, сказал он наконец, вы скоро, может быть, услышите.   \n",
       "357                                                                               умрем, а не выдадим.   \n",
       "\n",
       "      len  \\\n",
       "997    12   \n",
       "358     9   \n",
       "710     6   \n",
       "605     4   \n",
       "616    12   \n",
       "1199   14   \n",
       "670     6   \n",
       "408     3   \n",
       "908    14   \n",
       "357     4   \n",
       "\n",
       "                                                                                            input  \\\n",
       "997                 князь прихрамывал устав от своей прогулки и уже раскаиваясь в своем посещении   \n",
       "358                                      владимир смотрел на них и странные чувства волновали его   \n",
       "710                                                                  этот был не промах не разиня   \n",
       "605                                                                        это кто спросил хозяин   \n",
       "616                 как за что батюшка кирила петрович а за тяжбу-то покойника андрея гавриловича   \n",
       "1199                     признавайся во всем или так отдеру тебя розгою что ты и своих не узнаешь   \n",
       "670                                                                   я отдал ему письмо и деньги   \n",
       "408                                                                            наконец все утихло   \n",
       "908   обстоятельства требуют я должен вас оставить сказал он наконец вы скоро может быть услышите   \n",
       "357                                                                            умрем а не выдадим   \n",
       "\n",
       "                           target  \n",
       "997       S C S S S C S S S S S P  \n",
       "358             S S S C S S S S P  \n",
       "710                   S S S C S P  \n",
       "605                       S C S P  \n",
       "616       S S C S S C S S S S S P  \n",
       "1199  S S C S S S S C S S S S S P  \n",
       "670                   S S S S S P  \n",
       "408                         S S P  \n",
       "908   S S S S S C S S C S C S C P  \n",
       "357                       C S S P  "
      ]
     },
     "execution_count": 24,
     "metadata": {},
     "output_type": "execute_result"
    }
   ],
   "source": [
    "book_sent_df.sample(10)"
   ]
  },
  {
   "cell_type": "code",
   "execution_count": 25,
   "id": "ff1bf419-5dd1-4604-be89-fda79bb63b2a",
   "metadata": {},
   "outputs": [],
   "source": [
    "pushkin_prepared_dir = '../data/prepared/pushkin'\n",
    "book_filename_csv = book_filename.split('.')[0] + '.csv'"
   ]
  },
  {
   "cell_type": "code",
   "execution_count": 26,
   "id": "2f753867-3675-4c69-87a0-343966cb24fb",
   "metadata": {},
   "outputs": [],
   "source": [
    "# saving dataframe (only 'input' and 'target' columns)\n",
    "book_sent_df[['input', 'target']].to_csv(os.path.join(pushkin_prepared_dir, book_filename_csv))"
   ]
  },
  {
   "cell_type": "code",
   "execution_count": null,
   "id": "b07d22eb-db47-4528-940a-6aea9da26ca7",
   "metadata": {},
   "outputs": [],
   "source": []
  },
  {
   "cell_type": "code",
   "execution_count": null,
   "id": "3b9c2843-13c6-474b-9c25-9a8e6d6e5192",
   "metadata": {},
   "outputs": [],
   "source": []
  }
 ],
 "metadata": {
  "kernelspec": {
   "display_name": "Python 3 (ipykernel)",
   "language": "python",
   "name": "python3"
  },
  "language_info": {
   "codemirror_mode": {
    "name": "ipython",
    "version": 3
   },
   "file_extension": ".py",
   "mimetype": "text/x-python",
   "name": "python",
   "nbconvert_exporter": "python",
   "pygments_lexer": "ipython3",
   "version": "3.8.10"
  }
 },
 "nbformat": 4,
 "nbformat_minor": 5
}
