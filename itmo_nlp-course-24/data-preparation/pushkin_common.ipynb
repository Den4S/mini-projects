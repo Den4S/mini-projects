{
 "cells": [
  {
   "cell_type": "markdown",
   "id": "5074f5e9-21e7-4482-bb5c-5dcba9185ea6",
   "metadata": {},
   "source": [
    "#### Imports"
   ]
  },
  {
   "cell_type": "code",
   "execution_count": 1,
   "id": "10c3b946-fb60-413a-8b45-8ce85f4c12ee",
   "metadata": {},
   "outputs": [],
   "source": [
    "import numpy as np\n",
    "import pandas as pd"
   ]
  },
  {
   "cell_type": "code",
   "execution_count": 2,
   "id": "e2c9677d-9e66-4dde-acb8-282267fe433d",
   "metadata": {},
   "outputs": [],
   "source": [
    "from razdel import sentenize"
   ]
  },
  {
   "cell_type": "code",
   "execution_count": 3,
   "id": "7df815b6-e599-4f42-92c7-482ea0f76dfa",
   "metadata": {},
   "outputs": [],
   "source": [
    "import random"
   ]
  },
  {
   "cell_type": "code",
   "execution_count": 4,
   "id": "5be5acb0-2aec-4b18-a5f6-23c08af28a33",
   "metadata": {},
   "outputs": [],
   "source": [
    "from tqdm import tqdm"
   ]
  },
  {
   "cell_type": "code",
   "execution_count": 5,
   "id": "459b48fd-5fd6-41a8-8a64-86899a34297e",
   "metadata": {},
   "outputs": [],
   "source": [
    "import re\n",
    "import os"
   ]
  },
  {
   "cell_type": "markdown",
   "id": "4039fcee-c964-449c-a8ab-27335c18c8d9",
   "metadata": {},
   "source": [
    "#### User-defined"
   ]
  },
  {
   "cell_type": "code",
   "execution_count": 6,
   "id": "d1ab2782-96b8-44cb-985a-8c70cd71aefc",
   "metadata": {},
   "outputs": [],
   "source": [
    "from processing import REMAIN_PUNCT, END_PUNC, PUNCT_TO_TOKEN\n",
    "from processing import process_raw_sentence, tokenize"
   ]
  },
  {
   "cell_type": "markdown",
   "id": "e9b8b751-90d6-4987-aa31-563765b97afe",
   "metadata": {},
   "source": [
    "#### Visualisation"
   ]
  },
  {
   "cell_type": "code",
   "execution_count": 7,
   "id": "d9af1fae-9b87-48ad-8c0d-267a9f562659",
   "metadata": {},
   "outputs": [],
   "source": [
    "import matplotlib\n",
    "import matplotlib.pyplot as plt"
   ]
  },
  {
   "cell_type": "code",
   "execution_count": 8,
   "id": "99e2284b-7913-416c-b8fb-0f9304700280",
   "metadata": {},
   "outputs": [],
   "source": [
    "import scienceplots\n",
    "\n",
    "plt.style.use('science')\n",
    "%config InlineBackend.figure_format = 'retina'\n",
    "\n",
    "lables_fs = 16\n",
    "ticks_fs = 12"
   ]
  },
  {
   "cell_type": "code",
   "execution_count": null,
   "id": "d6d64fc5-2d3c-459e-95cb-221cf3fc2737",
   "metadata": {},
   "outputs": [],
   "source": []
  },
  {
   "cell_type": "markdown",
   "id": "b9557e16-0a74-4d98-8959-4639df830236",
   "metadata": {},
   "source": [
    "## All downloaded books by Pushkin"
   ]
  },
  {
   "cell_type": "code",
   "execution_count": 9,
   "id": "4ad9f73a-b761-4d9d-951a-962eeb17412c",
   "metadata": {},
   "outputs": [],
   "source": [
    "pushkin_raw_dir = '../data/raw/pushkin'"
   ]
  },
  {
   "cell_type": "code",
   "execution_count": 10,
   "id": "ac2ac544-5c00-434c-8c31-44ccc214ce48",
   "metadata": {},
   "outputs": [
    {
     "name": "stdout",
     "output_type": "stream",
     "text": [
      "dubrovsky.txt\n",
      "povesti_belkina.txt\n",
      "kapitanskaya_dochka.txt\n",
      "pugachevs_story.txt\n"
     ]
    }
   ],
   "source": [
    "books = []\n",
    "\n",
    "for file in os.listdir(pushkin_raw_dir):  # through files in selected directory            \n",
    "    filename = os.fsdecode(file)\n",
    "    if filename.endswith(\".txt\"):  # looking for .txt files in the directory\n",
    "        books.append(filename)\n",
    "\n",
    "print(*books, sep='\\n')"
   ]
  },
  {
   "cell_type": "code",
   "execution_count": 11,
   "id": "3ecba363-e789-4c0e-95c4-52d18cbe4bde",
   "metadata": {},
   "outputs": [
    {
     "data": {
      "text/plain": [
       "'pugachevs_story.txt'"
      ]
     },
     "execution_count": 11,
     "metadata": {},
     "output_type": "execute_result"
    }
   ],
   "source": [
    "# select book!\n",
    "book_filename = books[3]\n",
    "book_filename"
   ]
  },
  {
   "cell_type": "code",
   "execution_count": 12,
   "id": "0bc5a587-128c-4d7f-8b3e-09acce638f0c",
   "metadata": {},
   "outputs": [],
   "source": [
    "with open(os.path.join(pushkin_raw_dir, book_filename), 'r') as file:\n",
    "    book_raw = file.read()"
   ]
  },
  {
   "cell_type": "markdown",
   "id": "95bf54e6-0dd5-4d15-a214-eaf4dbe390c9",
   "metadata": {},
   "source": [
    "### Splitting by chapters"
   ]
  },
  {
   "cell_type": "code",
   "execution_count": 13,
   "id": "2fd826a3-df92-4253-a4a5-bc6089dc1514",
   "metadata": {},
   "outputs": [
    {
     "name": "stdout",
     "output_type": "stream",
     "text": [
      "44\n",
      "12\n",
      "1607\t<- Chapter 1\n",
      "12118\t<- Chapter 2\n",
      "25\n",
      "2\n",
      "7462\t<- Chapter 3\n",
      "1\n",
      "74\n",
      "1\n",
      "1269\t<- Chapter 4\n",
      "1\n",
      "252\n",
      "1\n",
      "5531\t<- Chapter 5\n",
      "1\n",
      "1479\t<- Chapter 6\n",
      "1\n",
      "11986\t<- Chapter 7\n",
      "1\n",
      "6525\t<- Chapter 8\n",
      "1\n",
      "139\n",
      "2\n",
      "22\n",
      "12\n",
      "20303\t<- Chapter 9\n",
      "25\n",
      "2\n",
      "250\n",
      "1\n",
      "2346\t<- Chapter 10\n",
      "1\n",
      "436\n",
      "1\n",
      "52\n",
      "1\n",
      "205\n",
      "1\n",
      "171\n",
      "1\n",
      "776\n",
      "1\n",
      "92\n",
      "1\n",
      "256\n",
      "2\n",
      "1316\t<- Chapter 11\n",
      "2\n",
      "297\n",
      "2\n",
      "61\n",
      "2\n",
      "105\n",
      "2\n",
      "90\n",
      "2\n",
      "222\n",
      "12\n",
      "26233\t<- Chapter 12\n",
      "26\n",
      "2\n",
      "18\n",
      "1\n",
      "216\n",
      "1\n",
      "117\n",
      "1\n",
      "99\n",
      "1\n",
      "20\n",
      "1\n",
      "139\n",
      "1\n",
      "276\n",
      "1\n",
      "48\n",
      "1\n",
      "565\n",
      "2\n",
      "486\n",
      "2\n",
      "215\n",
      "2\n",
      "65\n",
      "2\n",
      "288\n",
      "2\n",
      "84\n",
      "2\n",
      "186\n",
      "2\n",
      "59\n",
      "2\n",
      "220\n",
      "2\n",
      "43\n",
      "2\n",
      "358\n",
      "2\n",
      "57\n",
      "2\n",
      "618\n",
      "15\n",
      "19792\t<- Chapter 13\n",
      "28\n",
      "2\n",
      "210\n",
      "1\n",
      "265\n",
      "1\n",
      "234\n",
      "1\n",
      "1674\t<- Chapter 14\n",
      "1\n",
      "6030\t<- Chapter 15\n",
      "1\n",
      "118\n",
      "1\n",
      "1199\t<- Chapter 16\n",
      "1\n",
      "59\n",
      "1\n",
      "51\n",
      "2\n",
      "82\n",
      "2\n",
      "54\n",
      "2\n",
      "94\n",
      "2\n",
      "38\n",
      "2\n",
      "6823\t<- Chapter 17\n",
      "2\n",
      "204\n",
      "2\n",
      "639\n",
      "11\n",
      "28304\t<- Chapter 18\n",
      "24\n",
      "2\n",
      "171\n",
      "1\n",
      "195\n",
      "1\n",
      "137\n",
      "1\n",
      "315\n",
      "1\n",
      "44\n",
      "1\n",
      "1714\t<- Chapter 19\n",
      "1\n",
      "206\n",
      "1\n",
      "190\n",
      "1\n",
      "111\n",
      "2\n",
      "896\n",
      "2\n",
      "238\n",
      "2\n",
      "182\n",
      "2\n",
      "291\n",
      "2\n",
      "669\n",
      "2\n",
      "345\n",
      "2\n",
      "255\n",
      "2\n",
      "7\n",
      "2\n",
      "422\n",
      "2\n",
      "401\n",
      "2\n",
      "193\n",
      "2\n",
      "1947\t<- Chapter 20\n",
      "12\n",
      "15681\t<- Chapter 21\n",
      "25\n",
      "2\n",
      "33\n",
      "1\n",
      "42\n",
      "1\n",
      "106\n",
      "1\n",
      "164\n",
      "1\n",
      "205\n",
      "13\n",
      "13209\t<- Chapter 22\n",
      "26\n",
      "2\n",
      "190\n",
      "1\n",
      "2502\t<- Chapter 23\n",
      "489\n",
      "1\n",
      "248\n",
      "1\n",
      "320\n",
      "12\n",
      "31013\t<- Chapter 24\n",
      "25\n",
      "2\n",
      "195\n",
      "1\n",
      "238\n",
      "1\n",
      "194\n",
      "1\n",
      "242\n",
      "1\n",
      "681\n",
      "1\n",
      "19\n",
      "1\n",
      "156\n",
      "1\n",
      "108\n",
      "1\n",
      "60\n",
      "2\n",
      "172\n",
      "2\n",
      "2552\t<- Chapter 25\n",
      "2\n",
      "346\n",
      "2\n",
      "4097\t<- Chapter 26\n",
      "10\n",
      "2\n",
      "313\n",
      "1\n",
      "104\n",
      "1\n",
      "181\n",
      "1\n",
      "101\n",
      "1\n",
      "114\n",
      "1\n",
      "78\n",
      "1\n",
      "217\n",
      "1\n",
      "86\n",
      "1\n",
      "139\n",
      "2\n",
      "75\n",
      "2\n",
      "77\n",
      "2\n",
      "70\n",
      "2\n",
      "72\n",
      "2\n",
      "96\n",
      "2\n",
      "53\n",
      "2\n",
      "159\n",
      "2\n",
      "200\n",
      "2\n",
      "75\n",
      "2\n",
      "146\n",
      "2\n",
      "328\n",
      "2\n",
      "82\n",
      "2\n",
      "313\n",
      "2\n",
      "111\n",
      "2\n",
      "100\n",
      "2\n",
      "57\n",
      "2\n",
      "124\n",
      "2\n",
      "63\n",
      "2\n",
      "36\n",
      "2\n",
      "733\n",
      "2\n",
      "168\n",
      "2\n",
      "167\n",
      "2\n",
      "401\n",
      "2\n",
      "719\n",
      "2\n",
      "61\n",
      "2\n",
      "27\n",
      "2\n",
      "572\n",
      "2\n",
      "36\n",
      "2\n",
      "344\n",
      "2\n",
      "51\n",
      "2\n",
      "2527\t<- Chapter 27\n",
      "2\n",
      "133\n",
      "2\n",
      "265\n"
     ]
    }
   ],
   "source": [
    "# also chapters can be detected by their length!\n",
    "chapter_length_th = 1000  # chapter length threshold\n",
    "\n",
    "chapter_num = 1\n",
    "for prt in re.split('\\n\\n', book_raw):\n",
    "    if len(prt) > chapter_length_th:\n",
    "        print(f'{len(prt)}\\t<- Chapter {chapter_num}')\n",
    "        chapter_num += 1\n",
    "    else:\n",
    "        print(len(prt))"
   ]
  },
  {
   "cell_type": "code",
   "execution_count": 14,
   "id": "9c7ad6a7-e78f-419b-a8b8-b90adb9258a2",
   "metadata": {},
   "outputs": [],
   "source": [
    "chapters_list = []  # list with chapters text (with replaced '\\n' by ' ')\n",
    "\n",
    "for text_part in re.split('\\n\\n', book_raw):  # includes paragraphs with chapter's numbers and epigraphs\n",
    "    if len(text_part) > chapter_length_th:\n",
    "        text_part = text_part.replace('\\n', ' ')\n",
    "        text_part = re.sub('[\\[].*?[\\]]', '', text_part)\n",
    "        chapters_list.append(text_part)  # add chapter text without '\\n'"
   ]
  },
  {
   "cell_type": "code",
   "execution_count": 15,
   "id": "236259a7-07e0-4b39-910f-67e3b1324f03",
   "metadata": {},
   "outputs": [
    {
     "name": "stdout",
     "output_type": "stream",
     "text": [
      "Number of chapters: 27\n"
     ]
    }
   ],
   "source": [
    "print(f'Number of chapters: {len(chapters_list)}')"
   ]
  },
  {
   "cell_type": "code",
   "execution_count": null,
   "id": "d7915a34-aeb4-409f-9188-b82213038b89",
   "metadata": {},
   "outputs": [],
   "source": []
  },
  {
   "cell_type": "markdown",
   "id": "d50d0bdd-4c24-4b0f-b6b2-62aeeb01f962",
   "metadata": {},
   "source": [
    "### Splitting by sentences\n",
    "\n",
    "Let's try to use [`razdel`](https://github.com/natasha/razdel) to atomize chapters by sentences. It seems really good solution!"
   ]
  },
  {
   "cell_type": "code",
   "execution_count": 16,
   "id": "d5c129f2-77b7-41ce-aa97-93b772ad03b8",
   "metadata": {},
   "outputs": [
    {
     "name": "stdout",
     "output_type": "stream",
     "text": [
      "Chapter 1:\t 11\n",
      "Chapter 2:\t 119\n",
      "Chapter 3:\t 45\n",
      "Chapter 4:\t 8\n",
      "Chapter 5:\t 20\n",
      "Chapter 6:\t 8\n",
      "Chapter 7:\t 76\n",
      "Chapter 8:\t 38\n",
      "Chapter 9:\t 206\n",
      "Chapter 10:\t 9\n",
      "Chapter 11:\t 10\n",
      "Chapter 12:\t 282\n",
      "Chapter 13:\t 217\n",
      "Chapter 14:\t 12\n",
      "Chapter 15:\t 44\n",
      "Chapter 16:\t 9\n",
      "Chapter 17:\t 32\n",
      "Chapter 18:\t 317\n",
      "Chapter 19:\t 4\n",
      "Chapter 20:\t 7\n",
      "Chapter 21:\t 181\n",
      "Chapter 22:\t 148\n",
      "Chapter 23:\t 12\n",
      "Chapter 24:\t 359\n",
      "Chapter 25:\t 14\n",
      "Chapter 26:\t 36\n",
      "Chapter 27:\t 16\n",
      "\n",
      "Total number of sentences: 2240\n"
     ]
    }
   ],
   "source": [
    "num_sentences_by_chapters = []\n",
    "\n",
    "for chapter_number in range(len(chapters_list)):\n",
    "    num_sentences_by_chapters.append(len(list(sentenize(chapters_list[chapter_number]))))\n",
    "    print(f'Chapter {chapter_number + 1}:\\t {num_sentences_by_chapters[-1]}')\n",
    "\n",
    "print(f'\\nTotal number of sentences: {sum(num_sentences_by_chapters)}')"
   ]
  },
  {
   "cell_type": "code",
   "execution_count": null,
   "id": "e6373a0f-b11a-4ec2-8cfb-6de2ac7fb46e",
   "metadata": {},
   "outputs": [],
   "source": []
  },
  {
   "cell_type": "markdown",
   "id": "2945d60d-8f19-4631-99c5-99fa2c53f0cb",
   "metadata": {},
   "source": [
    "### Sentence cleaning\n",
    "\n",
    "We will restrict our model to prediction of `,` (commas) within a sentence and `!` (exclamation point), `?` (question mark) and `.` (periods) in the end of a sentence.\n",
    "\n",
    "Hence a **processing of other punctuation** is as following:\n",
    "1. substitute of `:` (colon) or `;` (semicolon) by `,` (comma);\n",
    "2. substitute of `!` and `?` in the middle of a sentence by `,` (comma);\n",
    "3. substitute of `—` (dash) by `,` (comma) in the middle of a sentence;\n",
    "4. delete `—` in the beginning of a sentence;\n",
    "5. delete all `\"'«»` (quotes).\n",
    "\n",
    "Additional symbols:\n",
    "1. there is some info in periods `()` in the book text - delete it (or leave if it is a complete sentence);\n",
    "2. all `*` must be deleted."
   ]
  },
  {
   "cell_type": "code",
   "execution_count": 17,
   "id": "6c89d563-2012-4996-81bc-61433f6427e1",
   "metadata": {},
   "outputs": [
    {
     "name": "stdout",
     "output_type": "stream",
     "text": [
      "CPU times: user 67.6 ms, sys: 2.61 ms, total: 70.2 ms\n",
      "Wall time: 71.1 ms\n"
     ]
    }
   ],
   "source": [
    "%%time\n",
    "\n",
    "all_sentences_raw = []\n",
    "all_sentences_processed = []\n",
    "all_sentences_lengths = []\n",
    "\n",
    "for chapter_number in range(len(chapters_list)):\n",
    "    for substring in sentenize(chapters_list[chapter_number]):\n",
    "        sentence = substring.text\n",
    "        \n",
    "        if len(sentence) > 5 and not bool(re.search('[a-zA-Z]', sentence)):\n",
    "            # delete too short sentences and sentences with non-russian letters\n",
    "            all_sentences_raw.append(sentence)\n",
    "            \n",
    "            processed_sentence = process_raw_sentence(sentence)  # process sentence\n",
    "            len_processed = len(processed_sentence.split(' '))  # find length of the sentence\n",
    "            all_sentences_processed.append(processed_sentence)\n",
    "            all_sentences_lengths.append(len_processed)"
   ]
  },
  {
   "cell_type": "markdown",
   "id": "4952038d-e1bf-477e-87fe-abe177633147",
   "metadata": {},
   "source": [
    "#### DataFrame with sentences"
   ]
  },
  {
   "cell_type": "code",
   "execution_count": 18,
   "id": "4ded0cea-384c-4b4e-8366-9598d410cf72",
   "metadata": {},
   "outputs": [],
   "source": [
    "book_sent_df = pd.DataFrame()\n",
    "\n",
    "book_sent_df['raw'] = all_sentences_raw\n",
    "book_sent_df['processed'] = all_sentences_processed\n",
    "book_sent_df['len'] = all_sentences_lengths"
   ]
  },
  {
   "cell_type": "code",
   "execution_count": 19,
   "id": "425a1501-8e84-4a29-85a6-0c71bf05ae35",
   "metadata": {},
   "outputs": [
    {
     "data": {
      "text/plain": [
       "(2188, 3)"
      ]
     },
     "execution_count": 19,
     "metadata": {},
     "output_type": "execute_result"
    }
   ],
   "source": [
    "book_sent_df.shape"
   ]
  },
  {
   "cell_type": "code",
   "execution_count": 20,
   "id": "55e2f2ef-e170-495c-8003-eedf79261b62",
   "metadata": {},
   "outputs": [
    {
     "data": {
      "text/html": [
       "<div>\n",
       "<style scoped>\n",
       "    .dataframe tbody tr th:only-of-type {\n",
       "        vertical-align: middle;\n",
       "    }\n",
       "\n",
       "    .dataframe tbody tr th {\n",
       "        vertical-align: top;\n",
       "    }\n",
       "\n",
       "    .dataframe thead th {\n",
       "        text-align: right;\n",
       "    }\n",
       "</style>\n",
       "<table border=\"1\" class=\"dataframe\">\n",
       "  <thead>\n",
       "    <tr style=\"text-align: right;\">\n",
       "      <th></th>\n",
       "      <th>raw</th>\n",
       "      <th>processed</th>\n",
       "      <th>len</th>\n",
       "    </tr>\n",
       "  </thead>\n",
       "  <tbody>\n",
       "    <tr>\n",
       "      <th>1510</th>\n",
       "      <td>Пугачев и Белобородов, ведая, что усталость войска и изнурение лошадей не позволят Декалонгу воспользоваться своею победою, привели в устройство свои рассеянные толпы и стали в порядке отступать, ...</td>\n",
       "      <td>пугачев и белобородов, ведая, что усталость войска и изнурение лошадей не позволят декалонгу воспользоваться своею победою, привели в устройство свои рассеянные толпы и стали в порядке отступать, ...</td>\n",
       "      <td>32</td>\n",
       "    </tr>\n",
       "    <tr>\n",
       "      <th>2084</th>\n",
       "      <td>Он был в оковах.</td>\n",
       "      <td>он был в оковах.</td>\n",
       "      <td>4</td>\n",
       "    </tr>\n",
       "    <tr>\n",
       "      <th>2021</th>\n",
       "      <td>Тут произошло последнее совещание.</td>\n",
       "      <td>тут произошло последнее совещание.</td>\n",
       "      <td>4</td>\n",
       "    </tr>\n",
       "    <tr>\n",
       "      <th>1845</th>\n",
       "      <td>В сие время вельможа, удаленный от двора и, подобно Бибикову, бывший в немилости, граф Петр Иванович Панин(5), сам вызвался принять на себя подвиг, не довершенный его предшественником.</td>\n",
       "      <td>в сие время вельможа, удаленный от двора и, подобно бибикову, бывший в немилости, граф петр иванович панин, сам вызвался принять на себя подвиг, не довершенный его предшественником.</td>\n",
       "      <td>27</td>\n",
       "    </tr>\n",
       "    <tr>\n",
       "      <th>691</th>\n",
       "      <td>Молодая Харлова имела несчастие привязать к себе самозванца.</td>\n",
       "      <td>молодая харлова имела несчастие привязать к себе самозванца.</td>\n",
       "      <td>8</td>\n",
       "    </tr>\n",
       "  </tbody>\n",
       "</table>\n",
       "</div>"
      ],
      "text/plain": [
       "                                                                                                                                                                                                          raw  \\\n",
       "1510  Пугачев и Белобородов, ведая, что усталость войска и изнурение лошадей не позволят Декалонгу воспользоваться своею победою, привели в устройство свои рассеянные толпы и стали в порядке отступать, ...   \n",
       "2084                                                                                                                                                                                         Он был в оковах.   \n",
       "2021                                                                                                                                                                       Тут произошло последнее совещание.   \n",
       "1845                 В сие время вельможа, удаленный от двора и, подобно Бибикову, бывший в немилости, граф Петр Иванович Панин(5), сам вызвался принять на себя подвиг, не довершенный его предшественником.   \n",
       "691                                                                                                                                              Молодая Харлова имела несчастие привязать к себе самозванца.   \n",
       "\n",
       "                                                                                                                                                                                                    processed  \\\n",
       "1510  пугачев и белобородов, ведая, что усталость войска и изнурение лошадей не позволят декалонгу воспользоваться своею победою, привели в устройство свои рассеянные толпы и стали в порядке отступать, ...   \n",
       "2084                                                                                                                                                                                         он был в оковах.   \n",
       "2021                                                                                                                                                                       тут произошло последнее совещание.   \n",
       "1845                    в сие время вельможа, удаленный от двора и, подобно бибикову, бывший в немилости, граф петр иванович панин, сам вызвался принять на себя подвиг, не довершенный его предшественником.   \n",
       "691                                                                                                                                              молодая харлова имела несчастие привязать к себе самозванца.   \n",
       "\n",
       "      len  \n",
       "1510   32  \n",
       "2084    4  \n",
       "2021    4  \n",
       "1845   27  \n",
       "691     8  "
      ]
     },
     "execution_count": 20,
     "metadata": {},
     "output_type": "execute_result"
    }
   ],
   "source": [
    "pd.options.display.max_colwidth = 200\n",
    "book_sent_df.sample(5)"
   ]
  },
  {
   "cell_type": "code",
   "execution_count": null,
   "id": "8d42f78a-da9c-445d-a332-03262d72dbb5",
   "metadata": {},
   "outputs": [],
   "source": []
  },
  {
   "cell_type": "markdown",
   "id": "2c72043f-50f9-4eaa-83a5-e2296d7ee75c",
   "metadata": {},
   "source": [
    "#### Sentences length statistics"
   ]
  },
  {
   "cell_type": "code",
   "execution_count": 21,
   "id": "f5900109-a7f6-439e-96ff-e52f66879b8b",
   "metadata": {},
   "outputs": [
    {
     "data": {
      "image/png": "[encoded data removed]",
      "text/plain": [
       "<Figure size 500x300 with 1 Axes>"
      ]
     },
     "metadata": {
      "image/png": {
       "height": 285,
       "width": 451
      }
     },
     "output_type": "display_data"
    }
   ],
   "source": [
    "fig, ax = plt.subplots(figsize=(5, 3))\n",
    "\n",
    "pd.DataFrame.hist(\n",
    "    data=book_sent_df,\n",
    "    column='len',\n",
    "    ax=ax,\n",
    "    bins=29,\n",
    "    legend=False,\n",
    "    color='lightcoral',\n",
    "    alpha=1,\n",
    "    edgecolor='k',\n",
    "    lw=0.5,\n",
    ")\n",
    "\n",
    "ax.set_title(book_filename, fontsize=lables_fs)\n",
    "\n",
    "ax.tick_params(axis='both', which='major', labelsize=ticks_fs)\n",
    "\n",
    "plt.title(None)\n",
    "plt.xlabel('sentence length', fontsize=lables_fs)\n",
    "plt.ylabel('number of files', fontsize=lables_fs)\n",
    "\n",
    "ax.grid(False)\n",
    "plt.show()\n",
    "# fig.savefig(f'figures/name.eps', format='eps')"
   ]
  },
  {
   "cell_type": "markdown",
   "id": "d73483ce-f042-4dc9-8ffc-d68225011943",
   "metadata": {},
   "source": [
    "### Prepare all sentences and targets for further prediction"
   ]
  },
  {
   "cell_type": "code",
   "execution_count": 22,
   "id": "e9f49e68-275f-493c-b9ae-160deede0ead",
   "metadata": {},
   "outputs": [
    {
     "name": "stderr",
     "output_type": "stream",
     "text": [
      "100%|████████████████████████████████████| 2188/2188 [00:00<00:00, 30981.44it/s]\n"
     ]
    }
   ],
   "source": [
    "all_inputs = []\n",
    "all_targets = []\n",
    "\n",
    "for ind_row in tqdm(range(book_sent_df.shape[0])):\n",
    "    sentence_this = book_sent_df.iloc[ind_row]['processed']\n",
    "\n",
    "    input_this = sentence_this\n",
    "    for mark in REMAIN_PUNCT:\n",
    "        input_this = input_this.replace(mark, '')\n",
    "\n",
    "    target_this = tokenize(sentence_this)\n",
    "\n",
    "    assert len(target_this.split(' ')) == len(input_this.split(' '))\n",
    "    \n",
    "    all_inputs.append(input_this)\n",
    "    all_targets.append(target_this)"
   ]
  },
  {
   "cell_type": "code",
   "execution_count": 23,
   "id": "ce16eba9-6568-44d0-8096-d3b4b56757a9",
   "metadata": {},
   "outputs": [],
   "source": [
    "# add new rows to DF\n",
    "book_sent_df['input'] = all_inputs\n",
    "book_sent_df['target'] = all_targets"
   ]
  },
  {
   "cell_type": "markdown",
   "id": "e7455f71-8d64-4464-a3bb-9f04e3a17313",
   "metadata": {},
   "source": [
    "### Saving prepared data"
   ]
  },
  {
   "cell_type": "code",
   "execution_count": 24,
   "id": "255a276f-63f5-4e1c-9656-065b05309ae8",
   "metadata": {},
   "outputs": [
    {
     "data": {
      "text/html": [
       "<div>\n",
       "<style scoped>\n",
       "    .dataframe tbody tr th:only-of-type {\n",
       "        vertical-align: middle;\n",
       "    }\n",
       "\n",
       "    .dataframe tbody tr th {\n",
       "        vertical-align: top;\n",
       "    }\n",
       "\n",
       "    .dataframe thead th {\n",
       "        text-align: right;\n",
       "    }\n",
       "</style>\n",
       "<table border=\"1\" class=\"dataframe\">\n",
       "  <thead>\n",
       "    <tr style=\"text-align: right;\">\n",
       "      <th></th>\n",
       "      <th>raw</th>\n",
       "      <th>processed</th>\n",
       "      <th>len</th>\n",
       "      <th>input</th>\n",
       "      <th>target</th>\n",
       "    </tr>\n",
       "  </thead>\n",
       "  <tbody>\n",
       "    <tr>\n",
       "      <th>148</th>\n",
       "      <td>Трех братьев сих казаки побили, а ее, Гугниху, взяли в плен и подарили своему атаману».</td>\n",
       "      <td>трех братьев сих казаки побили, а ее, гугниху, взяли в плен и подарили своему атаману.</td>\n",
       "      <td>15</td>\n",
       "      <td>трех братьев сих казаки побили а ее гугниху взяли в плен и подарили своему атаману</td>\n",
       "      <td>S S S S C S C C S S S S S S P</td>\n",
       "    </tr>\n",
       "    <tr>\n",
       "      <th>340</th>\n",
       "      <td>Сперва дело шло о побеге в Турцию: мысль издавна общая всем недовольным казакам.</td>\n",
       "      <td>сперва дело шло о побеге в турцию, мысль издавна общая всем недовольным казакам.</td>\n",
       "      <td>13</td>\n",
       "      <td>сперва дело шло о побеге в турцию мысль издавна общая всем недовольным казакам</td>\n",
       "      <td>S S S S S S C S S S S S P</td>\n",
       "    </tr>\n",
       "    <tr>\n",
       "      <th>445</th>\n",
       "      <td>На другой день Пугачев выступил и пошел на Татищеву(11).</td>\n",
       "      <td>на другой день пугачев выступил и пошел на татищеву.</td>\n",
       "      <td>9</td>\n",
       "      <td>на другой день пугачев выступил и пошел на татищеву</td>\n",
       "      <td>S S S S S S S S P</td>\n",
       "    </tr>\n",
       "    <tr>\n",
       "      <th>882</th>\n",
       "      <td>Пугачев отступил и хотел идти противу Станиславского, но, перехватив оренбургскую почту, раздумал и возвратился в Бердскую слободу.</td>\n",
       "      <td>пугачев отступил и хотел идти противу станиславского, но, перехватив оренбургскую почту, раздумал и возвратился в бердскую слободу.</td>\n",
       "      <td>17</td>\n",
       "      <td>пугачев отступил и хотел идти противу станиславского но перехватив оренбургскую почту раздумал и возвратился в бердскую слободу</td>\n",
       "      <td>S S S S S S C C S S C S S S S S P</td>\n",
       "    </tr>\n",
       "    <tr>\n",
       "      <th>559</th>\n",
       "      <td>Оренбург претерпел бедственную осаду, коей любопытное изображение сохранено самим Рейнсдорпом(2).</td>\n",
       "      <td>оренбург претерпел бедственную осаду, коей любопытное изображение сохранено самим рейнсдорпом.</td>\n",
       "      <td>10</td>\n",
       "      <td>оренбург претерпел бедственную осаду коей любопытное изображение сохранено самим рейнсдорпом</td>\n",
       "      <td>S S S C S S S S S P</td>\n",
       "    </tr>\n",
       "    <tr>\n",
       "      <th>1858</th>\n",
       "      <td>Михельсон, шедший к Арзамасу, отрядил Харина к Ядринску, куда спешил и граф Меллин.</td>\n",
       "      <td>михельсон, шедший к арзамасу, отрядил харина к ядринску, куда спешил и граф меллин.</td>\n",
       "      <td>13</td>\n",
       "      <td>михельсон шедший к арзамасу отрядил харина к ядринску куда спешил и граф меллин</td>\n",
       "      <td>C S S C S S S C S S S S P</td>\n",
       "    </tr>\n",
       "    <tr>\n",
       "      <th>682</th>\n",
       "      <td>Пугачев скучал их опекою.</td>\n",
       "      <td>пугачев скучал их опекою.</td>\n",
       "      <td>4</td>\n",
       "      <td>пугачев скучал их опекою</td>\n",
       "      <td>S S S P</td>\n",
       "    </tr>\n",
       "    <tr>\n",
       "      <th>1133</th>\n",
       "      <td>Генерал-майору Мансурову вверено было правое крыло для прикрытия Самарской линии, куда со своими отрядами следовал майор Муфель и подполковник Гринев.</td>\n",
       "      <td>генерал-майору мансурову вверено было правое крыло для прикрытия самарской линии, куда со своими отрядами следовал майор муфель и подполковник гринев.</td>\n",
       "      <td>20</td>\n",
       "      <td>генерал-майору мансурову вверено было правое крыло для прикрытия самарской линии куда со своими отрядами следовал майор муфель и подполковник гринев</td>\n",
       "      <td>S S S S S S S S S C S S S S S S S S S P</td>\n",
       "    </tr>\n",
       "    <tr>\n",
       "      <th>880</th>\n",
       "      <td>30 ноября он снова окружил крепость и целый день стрелял по ней из пушек, покушаясь на приступ то с той, то с другой стороны.</td>\n",
       "      <td>30 ноября он снова окружил крепость и целый день стрелял по ней из пушек, покушаясь на приступ то с той, то с другой стороны.</td>\n",
       "      <td>24</td>\n",
       "      <td>30 ноября он снова окружил крепость и целый день стрелял по ней из пушек покушаясь на приступ то с той то с другой стороны</td>\n",
       "      <td>S S S S S S S S S S S S S C S S S S S C S S S P</td>\n",
       "    </tr>\n",
       "    <tr>\n",
       "      <th>259</th>\n",
       "      <td>Сей способ ловли чрезвычайно выгоден для тех, которые занимаются оным; но, не допуская рыбы вверх Урала, он делает подрыв багренным промышленникам.</td>\n",
       "      <td>сей способ ловли чрезвычайно выгоден для тех, которые занимаются оным, но, не допуская рыбы вверх урала, он делает подрыв багренным промышленникам.</td>\n",
       "      <td>21</td>\n",
       "      <td>сей способ ловли чрезвычайно выгоден для тех которые занимаются оным но не допуская рыбы вверх урала он делает подрыв багренным промышленникам</td>\n",
       "      <td>S S S S S S C S S C C S S S S C S S S S P</td>\n",
       "    </tr>\n",
       "  </tbody>\n",
       "</table>\n",
       "</div>"
      ],
      "text/plain": [
       "                                                                                                                                                         raw  \\\n",
       "148                                                                  Трех братьев сих казаки побили, а ее, Гугниху, взяли в плен и подарили своему атаману».   \n",
       "340                                                                         Сперва дело шло о побеге в Турцию: мысль издавна общая всем недовольным казакам.   \n",
       "445                                                                                                 На другой день Пугачев выступил и пошел на Татищеву(11).   \n",
       "882                      Пугачев отступил и хотел идти противу Станиславского, но, перехватив оренбургскую почту, раздумал и возвратился в Бердскую слободу.   \n",
       "559                                                        Оренбург претерпел бедственную осаду, коей любопытное изображение сохранено самим Рейнсдорпом(2).   \n",
       "1858                                                                     Михельсон, шедший к Арзамасу, отрядил Харина к Ядринску, куда спешил и граф Меллин.   \n",
       "682                                                                                                                                Пугачев скучал их опекою.   \n",
       "1133  Генерал-майору Мансурову вверено было правое крыло для прикрытия Самарской линии, куда со своими отрядами следовал майор Муфель и подполковник Гринев.   \n",
       "880                            30 ноября он снова окружил крепость и целый день стрелял по ней из пушек, покушаясь на приступ то с той, то с другой стороны.   \n",
       "259      Сей способ ловли чрезвычайно выгоден для тех, которые занимаются оным; но, не допуская рыбы вверх Урала, он делает подрыв багренным промышленникам.   \n",
       "\n",
       "                                                                                                                                                   processed  \\\n",
       "148                                                                   трех братьев сих казаки побили, а ее, гугниху, взяли в плен и подарили своему атаману.   \n",
       "340                                                                         сперва дело шло о побеге в турцию, мысль издавна общая всем недовольным казакам.   \n",
       "445                                                                                                     на другой день пугачев выступил и пошел на татищеву.   \n",
       "882                      пугачев отступил и хотел идти противу станиславского, но, перехватив оренбургскую почту, раздумал и возвратился в бердскую слободу.   \n",
       "559                                                           оренбург претерпел бедственную осаду, коей любопытное изображение сохранено самим рейнсдорпом.   \n",
       "1858                                                                     михельсон, шедший к арзамасу, отрядил харина к ядринску, куда спешил и граф меллин.   \n",
       "682                                                                                                                                пугачев скучал их опекою.   \n",
       "1133  генерал-майору мансурову вверено было правое крыло для прикрытия самарской линии, куда со своими отрядами следовал майор муфель и подполковник гринев.   \n",
       "880                            30 ноября он снова окружил крепость и целый день стрелял по ней из пушек, покушаясь на приступ то с той, то с другой стороны.   \n",
       "259      сей способ ловли чрезвычайно выгоден для тех, которые занимаются оным, но, не допуская рыбы вверх урала, он делает подрыв багренным промышленникам.   \n",
       "\n",
       "      len  \\\n",
       "148    15   \n",
       "340    13   \n",
       "445     9   \n",
       "882    17   \n",
       "559    10   \n",
       "1858   13   \n",
       "682     4   \n",
       "1133   20   \n",
       "880    24   \n",
       "259    21   \n",
       "\n",
       "                                                                                                                                                     input  \\\n",
       "148                                                                     трех братьев сих казаки побили а ее гугниху взяли в плен и подарили своему атаману   \n",
       "340                                                                         сперва дело шло о побеге в турцию мысль издавна общая всем недовольным казакам   \n",
       "445                                                                                                    на другой день пугачев выступил и пошел на татищеву   \n",
       "882                        пугачев отступил и хотел идти противу станиславского но перехватив оренбургскую почту раздумал и возвратился в бердскую слободу   \n",
       "559                                                           оренбург претерпел бедственную осаду коей любопытное изображение сохранено самим рейнсдорпом   \n",
       "1858                                                                       михельсон шедший к арзамасу отрядил харина к ядринску куда спешил и граф меллин   \n",
       "682                                                                                                                               пугачев скучал их опекою   \n",
       "1133  генерал-майору мансурову вверено было правое крыло для прикрытия самарской линии куда со своими отрядами следовал майор муфель и подполковник гринев   \n",
       "880                             30 ноября он снова окружил крепость и целый день стрелял по ней из пушек покушаясь на приступ то с той то с другой стороны   \n",
       "259         сей способ ловли чрезвычайно выгоден для тех которые занимаются оным но не допуская рыбы вверх урала он делает подрыв багренным промышленникам   \n",
       "\n",
       "                                               target  \n",
       "148                     S S S S C S C C S S S S S S P  \n",
       "340                         S S S S S S C S S S S S P  \n",
       "445                                 S S S S S S S S P  \n",
       "882                 S S S S S S C C S S C S S S S S P  \n",
       "559                               S S S C S S S S S P  \n",
       "1858                        C S S C S S S C S S S S P  \n",
       "682                                           S S S P  \n",
       "1133          S S S S S S S S S C S S S S S S S S S P  \n",
       "880   S S S S S S S S S S S S S C S S S S S C S S S P  \n",
       "259         S S S S S S C S S C C S S S S C S S S S P  "
      ]
     },
     "execution_count": 24,
     "metadata": {},
     "output_type": "execute_result"
    }
   ],
   "source": [
    "book_sent_df.sample(10)"
   ]
  },
  {
   "cell_type": "code",
   "execution_count": 25,
   "id": "ff1bf419-5dd1-4604-be89-fda79bb63b2a",
   "metadata": {},
   "outputs": [],
   "source": [
    "pushkin_prepared_dir = '../data/prepared/pushkin'\n",
    "book_filename_csv = book_filename.split('.')[0] + '.csv'"
   ]
  },
  {
   "cell_type": "code",
   "execution_count": 26,
   "id": "2f753867-3675-4c69-87a0-343966cb24fb",
   "metadata": {},
   "outputs": [],
   "source": [
    "# saving dataframe (only 'input' and 'target' columns)\n",
    "book_sent_df[['input', 'target']].to_csv(os.path.join(pushkin_prepared_dir, book_filename_csv))"
   ]
  },
  {
   "cell_type": "code",
   "execution_count": null,
   "id": "b07d22eb-db47-4528-940a-6aea9da26ca7",
   "metadata": {},
   "outputs": [],
   "source": []
  },
  {
   "cell_type": "code",
   "execution_count": null,
   "id": "3b9c2843-13c6-474b-9c25-9a8e6d6e5192",
   "metadata": {},
   "outputs": [],
   "source": []
  }
 ],
 "metadata": {
  "kernelspec": {
   "display_name": "Python 3 (ipykernel)",
   "language": "python",
   "name": "python3"
  },
  "language_info": {
   "codemirror_mode": {
    "name": "ipython",
    "version": 3
   },
   "file_extension": ".py",
   "mimetype": "text/x-python",
   "name": "python",
   "nbconvert_exporter": "python",
   "pygments_lexer": "ipython3",
   "version": "3.8.10"
  }
 },
 "nbformat": 4,
 "nbformat_minor": 5
}
