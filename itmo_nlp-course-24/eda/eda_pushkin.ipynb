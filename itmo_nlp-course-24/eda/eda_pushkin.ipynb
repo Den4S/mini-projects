{
 "cells": [
  {
   "cell_type": "code",
   "execution_count": 1,
   "id": "10c3b946-fb60-413a-8b45-8ce85f4c12ee",
   "metadata": {},
   "outputs": [],
   "source": [
    "import numpy as np\n",
    "import pandas as pd"
   ]
  },
  {
   "cell_type": "code",
   "execution_count": 2,
   "id": "e2c9677d-9e66-4dde-acb8-282267fe433d",
   "metadata": {},
   "outputs": [],
   "source": [
    "from razdel import sentenize"
   ]
  },
  {
   "cell_type": "code",
   "execution_count": 3,
   "id": "7df815b6-e599-4f42-92c7-482ea0f76dfa",
   "metadata": {},
   "outputs": [],
   "source": [
    "import random"
   ]
  },
  {
   "cell_type": "code",
   "execution_count": 4,
   "id": "5be5acb0-2aec-4b18-a5f6-23c08af28a33",
   "metadata": {},
   "outputs": [],
   "source": [
    "from tqdm import tqdm"
   ]
  },
  {
   "cell_type": "code",
   "execution_count": 5,
   "id": "459b48fd-5fd6-41a8-8a64-86899a34297e",
   "metadata": {},
   "outputs": [],
   "source": [
    "import re\n",
    "import os"
   ]
  },
  {
   "cell_type": "code",
   "execution_count": 6,
   "id": "e4449619-e905-4352-a628-9dc8315734a3",
   "metadata": {},
   "outputs": [],
   "source": [
    "from collections import Counter"
   ]
  },
  {
   "cell_type": "markdown",
   "id": "197c0f23-4a70-4a5f-aa0c-f4638fd14d83",
   "metadata": {},
   "source": [
    "#### For lemmatization"
   ]
  },
  {
   "cell_type": "code",
   "execution_count": 7,
   "id": "689613e9-74b3-4288-b98c-f0ea47de977c",
   "metadata": {},
   "outputs": [],
   "source": [
    "from natasha import (\n",
    "    Segmenter,\n",
    "    MorphVocab,\n",
    "    \n",
    "    NewsEmbedding,\n",
    "    NewsMorphTagger,\n",
    "    NewsSyntaxParser,\n",
    "    NewsNERTagger,\n",
    "    \n",
    "    PER,\n",
    "    NamesExtractor,\n",
    "\n",
    "    Doc\n",
    ")"
   ]
  },
  {
   "cell_type": "markdown",
   "id": "87933e83-f07c-4c35-8324-18c19f5d6a25",
   "metadata": {},
   "source": [
    "#### Visualisation"
   ]
  },
  {
   "cell_type": "code",
   "execution_count": 8,
   "id": "d9af1fae-9b87-48ad-8c0d-267a9f562659",
   "metadata": {},
   "outputs": [],
   "source": [
    "import matplotlib\n",
    "import matplotlib.pyplot as plt"
   ]
  },
  {
   "cell_type": "code",
   "execution_count": 9,
   "id": "99e2284b-7913-416c-b8fb-0f9304700280",
   "metadata": {},
   "outputs": [],
   "source": [
    "import scienceplots\n",
    "\n",
    "plt.style.use('science')\n",
    "%config InlineBackend.figure_format = 'retina'\n",
    "\n",
    "lables_fs = 16\n",
    "ticks_fs = 12"
   ]
  },
  {
   "cell_type": "code",
   "execution_count": null,
   "id": "d6d64fc5-2d3c-459e-95cb-221cf3fc2737",
   "metadata": {},
   "outputs": [],
   "source": []
  },
  {
   "cell_type": "markdown",
   "id": "d8ab581b-c60e-4828-bae1-3f3cb1d948c2",
   "metadata": {},
   "source": [
    "### Concatenate all DataFrames with sentences (from Pushkin)"
   ]
  },
  {
   "cell_type": "code",
   "execution_count": 10,
   "id": "4ad9f73a-b761-4d9d-951a-962eeb17412c",
   "metadata": {},
   "outputs": [],
   "source": [
    "pushkin_data_dir = '../data/prepared/pushkin'"
   ]
  },
  {
   "cell_type": "code",
   "execution_count": 11,
   "id": "3b4b9ab0-e1e4-49b3-a3ba-d2539bb30df2",
   "metadata": {},
   "outputs": [
    {
     "name": "stdout",
     "output_type": "stream",
     "text": [
      "kapitanskaya_dochka.csv\n",
      "pugachevs_story.csv\n",
      "dubrovsky.csv\n",
      "povesti_belkina.csv\n"
     ]
    }
   ],
   "source": [
    "data_filenames = []\n",
    "\n",
    "for file in os.listdir(pushkin_data_dir):  # through files in selected directory            \n",
    "    filename = os.fsdecode(file)\n",
    "    if filename.endswith(\".csv\"):  # looking for .txt files in the directory\n",
    "        data_filenames.append(filename)\n",
    "\n",
    "print(*data_filenames, sep='\\n')"
   ]
  },
  {
   "cell_type": "code",
   "execution_count": 12,
   "id": "3bd03874-b6c4-436d-8279-43ec54cc454c",
   "metadata": {},
   "outputs": [
    {
     "name": "stdout",
     "output_type": "stream",
     "text": [
      "kapitanskaya_dochka :\t(3033, 2)\n",
      "pugachevs_story     :\t(2188, 2)\n",
      "dubrovsky           :\t(1363, 2)\n",
      "povesti_belkina     :\t(1357, 2)\n",
      "\n",
      "Total shape: (7941, 2)\n"
     ]
    }
   ],
   "source": [
    "pushkin_sentences_df = pd.DataFrame()\n",
    "for ind, filename in enumerate(data_filenames):\n",
    "    book_df = pd.read_csv(os.path.join(pushkin_data_dir, filename), index_col=0)\n",
    "    print(f\"{filename.split('.')[0] + ' ' * (20 - len(filename.split('.')[0]))}:\\t{book_df.shape}\")\n",
    "    if ind == 0:\n",
    "        pushkin_sentences_df = book_df\n",
    "    else:       \n",
    "        pushkin_sentences_df = pd.concat([pushkin_sentences_df, book_df], ignore_index=True)\n",
    "\n",
    "print(f'\\nTotal shape: {pushkin_sentences_df.shape}')"
   ]
  },
  {
   "cell_type": "code",
   "execution_count": 13,
   "id": "8b6abf84-bddd-4a38-b08f-44d50bbbcaed",
   "metadata": {},
   "outputs": [
    {
     "data": {
      "text/html": [
       "<div>\n",
       "<style scoped>\n",
       "    .dataframe tbody tr th:only-of-type {\n",
       "        vertical-align: middle;\n",
       "    }\n",
       "\n",
       "    .dataframe tbody tr th {\n",
       "        vertical-align: top;\n",
       "    }\n",
       "\n",
       "    .dataframe thead th {\n",
       "        text-align: right;\n",
       "    }\n",
       "</style>\n",
       "<table border=\"1\" class=\"dataframe\">\n",
       "  <thead>\n",
       "    <tr style=\"text-align: right;\">\n",
       "      <th></th>\n",
       "      <th>input</th>\n",
       "      <th>target</th>\n",
       "    </tr>\n",
       "  </thead>\n",
       "  <tbody>\n",
       "    <tr>\n",
       "      <th>3110</th>\n",
       "      <td>войсковой атаман андрей бородин был отставлен на его место выбран петр тамбовцев члены канцелярии осуждены уплатить войску сверх удержанных денег значительную пеню но они умели избегнуть исполнени...</td>\n",
       "      <td>S S S S S C S S S S S C S S S S C S S C S C S S S S S P</td>\n",
       "    </tr>\n",
       "    <tr>\n",
       "      <th>2866</th>\n",
       "      <td>теперь время обедать</td>\n",
       "      <td>S S P</td>\n",
       "    </tr>\n",
       "    <tr>\n",
       "      <th>5675</th>\n",
       "      <td>старуха не раздевалась в эту ночь кроме приказных никто в доме не смыкал глаза</td>\n",
       "      <td>S S S S S C S S S S S S S P</td>\n",
       "    </tr>\n",
       "    <tr>\n",
       "      <th>5965</th>\n",
       "      <td>антон пафнутьич призывая господа в свидетели в том что красная шкатулка его была пуста не лгал и не согрешал красная шкатулка точно была пуста деньги некогда в ней хранимые перешли в кожаную суму ...</td>\n",
       "      <td>S C S S S S S C S S S S S C S S S S C S S S S C C S S S C S S S C S S S S S S P</td>\n",
       "    </tr>\n",
       "    <tr>\n",
       "      <th>1586</th>\n",
       "      <td>обер-секретарь продолжал мундир из тонкого зеленого сукна на семь рублей</td>\n",
       "      <td>S C S S S S S S S P</td>\n",
       "    </tr>\n",
       "    <tr>\n",
       "      <th>6328</th>\n",
       "      <td>дубровский как будто очнулся от усыпления</td>\n",
       "      <td>S S S S S P</td>\n",
       "    </tr>\n",
       "    <tr>\n",
       "      <th>7711</th>\n",
       "      <td>вот какими путями распространяется просвещение</td>\n",
       "      <td>S S S S EX</td>\n",
       "    </tr>\n",
       "    <tr>\n",
       "      <th>6464</th>\n",
       "      <td>исправник выслушал его со вниманием поминутно взглядывая на маленького негодяя который прикинувшись дурачком казалось не обращал никакого внимания на все что делалось около него</td>\n",
       "      <td>S S S S C S S S S C C S C S S S S S S C S S S P</td>\n",
       "    </tr>\n",
       "    <tr>\n",
       "      <th>1823</th>\n",
       "      <td>но все же я никак не могу дать тебе роту солдат и полсотни казаков</td>\n",
       "      <td>S S S S S S S S S S S S S P</td>\n",
       "    </tr>\n",
       "    <tr>\n",
       "      <th>5717</th>\n",
       "      <td>кузнец ушел пожар свирепствовал еще несколько времени</td>\n",
       "      <td>S C S S S S P</td>\n",
       "    </tr>\n",
       "  </tbody>\n",
       "</table>\n",
       "</div>"
      ],
      "text/plain": [
       "                                                                                                                                                                                                        input  \\\n",
       "3110  войсковой атаман андрей бородин был отставлен на его место выбран петр тамбовцев члены канцелярии осуждены уплатить войску сверх удержанных денег значительную пеню но они умели избегнуть исполнени...   \n",
       "2866                                                                                                                                                                                     теперь время обедать   \n",
       "5675                                                                                                                           старуха не раздевалась в эту ночь кроме приказных никто в доме не смыкал глаза   \n",
       "5965  антон пафнутьич призывая господа в свидетели в том что красная шкатулка его была пуста не лгал и не согрешал красная шкатулка точно была пуста деньги некогда в ней хранимые перешли в кожаную суму ...   \n",
       "1586                                                                                                                                 обер-секретарь продолжал мундир из тонкого зеленого сукна на семь рублей   \n",
       "6328                                                                                                                                                                дубровский как будто очнулся от усыпления   \n",
       "7711                                                                                                                                                           вот какими путями распространяется просвещение   \n",
       "6464                        исправник выслушал его со вниманием поминутно взглядывая на маленького негодяя который прикинувшись дурачком казалось не обращал никакого внимания на все что делалось около него   \n",
       "1823                                                                                                                                       но все же я никак не могу дать тебе роту солдат и полсотни казаков   \n",
       "5717                                                                                                                                                    кузнец ушел пожар свирепствовал еще несколько времени   \n",
       "\n",
       "                                                                               target  \n",
       "3110                          S S S S S C S S S S S C S S S S C S S C S C S S S S S P  \n",
       "2866                                                                            S S P  \n",
       "5675                                                      S S S S S C S S S S S S S P  \n",
       "5965  S C S S S S S C S S S S S C S S S S C S S S S C C S S S C S S S C S S S S S S P  \n",
       "1586                                                              S C S S S S S S S P  \n",
       "6328                                                                      S S S S S P  \n",
       "7711                                                                       S S S S EX  \n",
       "6464                                  S S S S C S S S S C C S C S S S S S S C S S S P  \n",
       "1823                                                      S S S S S S S S S S S S S P  \n",
       "5717                                                                    S C S S S S P  "
      ]
     },
     "execution_count": 13,
     "metadata": {},
     "output_type": "execute_result"
    }
   ],
   "source": [
    "pd.options.display.max_colwidth = 200\n",
    "pushkin_sentences_df.sample(10)"
   ]
  },
  {
   "cell_type": "markdown",
   "id": "e1955605-3237-41a3-bf67-cc17fde2a554",
   "metadata": {},
   "source": [
    "### Statistics"
   ]
  },
  {
   "cell_type": "markdown",
   "id": "c9d44cce-0346-461d-a805-cafd234a9027",
   "metadata": {},
   "source": [
    "#### Length of sentences"
   ]
  },
  {
   "cell_type": "code",
   "execution_count": 14,
   "id": "e37afcae-3580-43ec-91e7-adbe89cac466",
   "metadata": {},
   "outputs": [
    {
     "data": {
      "image/png": "[encoded data removed]",
      "text/plain": [
       "<Figure size 500x300 with 1 Axes>"
      ]
     },
     "metadata": {
      "image/png": {
       "height": 309,
       "width": 460
      }
     },
     "output_type": "display_data"
    }
   ],
   "source": [
    "fig, ax = plt.subplots(figsize=(5, 3))\n",
    "\n",
    "for ind, filename in enumerate(data_filenames):\n",
    "    book_df = pd.read_csv(os.path.join(pushkin_data_dir, filename), index_col=0)\n",
    "    book_df['len'] = book_df.apply(lambda row: len(row.target.split(' ')), axis = 1)\n",
    "\n",
    "    n_bins = int((book_df['len'].max() - book_df['len'].min()) / 1)\n",
    "    pd.DataFrame.hist(\n",
    "        data=book_df,\n",
    "        column='len',\n",
    "        ax=ax,\n",
    "        bins=n_bins,\n",
    "        legend=False,\n",
    "        # color='lightcoral',\n",
    "        alpha=0.3,\n",
    "        edgecolor='k',\n",
    "        lw=0.5,\n",
    "        label=filename.split('.')[0].replace('_', ' ')\n",
    "    )\n",
    "\n",
    "ax.set_title('Pushkin', fontsize=lables_fs)\n",
    "ax.set_xlim([0, 50])\n",
    "\n",
    "ax.tick_params(axis='both', which='major', labelsize=ticks_fs)\n",
    "\n",
    "# plt.title(None)\n",
    "plt.xlabel('len', fontsize=lables_fs)\n",
    "plt.ylabel('number of sentences', fontsize=lables_fs)\n",
    "\n",
    "ax.legend()\n",
    "ax.grid(False)\n",
    "plt.show()\n",
    "# fig.savefig(f'figures/name.eps', format='eps')"
   ]
  },
  {
   "cell_type": "code",
   "execution_count": 15,
   "id": "c09cab1d-7cc2-4a30-b134-18c906a3da37",
   "metadata": {},
   "outputs": [
    {
     "data": {
      "image/png": "[encoded data removed]",
      "text/plain": [
       "<Figure size 500x300 with 1 Axes>"
      ]
     },
     "metadata": {
      "image/png": {
       "height": 310,
       "width": 460
      }
     },
     "output_type": "display_data"
    }
   ],
   "source": [
    "fig, ax = plt.subplots(figsize=(5, 3))\n",
    "\n",
    "pushkin_sentences_df['len'] = pushkin_sentences_df.apply(lambda row: len(row.target.split(' ')), axis = 1)\n",
    "\n",
    "n_bins = int((pushkin_sentences_df['len'].max() - pushkin_sentences_df['len'].min()) / 1)\n",
    "pd.DataFrame.hist(\n",
    "    data=pushkin_sentences_df,\n",
    "    column='len',\n",
    "    ax=ax,\n",
    "    bins=n_bins,\n",
    "    legend=False,\n",
    "    color='lightcoral',\n",
    "    alpha=0.75,\n",
    "    edgecolor='k',\n",
    "    lw=0.5,\n",
    ")\n",
    "\n",
    "ax.set_title('Pushkin (len of sentences)', fontsize=lables_fs)\n",
    "ax.set_xlim([0, 50])\n",
    "\n",
    "ax.tick_params(axis='both', which='major', labelsize=ticks_fs)\n",
    "\n",
    "plt.xlabel('len', fontsize=lables_fs)\n",
    "plt.ylabel('number of sentences', fontsize=lables_fs)\n",
    "\n",
    "ax.grid(False)\n",
    "plt.show()\n",
    "\n",
    "# fig.savefig(f'figures/name.eps', format='eps')"
   ]
  },
  {
   "cell_type": "code",
   "execution_count": 16,
   "id": "7d669100-36c3-4539-b902-bb9aad94ec03",
   "metadata": {},
   "outputs": [
    {
     "name": "stdout",
     "output_type": "stream",
     "text": [
      "Minimal len: 1\n",
      "Maximal len: 183\n"
     ]
    }
   ],
   "source": [
    "print(f\"Minimal len: {pushkin_sentences_df['len'].min()}\")\n",
    "print(f\"Maximal len: {pushkin_sentences_df['len'].max()}\")"
   ]
  },
  {
   "cell_type": "code",
   "execution_count": 17,
   "id": "1687ad63-8219-4866-9547-a6084d936fb5",
   "metadata": {},
   "outputs": [
    {
     "data": {
      "text/plain": [
       "5912"
      ]
     },
     "execution_count": 17,
     "metadata": {},
     "output_type": "execute_result"
    }
   ],
   "source": [
    "lower_len_lim = 4\n",
    "upper_len_lim = 20  # we will not use too long and too short sentences! \n",
    "\n",
    "len(\n",
    "    pushkin_sentences_df[\n",
    "        (pushkin_sentences_df['len'] >= lower_len_lim) &\n",
    "        (pushkin_sentences_df['len'] <= upper_len_lim)\n",
    "    ]\n",
    ")"
   ]
  },
  {
   "cell_type": "markdown",
   "id": "9d379172-a3d0-4e81-9c1c-479873ee0eb2",
   "metadata": {},
   "source": [
    "#### Number of commas in sentences"
   ]
  },
  {
   "cell_type": "code",
   "execution_count": 18,
   "id": "92ef4569-d019-4838-9452-43777050698e",
   "metadata": {},
   "outputs": [],
   "source": [
    "pushkin_sentences_df['commas'] = pushkin_sentences_df.apply(\n",
    "    lambda row: Counter(\n",
    "        (row.target + ' C').split(' ')\n",
    "    )['C'] - 1,\n",
    "    axis = 1\n",
    ")  # count number of commas in each target"
   ]
  },
  {
   "cell_type": "code",
   "execution_count": null,
   "id": "683a624c-63a1-42f4-8ad1-26546f761aab",
   "metadata": {},
   "outputs": [],
   "source": []
  },
  {
   "cell_type": "code",
   "execution_count": 19,
   "id": "95e0ef4f-3d68-4d4f-a378-48536570d598",
   "metadata": {},
   "outputs": [
    {
     "data": {
      "image/png": "[encoded data removed]",
      "text/plain": [
       "<Figure size 500x300 with 1 Axes>"
      ]
     },
     "metadata": {
      "image/png": {
       "height": 310,
       "width": 460
      }
     },
     "output_type": "display_data"
    }
   ],
   "source": [
    "fig, ax = plt.subplots(figsize=(5, 3))\n",
    "\n",
    "n_bins = int((pushkin_sentences_df['commas'].max() - pushkin_sentences_df['commas'].min()) / 1)\n",
    "pd.DataFrame.hist(\n",
    "    data=pushkin_sentences_df,\n",
    "    column='commas',\n",
    "    ax=ax,\n",
    "    bins=n_bins,\n",
    "    legend=False,\n",
    "    color='cornflowerblue',\n",
    "    alpha=0.75,\n",
    "    edgecolor='k',\n",
    "    lw=0.5,\n",
    ")\n",
    "\n",
    "ax.set_title('Pushkin (commas)', fontsize=lables_fs)\n",
    "ax.set_xlim([0, pushkin_sentences_df['commas'].max()])\n",
    "\n",
    "ax.tick_params(axis='both', which='major', labelsize=ticks_fs)\n",
    "\n",
    "plt.xlabel('number of commas', fontsize=lables_fs)\n",
    "plt.ylabel('number of sentences', fontsize=lables_fs)\n",
    "\n",
    "ax.grid(False)\n",
    "plt.show()\n",
    "\n",
    "# fig.savefig(f'figures/name.eps', format='eps')"
   ]
  },
  {
   "cell_type": "code",
   "execution_count": 20,
   "id": "c9c53ade-cca8-472f-8b77-0af2ed7f1fae",
   "metadata": {},
   "outputs": [
    {
     "data": {
      "text/plain": [
       "4456"
      ]
     },
     "execution_count": 20,
     "metadata": {},
     "output_type": "execute_result"
    }
   ],
   "source": [
    "# number of sentences of desired length and with at least one comma in it\n",
    "lower_len_lim = 3\n",
    "upper_len_lim = 25\n",
    "\n",
    "len(\n",
    "    pushkin_sentences_df[\n",
    "        (pushkin_sentences_df['len'] >= lower_len_lim) &\n",
    "        (pushkin_sentences_df['len'] <= upper_len_lim) &\n",
    "        (pushkin_sentences_df['commas'] > 0)\n",
    "    ]\n",
    ")"
   ]
  },
  {
   "cell_type": "code",
   "execution_count": null,
   "id": "57595ae5-cd70-4c19-9a8f-440751d91b13",
   "metadata": {},
   "outputs": [],
   "source": []
  },
  {
   "cell_type": "code",
   "execution_count": null,
   "id": "ea5d93ca-dccc-4714-a5c0-f822546c055b",
   "metadata": {},
   "outputs": [],
   "source": []
  },
  {
   "cell_type": "markdown",
   "id": "2215fac1-d00d-4d65-b4a0-3d82e45c1cff",
   "metadata": {},
   "source": [
    "### Punctuation statistics in selected Subset of the data"
   ]
  },
  {
   "cell_type": "code",
   "execution_count": 21,
   "id": "cccc68bc-eca5-43a3-99e1-2c51fab4e818",
   "metadata": {},
   "outputs": [
    {
     "name": "stdout",
     "output_type": "stream",
     "text": [
      "(4456, 4)\n"
     ]
    },
    {
     "data": {
      "text/html": [
       "<div>\n",
       "<style scoped>\n",
       "    .dataframe tbody tr th:only-of-type {\n",
       "        vertical-align: middle;\n",
       "    }\n",
       "\n",
       "    .dataframe tbody tr th {\n",
       "        vertical-align: top;\n",
       "    }\n",
       "\n",
       "    .dataframe thead th {\n",
       "        text-align: right;\n",
       "    }\n",
       "</style>\n",
       "<table border=\"1\" class=\"dataframe\">\n",
       "  <thead>\n",
       "    <tr style=\"text-align: right;\">\n",
       "      <th></th>\n",
       "      <th>input</th>\n",
       "      <th>target</th>\n",
       "      <th>len</th>\n",
       "      <th>commas</th>\n",
       "    </tr>\n",
       "  </thead>\n",
       "  <tbody>\n",
       "    <tr>\n",
       "      <th>4227</th>\n",
       "      <td>вот летом проезжала барыня так та спрашивала о старом смотрителе и ходила к нему на могилу</td>\n",
       "      <td>S S S C S S S S S S S S S S S P</td>\n",
       "      <td>16</td>\n",
       "      <td>1</td>\n",
       "    </tr>\n",
       "    <tr>\n",
       "      <th>3086</th>\n",
       "      <td>мальчишки помирали со смеху смотря на ее отчаяние</td>\n",
       "      <td>S S S C S S S P</td>\n",
       "      <td>8</td>\n",
       "      <td>1</td>\n",
       "    </tr>\n",
       "    <tr>\n",
       "      <th>2219</th>\n",
       "      <td>рейнсдорп потеряв надежду победить пугачева силой оружия пустился в полемику не весьма приличную</td>\n",
       "      <td>C S S S S S C S S S S S P</td>\n",
       "      <td>13</td>\n",
       "      <td>2</td>\n",
       "    </tr>\n",
       "    <tr>\n",
       "      <th>4238</th>\n",
       "      <td>в молодости своей служил он в гвардии вышел в отставку в начале 1797 года уехал в свою деревню и с тех пор оттуда не выезжал</td>\n",
       "      <td>S S S S S S C S S S S S S C S S S S S S S S S S P</td>\n",
       "      <td>25</td>\n",
       "      <td>2</td>\n",
       "    </tr>\n",
       "    <tr>\n",
       "      <th>2674</th>\n",
       "      <td>в сию минуту салманов передался и бошняк остался с шестидесятью человеками офицеров и солдат</td>\n",
       "      <td>S S S S C S S S S S S S S P</td>\n",
       "      <td>14</td>\n",
       "      <td>1</td>\n",
       "    </tr>\n",
       "  </tbody>\n",
       "</table>\n",
       "</div>"
      ],
      "text/plain": [
       "                                                                                                                             input  \\\n",
       "4227                                    вот летом проезжала барыня так та спрашивала о старом смотрителе и ходила к нему на могилу   \n",
       "3086                                                                             мальчишки помирали со смеху смотря на ее отчаяние   \n",
       "2219                              рейнсдорп потеряв надежду победить пугачева силой оружия пустился в полемику не весьма приличную   \n",
       "4238  в молодости своей служил он в гвардии вышел в отставку в начале 1797 года уехал в свою деревню и с тех пор оттуда не выезжал   \n",
       "2674                                  в сию минуту салманов передался и бошняк остался с шестидесятью человеками офицеров и солдат   \n",
       "\n",
       "                                                 target  len  commas  \n",
       "4227                    S S S C S S S S S S S S S S S P   16       1  \n",
       "3086                                    S S S C S S S P    8       1  \n",
       "2219                          C S S S S S C S S S S S P   13       2  \n",
       "4238  S S S S S S C S S S S S S C S S S S S S S S S S P   25       2  \n",
       "2674                        S S S S C S S S S S S S S P   14       1  "
      ]
     },
     "execution_count": 21,
     "metadata": {},
     "output_type": "execute_result"
    }
   ],
   "source": [
    "lower_len_lim = 3\n",
    "upper_len_lim = 25\n",
    "\n",
    "pushkin_data_df = pushkin_sentences_df[\n",
    "    (pushkin_sentences_df['len'] >= lower_len_lim) &\n",
    "    (pushkin_sentences_df['len'] <= upper_len_lim) &\n",
    "    (pushkin_sentences_df['commas'] > 0)\n",
    "]\n",
    "\n",
    "print(pushkin_data_df.shape)\n",
    "pushkin_data_df = pushkin_data_df.reset_index(drop=True)\n",
    "pushkin_data_df.sample(5)"
   ]
  },
  {
   "cell_type": "code",
   "execution_count": null,
   "id": "ecb9dd9f-3f7a-4a41-96d1-a5a22a28e791",
   "metadata": {},
   "outputs": [],
   "source": []
  },
  {
   "cell_type": "code",
   "execution_count": 22,
   "id": "bd5422a0-490e-4e14-b4ef-fa8d840e8724",
   "metadata": {},
   "outputs": [
    {
     "name": "stdout",
     "output_type": "stream",
     "text": [
      "410:\t[S S S C S EX S S S S Q] -->  [S S S C S C S S S S Q]\n",
      "4078:\t[S S C EX S S S S S S S EX] -->  [S S C C S S S S S S S EX]\n"
     ]
    }
   ],
   "source": [
    "all_punctuation_in_data = []\n",
    "\n",
    "for ind_row in range(pushkin_data_df.shape[0]):\n",
    "    target_this = pushkin_data_df.iloc[ind_row]['target']\n",
    "\n",
    "    # FIXING BUGS IN PROCESS!\n",
    "    if (target_this[-1] == 'C') or (target_this[-1] == 'S') or (target_this[-1] == ' '):\n",
    "        # check if last mark is '.'/'!' or '?'\n",
    "        print(f'{ind_row}:\\t[{target_this}] --> ', end=' ')\n",
    "        fixed_target_this = target_this[:-1] + 'P'\n",
    "        pushkin_data_df.loc[ind_row, 'target'] = fixed_target_this\n",
    "        print(f'[{fixed_target_this}]')\n",
    "    if ('Q' in target_this[:-1]) or ('EX' in target_this[:-1]):\n",
    "        print(f'{ind_row}:\\t[{target_this}] --> ', end=' ')\n",
    "        fixed_target_this = target_this[:-1].replace('EX', 'C')\n",
    "        fixed_target_this = fixed_target_this.replace('Q', 'C') + target_this[-1]\n",
    "        pushkin_data_df.loc[ind_row, 'target'] = fixed_target_this\n",
    "        pushkin_data_df.loc[ind_row, 'target'] = fixed_target_this\n",
    "        print(f'[{fixed_target_this}]')\n",
    "\n",
    "    all_punctuation_in_data.extend(pushkin_data_df.iloc[ind_row]['target'].split(' '))"
   ]
  },
  {
   "cell_type": "code",
   "execution_count": 23,
   "id": "37d0a373-d662-4499-a29e-4394c7e5740b",
   "metadata": {},
   "outputs": [
    {
     "data": {
      "text/plain": [
       "input     нашли за что ссориться за песенку да как же это случилось\n",
       "target                                        S S S C S C S S S S Q\n",
       "len                                                              11\n",
       "commas                                                            1\n",
       "Name: 410, dtype: object"
      ]
     },
     "execution_count": 23,
     "metadata": {},
     "output_type": "execute_result"
    }
   ],
   "source": [
    "pushkin_data_df.iloc[410]"
   ]
  },
  {
   "cell_type": "code",
   "execution_count": 24,
   "id": "99dde5fd-ff92-4147-8873-20dcc217a806",
   "metadata": {},
   "outputs": [],
   "source": [
    "assert len(all_punctuation_in_data) == pushkin_data_df['len'].sum()"
   ]
  },
  {
   "cell_type": "code",
   "execution_count": 25,
   "id": "9174a047-9710-49ac-b526-ba552b4ee228",
   "metadata": {},
   "outputs": [],
   "source": [
    "punctuation_counter = Counter(all_punctuation_in_data)"
   ]
  },
  {
   "cell_type": "code",
   "execution_count": 26,
   "id": "78e05ffa-10b0-466a-b168-650bbda7dc3b",
   "metadata": {},
   "outputs": [
    {
     "data": {
      "image/png": "[encoded data removed]",
      "text/plain": [
       "<Figure size 500x300 with 1 Axes>"
      ]
     },
     "metadata": {
      "image/png": {
       "height": 285,
       "width": 468
      }
     },
     "output_type": "display_data"
    }
   ],
   "source": [
    "fig, ax = plt.subplots(figsize=(5, 3))\n",
    "\n",
    "ax.bar(punctuation_counter.keys(), punctuation_counter.values(), 0.5, color='mediumpurple', edgecolor='k', lw=0.5)\n",
    "ax.set_title('Pushkin (selected data)', fontsize=lables_fs)\n",
    "# ax.set_xlim([0, 50])\n",
    "\n",
    "ax.tick_params(axis='both', which='major', labelsize=ticks_fs)\n",
    "\n",
    "# plt.xlabel('len', fontsize=lables_fs)\n",
    "plt.ylabel('number of symbols', fontsize=lables_fs)\n",
    "\n",
    "plt.show()"
   ]
  },
  {
   "cell_type": "markdown",
   "id": "cad05570-d5ae-4842-9a3e-b9894d6d5af6",
   "metadata": {},
   "source": [
    "#### Classes are quite unbalanced!\n",
    "\n",
    "`Spaces` occures $\\sim5$ times more frequently than `commas` in main bodies of sentences!"
   ]
  },
  {
   "cell_type": "code",
   "execution_count": 27,
   "id": "52486acb-0305-4026-9694-43acf00d120a",
   "metadata": {},
   "outputs": [
    {
     "name": "stdout",
     "output_type": "stream",
     "text": [
      "RATIO(spaces / commas) = 4.744\n"
     ]
    }
   ],
   "source": [
    "print(f\"RATIO(spaces / commas) = {punctuation_counter['S'] / punctuation_counter['C']:.3f}\")"
   ]
  },
  {
   "cell_type": "code",
   "execution_count": null,
   "id": "f5a94a31-e7bf-4c41-bc6c-f7ca0abe1dfa",
   "metadata": {},
   "outputs": [],
   "source": []
  },
  {
   "cell_type": "markdown",
   "id": "5bc8d0b4-5011-4c22-8fa3-16a9c5eb5941",
   "metadata": {},
   "source": [
    "Among __end punctuation marks__ (in the end of sentences) the ratio is the following:"
   ]
  },
  {
   "cell_type": "code",
   "execution_count": 28,
   "id": "476a6513-3000-486d-9c77-fb906cc8450f",
   "metadata": {},
   "outputs": [
    {
     "data": {
      "image/png": "[encoded data removed]",
      "text/plain": [
       "<Figure size 500x300 with 1 Axes>"
      ]
     },
     "metadata": {
      "image/png": {
       "height": 285,
       "width": 460
      }
     },
     "output_type": "display_data"
    }
   ],
   "source": [
    "fig, ax = plt.subplots(figsize=(5, 3))\n",
    "\n",
    "keys_to_plot = ['P', 'EX', 'Q']\n",
    "ax.bar(\n",
    "    keys_to_plot,\n",
    "    [punctuation_counter[key] for key in keys_to_plot], \n",
    "    0.5, color=['k', 'r', 'b'], edgecolor='k', lw=0.5, alpha=0.5\n",
    ")\n",
    "ax.set_title('Pushkin (end of sentences)', fontsize=lables_fs)\n",
    "# ax.set_xlim([0, 50])\n",
    "\n",
    "ax.tick_params(axis='both', which='major', labelsize=ticks_fs)\n",
    "\n",
    "# plt.xlabel('len', fontsize=lables_fs)\n",
    "plt.ylabel('number of symbols', fontsize=lables_fs)\n",
    "\n",
    "plt.show()"
   ]
  },
  {
   "cell_type": "code",
   "execution_count": 29,
   "id": "f105d0c2-51e0-4d10-92fc-690123cb128c",
   "metadata": {},
   "outputs": [
    {
     "name": "stdout",
     "output_type": "stream",
     "text": [
      "point          : 4029\t(90.42 %)\n",
      "exclamation    : 176\t(3.95 %)\n",
      "question       : 251\t(5.63 %)\n"
     ]
    }
   ],
   "source": [
    "dict_names = {'P': 'point', 'EX': 'exclamation', 'Q': 'question'}\n",
    "sum_control = 0\n",
    "for key in ['P', 'EX', 'Q']:\n",
    "    n_this = punctuation_counter[key]\n",
    "    sum_control += n_this\n",
    "    \n",
    "    print(f\"{dict_names[key] + (15 - len(dict_names[key])) * ' '}: {n_this}\\t({n_this / pushkin_data_df.shape[0] * 100:.2f} %)\")\n",
    "\n",
    "assert sum_control == pushkin_data_df.shape[0]"
   ]
  },
  {
   "cell_type": "markdown",
   "id": "79d010b2-86fd-4eec-bb98-9616eccdc11e",
   "metadata": {},
   "source": [
    "### Saving selected and fixed data part"
   ]
  },
  {
   "cell_type": "code",
   "execution_count": 30,
   "id": "255a276f-63f5-4e1c-9656-065b05309ae8",
   "metadata": {},
   "outputs": [
    {
     "name": "stdout",
     "output_type": "stream",
     "text": [
      "(4456, 4)\n"
     ]
    },
    {
     "data": {
      "text/html": [
       "<div>\n",
       "<style scoped>\n",
       "    .dataframe tbody tr th:only-of-type {\n",
       "        vertical-align: middle;\n",
       "    }\n",
       "\n",
       "    .dataframe tbody tr th {\n",
       "        vertical-align: top;\n",
       "    }\n",
       "\n",
       "    .dataframe thead th {\n",
       "        text-align: right;\n",
       "    }\n",
       "</style>\n",
       "<table border=\"1\" class=\"dataframe\">\n",
       "  <thead>\n",
       "    <tr style=\"text-align: right;\">\n",
       "      <th></th>\n",
       "      <th>input</th>\n",
       "      <th>target</th>\n",
       "      <th>len</th>\n",
       "      <th>commas</th>\n",
       "    </tr>\n",
       "  </thead>\n",
       "  <tbody>\n",
       "    <tr>\n",
       "      <th>2607</th>\n",
       "      <td>его семейство было при нем между его товарищами находились два новые лица один из них был молодой пулавский родной брат славного конфедерата</td>\n",
       "      <td>S S S S S S S S S S S C S S S S S C S S S P</td>\n",
       "      <td>22</td>\n",
       "      <td>2</td>\n",
       "    </tr>\n",
       "    <tr>\n",
       "      <th>1934</th>\n",
       "      <td>утром 27 сентября пугачев показался на высотах ее окружающих</td>\n",
       "      <td>S S S S S S C S P</td>\n",
       "      <td>9</td>\n",
       "      <td>1</td>\n",
       "    </tr>\n",
       "    <tr>\n",
       "      <th>82</th>\n",
       "      <td>нечего сказать добру наставил собачий сын</td>\n",
       "      <td>S C S C S P</td>\n",
       "      <td>6</td>\n",
       "      <td>2</td>\n",
       "    </tr>\n",
       "    <tr>\n",
       "      <th>2551</th>\n",
       "      <td>михельсон оставя пугачева вправе пошел прямо на казань и 11 июля вечером был уже в пятидесяти верстах от нее</td>\n",
       "      <td>C S S C S S S S S S S S S S S S S S P</td>\n",
       "      <td>19</td>\n",
       "      <td>2</td>\n",
       "    </tr>\n",
       "    <tr>\n",
       "      <th>3189</th>\n",
       "      <td>делать нечего написала я сыну письмо рассказала все и послала ему свое благословение без гроша денег</td>\n",
       "      <td>S C S S S C S S S S S S S S S P</td>\n",
       "      <td>16</td>\n",
       "      <td>2</td>\n",
       "    </tr>\n",
       "    <tr>\n",
       "      <th>2766</th>\n",
       "      <td>между тем шигаев падуров и торнов уже висели в последних содроганиях</td>\n",
       "      <td>S S C S S S S S S S P</td>\n",
       "      <td>11</td>\n",
       "      <td>1</td>\n",
       "    </tr>\n",
       "    <tr>\n",
       "      <th>3915</th>\n",
       "      <td>открылась сильная горячка и бедная больная две недели находилась у края гроба</td>\n",
       "      <td>S S C S S S S S S S S P</td>\n",
       "      <td>12</td>\n",
       "      <td>1</td>\n",
       "    </tr>\n",
       "    <tr>\n",
       "      <th>2259</th>\n",
       "      <td>2 отец его родной был той же зимовейской станицы служилый казак иван михайлов сын пугачев же который в давних годах умре</td>\n",
       "      <td>S S S S S S S S S S C S S S S C S S S S P</td>\n",
       "      <td>21</td>\n",
       "      <td>2</td>\n",
       "    </tr>\n",
       "    <tr>\n",
       "      <th>1060</th>\n",
       "      <td>о дело другое</td>\n",
       "      <td>C S EX</td>\n",
       "      <td>3</td>\n",
       "      <td>1</td>\n",
       "    </tr>\n",
       "    <tr>\n",
       "      <th>4143</th>\n",
       "      <td>он поспешно вошел в церковь священник выходил из алтаря дьячок гасил свечи две старушки молились еще в углу но дуни в церкви не было</td>\n",
       "      <td>S S S S C S S S C S S C S S S S S C S S S S S P</td>\n",
       "      <td>24</td>\n",
       "      <td>4</td>\n",
       "    </tr>\n",
       "  </tbody>\n",
       "</table>\n",
       "</div>"
      ],
      "text/plain": [
       "                                                                                                                                             input  \\\n",
       "2607  его семейство было при нем между его товарищами находились два новые лица один из них был молодой пулавский родной брат славного конфедерата   \n",
       "1934                                                                                  утром 27 сентября пугачев показался на высотах ее окружающих   \n",
       "82                                                                                                       нечего сказать добру наставил собачий сын   \n",
       "2551                                  михельсон оставя пугачева вправе пошел прямо на казань и 11 июля вечером был уже в пятидесяти верстах от нее   \n",
       "3189                                          делать нечего написала я сыну письмо рассказала все и послала ему свое благословение без гроша денег   \n",
       "2766                                                                          между тем шигаев падуров и торнов уже висели в последних содроганиях   \n",
       "3915                                                                 открылась сильная горячка и бедная больная две недели находилась у края гроба   \n",
       "2259                      2 отец его родной был той же зимовейской станицы служилый казак иван михайлов сын пугачев же который в давних годах умре   \n",
       "1060                                                                                                                                 о дело другое   \n",
       "4143          он поспешно вошел в церковь священник выходил из алтаря дьячок гасил свечи две старушки молились еще в углу но дуни в церкви не было   \n",
       "\n",
       "                                               target  len  commas  \n",
       "2607      S S S S S S S S S S S C S S S S S C S S S P   22       2  \n",
       "1934                                S S S S S S C S P    9       1  \n",
       "82                                        S C S C S P    6       2  \n",
       "2551            C S S C S S S S S S S S S S S S S S P   19       2  \n",
       "3189                  S C S S S C S S S S S S S S S P   16       2  \n",
       "2766                            S S C S S S S S S S P   11       1  \n",
       "3915                          S S C S S S S S S S S P   12       1  \n",
       "2259        S S S S S S S S S S C S S S S C S S S S P   21       2  \n",
       "1060                                           C S EX    3       1  \n",
       "4143  S S S S C S S S C S S C S S S S S C S S S S S P   24       4  "
      ]
     },
     "execution_count": 30,
     "metadata": {},
     "output_type": "execute_result"
    }
   ],
   "source": [
    "print(pushkin_data_df.shape)\n",
    "pushkin_data_df.sample(10)"
   ]
  },
  {
   "cell_type": "code",
   "execution_count": 31,
   "id": "03ed892c-cc7d-4100-89ec-ea9f7b777c19",
   "metadata": {},
   "outputs": [],
   "source": [
    "prepared_dir = '../data/prepared'\n",
    "filename_csv = '01_punct_pushkin.csv'"
   ]
  },
  {
   "cell_type": "code",
   "execution_count": 32,
   "id": "2f753867-3675-4c69-87a0-343966cb24fb",
   "metadata": {},
   "outputs": [],
   "source": [
    "# saving dataframe (only 'input' and 'target' columns)\n",
    "pushkin_data_df[['input', 'target']].to_csv(os.path.join(prepared_dir, filename_csv))"
   ]
  },
  {
   "cell_type": "markdown",
   "id": "ff51699e-180f-47ff-864a-b3700099a58e",
   "metadata": {},
   "source": [
    "## Words statistics"
   ]
  },
  {
   "cell_type": "code",
   "execution_count": 33,
   "id": "22d7f9d8-bc86-4681-88b1-ee7ea6b1cb15",
   "metadata": {},
   "outputs": [],
   "source": [
    "# load saved dataset\n",
    "pushkin_data_df = pd.read_csv(os.path.join(prepared_dir, filename_csv), index_col=0)"
   ]
  },
  {
   "cell_type": "code",
   "execution_count": 34,
   "id": "46ab0cca-e307-4253-bdef-2cbbd93feddb",
   "metadata": {},
   "outputs": [
    {
     "data": {
      "text/html": [
       "<div>\n",
       "<style scoped>\n",
       "    .dataframe tbody tr th:only-of-type {\n",
       "        vertical-align: middle;\n",
       "    }\n",
       "\n",
       "    .dataframe tbody tr th {\n",
       "        vertical-align: top;\n",
       "    }\n",
       "\n",
       "    .dataframe thead th {\n",
       "        text-align: right;\n",
       "    }\n",
       "</style>\n",
       "<table border=\"1\" class=\"dataframe\">\n",
       "  <thead>\n",
       "    <tr style=\"text-align: right;\">\n",
       "      <th></th>\n",
       "      <th>input</th>\n",
       "      <th>target</th>\n",
       "    </tr>\n",
       "  </thead>\n",
       "  <tbody>\n",
       "    <tr>\n",
       "      <th>4322</th>\n",
       "      <td>кто тебя научил этой премудрости спросил алексей расхохотавшись</td>\n",
       "      <td>S S S S C S C P</td>\n",
       "    </tr>\n",
       "    <tr>\n",
       "      <th>1758</th>\n",
       "      <td>местное начальство воспользовалось и сим случаем дабы новыми притеснениями мстить народу за его супротивления</td>\n",
       "      <td>S S S S S C S S S S S S S P</td>\n",
       "    </tr>\n",
       "    <tr>\n",
       "      <th>1799</th>\n",
       "      <td>как же могла горсть буйных казаков не только пробраться чрез такое большое расстояние и чрез тысячи неприятелей но даже поселиться между ими и грабить их</td>\n",
       "      <td>S S S S S S S S S S S S S S S S C S S S S S S S Q</td>\n",
       "    </tr>\n",
       "    <tr>\n",
       "      <th>1673</th>\n",
       "      <td>проходя мимо швабрина гринев остановился</td>\n",
       "      <td>S S C S P</td>\n",
       "    </tr>\n",
       "    <tr>\n",
       "      <th>4091</th>\n",
       "      <td>какие возникли бы споры и слуги с кого бы начинали кушанье подавать</td>\n",
       "      <td>S S S C S S S S S S S Q</td>\n",
       "    </tr>\n",
       "  </tbody>\n",
       "</table>\n",
       "</div>"
      ],
      "text/plain": [
       "                                                                                                                                                          input  \\\n",
       "4322                                                                                            кто тебя научил этой премудрости спросил алексей расхохотавшись   \n",
       "1758                                              местное начальство воспользовалось и сим случаем дабы новыми притеснениями мстить народу за его супротивления   \n",
       "1799  как же могла горсть буйных казаков не только пробраться чрез такое большое расстояние и чрез тысячи неприятелей но даже поселиться между ими и грабить их   \n",
       "1673                                                                                                                   проходя мимо швабрина гринев остановился   \n",
       "4091                                                                                        какие возникли бы споры и слуги с кого бы начинали кушанье подавать   \n",
       "\n",
       "                                                 target  \n",
       "4322                                    S S S S C S C P  \n",
       "1758                        S S S S S C S S S S S S S P  \n",
       "1799  S S S S S S S S S S S S S S S S C S S S S S S S Q  \n",
       "1673                                          S S C S P  \n",
       "4091                            S S S C S S S S S S S Q  "
      ]
     },
     "execution_count": 34,
     "metadata": {},
     "output_type": "execute_result"
    }
   ],
   "source": [
    "pushkin_data_df.sample(5)"
   ]
  },
  {
   "cell_type": "code",
   "execution_count": 35,
   "id": "e4145fc3-c92d-4033-95af-5aacad578792",
   "metadata": {},
   "outputs": [
    {
     "name": "stderr",
     "output_type": "stream",
     "text": [
      "100%|█████████████████████████████████████| 4456/4456 [00:01<00:00, 2338.96it/s]\n"
     ]
    }
   ],
   "source": [
    "bag_of_words = []\n",
    "bag_of_numbers = []\n",
    "sum_of_lengths = 0\n",
    "\n",
    "for sentence in tqdm(pushkin_data_df['input']):\n",
    "    for word in sentence.split(' '):\n",
    "        sum_of_lengths += 1\n",
    "\n",
    "        if word not in bag_of_words:\n",
    "            bag_of_words.append(word)\n",
    "\n",
    "            if any(char.isdigit() for char in word):\n",
    "                bag_of_numbers.append(word)"
   ]
  },
  {
   "cell_type": "code",
   "execution_count": 36,
   "id": "3e4c6842-3f93-4416-a8fa-b653d4dde8a7",
   "metadata": {},
   "outputs": [
    {
     "name": "stdout",
     "output_type": "stream",
     "text": [
      "Number of words with repetitions: 58773\n",
      "\twithout repetitions: 15765\n",
      "\t\twith numbers: 88\n"
     ]
    }
   ],
   "source": [
    "print(f'Number of words with repetitions: {sum_of_lengths}')\n",
    "print(f'\\twithout repetitions: {len(bag_of_words)}')\n",
    "print(f'\\t\\twith numbers: {len(bag_of_numbers)}')"
   ]
  },
  {
   "cell_type": "markdown",
   "id": "af0db800-75cf-4bf5-9a0d-294c232deebe",
   "metadata": {},
   "source": [
    "### [`natasha`](https://github.com/natasha/natasha)"
   ]
  },
  {
   "cell_type": "markdown",
   "id": "930b4919-8065-4b3c-9422-d37471e807fc",
   "metadata": {},
   "source": [
    "#### Example"
   ]
  },
  {
   "cell_type": "code",
   "execution_count": 37,
   "id": "d7b29238-28c7-4160-9e9c-993ff7899e21",
   "metadata": {},
   "outputs": [],
   "source": [
    "segmenter = Segmenter()\n",
    "morph_vocab = MorphVocab()\n",
    "\n",
    "emb = NewsEmbedding()\n",
    "morph_tagger = NewsMorphTagger(emb)\n",
    "syntax_parser = NewsSyntaxParser(emb)\n",
    "ner_tagger = NewsNERTagger(emb)\n",
    "\n",
    "names_extractor = NamesExtractor(morph_vocab)"
   ]
  },
  {
   "cell_type": "code",
   "execution_count": 38,
   "id": "100cadbb-e74d-4804-8ed6-14e25f5a6298",
   "metadata": {},
   "outputs": [],
   "source": [
    "# sent_ex = 'кирила петрович взбесился насилу князь мог уговорить его не показывать маше и виду что он уведомлен о ее письме'\n",
    "sent_ex = 'как увидишь его страх и трепет и краплет пот  а спина-то сама так и гнется так и гнется'\n",
    "\n",
    "doc_ex = Doc(sent_ex)\n",
    "\n",
    "doc_ex.segment(segmenter)\n",
    "doc_ex.tag_morph(morph_tagger)"
   ]
  },
  {
   "cell_type": "code",
   "execution_count": 39,
   "id": "42796970-42ad-4e30-96cf-98cdc7130b80",
   "metadata": {},
   "outputs": [],
   "source": [
    "for token in doc_ex.tokens:\n",
    "    token.lemmatize(morph_vocab)"
   ]
  },
  {
   "cell_type": "code",
   "execution_count": 40,
   "id": "5164671c-81b4-44f4-ac10-d9834e8ee3fa",
   "metadata": {},
   "outputs": [
    {
     "data": {
      "text/plain": [
       "{'как': 'как',\n",
       " 'увидишь': 'увидеть',\n",
       " 'его': 'его',\n",
       " 'страх': 'страх',\n",
       " 'и': 'и',\n",
       " 'трепет': 'трепет',\n",
       " 'краплет': 'крапать',\n",
       " 'пот': 'пот',\n",
       " 'а': 'а',\n",
       " 'спина-то': 'спина-то',\n",
       " 'сама': 'сам',\n",
       " 'так': 'так',\n",
       " 'гнется': 'гнется'}"
      ]
     },
     "execution_count": 40,
     "metadata": {},
     "output_type": "execute_result"
    }
   ],
   "source": [
    "{_.text: _.lemma for _ in doc_ex.tokens}"
   ]
  },
  {
   "cell_type": "code",
   "execution_count": 68,
   "id": "120fad38-8095-45dd-8891-e05576b5c2bb",
   "metadata": {},
   "outputs": [
    {
     "data": {
      "text/plain": [
       "{'как': 'SCONJ',\n",
       " 'увидишь': 'VERB',\n",
       " 'его': 'DET',\n",
       " 'страх': 'NOUN',\n",
       " 'и': 'PART',\n",
       " 'трепет': 'NOUN',\n",
       " 'краплет': 'ADJ',\n",
       " 'пот': 'NOUN',\n",
       " 'а': 'CCONJ',\n",
       " 'спина-то': 'NOUN',\n",
       " 'сама': 'ADJ',\n",
       " 'так': 'ADV',\n",
       " 'гнется': 'ADV'}"
      ]
     },
     "execution_count": 68,
     "metadata": {},
     "output_type": "execute_result"
    }
   ],
   "source": [
    "{token.text: token.pos for token in doc_ex.tokens}"
   ]
  },
  {
   "cell_type": "code",
   "execution_count": null,
   "id": "f0976b1f-25c5-442c-bb84-16a80a2f4d27",
   "metadata": {},
   "outputs": [],
   "source": []
  },
  {
   "cell_type": "markdown",
   "id": "308dd890-4f43-4025-add3-7efc8e57183b",
   "metadata": {},
   "source": [
    "#### Lemmatize all sentences and form a new bag of words"
   ]
  },
  {
   "cell_type": "code",
   "execution_count": 93,
   "id": "74d1d38f-b105-4d2d-baec-d524c29c3607",
   "metadata": {},
   "outputs": [
    {
     "name": "stderr",
     "output_type": "stream",
     "text": [
      "100%|██████████████████████████████████████| 4456/4456 [00:20<00:00, 219.50it/s]\n"
     ]
    }
   ],
   "source": [
    "bag_of_lemmas = []\n",
    "bag_of_pos = []\n",
    "exc = 0\n",
    "\n",
    "# prepare another inputs for prediction\n",
    "all_lemmas_inputs = []  # sentences as sequences of lemmas!\n",
    "all_pos_inputs = []  # sentences as sequences of speech parts\n",
    "\n",
    "for sentence in tqdm(pushkin_data_df['input']):\n",
    "    len_sent = len(sentence.split(' '))\n",
    "\n",
    "    doc_sent = Doc(sentence)\n",
    "    doc_sent.segment(segmenter)\n",
    "    doc_sent.tag_morph(morph_tagger)\n",
    "\n",
    "    num_lemmas = 0\n",
    "    for token in doc_sent.tokens:\n",
    "        token.lemmatize(morph_vocab)\n",
    "\n",
    "        num_lemmas += 1\n",
    "        lemma = token.lemma\n",
    "        pos = token.pos\n",
    "        \n",
    "        if lemma not in bag_of_lemmas:\n",
    "            bag_of_lemmas.append(lemma)\n",
    "\n",
    "        if pos not in bag_of_pos:\n",
    "            bag_of_pos.append(pos)\n",
    "\n",
    "    all_lemmas_inputs.append(' '.join([token.lemma for token in doc_sent.tokens]))\n",
    "    all_pos_inputs.append(' '.join([token.pos for token in doc_sent.tokens]))\n",
    "\n",
    "    assert len(all_lemmas_inputs[-1].split(' ')) == len_sent\n",
    "    assert len(all_pos_inputs[-1].split(' ')) == len_sent\n",
    "    \n",
    "    try:\n",
    "        assert len_sent == num_lemmas\n",
    "    except AssertionError:\n",
    "        exc += 1\n",
    "        print(f'{exc}.\\t' + sentence)  # if sentence has some problems"
   ]
  },
  {
   "cell_type": "code",
   "execution_count": 94,
   "id": "677cb4eb-4cbb-488b-b8d0-f2349b1a4e46",
   "metadata": {},
   "outputs": [
    {
     "name": "stdout",
     "output_type": "stream",
     "text": [
      "Number of different words : 15765\n",
      "Number of different lemmas: 8569\n"
     ]
    }
   ],
   "source": [
    "print(f'Number of different words : {len(bag_of_words)}')\n",
    "print(f'Number of different lemmas: {len(bag_of_lemmas)}')"
   ]
  },
  {
   "cell_type": "code",
   "execution_count": 95,
   "id": "fc3829c7-36ac-4aba-b61a-0b30cff5b1b6",
   "metadata": {},
   "outputs": [
    {
     "name": "stdout",
     "output_type": "stream",
     "text": [
      "['новобраный', 'утверждая', 'безделица', 'мы-то', 'морской', 'плетей', 'государев', 'шкатулка', 'плыть', 'немаловажный', 'чуваш', 'гугниха', 'видали', 'удержание', 'беглый', 'пленный', 'вольность', 'приходиться', 'грешный', 'клик', 'прильнув', 'заунывный', 'юрка', 'спокойнее', 'ввелось', 'просить', 'медлить', 'замечательна', 'булочнику', 'отчаянно', 'фирска', 'сатанин', 'пивоваров', 'обер-полицеймейстер', 'не', 'клялисить', 'сделалось', 'наступательный', 'ввинтить', 'деревцо', 'мир', 'предложение', 'турцией', 'уединение', 'остолбенеть', 'троекур', 'предубеждение', 'аки', 'нога', 'разбить']\n"
     ]
    }
   ],
   "source": [
    "print(random.sample(bag_of_lemmas, 50))  # random 50 lemmas"
   ]
  },
  {
   "cell_type": "code",
   "execution_count": 96,
   "id": "f53674bc-f39d-4b53-81dc-ee4bb6ab7c8b",
   "metadata": {},
   "outputs": [],
   "source": [
    "# add another forms of input in dataframe\n",
    "pushkin_data_df['input_lemma'] = all_lemmas_inputs\n",
    "pushkin_data_df['input_pos'] = all_pos_inputs"
   ]
  },
  {
   "cell_type": "code",
   "execution_count": 98,
   "id": "2402fb47-6e71-47b9-a0ea-ff6f991fa05b",
   "metadata": {},
   "outputs": [
    {
     "data": {
      "text/html": [
       "<div>\n",
       "<style scoped>\n",
       "    .dataframe tbody tr th:only-of-type {\n",
       "        vertical-align: middle;\n",
       "    }\n",
       "\n",
       "    .dataframe tbody tr th {\n",
       "        vertical-align: top;\n",
       "    }\n",
       "\n",
       "    .dataframe thead th {\n",
       "        text-align: right;\n",
       "    }\n",
       "</style>\n",
       "<table border=\"1\" class=\"dataframe\">\n",
       "  <thead>\n",
       "    <tr style=\"text-align: right;\">\n",
       "      <th></th>\n",
       "      <th>input</th>\n",
       "      <th>input_lemma</th>\n",
       "      <th>input_pos</th>\n",
       "      <th>target</th>\n",
       "    </tr>\n",
       "  </thead>\n",
       "  <tbody>\n",
       "    <tr>\n",
       "      <th>560</th>\n",
       "      <td>слушайте что пишет генерал</td>\n",
       "      <td>слушать что писать генерал</td>\n",
       "      <td>VERB PRON VERB NOUN</td>\n",
       "      <td>C S S P</td>\n",
       "    </tr>\n",
       "    <tr>\n",
       "      <th>1232</th>\n",
       "      <td>вдруг увидел я деревушку на крутом берегу яика с частоколом и с колокольней и через четверть часа въехали мы в белогорскую крепость</td>\n",
       "      <td>вдруг увидеть я деревушка на крутой берег яик с частокол и с колокольня и через четверть час въехать мы в белогорский крепость</td>\n",
       "      <td>ADV VERB PRON NOUN ADP ADJ NOUN NOUN ADP NOUN CCONJ ADP NOUN CCONJ ADP NOUN NOUN VERB PRON ADP ADJ NOUN</td>\n",
       "      <td>S S S S S S S C S S S S C S S S S S S S S P</td>\n",
       "    </tr>\n",
       "    <tr>\n",
       "      <th>2205</th>\n",
       "      <td>жена пугачева сын и две дочери были отосланы в казань куда отправлен и родной его брат служивший казаком во второй армии</td>\n",
       "      <td>жена пугачев сын и два дочь быть отослать в казань куда отправить и родной он брат служить казак в второй армия</td>\n",
       "      <td>NOUN NOUN NOUN CCONJ NUM NOUN AUX VERB ADP NOUN ADV VERB PART ADJ PRON NOUN VERB NOUN ADP ADJ NOUN</td>\n",
       "      <td>S C S S S S S S S C S S S S S C S S S S P</td>\n",
       "    </tr>\n",
       "    <tr>\n",
       "      <th>2975</th>\n",
       "      <td>ах батька и мы хотели зазвать весь околоток да владимир андреевич не захотел</td>\n",
       "      <td>ах батька и мы хотеть зазвать весь околоток да владимир андреевич не захотеть</td>\n",
       "      <td>PART NOUN CCONJ PRON VERB VERB DET NOUN CCONJ VERB NOUN PART VERB</td>\n",
       "      <td>C C S S S S S C S S S S P</td>\n",
       "    </tr>\n",
       "    <tr>\n",
       "      <th>1711</th>\n",
       "      <td>долго смотрел я издали на сельский дом опять мною покидаемый</td>\n",
       "      <td>долго смотреть я издали на сельский дом опять я покидать</td>\n",
       "      <td>ADV VERB PRON ADV ADP ADJ NOUN ADV PRON ADJ</td>\n",
       "      <td>S S S S S S C S S P</td>\n",
       "    </tr>\n",
       "  </tbody>\n",
       "</table>\n",
       "</div>"
      ],
      "text/plain": [
       "                                                                                                                                    input  \\\n",
       "560                                                                                                            слушайте что пишет генерал   \n",
       "1232  вдруг увидел я деревушку на крутом берегу яика с частоколом и с колокольней и через четверть часа въехали мы в белогорскую крепость   \n",
       "2205             жена пугачева сын и две дочери были отосланы в казань куда отправлен и родной его брат служивший казаком во второй армии   \n",
       "2975                                                         ах батька и мы хотели зазвать весь околоток да владимир андреевич не захотел   \n",
       "1711                                                                         долго смотрел я издали на сельский дом опять мною покидаемый   \n",
       "\n",
       "                                                                                                                         input_lemma  \\\n",
       "560                                                                                                       слушать что писать генерал   \n",
       "1232  вдруг увидеть я деревушка на крутой берег яик с частокол и с колокольня и через четверть час въехать мы в белогорский крепость   \n",
       "2205                 жена пугачев сын и два дочь быть отослать в казань куда отправить и родной он брат служить казак в второй армия   \n",
       "2975                                                   ах батька и мы хотеть зазвать весь околоток да владимир андреевич не захотеть   \n",
       "1711                                                                        долго смотреть я издали на сельский дом опять я покидать   \n",
       "\n",
       "                                                                                                    input_pos  \\\n",
       "560                                                                                       VERB PRON VERB NOUN   \n",
       "1232  ADV VERB PRON NOUN ADP ADJ NOUN NOUN ADP NOUN CCONJ ADP NOUN CCONJ ADP NOUN NOUN VERB PRON ADP ADJ NOUN   \n",
       "2205       NOUN NOUN NOUN CCONJ NUM NOUN AUX VERB ADP NOUN ADV VERB PART ADJ PRON NOUN VERB NOUN ADP ADJ NOUN   \n",
       "2975                                        PART NOUN CCONJ PRON VERB VERB DET NOUN CCONJ VERB NOUN PART VERB   \n",
       "1711                                                              ADV VERB PRON ADV ADP ADJ NOUN ADV PRON ADJ   \n",
       "\n",
       "                                           target  \n",
       "560                                       C S S P  \n",
       "1232  S S S S S S S C S S S S C S S S S S S S S P  \n",
       "2205    S C S S S S S S S C S S S S S C S S S S P  \n",
       "2975                    C C S S S S S C S S S S P  \n",
       "1711                          S S S S S S C S S P  "
      ]
     },
     "execution_count": 98,
     "metadata": {},
     "output_type": "execute_result"
    }
   ],
   "source": [
    "pushkin_data_df = pushkin_data_df[sorted(pushkin_data_df.columns.values)]\n",
    "pushkin_data_df.sample(5)"
   ]
  },
  {
   "cell_type": "code",
   "execution_count": 99,
   "id": "5053b043-6a79-46c6-b3b8-894e6e7d7a91",
   "metadata": {},
   "outputs": [],
   "source": [
    "# saving dataframe with new inputs\n",
    "pushkin_data_df.to_csv(os.path.join(prepared_dir, filename_csv))"
   ]
  },
  {
   "cell_type": "markdown",
   "id": "c475f82e-a57a-4f52-9e3c-b477462944eb",
   "metadata": {},
   "source": [
    "#### Parts of speech\n",
    "\n",
    "Some punctuation rules are driven by words' parts of speech and by their order."
   ]
  },
  {
   "cell_type": "code",
   "execution_count": 77,
   "id": "484f67ae-4e61-4b23-bddc-323a202f70c7",
   "metadata": {},
   "outputs": [
    {
     "name": "stdout",
     "output_type": "stream",
     "text": [
      "All parts of speech in russian:\n",
      "ADP DET NOUN VERB PRON ADJ ADV CCONJ AUX SCONJ PART X NUM PROPN PUNCT\n"
     ]
    }
   ],
   "source": [
    "print('All parts of speech in russian:')\n",
    "print(*bag_of_pos)"
   ]
  },
  {
   "cell_type": "code",
   "execution_count": 78,
   "id": "ebf1d1b9-33b0-4d5d-ac30-119be9124d61",
   "metadata": {},
   "outputs": [
    {
     "data": {
      "text/plain": [
       "15"
      ]
     },
     "execution_count": 78,
     "metadata": {},
     "output_type": "execute_result"
    }
   ],
   "source": [
    "len(bag_of_pos)  # as a aseline we will try to use `sequences of parts of speech` as input"
   ]
  },
  {
   "cell_type": "code",
   "execution_count": null,
   "id": "ba83f848-e848-421f-95d2-27ef1ef1b52d",
   "metadata": {},
   "outputs": [],
   "source": []
  }
 ],
 "metadata": {
  "kernelspec": {
   "display_name": "Python 3 (ipykernel)",
   "language": "python",
   "name": "python3"
  },
  "language_info": {
   "codemirror_mode": {
    "name": "ipython",
    "version": 3
   },
   "file_extension": ".py",
   "mimetype": "text/x-python",
   "name": "python",
   "nbconvert_exporter": "python",
   "pygments_lexer": "ipython3",
   "version": "3.8.10"
  }
 },
 "nbformat": 4,
 "nbformat_minor": 5
}
