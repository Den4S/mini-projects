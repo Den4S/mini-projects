{
 "cells": [
  {
   "cell_type": "code",
   "execution_count": 1,
   "id": "a5bb11c7-7040-45fe-ac0d-9ef4eae21502",
   "metadata": {},
   "outputs": [],
   "source": [
    "import pandas as pd\n",
    "import numpy as np"
   ]
  },
  {
   "cell_type": "code",
   "execution_count": 2,
   "id": "f78df6d3-5e0b-43f3-9a83-f49ee64d83eb",
   "metadata": {},
   "outputs": [],
   "source": [
    "import os\n",
    "from tqdm import tqdm"
   ]
  },
  {
   "cell_type": "code",
   "execution_count": 3,
   "id": "4596fdc7-e2fd-4fc3-8b5e-79754c67e8b6",
   "metadata": {},
   "outputs": [],
   "source": [
    "from sklearn.model_selection import train_test_split"
   ]
  },
  {
   "cell_type": "code",
   "execution_count": 4,
   "id": "a4cc90f9-2879-436e-a2fa-b4a588c0580b",
   "metadata": {},
   "outputs": [],
   "source": [
    "from datasets import Dataset, DatasetDict, load_metric\n",
    "from transformers import AutoTokenizer"
   ]
  },
  {
   "cell_type": "code",
   "execution_count": null,
   "id": "96dd27eb-ffbb-4814-abcb-f2099b133f9a",
   "metadata": {},
   "outputs": [],
   "source": []
  },
  {
   "cell_type": "markdown",
   "id": "d790c28b-49f6-41f2-8dbd-91c9fa0a954d",
   "metadata": {},
   "source": [
    "#### Visualisation"
   ]
  },
  {
   "cell_type": "code",
   "execution_count": 5,
   "id": "e7a90c46-5049-48c9-acb5-3bad9dd71af8",
   "metadata": {},
   "outputs": [],
   "source": [
    "import matplotlib\n",
    "import matplotlib.pyplot as plt"
   ]
  },
  {
   "cell_type": "code",
   "execution_count": 6,
   "id": "6cc774aa-3d0a-46db-a5a0-aadad2511269",
   "metadata": {},
   "outputs": [],
   "source": [
    "import scienceplots\n",
    "\n",
    "plt.style.use('science')\n",
    "%config InlineBackend.figure_format = 'retina'\n",
    "\n",
    "lables_fs = 16\n",
    "ticks_fs = 12"
   ]
  },
  {
   "cell_type": "markdown",
   "id": "73942d11-323c-4e33-bee6-c603e46dde5f",
   "metadata": {},
   "source": [
    "### [REFERENCE](https://github.com/Markusiko/RuPunctNet/blob/8bc765ddbd3f61822efc6ed6272fb5960dc8a37e/DL_experiments/bert-base.ipynb#L929)"
   ]
  },
  {
   "cell_type": "markdown",
   "id": "63c1e3d2-1144-4493-a065-1f3f42f0dfeb",
   "metadata": {},
   "source": [
    "### Prepare `train` and `test` datasets from data"
   ]
  },
  {
   "cell_type": "code",
   "execution_count": 7,
   "id": "1cb05ac7-9ff0-48a8-afcb-944d0b9346c6",
   "metadata": {},
   "outputs": [],
   "source": [
    "prepared_dir = '../data/prepared'\n",
    "filename_csv = '01_punct_pushkin.csv'"
   ]
  },
  {
   "cell_type": "code",
   "execution_count": 8,
   "id": "086d9495-438a-4554-88a1-bb645d2c5254",
   "metadata": {},
   "outputs": [
    {
     "data": {
      "text/plain": [
       "(4456, 4)"
      ]
     },
     "execution_count": 8,
     "metadata": {},
     "output_type": "execute_result"
    }
   ],
   "source": [
    "# load saved dataset\n",
    "dataset_df = pd.read_csv(os.path.join(prepared_dir, filename_csv), index_col=0)\n",
    "dataset_df.shape"
   ]
  },
  {
   "cell_type": "code",
   "execution_count": 9,
   "id": "62d8e2d5-4b44-4e64-bd6d-7e25aca9f7e0",
   "metadata": {},
   "outputs": [],
   "source": [
    "dataset_df = dataset_df.drop('input_lemma', axis=1)\n",
    "dataset_df = dataset_df.drop('input_pos', axis=1)"
   ]
  },
  {
   "cell_type": "code",
   "execution_count": 10,
   "id": "9d5ac167-f51f-4563-bde4-b2fee3c625ec",
   "metadata": {},
   "outputs": [],
   "source": [
    "PUNC_2_TOKEN = {' ': 'S', ',': 'C', '.': 'P', '!': 'EX', '?': 'Q'}\n",
    "TOKEN_2_PUNC = {v: k for k, v in PUNC_2_TOKEN.items()}"
   ]
  },
  {
   "cell_type": "code",
   "execution_count": 11,
   "id": "d8b96c67-15bf-46eb-8428-ba2f1d2ad4b3",
   "metadata": {},
   "outputs": [],
   "source": [
    "TOKEN_2_ENTITY = {\n",
    "    'S': 'O',\n",
    "    'C': 'B-,',\n",
    "    'P': 'B-.',\n",
    "    'EX': 'B-!',\n",
    "    'Q': 'B-?',\n",
    "}\n",
    "\n",
    "ENTITY_2_ID = {\n",
    "    'O': 0,\n",
    "    'B-,': 1,\n",
    "    'B-.': 2,\n",
    "    'B-!': 3,\n",
    "    'B-?': 4,\n",
    "    'B-:': 5,\n",
    "    'B-...': 6\n",
    "}\n",
    "ID_2_ENTITY = {v: k for k, v in ENTITY_2_ID.items()}"
   ]
  },
  {
   "cell_type": "code",
   "execution_count": 12,
   "id": "6629d72b-19ae-47b4-a155-890f395a1862",
   "metadata": {},
   "outputs": [
    {
     "name": "stderr",
     "output_type": "stream",
     "text": [
      "100%|████████████████████████████████████| 4456/4456 [00:00<00:00, 37522.30it/s]\n"
     ]
    }
   ],
   "source": [
    "tokens_all = []\n",
    "labels_all = []\n",
    "\n",
    "for index, row in tqdm(dataset_df.iterrows(), total=dataset_df.shape[0]):\n",
    "    sent_with_punc = ''\n",
    "    tokens_all.append(row['input'].split())\n",
    "\n",
    "    labels_this = []\n",
    "    for token in row['target'].split():\n",
    "        labels_this.append(TOKEN_2_ENTITY[token])\n",
    "\n",
    "    labels_all.append(labels_this)"
   ]
  },
  {
   "cell_type": "code",
   "execution_count": 13,
   "id": "0618c81e-cba1-4aca-a21d-8fea2adf0a33",
   "metadata": {},
   "outputs": [],
   "source": [
    "df = pd.DataFrame()\n",
    "\n",
    "df['tokens'] = tokens_all\n",
    "df['labels'] = labels_all"
   ]
  },
  {
   "cell_type": "code",
   "execution_count": 14,
   "id": "e2721cfe-bb3e-4b63-a4ac-4017999ee470",
   "metadata": {},
   "outputs": [
    {
     "data": {
      "text/html": [
       "<div>\n",
       "<style scoped>\n",
       "    .dataframe tbody tr th:only-of-type {\n",
       "        vertical-align: middle;\n",
       "    }\n",
       "\n",
       "    .dataframe tbody tr th {\n",
       "        vertical-align: top;\n",
       "    }\n",
       "\n",
       "    .dataframe thead th {\n",
       "        text-align: right;\n",
       "    }\n",
       "</style>\n",
       "<table border=\"1\" class=\"dataframe\">\n",
       "  <thead>\n",
       "    <tr style=\"text-align: right;\">\n",
       "      <th></th>\n",
       "      <th>tokens</th>\n",
       "      <th>labels</th>\n",
       "    </tr>\n",
       "  </thead>\n",
       "  <tbody>\n",
       "    <tr>\n",
       "      <th>4019</th>\n",
       "      <td>[никто, того, не, заметил, гости, продолжали, пить, и, уже, благовестили, к, вечерне, когда, встали, из-за, стола]</td>\n",
       "      <td>[O, O, O, B-,, O, O, B-,, O, O, O, O, B-,, O, O, O, B-.]</td>\n",
       "    </tr>\n",
       "    <tr>\n",
       "      <th>1223</th>\n",
       "      <td>[слушай, сказал, пугачев, с, каким-то, диким, вдохновением]</td>\n",
       "      <td>[B-,, O, O, O, O, O, B-.]</td>\n",
       "    </tr>\n",
       "    <tr>\n",
       "      <th>4035</th>\n",
       "      <td>[гробовщик, по, обыкновению, своему, побожился, что, лишнего, не, возьмет, значительным, взглядом, обменялся, с, приказчиком, и, поехал, хлопотать]</td>\n",
       "      <td>[B-,, O, O, B-,, B-,, O, O, O, B-,, O, O, O, O, O, O, O, B-.]</td>\n",
       "    </tr>\n",
       "    <tr>\n",
       "      <th>225</th>\n",
       "      <td>[господи, владыко, простонал, мой, савельич]</td>\n",
       "      <td>[O, B-,, O, O, B-.]</td>\n",
       "    </tr>\n",
       "    <tr>\n",
       "      <th>4054</th>\n",
       "      <td>[солнце, давно, уже, освещало, постелю, на, которой, лежал, гробовщик]</td>\n",
       "      <td>[O, O, O, O, B-,, O, O, O, B-.]</td>\n",
       "    </tr>\n",
       "  </tbody>\n",
       "</table>\n",
       "</div>"
      ],
      "text/plain": [
       "                                                                                                                                                   tokens  \\\n",
       "4019                                   [никто, того, не, заметил, гости, продолжали, пить, и, уже, благовестили, к, вечерне, когда, встали, из-за, стола]   \n",
       "1223                                                                                          [слушай, сказал, пугачев, с, каким-то, диким, вдохновением]   \n",
       "4035  [гробовщик, по, обыкновению, своему, побожился, что, лишнего, не, возьмет, значительным, взглядом, обменялся, с, приказчиком, и, поехал, хлопотать]   \n",
       "225                                                                                                          [господи, владыко, простонал, мой, савельич]   \n",
       "4054                                                                               [солнце, давно, уже, освещало, постелю, на, которой, лежал, гробовщик]   \n",
       "\n",
       "                                                             labels  \n",
       "4019       [O, O, O, B-,, O, O, B-,, O, O, O, O, B-,, O, O, O, B-.]  \n",
       "1223                                      [B-,, O, O, O, O, O, B-.]  \n",
       "4035  [B-,, O, O, B-,, B-,, O, O, O, B-,, O, O, O, O, O, O, O, B-.]  \n",
       "225                                             [O, B-,, O, O, B-.]  \n",
       "4054                                [O, O, O, O, B-,, O, O, O, B-.]  "
      ]
     },
     "execution_count": 14,
     "metadata": {},
     "output_type": "execute_result"
    }
   ],
   "source": [
    "pd.options.display.max_colwidth = 150\n",
    "df.sample(5)"
   ]
  },
  {
   "cell_type": "markdown",
   "id": "41d6017a-1f8e-4627-bf40-533d68a4ac00",
   "metadata": {},
   "source": [
    "#### Dataset"
   ]
  },
  {
   "cell_type": "code",
   "execution_count": 15,
   "id": "badd2a32-f8cf-434f-bc5f-70f01003156a",
   "metadata": {},
   "outputs": [
    {
     "data": {
      "text/plain": [
       "DatasetDict({\n",
       "    train: Dataset({\n",
       "        features: ['tokens', 'labels'],\n",
       "        num_rows: 3564\n",
       "    })\n",
       "    test: Dataset({\n",
       "        features: ['tokens', 'labels'],\n",
       "        num_rows: 669\n",
       "    })\n",
       "})"
      ]
     },
     "execution_count": 15,
     "metadata": {},
     "output_type": "execute_result"
    }
   ],
   "source": [
    "splitting_random_state = 78\n",
    "test_ratio = 0.25\n",
    "\n",
    "df_train, df_val_test = train_test_split(\n",
    "    df, test_size=0.2,\n",
    "    random_state=splitting_random_state\n",
    ")\n",
    "df_val, df_test = train_test_split(\n",
    "    df_val_test, test_size=0.25,\n",
    "    random_state=splitting_random_state\n",
    ")  # validation and test\n",
    "\n",
    "data = DatasetDict({\n",
    "    'train': Dataset.from_pandas(df_train, preserve_index=False),\n",
    "    'test': Dataset.from_pandas(df_val, preserve_index=False)\n",
    "})\n",
    "\n",
    "data"
   ]
  },
  {
   "cell_type": "markdown",
   "id": "2e1e8e7a-6c27-4fbc-9868-f831c15327e3",
   "metadata": {},
   "source": [
    "### Tokenization"
   ]
  },
  {
   "cell_type": "code",
   "execution_count": 16,
   "id": "9aaef819-3cf9-4d89-bf58-e28ba62dbd79",
   "metadata": {},
   "outputs": [],
   "source": [
    "from transformers import AutoTokenizer"
   ]
  },
  {
   "cell_type": "code",
   "execution_count": 17,
   "id": "2ab36d2e-4350-44ab-a1e3-4306989d2198",
   "metadata": {},
   "outputs": [],
   "source": [
    "model_name = 'markusiko/rubert-base-punctuation'  # 'ai-forever/ruBert-base'"
   ]
  },
  {
   "cell_type": "code",
   "execution_count": 18,
   "id": "dcef1218-28b3-4bb8-acd7-943da7c35855",
   "metadata": {},
   "outputs": [],
   "source": [
    "tokenizer = AutoTokenizer.from_pretrained(model_name)"
   ]
  },
  {
   "cell_type": "code",
   "execution_count": 26,
   "id": "158ea63f-f115-41ed-8e81-e7b80784c220",
   "metadata": {},
   "outputs": [
    {
     "data": {
      "text/plain": [
       "['B-!', 'B-,', 'B-.', 'B-...', 'B-:', 'B-?', 'O']"
      ]
     },
     "execution_count": 26,
     "metadata": {},
     "output_type": "execute_result"
    }
   ],
   "source": [
    "# label_list = set()\n",
    "# for labels in df_train['labels']:\n",
    "#     label_list |= set(labels)\n",
    "\n",
    "# label_list = sorted(list(label_list))\n",
    "\n",
    "label_list = ['B-!', 'B-,', 'B-.', 'B-...', 'B-:', 'B-?', 'O']\n",
    "label_list"
   ]
  },
  {
   "cell_type": "code",
   "execution_count": 27,
   "id": "84a13ab8-c604-4262-95ee-fd7895f37781",
   "metadata": {},
   "outputs": [],
   "source": [
    "def tokenize_and_align_labels(pair, label_all_tokens=False):\n",
    "    tokenized_inputs = tokenizer(pair[\"tokens\"], truncation=True, is_split_into_words=True)\n",
    "\n",
    "    labels = []\n",
    "    for i, label in enumerate(pair['labels']):\n",
    "        word_ids = tokenized_inputs.word_ids(batch_index=i)\n",
    "        previous_word_idx = None\n",
    "        label_ids = []\n",
    "        for word_idx in word_ids:\n",
    "            # Special tokens have a word id that is None. We set the label to -100 so they are automatically\n",
    "            # ignored in the loss function.\n",
    "            if word_idx is None:\n",
    "                label_ids.append(-100)\n",
    "            # We set the label for the first token of each word.\n",
    "            elif word_idx != previous_word_idx:\n",
    "                label_ids.append(label[word_idx])\n",
    "            # For the other tokens in a word, we set the label to either the current label or -100, depending on\n",
    "            # the label_all_tokens flag.\n",
    "            else:\n",
    "                label_ids.append(label[word_idx] if label_all_tokens else -100)\n",
    "            previous_word_idx = word_idx\n",
    "\n",
    "        label_ids = [label_list.index(idx) if isinstance(idx, str) else idx for idx in label_ids]\n",
    "\n",
    "        labels.append(label_ids)\n",
    "\n",
    "    tokenized_inputs[\"labels\"] = labels\n",
    "    return tokenized_inputs"
   ]
  },
  {
   "cell_type": "code",
   "execution_count": 28,
   "id": "8ee3b693-08d5-4d22-a42d-7c6d82d94389",
   "metadata": {},
   "outputs": [
    {
     "data": {
      "application/vnd.jupyter.widget-view+json": {
       "model_id": "970184fc484f44708a7cee5056e90943",
       "version_major": 2,
       "version_minor": 0
      },
      "text/plain": [
       "Map:   0%|          | 0/3564 [00:00<?, ? examples/s]"
      ]
     },
     "metadata": {},
     "output_type": "display_data"
    },
    {
     "data": {
      "application/vnd.jupyter.widget-view+json": {
       "model_id": "41cbb684167f4d178343a52d792bda44",
       "version_major": 2,
       "version_minor": 0
      },
      "text/plain": [
       "Map:   0%|          | 0/669 [00:00<?, ? examples/s]"
      ]
     },
     "metadata": {},
     "output_type": "display_data"
    }
   ],
   "source": [
    "tokenized_datasets = data.map(tokenize_and_align_labels, batched=True)"
   ]
  },
  {
   "cell_type": "markdown",
   "id": "eb150bae-d2af-4005-9556-6e2896eb1727",
   "metadata": {},
   "source": [
    "### Model"
   ]
  },
  {
   "cell_type": "code",
   "execution_count": 29,
   "id": "2099d7e9-cfda-4d66-b77f-7e727ee9df2d",
   "metadata": {},
   "outputs": [],
   "source": [
    "from transformers import AutoModelForTokenClassification, TrainingArguments, Trainer\n",
    "from transformers import DataCollatorForTokenClassification"
   ]
  },
  {
   "cell_type": "code",
   "execution_count": 30,
   "id": "65751add-576e-4bea-a568-24cc02227a94",
   "metadata": {},
   "outputs": [],
   "source": [
    "import logging\n",
    "from transformers.trainer import logger as noisy_logger\n",
    "noisy_logger.setLevel(logging.WARNING)"
   ]
  },
  {
   "cell_type": "code",
   "execution_count": 31,
   "id": "3473cc48-7a1e-460a-beef-a477f056644b",
   "metadata": {},
   "outputs": [],
   "source": [
    "model = AutoModelForTokenClassification.from_pretrained(\n",
    "    model_name,\n",
    "    num_labels=len(label_list),\n",
    "    ignore_mismatched_sizes=True\n",
    ")"
   ]
  },
  {
   "cell_type": "code",
   "execution_count": 32,
   "id": "9ef000ec-db74-443b-ae2e-ee4c33568f66",
   "metadata": {},
   "outputs": [],
   "source": [
    "# dictionaries for labels\n",
    "model.config.id2label = dict(enumerate(label_list))\n",
    "model.config.label2id = {v: k for k, v in model.config.id2label.items()}"
   ]
  },
  {
   "cell_type": "code",
   "execution_count": 33,
   "id": "1ff87740-d427-4c20-af9f-8c90614074d1",
   "metadata": {},
   "outputs": [],
   "source": [
    "for param in model.bert.embeddings.parameters():\n",
    "    param.requires_grad = False"
   ]
  },
  {
   "cell_type": "code",
   "execution_count": 34,
   "id": "2751f1d5-7736-45db-b69d-d926f17805f4",
   "metadata": {},
   "outputs": [],
   "source": [
    "batch_size = 20\n",
    "epochs = 3\n",
    "\n",
    "args = TrainingArguments(\n",
    "    \"ner\",\n",
    "    eval_strategy = \"epoch\",\n",
    "    learning_rate=2e-5,\n",
    "    per_device_train_batch_size=batch_size,\n",
    "    per_device_eval_batch_size=batch_size,\n",
    "    num_train_epochs=epochs,\n",
    "    weight_decay=0.01,\n",
    "    include_inputs_for_metrics=True,\n",
    "    logging_steps=100,\n",
    "    # hub_model_id=\"rubert-base-punctuation\",\n",
    "    save_strategy=\"epoch\",\n",
    "    push_to_hub=False\n",
    ")"
   ]
  },
  {
   "cell_type": "code",
   "execution_count": 35,
   "id": "6d06a86b-c7a0-4bdd-80cb-b36c6ac637a3",
   "metadata": {},
   "outputs": [],
   "source": [
    "data_collator = DataCollatorForTokenClassification(tokenizer)"
   ]
  },
  {
   "cell_type": "code",
   "execution_count": 36,
   "id": "f80855bc-0c27-4547-8a5f-6a0b3fecd234",
   "metadata": {},
   "outputs": [
    {
     "name": "stderr",
     "output_type": "stream",
     "text": [
      "/var/folders/mt/0w6nmsr119bb2g4h4xrv9p6m0000gn/T/ipykernel_50021/148260232.py:1: FutureWarning: load_metric is deprecated and will be removed in the next major version of datasets. Use 'evaluate.load' instead, from the new library 🤗 Evaluate: https://huggingface.co/docs/evaluate\n",
      "  metric = load_metric(\"seqeval\", trust_remote_code=True)\n"
     ]
    }
   ],
   "source": [
    "metric = load_metric(\"seqeval\", trust_remote_code=True)"
   ]
  },
  {
   "cell_type": "code",
   "execution_count": 37,
   "id": "116aad5d-323a-40ba-8f3e-557779074a40",
   "metadata": {},
   "outputs": [],
   "source": [
    "def compute_metrics(p):\n",
    "    predictions, labels, inputs = p.predictions, p.label_ids, p.inputs\n",
    "    predictions = np.argmax(p.predictions, axis=2)\n",
    "\n",
    "    # send only the first token of each word to the evaluation\n",
    "    true_predictions = []\n",
    "    true_labels = []\n",
    "    for prediction, label, tokens in zip(predictions, labels, inputs):\n",
    "        true_predictions.append([])\n",
    "        true_labels.append([])\n",
    "        for (p, l, t) in zip(prediction, label, tokens):\n",
    "            if l != -100 and not tokenizer.convert_ids_to_tokens(int(t)).startswith('##'):\n",
    "                true_predictions[-1].append(label_list[p])\n",
    "                true_labels[-1].append(label_list[l])\n",
    "\n",
    "    results = metric.compute(predictions=true_predictions, references=true_labels, zero_division=1)\n",
    "    return {\n",
    "        \"precision\": results[\"overall_precision\"],\n",
    "        \"recall\": results[\"overall_recall\"],\n",
    "        \"f1\": results[\"overall_f1\"],\n",
    "        \"accuracy\": results[\"overall_accuracy\"],\n",
    "    }"
   ]
  },
  {
   "cell_type": "code",
   "execution_count": 38,
   "id": "5cea55b1-a7c9-4ac8-9e4c-0ebb7a8c98e2",
   "metadata": {},
   "outputs": [],
   "source": [
    "trainer = Trainer(\n",
    "    model,\n",
    "    args,\n",
    "    train_dataset=tokenized_datasets[\"train\"],\n",
    "    eval_dataset=tokenized_datasets[\"test\"],\n",
    "    data_collator=data_collator,\n",
    "    tokenizer=tokenizer,\n",
    "    compute_metrics=compute_metrics\n",
    ")"
   ]
  },
  {
   "cell_type": "code",
   "execution_count": 39,
   "id": "97f57353-413b-4034-9db1-1edd88a66d6b",
   "metadata": {},
   "outputs": [
    {
     "data": {
      "text/html": [
       "\n",
       "    <div>\n",
       "      \n",
       "      <progress value='537' max='537' style='width:300px; height:20px; vertical-align: middle;'></progress>\n",
       "      [537/537 08:32, Epoch 3/3]\n",
       "    </div>\n",
       "    <table border=\"1\" class=\"dataframe\">\n",
       "  <thead>\n",
       " <tr style=\"text-align: left;\">\n",
       "      <th>Epoch</th>\n",
       "      <th>Training Loss</th>\n",
       "      <th>Validation Loss</th>\n",
       "      <th>Precision</th>\n",
       "      <th>Recall</th>\n",
       "      <th>F1</th>\n",
       "      <th>Accuracy</th>\n",
       "    </tr>\n",
       "  </thead>\n",
       "  <tbody>\n",
       "    <tr>\n",
       "      <td>1</td>\n",
       "      <td>0.115700</td>\n",
       "      <td>0.095493</td>\n",
       "      <td>0.950920</td>\n",
       "      <td>0.892943</td>\n",
       "      <td>0.921020</td>\n",
       "      <td>0.967852</td>\n",
       "    </tr>\n",
       "    <tr>\n",
       "      <td>2</td>\n",
       "      <td>0.065100</td>\n",
       "      <td>0.093192</td>\n",
       "      <td>0.941379</td>\n",
       "      <td>0.917427</td>\n",
       "      <td>0.929249</td>\n",
       "      <td>0.971044</td>\n",
       "    </tr>\n",
       "    <tr>\n",
       "      <td>3</td>\n",
       "      <td>0.046100</td>\n",
       "      <td>0.102711</td>\n",
       "      <td>0.938079</td>\n",
       "      <td>0.923668</td>\n",
       "      <td>0.930818</td>\n",
       "      <td>0.971500</td>\n",
       "    </tr>\n",
       "  </tbody>\n",
       "</table><p>"
      ],
      "text/plain": [
       "<IPython.core.display.HTML object>"
      ]
     },
     "metadata": {},
     "output_type": "display_data"
    },
    {
     "data": {
      "text/plain": [
       "TrainOutput(global_step=537, training_loss=0.0725080227718673, metrics={'train_runtime': 513.6937, 'train_samples_per_second': 20.814, 'train_steps_per_second': 1.045, 'total_flos': 186333424126608.0, 'train_loss': 0.0725080227718673, 'epoch': 3.0})"
      ]
     },
     "execution_count": 39,
     "metadata": {},
     "output_type": "execute_result"
    }
   ],
   "source": [
    "trainer.train()"
   ]
  },
  {
   "cell_type": "markdown",
   "id": "9b057f4a-0f09-4bab-a43e-417111a807e4",
   "metadata": {},
   "source": [
    "### Metrics"
   ]
  },
  {
   "cell_type": "code",
   "execution_count": 40,
   "id": "4f79f1c1-4c43-4c5b-a280-1e5a6e55c6a0",
   "metadata": {},
   "outputs": [],
   "source": [
    "from transformers import pipeline"
   ]
  },
  {
   "cell_type": "code",
   "execution_count": 46,
   "id": "eb8018d1-338d-48b6-b079-f9cf8d9b08ed",
   "metadata": {},
   "outputs": [],
   "source": [
    "punct_corrector = pipeline(\"token-classification\", tokenizer=tokenizer, model=model)"
   ]
  },
  {
   "cell_type": "code",
   "execution_count": 48,
   "id": "df6c4ad9-ec65-426c-9fd3-f5915d3ec372",
   "metadata": {},
   "outputs": [],
   "source": [
    "# make the output readable + in target form\n",
    "ALL_PUNC = '.,:;!?'\n",
    "UNK_TOKEN = 'U'\n",
    "\n",
    "\n",
    "def get_sentence_with_punctuation(sent, model_preds):\n",
    "\n",
    "    sent_words = sent.split()\n",
    "    sent_new = (sent + ' ')[:-1]\n",
    "    \n",
    "    n_marks = 0\n",
    "    for pred in model_preds:\n",
    "\n",
    "        punc_mark = pred['entity'][-1]\n",
    "\n",
    "        ind_to_place = pred['end'] + n_marks\n",
    "        if len(sent_new) == ind_to_place:  # last mark\n",
    "            sent_new = sent_new + punc_mark\n",
    "        else:\n",
    "            if (sent_new[ind_to_place] == ' '):\n",
    "                sent_new = sent_new[:ind_to_place] + punc_mark + sent_new[ind_to_place:]\n",
    "                n_marks += 1\n",
    "\n",
    "    target_like = []\n",
    "    for word in sent_new.split():\n",
    "        last_chr = word[-1]\n",
    "        if last_chr in ALL_PUNC:\n",
    "            if last_chr in PUNC_2_TOKEN.keys():\n",
    "                target_like.append(PUNC_2_TOKEN[last_chr])\n",
    "            else:\n",
    "                target_like.append(UNK_TOKEN)\n",
    "        else:\n",
    "            target_like.append(PUNC_2_TOKEN[' '])\n",
    "\n",
    "    return sent_new, ' '.join(target_like)"
   ]
  },
  {
   "cell_type": "code",
   "execution_count": 50,
   "id": "c741415f-60bc-40c8-b667-2d3adbe1829b",
   "metadata": {},
   "outputs": [
    {
     "data": {
      "text/plain": [
       "('в тридцати шагах промаху в карту не дам, разумеется, из знакомых пистолетов.',\n",
       " 'S S S S S S S C C S S P')"
      ]
     },
     "execution_count": 50,
     "metadata": {},
     "output_type": "execute_result"
    }
   ],
   "source": [
    "sent = 'в тридцати шагах промаху в карту не дам разумеется из знакомых пистолетов'\n",
    "\n",
    "get_sentence_with_punctuation(sent, punct_corrector(sent))  # prediction"
   ]
  },
  {
   "cell_type": "code",
   "execution_count": 63,
   "id": "55ba7fe5-d874-4da5-a201-1e7783af8c62",
   "metadata": {},
   "outputs": [
    {
     "name": "stderr",
     "output_type": "stream",
     "text": [
      "100%|█████████████████████████████████████████| 892/892 [00:27<00:00, 32.15it/s]\n"
     ]
    }
   ],
   "source": [
    "# inference on validation set!\n",
    "\n",
    "model_preds = []\n",
    "model_preds_as_target = []\n",
    "\n",
    "for index, row in tqdm(df_val_test.iterrows(), total=df_val_test.shape[0]):\n",
    "    sent_with_punc, target_like = get_sentence_with_punctuation(\n",
    "        dataset_df.iloc[index]['input'], punct_corrector(dataset_df.iloc[index]['input'])\n",
    "    )\n",
    "    model_preds.append(sent_with_punc)\n",
    "    model_preds_as_target.append(target_like)"
   ]
  },
  {
   "cell_type": "code",
   "execution_count": 65,
   "id": "fb7e4750-5f68-45d2-aece-00d407c80717",
   "metadata": {},
   "outputs": [],
   "source": [
    "val_targets_vs_preds = pd.DataFrame()\n",
    "\n",
    "val_targets_vs_preds['target'] = dataset_df.iloc[df_val_test.index]['target']\n",
    "val_targets_vs_preds['pred'] = model_preds_as_target"
   ]
  },
  {
   "cell_type": "code",
   "execution_count": 66,
   "id": "b7506163-6ba5-440e-a7af-05b306c9ae0c",
   "metadata": {},
   "outputs": [
    {
     "data": {
      "text/html": [
       "<div>\n",
       "<style scoped>\n",
       "    .dataframe tbody tr th:only-of-type {\n",
       "        vertical-align: middle;\n",
       "    }\n",
       "\n",
       "    .dataframe tbody tr th {\n",
       "        vertical-align: top;\n",
       "    }\n",
       "\n",
       "    .dataframe thead th {\n",
       "        text-align: right;\n",
       "    }\n",
       "</style>\n",
       "<table border=\"1\" class=\"dataframe\">\n",
       "  <thead>\n",
       "    <tr style=\"text-align: right;\">\n",
       "      <th></th>\n",
       "      <th>target</th>\n",
       "      <th>pred</th>\n",
       "    </tr>\n",
       "  </thead>\n",
       "  <tbody>\n",
       "    <tr>\n",
       "      <th>3154</th>\n",
       "      <td>S S S S S S C S S P</td>\n",
       "      <td>S S S S S S C S S P</td>\n",
       "    </tr>\n",
       "    <tr>\n",
       "      <th>444</th>\n",
       "      <td>S S S C S Q</td>\n",
       "      <td>S S S C S Q</td>\n",
       "    </tr>\n",
       "    <tr>\n",
       "      <th>128</th>\n",
       "      <td>C S S S C S P</td>\n",
       "      <td>C S S S C S P</td>\n",
       "    </tr>\n",
       "    <tr>\n",
       "      <th>2106</th>\n",
       "      <td>S S C C S S S P</td>\n",
       "      <td>S S C S S S S P</td>\n",
       "    </tr>\n",
       "    <tr>\n",
       "      <th>2378</th>\n",
       "      <td>S S S S S C S S S S S S S P</td>\n",
       "      <td>S S S S S C S S S S S S S P</td>\n",
       "    </tr>\n",
       "  </tbody>\n",
       "</table>\n",
       "</div>"
      ],
      "text/plain": [
       "                           target                         pred\n",
       "3154          S S S S S S C S S P          S S S S S S C S S P\n",
       "444                   S S S C S Q                  S S S C S Q\n",
       "128                 C S S S C S P                C S S S C S P\n",
       "2106              S S C C S S S P              S S C S S S S P\n",
       "2378  S S S S S C S S S S S S S P  S S S S S C S S S S S S S P"
      ]
     },
     "execution_count": 66,
     "metadata": {},
     "output_type": "execute_result"
    }
   ],
   "source": [
    "val_targets_vs_preds.sample(5)"
   ]
  },
  {
   "cell_type": "markdown",
   "id": "ba2493d7-2466-448f-a58b-aa22535e8c67",
   "metadata": {},
   "source": [
    "#### Functions"
   ]
  },
  {
   "cell_type": "code",
   "execution_count": 71,
   "id": "7e0cd099-d578-4367-bca8-2ad9fe8cfa21",
   "metadata": {},
   "outputs": [],
   "source": [
    "from sklearn.metrics import confusion_matrix, precision_score, recall_score, f1_score"
   ]
  },
  {
   "cell_type": "code",
   "execution_count": 67,
   "id": "c7a55af0-4160-467b-8aee-49eaa0bdc14d",
   "metadata": {},
   "outputs": [],
   "source": [
    "END_PUNC = ['P', 'EX', 'Q']\n",
    "INTR_PUNC = ['S', 'C']\n",
    "\n",
    "NAMES_PUNC = {\n",
    "    'S': 'space (` `)',\n",
    "    'C': 'comma (`,`)',\n",
    "    'P': 'point (`.`)',\n",
    "    'EX': 'excl. (`!`)',\n",
    "    'Q': 'question (`?`)',\n",
    "    'U': 'other'\n",
    "}\n",
    "\n",
    "CLASSES = sorted(END_PUNC + INTR_PUNC)  # alphabetic order"
   ]
  },
  {
   "cell_type": "code",
   "execution_count": 68,
   "id": "dcdf414b-83c5-4766-b20a-b3012803f058",
   "metadata": {},
   "outputs": [],
   "source": [
    "def return_separate_punct(target_vs_pred_df, pred_col_name='output_punc'):\n",
    "    test_all_punc_target = []  # list of all punctuation\n",
    "    test_all_punc_preds = []\n",
    "    \n",
    "    for target_this, predicted_this in zip(target_vs_pred_df['target'], target_vs_pred_df[pred_col_name]):\n",
    "        test_all_punc_target.extend(target_this.split(' '))\n",
    "        test_all_punc_preds.extend(predicted_this.split(' '))\n",
    "    \n",
    "    assert len(test_all_punc_target) == len(test_all_punc_preds)\n",
    "    \n",
    "    return test_all_punc_target, test_all_punc_preds\n",
    "\n",
    "\n",
    "def get_all_metrics(test_df, pred_col_name='output_punc'):\n",
    "    test_all_punc_target, test_all_punc_preds = return_separate_punct(\n",
    "        test_df, pred_col_name=pred_col_name\n",
    "    )\n",
    "\n",
    "    cm = confusion_matrix(test_all_punc_target, test_all_punc_preds)\n",
    "    # precision = TP / (TP + FP)\n",
    "    precision = precision_score(test_all_punc_target, test_all_punc_preds, average=None, zero_division=np.nan)\n",
    "    # recall = TP / (TP + FN)\n",
    "    recall = recall_score(test_all_punc_target, test_all_punc_preds, average=None, zero_division=np.nan)\n",
    "    # f1 = 2TP / (2TP + FP + FN)\n",
    "    f1 = f1_score(test_all_punc_target, test_all_punc_preds, average=None)\n",
    "\n",
    "    # PRINT\n",
    "    metrics_names = ['Precision', 'Recall', 'F1 score']\n",
    "    metrics = {'Precision': precision, 'Recall': recall, 'F1 score': f1}\n",
    "    col_w = 16\n",
    "    \n",
    "    print(' ' * col_w + '|' + ''.join([f\"{NAMES_PUNC[token] + (col_w - len(NAMES_PUNC[token])) * ' '}|\" for token in CLASSES]))  # header\n",
    "    print(''.join(['-' * col_w + '|' for _ in range(len(CLASSES) + 1)]) )\n",
    "    for ind, metric_name in enumerate(metrics_names):\n",
    "        row = f\"{metric_name + (col_w - len(metric_name)) * ' '}|\"\n",
    "        for score in metrics[metric_name]:\n",
    "            score_str = f'{score:.6f}'\n",
    "            row += f\"{score_str + (col_w - len(score_str)) * ' '}|\"\n",
    "        print(row)"
   ]
  },
  {
   "cell_type": "markdown",
   "id": "e5faa6ed-f17b-4d6b-8db1-bbca93d0a4cf",
   "metadata": {},
   "source": [
    "#### Result on validation set"
   ]
  },
  {
   "cell_type": "code",
   "execution_count": 72,
   "id": "6a27c9b3-6fc0-49bd-a1d8-26db275f646e",
   "metadata": {},
   "outputs": [
    {
     "name": "stdout",
     "output_type": "stream",
     "text": [
      "                |comma (`,`)     |excl. (`!`)     |point (`.`)     |question (`?`)  |space (` `)     |\n",
      "----------------|----------------|----------------|----------------|----------------|----------------|\n",
      "Precision       |0.936912        |0.500000        |0.958587        |0.770492        |0.981751        |\n",
      "Recall          |0.912668        |0.166667        |0.978856        |0.810345        |0.987088        |\n",
      "F1 score        |0.924631        |0.250000        |0.968615        |0.789916        |0.984412        |\n",
      "CPU times: user 98.9 ms, sys: 12.9 ms, total: 112 ms\n",
      "Wall time: 118 ms\n"
     ]
    }
   ],
   "source": [
    "%%time\n",
    "get_all_metrics(val_targets_vs_preds, pred_col_name='pred')"
   ]
  },
  {
   "cell_type": "markdown",
   "id": "ff413af9-9d30-4cbd-88d4-e849985060f4",
   "metadata": {},
   "source": [
    "#### Result on all dataset"
   ]
  },
  {
   "cell_type": "code",
   "execution_count": 76,
   "id": "5bc40946-b490-4f2a-9d12-65b8da725720",
   "metadata": {},
   "outputs": [
    {
     "name": "stderr",
     "output_type": "stream",
     "text": [
      "100%|███████████████████████████████████████| 4456/4456 [01:09<00:00, 63.82it/s]\n"
     ]
    }
   ],
   "source": [
    "# inference on validation set!\n",
    "\n",
    "model_all_preds = []\n",
    "\n",
    "for index, row in tqdm(dataset_df.iterrows(), total=dataset_df.shape[0]):\n",
    "    _, target_like = get_sentence_with_punctuation(\n",
    "        row['input'], punct_corrector(row['input'])\n",
    "    )\n",
    "    model_all_preds.append(target_like)"
   ]
  },
  {
   "cell_type": "code",
   "execution_count": 77,
   "id": "3d6ebd9c-c426-465b-901e-11eee516ff59",
   "metadata": {},
   "outputs": [],
   "source": [
    "dataset_df['pred'] = model_all_preds"
   ]
  },
  {
   "cell_type": "code",
   "execution_count": 78,
   "id": "cc15e6f0-9496-4eb4-a4f5-651a4c3642b8",
   "metadata": {},
   "outputs": [
    {
     "data": {
      "text/html": [
       "<div>\n",
       "<style scoped>\n",
       "    .dataframe tbody tr th:only-of-type {\n",
       "        vertical-align: middle;\n",
       "    }\n",
       "\n",
       "    .dataframe tbody tr th {\n",
       "        vertical-align: top;\n",
       "    }\n",
       "\n",
       "    .dataframe thead th {\n",
       "        text-align: right;\n",
       "    }\n",
       "</style>\n",
       "<table border=\"1\" class=\"dataframe\">\n",
       "  <thead>\n",
       "    <tr style=\"text-align: right;\">\n",
       "      <th></th>\n",
       "      <th>input</th>\n",
       "      <th>target</th>\n",
       "      <th>pred</th>\n",
       "    </tr>\n",
       "  </thead>\n",
       "  <tbody>\n",
       "    <tr>\n",
       "      <th>770</th>\n",
       "      <td>они отряхиваясь подходили к руке пугачева который объявлял им прощение и принимал в свою шайку</td>\n",
       "      <td>C C S S S C S S S S S S S S P</td>\n",
       "      <td>C C S S S C S S S S S S S S P</td>\n",
       "    </tr>\n",
       "    <tr>\n",
       "      <th>3755</th>\n",
       "      <td>малое число книг найденных мною под шкафами и в кладовой были вытвержены мною наизусть</td>\n",
       "      <td>S S C S S S S S S C S S S P</td>\n",
       "      <td>S S C S S S S S S C S S S P</td>\n",
       "    </tr>\n",
       "    <tr>\n",
       "      <th>3101</th>\n",
       "      <td>несколько троек наполненных разбойниками разъезжали днем по всей губернии останавливали путешественников и почту приезжали в селы грабили помещичь...</td>\n",
       "      <td>S C S C S S S S C S S S C S S C S S S S S S P</td>\n",
       "      <td>S C S C S S S S C S S S C S S C S S S S S S P</td>\n",
       "    </tr>\n",
       "    <tr>\n",
       "      <th>575</th>\n",
       "      <td>василиса егоровна тотчас захотела отправиться в гости к попадье и по совету ивана кузмича взяла с собою и машу чтоб ей не было скучно одной</td>\n",
       "      <td>S S S S S S S S S C S S S C S S S S C S S S S S P</td>\n",
       "      <td>S S S S S S S S S C S S S C S S S S C S S S S S P</td>\n",
       "    </tr>\n",
       "    <tr>\n",
       "      <th>262</th>\n",
       "      <td>я велел ехать к коменданту и через минуту кибитка остановилась перед деревянным домиком выстроенным на высоком месте близ деревянной же церкви</td>\n",
       "      <td>S S S S C S S S S S S S C S S S C S S S P</td>\n",
       "      <td>S S S S C S S S S S S S C S S S C S S S P</td>\n",
       "    </tr>\n",
       "  </tbody>\n",
       "</table>\n",
       "</div>"
      ],
      "text/plain": [
       "                                                                                                                                                      input  \\\n",
       "770                                                          они отряхиваясь подходили к руке пугачева который объявлял им прощение и принимал в свою шайку   \n",
       "3755                                                                 малое число книг найденных мною под шкафами и в кладовой были вытвержены мною наизусть   \n",
       "3101  несколько троек наполненных разбойниками разъезжали днем по всей губернии останавливали путешественников и почту приезжали в селы грабили помещичь...   \n",
       "575             василиса егоровна тотчас захотела отправиться в гости к попадье и по совету ивана кузмича взяла с собою и машу чтоб ей не было скучно одной   \n",
       "262          я велел ехать к коменданту и через минуту кибитка остановилась перед деревянным домиком выстроенным на высоком месте близ деревянной же церкви   \n",
       "\n",
       "                                                 target  \\\n",
       "770                       C C S S S C S S S S S S S S P   \n",
       "3755                        S S C S S S S S S C S S S P   \n",
       "3101      S C S C S S S S C S S S C S S C S S S S S S P   \n",
       "575   S S S S S S S S S C S S S C S S S S C S S S S S P   \n",
       "262           S S S S C S S S S S S S C S S S C S S S P   \n",
       "\n",
       "                                                   pred  \n",
       "770                       C C S S S C S S S S S S S S P  \n",
       "3755                        S S C S S S S S S C S S S P  \n",
       "3101      S C S C S S S S C S S S C S S C S S S S S S P  \n",
       "575   S S S S S S S S S C S S S C S S S S C S S S S S P  \n",
       "262           S S S S C S S S S S S S C S S S C S S S P  "
      ]
     },
     "execution_count": 78,
     "metadata": {},
     "output_type": "execute_result"
    }
   ],
   "source": [
    "dataset_df.sample(5)"
   ]
  },
  {
   "cell_type": "code",
   "execution_count": 79,
   "id": "9b56c8c7-0c8a-4c3b-b2ed-59ea47984556",
   "metadata": {},
   "outputs": [
    {
     "name": "stdout",
     "output_type": "stream",
     "text": [
      "                |comma (`,`)     |excl. (`!`)     |point (`.`)     |question (`?`)  |space (` `)     |\n",
      "----------------|----------------|----------------|----------------|----------------|----------------|\n",
      "Precision       |0.971699        |0.802198        |0.973858        |0.860294        |0.992787        |\n",
      "Recall          |0.965740        |0.414773        |0.989327        |0.932271        |0.994070        |\n",
      "F1 score        |0.968710        |0.546816        |0.981532        |0.894837        |0.993428        |\n",
      "CPU times: user 363 ms, sys: 8.72 ms, total: 372 ms\n",
      "Wall time: 379 ms\n"
     ]
    }
   ],
   "source": [
    "%%time\n",
    "get_all_metrics(dataset_df, pred_col_name='pred')"
   ]
  },
  {
   "cell_type": "code",
   "execution_count": null,
   "id": "e8f097b8-a0c4-4679-be83-c8b059b36d41",
   "metadata": {},
   "outputs": [],
   "source": []
  }
 ],
 "metadata": {
  "kernelspec": {
   "display_name": "Python 3 (ipykernel)",
   "language": "python",
   "name": "python3"
  },
  "language_info": {
   "codemirror_mode": {
    "name": "ipython",
    "version": 3
   },
   "file_extension": ".py",
   "mimetype": "text/x-python",
   "name": "python",
   "nbconvert_exporter": "python",
   "pygments_lexer": "ipython3",
   "version": "3.8.10"
  }
 },
 "nbformat": 4,
 "nbformat_minor": 5
}
