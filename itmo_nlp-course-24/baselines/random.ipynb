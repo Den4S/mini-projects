{
 "cells": [
  {
   "cell_type": "code",
   "execution_count": 1,
   "id": "d11caf04-22be-40e7-a75d-f7ffe135900b",
   "metadata": {},
   "outputs": [],
   "source": [
    "import numpy as np\n",
    "import pandas as pd"
   ]
  },
  {
   "cell_type": "code",
   "execution_count": 2,
   "id": "7f780f06-9a6e-46f3-b756-ac4f3f1f3e8d",
   "metadata": {},
   "outputs": [],
   "source": [
    "import random"
   ]
  },
  {
   "cell_type": "code",
   "execution_count": 3,
   "id": "e197e9f0-68d8-445f-87e7-f4afd33cadf8",
   "metadata": {},
   "outputs": [],
   "source": [
    "from tqdm import tqdm"
   ]
  },
  {
   "cell_type": "code",
   "execution_count": 4,
   "id": "103735c3-4fbd-482d-bcca-cf0ce83c2f4e",
   "metadata": {},
   "outputs": [],
   "source": [
    "import re\n",
    "import os"
   ]
  },
  {
   "cell_type": "code",
   "execution_count": 31,
   "id": "e2111bc2-3c06-4672-87a4-74d0e7d38df6",
   "metadata": {},
   "outputs": [],
   "source": [
    "from collections import Counter"
   ]
  },
  {
   "cell_type": "code",
   "execution_count": 12,
   "id": "bc832115-f922-4961-a205-95ec3c9641eb",
   "metadata": {},
   "outputs": [],
   "source": [
    "from sklearn.model_selection import train_test_split"
   ]
  },
  {
   "cell_type": "markdown",
   "id": "7cc974de-d1b2-4efd-ba1b-5183f7f925ce",
   "metadata": {},
   "source": [
    "#### Metrics"
   ]
  },
  {
   "cell_type": "code",
   "execution_count": 92,
   "id": "b401d45c-3ced-49a1-86f1-9411c2a2cf39",
   "metadata": {},
   "outputs": [],
   "source": [
    "from sklearn.metrics import confusion_matrix, precision_score, recall_score, f1_score"
   ]
  },
  {
   "cell_type": "code",
   "execution_count": 112,
   "id": "fda3dbec-9d06-4f67-a2a1-9ac99c1c8b3e",
   "metadata": {},
   "outputs": [],
   "source": [
    "from Levenshtein import distance as levenshtein_distance"
   ]
  },
  {
   "cell_type": "markdown",
   "id": "f27be86f-f4cf-4ca7-80d3-701edff8cdad",
   "metadata": {},
   "source": [
    "#### Visualisation"
   ]
  },
  {
   "cell_type": "code",
   "execution_count": 5,
   "id": "4fa73c79-2522-40c7-94b1-c70f2ccc83e4",
   "metadata": {},
   "outputs": [],
   "source": [
    "import matplotlib\n",
    "import matplotlib.pyplot as plt"
   ]
  },
  {
   "cell_type": "code",
   "execution_count": 6,
   "id": "ab36adde-5f62-45f8-89fc-a7d85913efed",
   "metadata": {},
   "outputs": [],
   "source": [
    "import scienceplots\n",
    "\n",
    "plt.style.use('science')\n",
    "%config InlineBackend.figure_format = 'retina'\n",
    "\n",
    "lables_fs = 16\n",
    "ticks_fs = 12"
   ]
  },
  {
   "cell_type": "code",
   "execution_count": 84,
   "id": "472770c5-8ce8-458d-9904-d381434c0f76",
   "metadata": {},
   "outputs": [],
   "source": [
    "import seaborn as sns"
   ]
  },
  {
   "cell_type": "markdown",
   "id": "f28ef8a6-4f8d-4e19-9207-47230c2806b9",
   "metadata": {},
   "source": [
    "### Load data"
   ]
  },
  {
   "cell_type": "code",
   "execution_count": 8,
   "id": "71d0b785-4733-4518-bcf1-eb53d1b2f46b",
   "metadata": {},
   "outputs": [],
   "source": [
    "prepared_dir = '../data/prepared'\n",
    "filenames_csv = ['01_punct_pushkin.csv']"
   ]
  },
  {
   "cell_type": "code",
   "execution_count": 9,
   "id": "dd6c593e-8b66-48d3-8a67-8a9b67e9ef98",
   "metadata": {},
   "outputs": [
    {
     "name": "stdout",
     "output_type": "stream",
     "text": [
      "Data shape: (4455, 2)\n"
     ]
    }
   ],
   "source": [
    "data_df = pd.DataFrame()\n",
    "\n",
    "for ind, filename in enumerate(filenames_csv):\n",
    "    part_df = pd.read_csv(os.path.join(prepared_dir, filename), index_col=0)\n",
    "    if ind == 0:\n",
    "        data_df = part_df\n",
    "    else:       \n",
    "        data_df = pd.concat([data_df, part_df], ignore_index=True)\n",
    "\n",
    "print(f'Data shape: {data_df.shape}')"
   ]
  },
  {
   "cell_type": "code",
   "execution_count": 10,
   "id": "ebb78aa1-d29e-424f-ae82-15ca03e6d684",
   "metadata": {},
   "outputs": [
    {
     "data": {
      "text/html": [
       "<div>\n",
       "<style scoped>\n",
       "    .dataframe tbody tr th:only-of-type {\n",
       "        vertical-align: middle;\n",
       "    }\n",
       "\n",
       "    .dataframe tbody tr th {\n",
       "        vertical-align: top;\n",
       "    }\n",
       "\n",
       "    .dataframe thead th {\n",
       "        text-align: right;\n",
       "    }\n",
       "</style>\n",
       "<table border=\"1\" class=\"dataframe\">\n",
       "  <thead>\n",
       "    <tr style=\"text-align: right;\">\n",
       "      <th></th>\n",
       "      <th>input</th>\n",
       "      <th>target</th>\n",
       "    </tr>\n",
       "  </thead>\n",
       "  <tbody>\n",
       "    <tr>\n",
       "      <th>971</th>\n",
       "      <td>при сих словах он поскакал назад держась одной...</td>\n",
       "      <td>S S S S S C S S S S C S S S S S P</td>\n",
       "    </tr>\n",
       "    <tr>\n",
       "      <th>25</th>\n",
       "      <td>да вот пошел семнадцатый годок отвечала матушка</td>\n",
       "      <td>S S S S C S P</td>\n",
       "    </tr>\n",
       "    <tr>\n",
       "      <th>1668</th>\n",
       "      <td>кстати же я подоспел сказал он нам</td>\n",
       "      <td>S S S C S S P</td>\n",
       "    </tr>\n",
       "    <tr>\n",
       "      <th>594</th>\n",
       "      <td>они громко роптали и иван игнатьич исполнитель...</td>\n",
       "      <td>S S C S S C S S C S S C S S C S S S C S EX</td>\n",
       "    </tr>\n",
       "    <tr>\n",
       "      <th>4214</th>\n",
       "      <td>я решился посетить знакомую сторону взял вольн...</td>\n",
       "      <td>S S S S C S S S S S S S S S S P</td>\n",
       "    </tr>\n",
       "  </tbody>\n",
       "</table>\n",
       "</div>"
      ],
      "text/plain": [
       "                                                  input  \\\n",
       "971   при сих словах он поскакал назад держась одной...   \n",
       "25      да вот пошел семнадцатый годок отвечала матушка   \n",
       "1668                 кстати же я подоспел сказал он нам   \n",
       "594   они громко роптали и иван игнатьич исполнитель...   \n",
       "4214  я решился посетить знакомую сторону взял вольн...   \n",
       "\n",
       "                                          target  \n",
       "971            S S S S S C S S S S C S S S S S P  \n",
       "25                                 S S S S C S P  \n",
       "1668                               S S S C S S P  \n",
       "594   S S C S S C S S C S S C S S C S S S C S EX  \n",
       "4214             S S S S C S S S S S S S S S S P  "
      ]
     },
     "execution_count": 10,
     "metadata": {},
     "output_type": "execute_result"
    }
   ],
   "source": [
    "data_df.sample(5)"
   ]
  },
  {
   "cell_type": "code",
   "execution_count": null,
   "id": "f8709797-8d44-4f11-901a-2be1665ddcab",
   "metadata": {},
   "outputs": [],
   "source": []
  },
  {
   "cell_type": "markdown",
   "id": "c2276514-b6cc-49c5-b672-855b650de948",
   "metadata": {},
   "source": [
    "### Splitting on train and test datasets"
   ]
  },
  {
   "cell_type": "code",
   "execution_count": 15,
   "id": "d9271957-e797-43a1-aa08-4e5ecffc1637",
   "metadata": {},
   "outputs": [
    {
     "name": "stdout",
     "output_type": "stream",
     "text": [
      "Train size : 2984\n",
      "Test size  : 1471\n"
     ]
    }
   ],
   "source": [
    "splitting_random_state = 78\n",
    "test_size = 0.2\n",
    "\n",
    "X_train, X_test, y_train, y_test = train_test_split(\n",
    "    data_df['input'], data_df['target'],\n",
    "    test_size=0.33,\n",
    "    random_state=42\n",
    ")\n",
    "\n",
    "print(f'Train size : {X_train.shape[0]}')\n",
    "print(f'Test size  : {X_test.shape[0]}')"
   ]
  },
  {
   "cell_type": "code",
   "execution_count": null,
   "id": "2afba892-cc28-4c6d-9f6a-f48e5898eab8",
   "metadata": {},
   "outputs": [],
   "source": []
  },
  {
   "cell_type": "markdown",
   "id": "4ed0a617-9242-4b6b-b33d-0473dec989e2",
   "metadata": {},
   "source": [
    "### Random model based on punctuation statistics\n",
    "\n",
    "During `fit` function we count number of each punctuation mark in the train dataset and calculate _probabilities_ of appearance of each mark in texts (for intrinsic and finalizing punctuation separately).\n",
    "\n",
    "Based on the obtained _probabilities_ in `predict` function we will be generating sequences of punctuation for each input sentence."
   ]
  },
  {
   "cell_type": "code",
   "execution_count": 126,
   "id": "8a14a619-9525-4048-ac29-b9fb6b2e2bde",
   "metadata": {},
   "outputs": [],
   "source": [
    "END_PUNC = ['P', 'EX', 'Q']\n",
    "INTR_PUNC = ['S', 'C']\n",
    "\n",
    "NAMES_PUNC = {\n",
    "    'S': 'space (` `)',\n",
    "    'C': 'comma (`,`)',\n",
    "    'P': 'period (`.`)',\n",
    "    'EX': 'exclamation (`!`)',\n",
    "    'Q': 'question (`?`)'\n",
    "}"
   ]
  },
  {
   "cell_type": "code",
   "execution_count": 66,
   "id": "75897275-1b2b-4a89-acbd-0c9deb9a5764",
   "metadata": {},
   "outputs": [],
   "source": [
    "def fit_statistic_model(X_train, y_train):\n",
    "    '''\n",
    "    Learn the punctuation statistics using the train set\n",
    "    '''\n",
    "    all_punct = []  # analyse all punctuation in train dataset\n",
    "    \n",
    "    for ind_row in range(y_train.shape[0]):\n",
    "        target = y_train.iloc[ind_row]\n",
    "        all_punct.extend(target.split(' '))\n",
    "\n",
    "    punct_counter = Counter(all_punct)\n",
    "\n",
    "    # define probabilities for intrinsic punctuation marks:\n",
    "    #     'S' (spaces) and 'C' (comma)\n",
    "    intr_punct_num = sum([punct_counter[mark] for mark in INTR_PUNC])  # number of all intrinsic punctuation marks\n",
    "    intr_probas = {mark:punct_counter[mark] / intr_punct_num for mark in INTR_PUNC}\n",
    "    assert sum(intr_probas.values()) == 1\n",
    "    \n",
    "    # define probabilities for finalizing punctuation marks: \n",
    "    #     'P' (period), 'EX' (exclamation) and 'Q' (question)\n",
    "    end_punct_num = sum([punct_counter[mark] for mark in END_PUNC])  # number of all end punctuation marks (=size(train))\n",
    "    assert end_punct_num == X_train.shape[0]\n",
    "    end_probas = {mark:punct_counter[mark] / end_punct_num for mark in END_PUNC}\n",
    "    assert sum(end_probas.values()) == 1\n",
    "    \n",
    "    return intr_probas, end_probas\n",
    "\n",
    "\n",
    "def predict_statistic_model(X_test, intr_probas, end_probas):\n",
    "    '''\n",
    "    Returns predictions based on punctuation statistics\n",
    "    '''\n",
    "    y_pred_list = []\n",
    "    \n",
    "    for x in X_test:\n",
    "        y_list = []\n",
    "        len_x = len(x.split(' '))\n",
    "        \n",
    "        for i in range(len_x):\n",
    "            if i == len_x - 1:\n",
    "                mark = np.random.choice(list(end_probas.keys()), p=list(end_probas.values()))\n",
    "            else:\n",
    "                mark = np.random.choice(list(intr_probas.keys()), p=list(intr_probas.values()))\n",
    "            y_list.append(mark)\n",
    "\n",
    "        assert len_x == len(y_list)\n",
    "        y_pred_list.append(' '.join(y_list))\n",
    "\n",
    "    assert len(y_pred_list) == X_test.shape[0]\n",
    "        \n",
    "    return pd.Series(y_pred_list, index=X_test.index)"
   ]
  },
  {
   "cell_type": "code",
   "execution_count": 67,
   "id": "cfdaaf7e-ca08-4e0c-9488-c42e1d2d8ee6",
   "metadata": {},
   "outputs": [],
   "source": [
    "intr_probas, end_probas = fit_statistic_model(X_train, y_train)\n",
    "y_pred = predict_statistic_model(X_test, intr_probas, end_probas)"
   ]
  },
  {
   "cell_type": "code",
   "execution_count": 70,
   "id": "81feaca2-583d-4d27-8514-5cd11182406f",
   "metadata": {},
   "outputs": [
    {
     "data": {
      "text/html": [
       "<div>\n",
       "<style scoped>\n",
       "    .dataframe tbody tr th:only-of-type {\n",
       "        vertical-align: middle;\n",
       "    }\n",
       "\n",
       "    .dataframe tbody tr th {\n",
       "        vertical-align: top;\n",
       "    }\n",
       "\n",
       "    .dataframe thead th {\n",
       "        text-align: right;\n",
       "    }\n",
       "</style>\n",
       "<table border=\"1\" class=\"dataframe\">\n",
       "  <thead>\n",
       "    <tr style=\"text-align: right;\">\n",
       "      <th></th>\n",
       "      <th>target</th>\n",
       "      <th>predicted</th>\n",
       "    </tr>\n",
       "  </thead>\n",
       "  <tbody>\n",
       "    <tr>\n",
       "      <th>3409</th>\n",
       "      <td>S S S S C S S S S P</td>\n",
       "      <td>S S S S S S S S C P</td>\n",
       "    </tr>\n",
       "    <tr>\n",
       "      <th>1113</th>\n",
       "      <td>C S C S S S S P</td>\n",
       "      <td>S S S S S S C P</td>\n",
       "    </tr>\n",
       "    <tr>\n",
       "      <th>755</th>\n",
       "      <td>S S S S S C S S S S S S S S S S S S S S S S P</td>\n",
       "      <td>C C C S S C S S S S C S S S S S S S S S S C Q</td>\n",
       "    </tr>\n",
       "    <tr>\n",
       "      <th>324</th>\n",
       "      <td>C S S S C S S S S S S S P</td>\n",
       "      <td>C S S S S S S C S S S C P</td>\n",
       "    </tr>\n",
       "    <tr>\n",
       "      <th>3589</th>\n",
       "      <td>S S S S S S S S S C S S S C S S S P</td>\n",
       "      <td>C S S S S S S S S S S C C S S C S P</td>\n",
       "    </tr>\n",
       "  </tbody>\n",
       "</table>\n",
       "</div>"
      ],
      "text/plain": [
       "                                             target  \\\n",
       "3409                            S S S S C S S S S P   \n",
       "1113                                C S C S S S S P   \n",
       "755   S S S S S C S S S S S S S S S S S S S S S S P   \n",
       "324                       C S S S C S S S S S S S P   \n",
       "3589            S S S S S S S S S C S S S C S S S P   \n",
       "\n",
       "                                          predicted  \n",
       "3409                            S S S S S S S S C P  \n",
       "1113                                S S S S S S C P  \n",
       "755   C C C S S C S S S S C S S S S S S S S S S C Q  \n",
       "324                       C S S S S S S C S S S C P  \n",
       "3589            C S S S S S S S S S S C C S S C S P  "
      ]
     },
     "execution_count": 70,
     "metadata": {},
     "output_type": "execute_result"
    }
   ],
   "source": [
    "target_vs_pred_df = pd.DataFrame()\n",
    "\n",
    "target_vs_pred_df['target'] = y_test\n",
    "target_vs_pred_df['predicted'] = y_pred\n",
    "\n",
    "target_vs_pred_df.sample(5)"
   ]
  },
  {
   "cell_type": "code",
   "execution_count": null,
   "id": "863c7a9a-8749-431a-8332-2bd3789c8e31",
   "metadata": {},
   "outputs": [],
   "source": []
  },
  {
   "cell_type": "code",
   "execution_count": null,
   "id": "fc80651a-2bc7-456f-ac8a-83ab48707c81",
   "metadata": {},
   "outputs": [],
   "source": []
  },
  {
   "cell_type": "markdown",
   "id": "d73f79bf-2131-4260-93d7-0652e1657910",
   "metadata": {},
   "source": [
    "### Metrics (Classification)\n",
    "\n",
    "The task can be understood as a multi-class ($5$) classification.\n",
    "\n",
    "Hence, we can calculate metrics like `F1`, `Presision` an `Recall` for separate classes (like in [that project on punctuation prediction](https://habr.com/ru/articles/581946/))."
   ]
  },
  {
   "cell_type": "code",
   "execution_count": 137,
   "id": "3d12ce35-8ef8-4560-84b9-e2eb4e754b65",
   "metadata": {},
   "outputs": [],
   "source": [
    "def return_separate_punct(target_vs_pred_df):\n",
    "    test_all_punc_target = []  # list of all punctuation\n",
    "    test_all_punc_preds = []\n",
    "    \n",
    "    for target_this, predicted_this in zip(target_vs_pred_df['target'], target_vs_pred_df['predicted']):\n",
    "        test_all_punc_target.extend(target_this.split(' '))\n",
    "        test_all_punc_preds.extend(predicted_this.split(' '))\n",
    "    \n",
    "    assert len(test_all_punc_target) == len(test_all_punc_preds)\n",
    "    \n",
    "    return test_all_punc_target, test_all_punc_preds"
   ]
  },
  {
   "cell_type": "code",
   "execution_count": 138,
   "id": "98f8d9df-3215-4123-9f81-22f0f462dfc1",
   "metadata": {},
   "outputs": [
    {
     "name": "stdout",
     "output_type": "stream",
     "text": [
      "Number of all punctuation marks in train dataset: 19264\n"
     ]
    }
   ],
   "source": [
    "test_all_punc_target, test_all_punc_preds = return_separate_punct(target_vs_pred_df)\n",
    "\n",
    "print(f'Number of all punctuation marks in train dataset: {len(test_all_punc_target)}')"
   ]
  },
  {
   "cell_type": "code",
   "execution_count": 156,
   "id": "9473443c-792f-4182-ba45-9880b16a6ebc",
   "metadata": {},
   "outputs": [
    {
     "name": "stderr",
     "output_type": "stream",
     "text": [
      "100%|█████████████████████████████████████████████| 5/5 [00:01<00:00,  3.47it/s]\n"
     ]
    }
   ],
   "source": [
    "n_experiments = 5  # perform several predictions\n",
    "\n",
    "for n in tqdm(range(n_experiments)):\n",
    "    y_pred = predict_statistic_model(X_test, intr_probas, end_probas)\n",
    "    \n",
    "    target_vs_pred_df = pd.DataFrame()\n",
    "    target_vs_pred_df['target'] = y_test\n",
    "    target_vs_pred_df['predicted'] = y_pred\n",
    "    \n",
    "    test_all_punc_target, test_all_punc_preds = return_separate_punct(target_vs_pred_df)\n",
    "\n",
    "    if n == 0:\n",
    "        cm = confusion_matrix(test_all_punc_target, test_all_punc_preds)\n",
    "        # precision = TP / (TP + FP)\n",
    "        precision = precision_score(test_all_punc_target, test_all_punc_preds, average=None, zero_division=np.nan)\n",
    "        # recall = TP / (TP + FN)\n",
    "        recall = recall_score(test_all_punc_target, test_all_punc_preds, average=None, zero_division=np.nan)\n",
    "        # f1 = 2TP / (2TP + FP + FN)\n",
    "        f1 = f1_score(test_all_punc_target, test_all_punc_preds, average=None)\n",
    "    else:\n",
    "        cm += confusion_matrix(test_all_punc_target, test_all_punc_preds)\n",
    "        precision += precision_score(test_all_punc_target, test_all_punc_preds, average=None, zero_division=np.nan)\n",
    "        recall += recall_score(test_all_punc_target, test_all_punc_preds, average=None, zero_division=np.nan)\n",
    "        f1 += f1_score(test_all_punc_target, test_all_punc_preds, average=None)"
   ]
  },
  {
   "cell_type": "code",
   "execution_count": 170,
   "id": "355a3fde-f272-4667-ba31-e6691e9874d4",
   "metadata": {},
   "outputs": [
    {
     "data": {
      "image/png": "[encoded data removed]",
      "text/plain": [
       "<Figure size 500x400 with 2 Axes>"
      ]
     },
     "metadata": {
      "image/png": {
       "height": 385,
       "width": 436
      }
     },
     "output_type": "display_data"
    }
   ],
   "source": [
    "fig, ax = plt.subplots(figsize=(5, 4))\n",
    "\n",
    "# create a confusion matrix\n",
    "# cm = confusion_matrix(test_all_punc_target, test_all_punc_preds) / n_experiments\n",
    "classes = sorted(END_PUNC + INTR_PUNC)  # alphabetic order\n",
    "\n",
    "# plot the confusion matrix\n",
    "sns.heatmap(cm / n_experiments, annot=True, fmt='g', xticklabels=classes, yticklabels=classes)\n",
    "plt.ylabel('Prediction', fontsize=lables_fs)\n",
    "plt.xlabel('Actual', fontsize=lables_fs)\n",
    "plt.title(f'Confusion Matrix ({n_experiments} exp.)', fontsize=lables_fs)\n",
    "plt.show()"
   ]
  },
  {
   "cell_type": "code",
   "execution_count": 158,
   "id": "4b944a00-b7ab-42bb-96ad-63ea2e292577",
   "metadata": {},
   "outputs": [],
   "source": [
    "# precision = TP / (TP + FP)\n",
    "# precision = precision_score(test_all_punc_target, test_all_punc_preds, average=None, zero_division=np.nan)\n",
    "precision = precision / n_experiments\n",
    "# recall = TP / (TP + FN)\n",
    "# recall = recall_score(test_all_punc_target, test_all_punc_preds, average=None, zero_division=np.nan)\n",
    "recall = recall / n_experiments\n",
    "# f1 = 2TP / (2TP + FP + FN)\n",
    "# f1 = f1_score(test_all_punc_target, test_all_punc_preds, average=None)\n",
    "f1 = f1 / n_experiments"
   ]
  },
  {
   "cell_type": "code",
   "execution_count": null,
   "id": "a4bafe0d-9c1d-4f99-9543-ba4d71ca048e",
   "metadata": {},
   "outputs": [],
   "source": []
  },
  {
   "cell_type": "code",
   "execution_count": 159,
   "id": "4b1e6c22-1302-41d3-ab84-46efebc4d73b",
   "metadata": {},
   "outputs": [
    {
     "name": "stdout",
     "output_type": "stream",
     "text": [
      "                  |comma (`,`)       |exclamation (`!`) |period (`.`)      |question (`?`)    |space (` `)       |\n",
      "------------------|------------------|------------------|------------------|------------------|------------------|\n",
      "Precision         |0.178359          |0.036377          |0.903420          |0.054386          |0.825783          |\n",
      "Recall            |0.178991          |0.033333          |0.900978          |0.060976          |0.825218          |\n",
      "F1 score          |0.178664          |0.034584          |0.902196          |0.057425          |0.825498          |\n"
     ]
    }
   ],
   "source": [
    "metrics_names = ['Precision', 'Recall', 'F1 score']\n",
    "metrics = {'Precision': precision, 'Recall': recall, 'F1 score': f1}\n",
    "col_w = 18\n",
    "\n",
    "print(' ' * col_w + '|' + ''.join([f\"{NAMES_PUNC[token] + (col_w - len(NAMES_PUNC[token])) * ' '}|\" for token in classes]))  # header\n",
    "print(''.join(['-' * col_w + '|' for _ in range(len(classes) + 1)]) )\n",
    "for ind, metric_name in enumerate(metrics_names):\n",
    "    row = f\"{metric_name + (col_w - len(metric_name)) * ' '}|\"\n",
    "    for score in metrics[metric_name]:\n",
    "        score_str = f'{score:.6f}'\n",
    "        row += f\"{score_str + (col_w - len(score_str)) * ' '}|\"\n",
    "    print(row)"
   ]
  },
  {
   "cell_type": "code",
   "execution_count": null,
   "id": "99e16ba5-5c37-4267-9788-8e95be79d790",
   "metadata": {},
   "outputs": [],
   "source": []
  },
  {
   "cell_type": "code",
   "execution_count": null,
   "id": "78183bb4-8411-4a3a-8025-7539d1968aed",
   "metadata": {},
   "outputs": [],
   "source": []
  },
  {
   "cell_type": "markdown",
   "id": "e05b72d1-f8ff-4ef1-89fa-3b43ea66b6b7",
   "metadata": {},
   "source": [
    "### Metrics (NLP)\n",
    "\n",
    "A **NLP metric** that can be used here is [_Levenshtein distance_](https://en.wikipedia.org/wiki/Levenshtein_distance) between target and predicted sequences of punctuation tokens."
   ]
  },
  {
   "cell_type": "code",
   "execution_count": 116,
   "id": "1e88b7b0-158c-432d-9a02-f8b6286337ef",
   "metadata": {},
   "outputs": [
    {
     "data": {
      "text/plain": [
       "2"
      ]
     },
     "execution_count": 116,
     "metadata": {},
     "output_type": "execute_result"
    }
   ],
   "source": [
    "# example\n",
    "levenshtein_distance('S S S S C S S S S P', 'S S S S S S S S C P')"
   ]
  },
  {
   "cell_type": "code",
   "execution_count": 163,
   "id": "f40b0801-a0f9-443d-acd0-947669be6b32",
   "metadata": {},
   "outputs": [
    {
     "name": "stderr",
     "output_type": "stream",
     "text": [
      "100%|███████████████████████████████████████████| 10/10 [00:01<00:00,  5.25it/s]\n"
     ]
    },
    {
     "data": {
      "text/html": [
       "<div>\n",
       "<style scoped>\n",
       "    .dataframe tbody tr th:only-of-type {\n",
       "        vertical-align: middle;\n",
       "    }\n",
       "\n",
       "    .dataframe tbody tr th {\n",
       "        vertical-align: top;\n",
       "    }\n",
       "\n",
       "    .dataframe thead th {\n",
       "        text-align: right;\n",
       "    }\n",
       "</style>\n",
       "<table border=\"1\" class=\"dataframe\">\n",
       "  <thead>\n",
       "    <tr style=\"text-align: right;\">\n",
       "      <th></th>\n",
       "      <th>target</th>\n",
       "      <th>predicted</th>\n",
       "      <th>levenshtein</th>\n",
       "    </tr>\n",
       "  </thead>\n",
       "  <tbody>\n",
       "    <tr>\n",
       "      <th>3158</th>\n",
       "      <td>S S S S S S C S S S C S S C S S S C S S S C S S P</td>\n",
       "      <td>S S S S S S S S C S S S S S S S S S C S C S S C P</td>\n",
       "      <td>7.3</td>\n",
       "    </tr>\n",
       "    <tr>\n",
       "      <th>2458</th>\n",
       "      <td>S S S C C C C S C S S P</td>\n",
       "      <td>S S S S S S S S S S S P</td>\n",
       "      <td>5.2</td>\n",
       "    </tr>\n",
       "    <tr>\n",
       "      <th>1417</th>\n",
       "      <td>S C S S S P</td>\n",
       "      <td>S S S S C P</td>\n",
       "      <td>1.7</td>\n",
       "    </tr>\n",
       "    <tr>\n",
       "      <th>1123</th>\n",
       "      <td>S S S S C S S S S S S P</td>\n",
       "      <td>C S S S S S S S S S S P</td>\n",
       "      <td>2.5</td>\n",
       "    </tr>\n",
       "    <tr>\n",
       "      <th>2425</th>\n",
       "      <td>S S S S S S S C S S S S S S S S P</td>\n",
       "      <td>S S S S S S S S C C S S C C S S Q</td>\n",
       "      <td>4.5</td>\n",
       "    </tr>\n",
       "  </tbody>\n",
       "</table>\n",
       "</div>"
      ],
      "text/plain": [
       "                                                 target  \\\n",
       "3158  S S S S S S C S S S C S S C S S S C S S S C S S P   \n",
       "2458                            S S S C C C C S C S S P   \n",
       "1417                                        S C S S S P   \n",
       "1123                            S S S S C S S S S S S P   \n",
       "2425                  S S S S S S S C S S S S S S S S P   \n",
       "\n",
       "                                              predicted  levenshtein  \n",
       "3158  S S S S S S S S C S S S S S S S S S C S C S S C P          7.3  \n",
       "2458                            S S S S S S S S S S S P          5.2  \n",
       "1417                                        S S S S C P          1.7  \n",
       "1123                            C S S S S S S S S S S P          2.5  \n",
       "2425                  S S S S S S S S C C S S C C S S Q          4.5  "
      ]
     },
     "execution_count": 163,
     "metadata": {},
     "output_type": "execute_result"
    }
   ],
   "source": [
    "n_levenshtein_experiments = 10\n",
    "\n",
    "target_vs_pred_df = pd.DataFrame()\n",
    "target_vs_pred_df['target'] = y_test\n",
    "\n",
    "for n in tqdm(range(n_levenshtein_experiments)):\n",
    "    y_pred = predict_statistic_model(X_test, intr_probas, end_probas)\n",
    "    \n",
    "    target_vs_pred_df['predicted'] = y_pred\n",
    "\n",
    "    if n == 0:\n",
    "        target_vs_pred_df['levenshtein'] = target_vs_pred_df.apply(\n",
    "            lambda row: levenshtein_distance(row.target, row.predicted),\n",
    "            axis = 1\n",
    "        )\n",
    "    else:\n",
    "        target_vs_pred_df['levenshtein'] = target_vs_pred_df.apply(\n",
    "            lambda row: row.levenshtein + levenshtein_distance(row.target, row.predicted),\n",
    "            axis = 1\n",
    "        )\n",
    "\n",
    "target_vs_pred_df['levenshtein'] /= n_levenshtein_experiments  # metrics averaging over experiments\n",
    "target_vs_pred_df.sample(5)"
   ]
  },
  {
   "cell_type": "code",
   "execution_count": 164,
   "id": "df7af599-39d7-4a28-82af-32e6ab381525",
   "metadata": {},
   "outputs": [
    {
     "name": "stdout",
     "output_type": "stream",
     "text": [
      "Levenshtein distance (10 exp.)\n",
      "\tMean: 3.708361658735554\n",
      "\tMIN : 0.7\n",
      "\tMAX : 9.8\n"
     ]
    }
   ],
   "source": [
    "print(f'Levenshtein distance ({n_levenshtein_experiments} exp.)')\n",
    "print(f\"\\tMean: {target_vs_pred_df['levenshtein'].mean()}\")\n",
    "print(f\"\\tMIN : {target_vs_pred_df['levenshtein'].min()}\")\n",
    "print(f\"\\tMAX : {target_vs_pred_df['levenshtein'].max()}\")"
   ]
  },
  {
   "cell_type": "code",
   "execution_count": 174,
   "id": "6f693e47-2082-4294-865b-77734a468efa",
   "metadata": {},
   "outputs": [
    {
     "name": "stdout",
     "output_type": "stream",
     "text": [
      "Mean length of sequence: 13.10\n"
     ]
    }
   ],
   "source": [
    "target_vs_pred_df['len'] = target_vs_pred_df.apply(\n",
    "    lambda row: len(row.target.split(' ')),\n",
    "    axis = 1\n",
    ")\n",
    "\n",
    "print(f\"Mean length of sequence: {target_vs_pred_df['len'].mean():.2f}\")"
   ]
  },
  {
   "cell_type": "code",
   "execution_count": null,
   "id": "a36c7a8b-1bf1-4dbb-9224-6732974519f1",
   "metadata": {},
   "outputs": [],
   "source": []
  }
 ],
 "metadata": {
  "kernelspec": {
   "display_name": "Python 3 (ipykernel)",
   "language": "python",
   "name": "python3"
  },
  "language_info": {
   "codemirror_mode": {
    "name": "ipython",
    "version": 3
   },
   "file_extension": ".py",
   "mimetype": "text/x-python",
   "name": "python",
   "nbconvert_exporter": "python",
   "pygments_lexer": "ipython3",
   "version": "3.8.10"
  }
 },
 "nbformat": 4,
 "nbformat_minor": 5
}
