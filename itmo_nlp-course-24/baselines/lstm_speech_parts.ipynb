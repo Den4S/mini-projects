{
 "cells": [
  {
   "cell_type": "code",
   "execution_count": 1,
   "id": "bec27689-79d8-489b-b3d8-274b107ba89c",
   "metadata": {},
   "outputs": [],
   "source": [
    "import numpy as np\n",
    "import pandas as pd"
   ]
  },
  {
   "cell_type": "code",
   "execution_count": 2,
   "id": "31143d6f-0687-4609-bd28-9d9a118f3ffa",
   "metadata": {},
   "outputs": [],
   "source": [
    "import random"
   ]
  },
  {
   "cell_type": "code",
   "execution_count": 3,
   "id": "8780560d-d6b1-4fb0-8a7c-571782958467",
   "metadata": {},
   "outputs": [],
   "source": [
    "from tqdm import tqdm"
   ]
  },
  {
   "cell_type": "code",
   "execution_count": 4,
   "id": "601a72f4-5145-4da8-a537-5785985a1e26",
   "metadata": {},
   "outputs": [],
   "source": [
    "import re\n",
    "import os"
   ]
  },
  {
   "cell_type": "code",
   "execution_count": 5,
   "id": "36e6f3dc-0e56-4ccb-99ea-01659b681810",
   "metadata": {},
   "outputs": [],
   "source": [
    "from collections import Counter"
   ]
  },
  {
   "cell_type": "code",
   "execution_count": 6,
   "id": "22deb06f-4b66-4d2f-9278-e320c26c9ef9",
   "metadata": {},
   "outputs": [],
   "source": [
    "from sklearn.model_selection import train_test_split"
   ]
  },
  {
   "cell_type": "markdown",
   "id": "a738b460-f4a6-41e6-9929-8dbd9a84cda6",
   "metadata": {},
   "source": [
    "#### PyTorch"
   ]
  },
  {
   "cell_type": "code",
   "execution_count": 7,
   "id": "ab4f9ae7-fc3d-4afc-a535-065d7bd3c5a1",
   "metadata": {},
   "outputs": [],
   "source": [
    "import torch\n",
    "import torch.nn as nn\n",
    "import torch.nn.functional as F\n",
    "import torch.optim as optim\n",
    "\n",
    "from torch.utils.data import Dataset, Subset\n",
    "\n",
    "import torch.optim as optim"
   ]
  },
  {
   "cell_type": "code",
   "execution_count": 8,
   "id": "cf26d683-401b-4ce2-b032-6b7fd9954d13",
   "metadata": {},
   "outputs": [],
   "source": [
    "import torchinfo"
   ]
  },
  {
   "cell_type": "markdown",
   "id": "970306e2-fe85-4630-ae28-b8bbe93acb54",
   "metadata": {},
   "source": [
    "#### Metrics"
   ]
  },
  {
   "cell_type": "code",
   "execution_count": 9,
   "id": "8b7212c8-30f2-4933-b133-cbcba342e01c",
   "metadata": {},
   "outputs": [],
   "source": [
    "from sklearn.metrics import confusion_matrix, precision_score, recall_score, f1_score"
   ]
  },
  {
   "cell_type": "code",
   "execution_count": 10,
   "id": "b21405f0-996b-482f-b1de-9121528d3135",
   "metadata": {},
   "outputs": [],
   "source": [
    "from Levenshtein import distance as levenshtein_distance"
   ]
  },
  {
   "cell_type": "markdown",
   "id": "8a72c105-3956-4ed8-affc-fdcdfb654e9b",
   "metadata": {},
   "source": [
    "#### Visualisation"
   ]
  },
  {
   "cell_type": "code",
   "execution_count": 11,
   "id": "c52bfaf6-d75d-4438-a0ed-0cf1061a17fc",
   "metadata": {},
   "outputs": [],
   "source": [
    "import matplotlib\n",
    "import matplotlib.pyplot as plt"
   ]
  },
  {
   "cell_type": "code",
   "execution_count": 12,
   "id": "1dd67038-6895-45fc-b7fd-3eb51f006c3b",
   "metadata": {},
   "outputs": [],
   "source": [
    "import scienceplots\n",
    "\n",
    "plt.style.use('science')\n",
    "%config InlineBackend.figure_format = 'retina'\n",
    "\n",
    "lables_fs = 16\n",
    "ticks_fs = 12"
   ]
  },
  {
   "cell_type": "code",
   "execution_count": 13,
   "id": "212e8323-a8c0-41e5-a4e0-04a1d6f6c6e0",
   "metadata": {},
   "outputs": [],
   "source": [
    "import seaborn as sns"
   ]
  },
  {
   "cell_type": "markdown",
   "id": "2bbf6a69-b8d5-435d-b829-272e0be8f057",
   "metadata": {},
   "source": [
    "## Load data"
   ]
  },
  {
   "cell_type": "code",
   "execution_count": 14,
   "id": "5b98b1a9-9a3a-47c0-b157-31ebfe1f4a9d",
   "metadata": {},
   "outputs": [],
   "source": [
    "prepared_dir = '../data/prepared'\n",
    "filename_csv = '01_punct_pushkin.csv'"
   ]
  },
  {
   "cell_type": "code",
   "execution_count": 15,
   "id": "0378d674-c10a-4faf-b014-3a88a7bc2477",
   "metadata": {},
   "outputs": [
    {
     "data": {
      "text/plain": [
       "(4456, 4)"
      ]
     },
     "execution_count": 15,
     "metadata": {},
     "output_type": "execute_result"
    }
   ],
   "source": [
    "# load saved dataset\n",
    "data_df = pd.read_csv(os.path.join(prepared_dir, filename_csv), index_col=0)\n",
    "data_df.shape"
   ]
  },
  {
   "cell_type": "code",
   "execution_count": 16,
   "id": "1bb8223c-596f-4926-bec4-03966f7de72f",
   "metadata": {},
   "outputs": [
    {
     "data": {
      "text/html": [
       "<div>\n",
       "<style scoped>\n",
       "    .dataframe tbody tr th:only-of-type {\n",
       "        vertical-align: middle;\n",
       "    }\n",
       "\n",
       "    .dataframe tbody tr th {\n",
       "        vertical-align: top;\n",
       "    }\n",
       "\n",
       "    .dataframe thead th {\n",
       "        text-align: right;\n",
       "    }\n",
       "</style>\n",
       "<table border=\"1\" class=\"dataframe\">\n",
       "  <thead>\n",
       "    <tr style=\"text-align: right;\">\n",
       "      <th></th>\n",
       "      <th>input</th>\n",
       "      <th>input_lemma</th>\n",
       "      <th>input_pos</th>\n",
       "      <th>target</th>\n",
       "    </tr>\n",
       "  </thead>\n",
       "  <tbody>\n",
       "    <tr>\n",
       "      <th>3233</th>\n",
       "      <td>он бы всех до единого переловил да и сам дубровский не вывернулся б и не откупился</td>\n",
       "      <td>он бы весь до единый переловить да и сам дубровский не вывернуться б и не откупиться</td>\n",
       "      <td>PRON AUX PRON ADP ADJ NOUN CCONJ CCONJ ADJ VERB PART VERB AUX CCONJ PART VERB</td>\n",
       "      <td>S S S S S C S S S S S S S S S P</td>\n",
       "    </tr>\n",
       "    <tr>\n",
       "      <th>435</th>\n",
       "      <td>конечно отвечал швабрин вы своею кровью будете отвечать мне за вашу дерзость но за нами вероятно станут присматривать</td>\n",
       "      <td>конечно отвечать швабрин вы свой кровь быть отвечать я за ваш дерзость но за мы вероятно стать присматривать</td>\n",
       "      <td>ADV VERB VERB PRON ADJ NOUN AUX VERB PRON ADP DET NOUN CCONJ ADP PRON ADV VERB NOUN</td>\n",
       "      <td>C S C S S S S S S S S C S S C C S P</td>\n",
       "    </tr>\n",
       "    <tr>\n",
       "      <th>3262</th>\n",
       "      <td>я не могу дормир в потемках</td>\n",
       "      <td>я не мочь дормир в потемки</td>\n",
       "      <td>PRON PART VERB VERB ADP NOUN</td>\n",
       "      <td>S S C C S P</td>\n",
       "    </tr>\n",
       "    <tr>\n",
       "      <th>4346</th>\n",
       "      <td>заря едва занималась как он уже был одет</td>\n",
       "      <td>заря едва заниматься как он уже быть одеть</td>\n",
       "      <td>NOUN PART VERB SCONJ PRON ADV AUX VERB</td>\n",
       "      <td>S S C S S S S P</td>\n",
       "    </tr>\n",
       "    <tr>\n",
       "      <th>1432</th>\n",
       "      <td>меня привезли в крепость уцелевшую посереди сгоревшего города</td>\n",
       "      <td>я привезти в крепость уцелеть посереди сгореть город</td>\n",
       "      <td>PRON VERB ADP NOUN ADJ ADJ VERB NOUN</td>\n",
       "      <td>S S S C S S S P</td>\n",
       "    </tr>\n",
       "  </tbody>\n",
       "</table>\n",
       "</div>"
      ],
      "text/plain": [
       "                                                                                                                      input  \\\n",
       "3233                                     он бы всех до единого переловил да и сам дубровский не вывернулся б и не откупился   \n",
       "435   конечно отвечал швабрин вы своею кровью будете отвечать мне за вашу дерзость но за нами вероятно станут присматривать   \n",
       "3262                                                                                            я не могу дормир в потемках   \n",
       "4346                                                                               заря едва занималась как он уже был одет   \n",
       "1432                                                          меня привезли в крепость уцелевшую посереди сгоревшего города   \n",
       "\n",
       "                                                                                                       input_lemma  \\\n",
       "3233                          он бы весь до единый переловить да и сам дубровский не вывернуться б и не откупиться   \n",
       "435   конечно отвечать швабрин вы свой кровь быть отвечать я за ваш дерзость но за мы вероятно стать присматривать   \n",
       "3262                                                                                    я не мочь дормир в потемки   \n",
       "4346                                                                    заря едва заниматься как он уже быть одеть   \n",
       "1432                                                          я привезти в крепость уцелеть посереди сгореть город   \n",
       "\n",
       "                                                                                input_pos  \\\n",
       "3233        PRON AUX PRON ADP ADJ NOUN CCONJ CCONJ ADJ VERB PART VERB AUX CCONJ PART VERB   \n",
       "435   ADV VERB VERB PRON ADJ NOUN AUX VERB PRON ADP DET NOUN CCONJ ADP PRON ADV VERB NOUN   \n",
       "3262                                                         PRON PART VERB VERB ADP NOUN   \n",
       "4346                                               NOUN PART VERB SCONJ PRON ADV AUX VERB   \n",
       "1432                                                 PRON VERB ADP NOUN ADJ ADJ VERB NOUN   \n",
       "\n",
       "                                   target  \n",
       "3233      S S S S S C S S S S S S S S S P  \n",
       "435   C S C S S S S S S S S C S S C C S P  \n",
       "3262                          S S C C S P  \n",
       "4346                      S S C S S S S P  \n",
       "1432                      S S S C S S S P  "
      ]
     },
     "execution_count": 16,
     "metadata": {},
     "output_type": "execute_result"
    }
   ],
   "source": [
    "pd.options.display.max_colwidth = 150\n",
    "data_df.sample(5)"
   ]
  },
  {
   "cell_type": "markdown",
   "id": "0c46f9c1-c8c3-4dd9-b63a-213d8edf16ab",
   "metadata": {},
   "source": [
    "## Dataset\n",
    "\n",
    "**In that baseline** we will use sequences of _speech parts_ (`input_pos`) as input"
   ]
  },
  {
   "cell_type": "code",
   "execution_count": 17,
   "id": "ae4841b9-fb13-4482-81db-c343f40e3ef6",
   "metadata": {},
   "outputs": [],
   "source": [
    "# splitting_random_state = 78\n",
    "# test_size = 0.25\n",
    "\n",
    "# X_train, X_test, y_train, y_test = train_test_split(\n",
    "#     data_df['input_pos'], data_df['target'],\n",
    "#     test_size=test_size,\n",
    "#     random_state=splitting_random_state\n",
    "# )\n",
    "\n",
    "# print(f'Train size : {X_train.shape[0]}')\n",
    "# print(f'Test size  : {X_test.shape[0]}')"
   ]
  },
  {
   "cell_type": "code",
   "execution_count": 18,
   "id": "e1c88359-82e4-4dc7-a166-8eff1c66d69a",
   "metadata": {},
   "outputs": [
    {
     "name": "stdout",
     "output_type": "stream",
     "text": [
      "{'ADP': 0, 'DET': 1, 'NOUN': 2, 'VERB': 3, 'PRON': 4, 'ADJ': 5, 'ADV': 6, 'CCONJ': 7, 'AUX': 8, 'SCONJ': 9, 'PART': 10, 'X': 11, 'NUM': 12, 'PROPN': 13, 'PUNCT': 14}\n"
     ]
    }
   ],
   "source": [
    "pos_to_ix = {}  # part of speech (`pos`) to index dict\n",
    "\n",
    "for pos_seq in data_df['input_pos']:\n",
    "    for pos in pos_seq.split(' '):\n",
    "        if pos not in pos_to_ix:\n",
    "            pos_to_ix[pos] = len(pos_to_ix)\n",
    "\n",
    "print(pos_to_ix)"
   ]
  },
  {
   "cell_type": "code",
   "execution_count": 19,
   "id": "eef43e8f-df2b-4e19-9684-20bca487e79c",
   "metadata": {},
   "outputs": [
    {
     "data": {
      "text/plain": [
       "15"
      ]
     },
     "execution_count": 19,
     "metadata": {},
     "output_type": "execute_result"
    }
   ],
   "source": [
    "len(pos_to_ix)"
   ]
  },
  {
   "cell_type": "code",
   "execution_count": 20,
   "id": "2c246d3e-f07c-4fcc-b0af-3be062e3c6fc",
   "metadata": {},
   "outputs": [],
   "source": [
    "tag_to_ix = {\n",
    "    'S':  0, # space (` `)\n",
    "    'C':  1, # comma (`,`)\n",
    "    'P':  2, # period (`.`)\n",
    "    'EX': 3, # exclamation (`!`)\n",
    "    'Q':  4  # question (`?`)\n",
    "}\n",
    "\n",
    "ix_to_tag = {ix: tag for tag, ix in tag_to_ix.items()}"
   ]
  },
  {
   "cell_type": "code",
   "execution_count": 21,
   "id": "02eb9862-69b7-4c46-9fe7-f0f461fbc6da",
   "metadata": {},
   "outputs": [
    {
     "data": {
      "text/plain": [
       "'VERB SCONJ NOUN VERB PRON DET NOUN'"
      ]
     },
     "execution_count": 21,
     "metadata": {},
     "output_type": "execute_result"
    }
   ],
   "source": [
    "data_df.iloc[10]['input_pos']"
   ]
  },
  {
   "cell_type": "code",
   "execution_count": 22,
   "id": "2b77ce80-cf70-4317-a702-fdf2e47eb163",
   "metadata": {},
   "outputs": [],
   "source": [
    "class PosSeqDataset(Dataset):\n",
    "\n",
    "    def __init__(self, df, pos_to_ix, tag_to_ix, train_ratio=0.8, split_seed=None):\n",
    "\n",
    "        self.df = df  # dataframe with data\n",
    "        \n",
    "        self.pos_to_ix = pos_to_ix\n",
    "        self.tag_to_ix = tag_to_ix\n",
    "\n",
    "        self.train_ratio = train_ratio\n",
    "        self.split_seed = split_seed\n",
    "\n",
    "        self.data_splitting()\n",
    "\n",
    "    def data_splitting(self):\n",
    "        n_all_sentences = self.df.shape[0]  # numer of all sentences\n",
    "\n",
    "        self.train_ids, self.test_ids = train_test_split(\n",
    "            np.arange(n_all_sentences),  # array of all indecies\n",
    "            train_size=self.train_ratio, \n",
    "            random_state=self.split_seed  # can be None\n",
    "        )\n",
    "\n",
    "    def __len__(self):\n",
    "        return self.df.shape[0]\n",
    "\n",
    "    def __getitem__(self, ind):\n",
    "        input_seq, target_seq = self.df.iloc[ind]['input_pos'], self.df.iloc[ind]['target']\n",
    "\n",
    "        input_to_ix = torch.LongTensor([self.pos_to_ix[pos] for pos in input_seq.split(' ')])\n",
    "        target_to_ix = torch.LongTensor([self.tag_to_ix[mark] for mark in target_seq.split(' ')])\n",
    "        \n",
    "        return input_to_ix, target_to_ix"
   ]
  },
  {
   "cell_type": "code",
   "execution_count": 23,
   "id": "d5e55ad6-1b9c-4f03-b40a-3aff501543dc",
   "metadata": {},
   "outputs": [],
   "source": [
    "splitting_random_state = 78\n",
    "test_ratio = 0.25\n",
    "\n",
    "data_ds = PosSeqDataset(\n",
    "    data_df,\n",
    "    pos_to_ix, tag_to_ix,\n",
    "    train_ratio=1 - test_ratio,\n",
    "    split_seed=splitting_random_state\n",
    ")"
   ]
  },
  {
   "cell_type": "code",
   "execution_count": 24,
   "id": "adab42ee-2977-48ab-84aa-5b50c52093b1",
   "metadata": {},
   "outputs": [
    {
     "data": {
      "text/plain": [
       "(tensor([2, 2, 3, 4, 0, 4, 6, 2, 5, 5, 2]),\n",
       " tensor([0, 1, 0, 0, 0, 1, 1, 0, 1, 1, 2]))"
      ]
     },
     "execution_count": 24,
     "metadata": {},
     "output_type": "execute_result"
    }
   ],
   "source": [
    "data_ds[5]"
   ]
  },
  {
   "cell_type": "markdown",
   "id": "a840b8a7-c4bc-490e-87c1-508be8a93331",
   "metadata": {},
   "source": [
    "### Data splitting"
   ]
  },
  {
   "cell_type": "code",
   "execution_count": 25,
   "id": "47a8c7d5-05e3-498a-8539-74e564b585fe",
   "metadata": {},
   "outputs": [
    {
     "name": "stdout",
     "output_type": "stream",
     "text": [
      "Train size : 3342\n",
      "Test size  : 1114\n"
     ]
    }
   ],
   "source": [
    "# DATA SPLITTING (by ready indices)\n",
    "train_ds = Subset(data_ds, data_ds.train_ids)\n",
    "test_ds = Subset(data_ds, data_ds.test_ids)\n",
    "\n",
    "print(f'Train size : {len(train_ds)}')\n",
    "print(f'Test size  : {len(test_ds)}')"
   ]
  },
  {
   "cell_type": "code",
   "execution_count": 26,
   "id": "28cc87fe-d177-419d-a757-3250deaaab5b",
   "metadata": {},
   "outputs": [],
   "source": [
    "# DATALOADERS\n",
    "train_loader = torch.utils.data.DataLoader(\n",
    "    train_ds,\n",
    "    batch_size=1,\n",
    "    shuffle=True,\n",
    "    # num_workers=2,\n",
    "    drop_last=False,\n",
    ")\n",
    "val_loader = torch.utils.data.DataLoader(\n",
    "    test_ds,\n",
    "    batch_size=1,\n",
    "    shuffle=False,\n",
    "    # num_workers=2,\n",
    "    drop_last=False,\n",
    ")"
   ]
  },
  {
   "cell_type": "code",
   "execution_count": null,
   "id": "73e4ac72-5b48-4a5f-b0db-95e90184b0b2",
   "metadata": {},
   "outputs": [],
   "source": []
  },
  {
   "cell_type": "markdown",
   "id": "d694aba4-2912-441a-bd22-33f636c5dce8",
   "metadata": {},
   "source": [
    "## Model"
   ]
  },
  {
   "cell_type": "code",
   "execution_count": 27,
   "id": "23edabe4-db5d-4d77-9f7a-65c2cc815f6e",
   "metadata": {},
   "outputs": [],
   "source": [
    "class LSTM_POS(nn.Module):\n",
    "\n",
    "    def __init__(self, vocab_size, num_tags, embedding_dim, hidden_dim, lstm_num_layers=1):\n",
    "        super().__init__()\n",
    "        self.vocab_size = vocab_size  # number of POS\n",
    "        self.tagset_size = num_tags  # number of punctuation marks to predict\n",
    "\n",
    "        self.embedding_dim = embedding_dim\n",
    "        self.hidden_dim = hidden_dim  # lstm hidden\n",
    "\n",
    "        self.word_embeds = nn.Embedding(vocab_size, embedding_dim)\n",
    "\n",
    "        self.lstm_h = None  # hidden state\n",
    "        self.lstm_num_layers = lstm_num_layers\n",
    "        \n",
    "        self.lstm = nn.LSTM(\n",
    "            embedding_dim,\n",
    "            hidden_dim // 2,  # for bidirectional LSTM\n",
    "            num_layers=self.lstm_num_layers,\n",
    "            bidirectional=True\n",
    "        )\n",
    "\n",
    "        # Maps the output of the LSTM into tag space.\n",
    "        self.hidden2tag = nn.Linear(hidden_dim, self.tagset_size)\n",
    "\n",
    "\n",
    "    def forward(self, sentences):\n",
    "        batch_size = sentences.shape[0]\n",
    "        out = self.word_embeds(sentences)\n",
    "        \n",
    "        out, self.lstm_h = self.lstm(out, self.lstm_h)\n",
    "        # self.lstm_h = lstm_h.detach()\n",
    "        \n",
    "        out = torch.stack(\n",
    "            [\n",
    "                F.log_softmax(self.hidden2tag(out[i]), dim=-1)  # for NLLLoss\n",
    "                for i in range(out.shape[0])\n",
    "            ]\n",
    "        )\n",
    "        \n",
    "        return out\n",
    "\n",
    "    def reset_hidden(self, seq_len, device):\n",
    "        h1 = torch.zeros(self.lstm_num_layers*2, seq_len, self.hidden_dim // 2).to(device)\n",
    "        h2 = torch.zeros(self.lstm_num_layers*2, seq_len, self.hidden_dim // 2).to(device)\n",
    "        self.lstm_h = (h1, h2)"
   ]
  },
  {
   "cell_type": "code",
   "execution_count": 28,
   "id": "b0988d88-93ec-4a1e-90f0-20cefa982f46",
   "metadata": {},
   "outputs": [
    {
     "data": {
      "text/plain": [
       "==========================================================================================\n",
       "Layer (type:depth-idx)                   Output Shape              Param #\n",
       "==========================================================================================\n",
       "LSTM_POS                                 [5, 14, 5]                --\n",
       "├─Embedding: 1-1                         [5, 14, 3]                45\n",
       "├─LSTM: 1-2                              [5, 14, 100]              82,800\n",
       "├─Linear: 1-3                            [14, 5]                   505\n",
       "├─Linear: 1-4                            [14, 5]                   (recursive)\n",
       "├─Linear: 1-5                            [14, 5]                   (recursive)\n",
       "├─Linear: 1-6                            [14, 5]                   (recursive)\n",
       "├─Linear: 1-7                            [14, 5]                   (recursive)\n",
       "==========================================================================================\n",
       "Total params: 83,350\n",
       "Trainable params: 83,350\n",
       "Non-trainable params: 0\n",
       "Total mult-adds (M): 5.83\n",
       "==========================================================================================\n",
       "Input size (MB): 0.00\n",
       "Forward/backward pass size (MB): 0.06\n",
       "Params size (MB): 0.33\n",
       "Estimated Total Size (MB): 0.39\n",
       "=========================================================================================="
      ]
     },
     "execution_count": 28,
     "metadata": {},
     "output_type": "execute_result"
    }
   ],
   "source": [
    "model_info = LSTM_POS(\n",
    "    vocab_size=len(pos_to_ix),\n",
    "    num_tags=len(tag_to_ix), \n",
    "    embedding_dim=3,\n",
    "    hidden_dim=100,\n",
    "    lstm_num_layers=2\n",
    ")\n",
    "\n",
    "len_sent = 14\n",
    "batch_size = 5\n",
    "torchinfo.summary(model_info, (batch_size, len_sent), dtypes=[torch.long], device='cpu')"
   ]
  },
  {
   "cell_type": "markdown",
   "id": "d4004a54-db75-4393-bfc5-ba86e494ae7f",
   "metadata": {},
   "source": [
    "### Loops for training and evaluating the model"
   ]
  },
  {
   "cell_type": "code",
   "execution_count": 29,
   "id": "c595dfb6-154a-49b2-8c07-51769c7094ac",
   "metadata": {},
   "outputs": [],
   "source": [
    "def train_fn(model, data_loader, loss_func, optimizer, device='cpu', show_process=False):\n",
    "    model.train()  # activate 'train' mode of a model\n",
    "    train_loss = []  # to store loss for each batch\n",
    "\n",
    "    for X, y in tqdm(data_loader, total=len(data_loader),\n",
    "                     desc='train', position=0,\n",
    "                     leave=True, disable=not show_process):   # [X, y] - batch\n",
    "        X, y = X.to(device), y.to(device)\n",
    "        \n",
    "        seq_len = X.shape[1]  # we will use bs = 1\n",
    "        model.reset_hidden(seq_len, device)\n",
    "        \n",
    "        optimizer.zero_grad()\n",
    "        y_hat = model(X)  # for rnn Neural Network output: [prediction, hidden]\n",
    "        y_hat = y_hat.permute(0, 2, 1)  # torch.Tensor(torch.argmax(y_hat, dim=2))\n",
    "        \n",
    "        loss = loss_func(y_hat, y)  # loss calculation for the batch\n",
    "        loss.backward()\n",
    "        optimizer.step()\n",
    "\n",
    "        train_loss.append(loss.item())  # accumulate losses for batches\n",
    "\n",
    "    return np.mean(train_loss)  # return mean loss of the epoch\n",
    "\n",
    "\n",
    "def validate_fn(model, data_loader, loss_func, device='cpu', show_process=False):\n",
    "    model.eval()  # activate 'eval' mode of a model\n",
    "    val_loss = []  # to store loss for each batch\n",
    "\n",
    "    for X, y in tqdm(data_loader, total=len(data_loader),\n",
    "                     desc='validation', position=0,\n",
    "                     leave=True, disable=not show_process):   # [X, y] - batch\n",
    "        X, y = X.to(device), y.to(device)\n",
    "\n",
    "        seq_len = X.shape[1]  # we will use bs = 1\n",
    "        model.reset_hidden(seq_len, device)\n",
    "        \n",
    "        with torch.no_grad():\n",
    "            y_hat = model(X)  # for rnn Neural Network output: [prediction, hidden]\n",
    "            y_hat = y_hat.permute(0, 2, 1)\n",
    "            \n",
    "            loss = loss_func(y_hat, y)\n",
    "\n",
    "        val_loss.append(loss.item())  # accumulate losses for batches\n",
    "\n",
    "    return np.mean(val_loss)"
   ]
  },
  {
   "cell_type": "code",
   "execution_count": null,
   "id": "db354828-8eff-4a17-89db-ce1084d3f89c",
   "metadata": {},
   "outputs": [],
   "source": []
  },
  {
   "cell_type": "markdown",
   "id": "d838f8f9-0dd3-4728-8506-e6d7648e5960",
   "metadata": {},
   "source": [
    "### Training"
   ]
  },
  {
   "cell_type": "code",
   "execution_count": 30,
   "id": "f19f9078-7fc1-4102-95a3-60298dc887db",
   "metadata": {},
   "outputs": [],
   "source": [
    "device = torch.device('cuda' if torch.cuda.is_available() else 'cpu')"
   ]
  },
  {
   "cell_type": "code",
   "execution_count": 31,
   "id": "d234ac4a-143f-44c1-865c-87fce21234e4",
   "metadata": {},
   "outputs": [],
   "source": [
    "lstm_pos = LSTM_POS(\n",
    "    vocab_size=len(pos_to_ix),\n",
    "    num_tags=len(tag_to_ix), \n",
    "    embedding_dim=3,\n",
    "    hidden_dim=64,\n",
    "    lstm_num_layers=1\n",
    ")"
   ]
  },
  {
   "cell_type": "code",
   "execution_count": 32,
   "id": "6790fe8b-b741-4ee0-8724-04b6a64969b1",
   "metadata": {},
   "outputs": [
    {
     "name": "stderr",
     "output_type": "stream",
     "text": [
      "/Users/giyuu/science-phd/git-projects/mini-projects/itmo_nlp-course-24/venv/lib/python3.8/site-packages/torch/optim/lr_scheduler.py:28: UserWarning: The verbose parameter is deprecated. Please use get_last_lr() to access the learning rate.\n",
      "  warnings.warn(\"The verbose parameter is deprecated. Please use get_last_lr() \"\n"
     ]
    }
   ],
   "source": [
    "optimizer = torch.optim.RMSprop(lstm_pos.parameters(), lr=0.5)  # , weight_decay=1e-4\n",
    "scheduler = torch.optim.lr_scheduler.ReduceLROnPlateau(\n",
    "    optimizer,\n",
    "    factor=0.2,  # default: 0.1\n",
    "    patience=5,  # default: 10\n",
    "    verbose=False\n",
    ")"
   ]
  },
  {
   "cell_type": "code",
   "execution_count": 33,
   "id": "e62d378f-0d63-43fc-8e9b-12d357c1b8f0",
   "metadata": {},
   "outputs": [
    {
     "data": {
      "text/plain": [
       "{0: 33866, 1: 7150, 2: 3027, 3: 136, 4: 179}"
      ]
     },
     "execution_count": 33,
     "metadata": {},
     "output_type": "execute_result"
    }
   ],
   "source": [
    "# define weights for the loss function?\n",
    "train_marks_count = {ix: 0 for ix in tag_to_ix.values()}\n",
    "\n",
    "for X, y in train_ds:\n",
    "    for ix in y:\n",
    "        train_marks_count[ix.item()] += 1\n",
    "\n",
    "train_marks_count"
   ]
  },
  {
   "cell_type": "code",
   "execution_count": 34,
   "id": "46577336-6790-4cc7-99ce-39e647c659d5",
   "metadata": {},
   "outputs": [
    {
     "name": "stdout",
     "output_type": "stream",
     "text": [
      "{0: 1.0, 1: 4.736503496503497, 2: 11.18797489263297, 3: 249.01470588235293, 4: 189.19553072625698}\n"
     ]
    }
   ],
   "source": [
    "max_count = max(train_marks_count.values())\n",
    "\n",
    "train_marks_weights = {ix: max_count / train_marks_count[ix] for ix in tag_to_ix.values()}\n",
    "punc_weights = torch.Tensor(list(train_marks_weights.values()))\n",
    "\n",
    "print(train_marks_weights)"
   ]
  },
  {
   "cell_type": "code",
   "execution_count": 35,
   "id": "83b014ca-9e7c-4cac-80e4-db43126ed29a",
   "metadata": {},
   "outputs": [],
   "source": [
    "loss_func = nn.NLLLoss(weight=punc_weights)  # loss function with weights"
   ]
  },
  {
   "cell_type": "code",
   "execution_count": 36,
   "id": "81229105-84f3-4983-9278-3c1294ae6c54",
   "metadata": {},
   "outputs": [
    {
     "name": "stdout",
     "output_type": "stream",
     "text": [
      "Epoch 1:\ttrain - 9.5787; \tval - 5.5228\n",
      "Epoch 5:\ttrain - 7.7271; \tval - 7.8969\n",
      "Epoch 10:\ttrain - 2.0114; \tval - 2.7892\n",
      "Epoch 15:\ttrain - 1.9873; \tval - 1.9032\n",
      "Epoch 20:\ttrain - 1.9935; \tval - 3.5312\n",
      "Epoch 25:\ttrain - 1.3494; \tval - 1.3951\n",
      "Epoch 30:\ttrain - 1.3463; \tval - 1.4037\n",
      "Epoch 35:\ttrain - 1.2574; \tval - 1.3362\n",
      "Epoch 40:\ttrain - 1.2576; \tval - 1.3418\n",
      "Epoch 45:\ttrain - 1.2393; \tval - 1.3296\n",
      "Epoch 50:\ttrain - 1.2350; \tval - 1.3267\n",
      "Epoch 55:\ttrain - 1.2341; \tval - 1.3266\n",
      "Epoch 60:\ttrain - 1.2349; \tval - 1.3272\n",
      "Epoch 65:\ttrain - 1.2336; \tval - 1.3254\n",
      "Epoch 70:\ttrain - 1.2335; \tval - 1.3249\n",
      "Epoch 75:\ttrain - 1.2339; \tval - 1.3247\n",
      "Epoch 80:\ttrain - 1.2344; \tval - 1.3247\n",
      "Epoch 85:\ttrain - 1.2344; \tval - 1.3247\n",
      "Epoch 90:\ttrain - 1.2344; \tval - 1.3247\n",
      "Epoch 95:\ttrain - 1.2344; \tval - 1.3247\n",
      "Epoch 100:\ttrain - 1.2344; \tval - 1.3247\n",
      "CPU times: user 9min 7s, sys: 16min 40s, total: 25min 48s\n",
      "Wall time: 3min 37s\n"
     ]
    }
   ],
   "source": [
    "%%time\n",
    "\n",
    "n_epochs = 100\n",
    "show_process = True\n",
    "print_each = 5\n",
    "\n",
    "train_loss_history = []\n",
    "test_loss_history = []\n",
    "\n",
    "for epoch in range(n_epochs):\n",
    "    if show_process and ((epoch == 0) or ((epoch + 1) % print_each == 0)):\n",
    "        print(f'Epoch {epoch + 1}:', end='')\n",
    "    mean_train_loss = train_fn(lstm_pos, train_loader, loss_func,\n",
    "                               optimizer,\n",
    "                               device=device,\n",
    "                               show_process=False\n",
    "                              )  # train the model\n",
    "    mean_val_loss = validate_fn(lstm_pos, val_loader, loss_func,\n",
    "                                device=device,\n",
    "                                show_process=False\n",
    "                               )  # evaluate the model\n",
    "\n",
    "    train_loss_history.append(mean_train_loss)  # loss history\n",
    "    test_loss_history.append(mean_val_loss)\n",
    "    \n",
    "    if show_process and ((epoch == 0) or ((epoch + 1) % print_each == 0)):  # bs=1\n",
    "        log_info = (f'\\ttrain - {mean_train_loss:.4f}; ' +\n",
    "                    f'\\tval - {mean_val_loss:.4f}'\n",
    "                   )\n",
    "        print(log_info)\n",
    "\n",
    "    if scheduler:\n",
    "        scheduler.step(mean_val_loss)"
   ]
  },
  {
   "cell_type": "code",
   "execution_count": 37,
   "id": "dc59d5b7-816f-4df6-bd95-ea9c46371ec0",
   "metadata": {},
   "outputs": [
    {
     "data": {
      "image/png": "[encoded data removed]",
      "text/plain": [
       "<Figure size 500x350 with 1 Axes>"
      ]
     },
     "metadata": {
      "image/png": {
       "height": 326,
       "width": 435
      }
     },
     "output_type": "display_data"
    }
   ],
   "source": [
    "# plot process\n",
    "fig, (ax0) = plt.subplots(1, 1, figsize=(5, 3.5))\n",
    "\n",
    "ax0.plot(\n",
    "    np.arange(1, n_epochs + 1), train_loss_history, \n",
    "    c='cornflowerblue', linestyle='solid', lw=1, label='train'\n",
    ")\n",
    "ax0.plot(\n",
    "    np.arange(1, n_epochs + 1), test_loss_history, \n",
    "    c='salmon', linestyle='dashed', lw=1, label='test'\n",
    ")\n",
    "\n",
    "ax0.set_ylabel('NLLLoss', fontsize=lables_fs)\n",
    "ax0.set_xlabel(r'$N_{\\text{epoch}}$', fontsize=lables_fs)\n",
    "\n",
    "ax0.tick_params(axis='both', which='major', labelsize=ticks_fs)\n",
    "ax0.set_facecolor('w')\n",
    "# ax0.axis('equal')\n",
    "\n",
    "ax0.grid(True)\n",
    "ax0.grid(color='silver', linestyle='--', linewidth=0.5)\n",
    "\n",
    "lg = ax0.legend(loc='upper right', fontsize=ticks_fs)\n",
    "\n",
    "plt.show() "
   ]
  },
  {
   "cell_type": "code",
   "execution_count": 40,
   "id": "b34f4ba1-0644-4311-aec7-9bc084ae2643",
   "metadata": {},
   "outputs": [
    {
     "data": {
      "image/png": "[encoded data removed]",
      "text/plain": [
       "<Figure size 500x350 with 1 Axes>"
      ]
     },
     "metadata": {
      "image/png": {
       "height": 331,
       "width": 468
      }
     },
     "output_type": "display_data"
    }
   ],
   "source": [
    "fig, (ax0) = plt.subplots(1, 1, figsize=(5, 3.5))\n",
    "\n",
    "ax0.plot(\n",
    "    np.arange(1, n_epochs + 1), train_loss_history, \n",
    "    c='cornflowerblue', linestyle='solid', lw=1, label='train'\n",
    ")\n",
    "ax0.plot(\n",
    "    np.arange(1, n_epochs + 1), test_loss_history, \n",
    "    c='salmon', linestyle='dashed', lw=1, label='test'\n",
    ")\n",
    "\n",
    "ax0.set_ylabel('NLLLoss', fontsize=lables_fs)\n",
    "ax0.set_xlabel(r'$N_{\\text{epoch}}$', fontsize=lables_fs)\n",
    "\n",
    "ax0.tick_params(axis='both', which='major', labelsize=ticks_fs)\n",
    "ax0.set_facecolor('w')\n",
    "\n",
    "ax0.set_xlim([20, 100])\n",
    "ax0.set_ylim([1.1, 1.5])\n",
    "\n",
    "ax0.grid(True)\n",
    "ax0.grid(color='silver', linestyle='--', linewidth=0.5)\n",
    "\n",
    "lg = ax0.legend(loc='upper right', fontsize=ticks_fs)\n",
    "\n",
    "plt.show() "
   ]
  },
  {
   "cell_type": "markdown",
   "id": "8d363d37-892a-4703-81b8-1323f4ba4872",
   "metadata": {},
   "source": [
    "### Metrics"
   ]
  },
  {
   "cell_type": "code",
   "execution_count": 41,
   "id": "44438b94-c305-475d-9bf3-578b823f9909",
   "metadata": {
    "scrolled": true
   },
   "outputs": [],
   "source": [
    "all_test_targets = []  # by markers\n",
    "all_test_preds = []\n",
    "\n",
    "lstm_pos.eval()\n",
    "\n",
    "for X, y in val_loader:\n",
    "    \n",
    "    X, y = X.to(device), y.to(device)\n",
    "    seq_len = X.shape[1]  # we will use bs = 1\n",
    "    lstm_pos.reset_hidden(seq_len, device)\n",
    "\n",
    "    with torch.no_grad():\n",
    "        y_hat = lstm_pos(X)\n",
    "        pred = torch.argmax(y_hat, dim=2)\n",
    "\n",
    "    all_test_targets.append(' '.join([ix_to_tag[ix.item()] for ix in y[0]]))\n",
    "    all_test_preds.append(' '.join([ix_to_tag[ix.item()] for ix in pred[0]]))"
   ]
  },
  {
   "cell_type": "code",
   "execution_count": 42,
   "id": "74d853c0-e565-4337-86fb-34ff04530649",
   "metadata": {},
   "outputs": [],
   "source": [
    "target_vs_pred_df = pd.DataFrame()\n",
    "\n",
    "target_vs_pred_df['target'] = all_test_targets\n",
    "target_vs_pred_df['predicted'] = all_test_preds"
   ]
  },
  {
   "cell_type": "markdown",
   "id": "23f00dce-25e1-4e9c-9bb6-c116c0637606",
   "metadata": {},
   "source": [
    "#### Precision, Recall, $F_1$"
   ]
  },
  {
   "cell_type": "code",
   "execution_count": 43,
   "id": "80d84305-bb59-4d62-a891-bdfef187f82b",
   "metadata": {},
   "outputs": [],
   "source": [
    "def return_separate_punct(target_vs_pred_df):\n",
    "    test_all_punc_target = []  # list of all punctuation\n",
    "    test_all_punc_preds = []\n",
    "    \n",
    "    for target_this, predicted_this in zip(target_vs_pred_df['target'], target_vs_pred_df['predicted']):\n",
    "        test_all_punc_target.extend(target_this.split(' '))\n",
    "        test_all_punc_preds.extend(predicted_this.split(' '))\n",
    "    \n",
    "    assert len(test_all_punc_target) == len(test_all_punc_preds)\n",
    "    \n",
    "    return test_all_punc_target, test_all_punc_preds"
   ]
  },
  {
   "cell_type": "code",
   "execution_count": 44,
   "id": "3aa3cc4d-d980-4b6c-8852-127f249d940a",
   "metadata": {},
   "outputs": [],
   "source": [
    "test_all_punc_target, test_all_punc_preds = return_separate_punct(target_vs_pred_df)\n",
    "\n",
    "cm = confusion_matrix(test_all_punc_target, test_all_punc_preds)\n",
    "# precision = TP / (TP + FP)\n",
    "precision = precision_score(test_all_punc_target, test_all_punc_preds, average=None, zero_division=np.nan)\n",
    "# recall = TP / (TP + FN)\n",
    "recall = recall_score(test_all_punc_target, test_all_punc_preds, average=None, zero_division=np.nan)\n",
    "# f1 = 2TP / (2TP + FP + FN)\n",
    "f1 = f1_score(test_all_punc_target, test_all_punc_preds, average=None)"
   ]
  },
  {
   "cell_type": "code",
   "execution_count": 45,
   "id": "63c5f583-a607-46f8-b26c-60a8da67e036",
   "metadata": {},
   "outputs": [],
   "source": [
    "END_PUNC = ['P', 'EX', 'Q']\n",
    "INTR_PUNC = ['S', 'C']\n",
    "\n",
    "NAMES_PUNC = {\n",
    "    'S': 'space (` `)',\n",
    "    'C': 'comma (`,`)',\n",
    "    'P': 'period (`.`)',\n",
    "    'EX': 'exclamation (`!`)',\n",
    "    'Q': 'question (`?`)'\n",
    "}"
   ]
  },
  {
   "cell_type": "code",
   "execution_count": 46,
   "id": "9b3fce85-5aa9-44f9-a674-2a39cadb50d8",
   "metadata": {},
   "outputs": [
    {
     "data": {
      "image/png": "[encoded data removed]",
      "text/plain": [
       "<Figure size 500x400 with 2 Axes>"
      ]
     },
     "metadata": {
      "image/png": {
       "height": 384,
       "width": 429
      }
     },
     "output_type": "display_data"
    }
   ],
   "source": [
    "fig, ax = plt.subplots(figsize=(5, 4))\n",
    "\n",
    "# create a confusion matrix\n",
    "# cm = confusion_matrix(test_all_punc_target, test_all_punc_preds) / n_experiments\n",
    "classes = sorted(END_PUNC + INTR_PUNC)  # alphabetic order\n",
    "\n",
    "# plot the confusion matrix\n",
    "sns.heatmap(cm, annot=True, fmt='g', xticklabels=classes, yticklabels=classes)\n",
    "plt.ylabel('Prediction', fontsize=lables_fs)\n",
    "plt.xlabel('Actual', fontsize=lables_fs)\n",
    "plt.title(f'Confusion Matrix', fontsize=lables_fs)\n",
    "plt.show()"
   ]
  },
  {
   "cell_type": "code",
   "execution_count": 47,
   "id": "258b3b92-4f02-4da1-97fb-5d43cda886ac",
   "metadata": {},
   "outputs": [
    {
     "name": "stdout",
     "output_type": "stream",
     "text": [
      "                  |comma (`,`)       |exclamation (`!`) |period (`.`)      |question (`?`)    |space (` `)       |\n",
      "------------------|------------------|------------------|------------------|------------------|------------------|\n",
      "Precision         |0.190476          |nan               |0.110393          |nan               |0.923811          |\n",
      "Recall            |0.067620          |0.000000          |0.886228          |0.000000          |0.466527          |\n",
      "F1 score          |0.099808          |0.000000          |0.196330          |0.000000          |0.619969          |\n"
     ]
    }
   ],
   "source": [
    "metrics_names = ['Precision', 'Recall', 'F1 score']\n",
    "metrics = {'Precision': precision, 'Recall': recall, 'F1 score': f1}\n",
    "col_w = 18\n",
    "\n",
    "print(' ' * col_w + '|' + ''.join([f\"{NAMES_PUNC[token] + (col_w - len(NAMES_PUNC[token])) * ' '}|\" for token in classes]))  # header\n",
    "print(''.join(['-' * col_w + '|' for _ in range(len(classes) + 1)]) )\n",
    "for ind, metric_name in enumerate(metrics_names):\n",
    "    row = f\"{metric_name + (col_w - len(metric_name)) * ' '}|\"\n",
    "    for score in metrics[metric_name]:\n",
    "        score_str = f'{score:.6f}'\n",
    "        row += f\"{score_str + (col_w - len(score_str)) * ' '}|\"\n",
    "    print(row)"
   ]
  },
  {
   "cell_type": "markdown",
   "id": "b6144389-44c8-45d7-8198-75b9c6f53e4c",
   "metadata": {},
   "source": [
    "#### Levenshtein distance"
   ]
  },
  {
   "cell_type": "code",
   "execution_count": 48,
   "id": "c02b76a7-d271-461a-b8df-c539c57bdd0a",
   "metadata": {},
   "outputs": [],
   "source": [
    "target_vs_pred_df['levenshtein'] = target_vs_pred_df.apply(\n",
    "    lambda row: levenshtein_distance(row.target, row.predicted),\n",
    "    axis = 1\n",
    ")"
   ]
  },
  {
   "cell_type": "code",
   "execution_count": 49,
   "id": "f346c1c7-d3a7-4c70-9c75-e48cb0056670",
   "metadata": {},
   "outputs": [
    {
     "name": "stdout",
     "output_type": "stream",
     "text": [
      "\tMean: 7.433572710951526\n",
      "\tMIN : 0\n",
      "\tMAX : 19\n"
     ]
    }
   ],
   "source": [
    "print(f\"\\tMean: {target_vs_pred_df['levenshtein'].mean()}\")\n",
    "print(f\"\\tMIN : {target_vs_pred_df['levenshtein'].min()}\")\n",
    "print(f\"\\tMAX : {target_vs_pred_df['levenshtein'].max()}\")"
   ]
  },
  {
   "cell_type": "code",
   "execution_count": null,
   "id": "60151dc6-e846-4590-8e89-4594a4818700",
   "metadata": {},
   "outputs": [],
   "source": []
  },
  {
   "cell_type": "code",
   "execution_count": null,
   "id": "de83c63d-71a6-44e5-9874-e47e99e004bf",
   "metadata": {},
   "outputs": [],
   "source": []
  },
  {
   "cell_type": "code",
   "execution_count": null,
   "id": "a5fd35b3-59b0-40fc-b2eb-6a63b14fe80f",
   "metadata": {},
   "outputs": [],
   "source": []
  }
 ],
 "metadata": {
  "kernelspec": {
   "display_name": "Python 3 (ipykernel)",
   "language": "python",
   "name": "python3"
  },
  "language_info": {
   "codemirror_mode": {
    "name": "ipython",
    "version": 3
   },
   "file_extension": ".py",
   "mimetype": "text/x-python",
   "name": "python",
   "nbconvert_exporter": "python",
   "pygments_lexer": "ipython3",
   "version": "3.8.10"
  }
 },
 "nbformat": 4,
 "nbformat_minor": 5
}
