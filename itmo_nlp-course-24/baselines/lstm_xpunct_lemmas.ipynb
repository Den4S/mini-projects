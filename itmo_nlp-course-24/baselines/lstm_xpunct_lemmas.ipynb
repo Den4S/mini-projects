{
 "cells": [
  {
   "cell_type": "code",
   "execution_count": 1,
   "id": "60584250-ebdd-46ba-aca9-e0ed747eb4f6",
   "metadata": {},
   "outputs": [],
   "source": [
    "import numpy as np\n",
    "import pandas as pd"
   ]
  },
  {
   "cell_type": "code",
   "execution_count": 2,
   "id": "42c2eb9c-5b79-4d9e-9344-0b09704a2bc8",
   "metadata": {},
   "outputs": [],
   "source": [
    "import random"
   ]
  },
  {
   "cell_type": "code",
   "execution_count": 3,
   "id": "9f9ab2a4-c444-4573-8d93-80afe29c3435",
   "metadata": {},
   "outputs": [],
   "source": [
    "from tqdm import tqdm"
   ]
  },
  {
   "cell_type": "code",
   "execution_count": 4,
   "id": "39234854-6756-40ea-b36a-d1829fda9b0e",
   "metadata": {},
   "outputs": [],
   "source": [
    "import re\n",
    "import os"
   ]
  },
  {
   "cell_type": "code",
   "execution_count": 99,
   "id": "fda98c5e-ae3b-49e8-8bb5-075af78d0561",
   "metadata": {},
   "outputs": [],
   "source": [
    "import time"
   ]
  },
  {
   "cell_type": "code",
   "execution_count": 5,
   "id": "9f1bfe06-a406-4cfc-b864-0c4f888a403f",
   "metadata": {},
   "outputs": [],
   "source": [
    "from collections import Counter"
   ]
  },
  {
   "cell_type": "code",
   "execution_count": 6,
   "id": "5f3a3ccb-1a3c-4a52-8b4b-585cfb770b95",
   "metadata": {},
   "outputs": [],
   "source": [
    "from sklearn.model_selection import train_test_split"
   ]
  },
  {
   "cell_type": "markdown",
   "id": "130bc969-f547-4ccd-ad0f-7d30c193d91d",
   "metadata": {},
   "source": [
    "#### PyTorch"
   ]
  },
  {
   "cell_type": "code",
   "execution_count": 84,
   "id": "f3060186-7b9e-4d1d-8819-0f4c5b269149",
   "metadata": {},
   "outputs": [],
   "source": [
    "import torch\n",
    "import torch.nn as nn\n",
    "import torch.nn.functional as F\n",
    "import torch.optim as optim\n",
    "\n",
    "from torch.utils.data import Dataset, Subset\n",
    "from torch.utils.data.sampler import SequentialSampler\n",
    "from torch.utils.data import DataLoader\n",
    "\n",
    "import torch.optim as optim"
   ]
  },
  {
   "cell_type": "code",
   "execution_count": 69,
   "id": "0979f483-57f5-47d0-9e08-2f7d4cc5c08a",
   "metadata": {},
   "outputs": [],
   "source": [
    "from torch.nn.utils.rnn import pack_padded_sequence, pad_packed_sequence"
   ]
  },
  {
   "cell_type": "code",
   "execution_count": 8,
   "id": "f77fdbae-4d74-4953-889d-bbbec35ee98f",
   "metadata": {},
   "outputs": [],
   "source": [
    "import torchinfo"
   ]
  },
  {
   "cell_type": "markdown",
   "id": "88d15ce9-a2b3-4fc8-8e9a-8e560fb3ede4",
   "metadata": {},
   "source": [
    "#### Metrics"
   ]
  },
  {
   "cell_type": "code",
   "execution_count": 9,
   "id": "dc1a79b5-2e8d-44d8-b75c-403920d67d21",
   "metadata": {},
   "outputs": [],
   "source": [
    "from sklearn.metrics import confusion_matrix, precision_score, recall_score, f1_score"
   ]
  },
  {
   "cell_type": "code",
   "execution_count": 10,
   "id": "4607a622-ad90-4e4b-a68e-db953c07d523",
   "metadata": {},
   "outputs": [],
   "source": [
    "from Levenshtein import distance as levenshtein_distance"
   ]
  },
  {
   "cell_type": "markdown",
   "id": "8c3d1b40-1b8c-44da-83bc-1b19debe0421",
   "metadata": {},
   "source": [
    "#### Visualisation"
   ]
  },
  {
   "cell_type": "code",
   "execution_count": 11,
   "id": "1bbd3937-29d3-4ec6-8116-0312f23680a3",
   "metadata": {},
   "outputs": [],
   "source": [
    "import matplotlib\n",
    "import matplotlib.pyplot as plt"
   ]
  },
  {
   "cell_type": "code",
   "execution_count": 12,
   "id": "88b0ff88-090e-4993-8012-b98fcbeb4805",
   "metadata": {},
   "outputs": [],
   "source": [
    "import scienceplots\n",
    "\n",
    "plt.style.use('science')\n",
    "%config InlineBackend.figure_format = 'retina'\n",
    "\n",
    "lables_fs = 16\n",
    "ticks_fs = 12"
   ]
  },
  {
   "cell_type": "code",
   "execution_count": 13,
   "id": "bb944a6a-9556-4a29-817d-334b4c5592a9",
   "metadata": {},
   "outputs": [],
   "source": [
    "import seaborn as sns"
   ]
  },
  {
   "cell_type": "code",
   "execution_count": null,
   "id": "ac8a5223-47c3-4596-93c1-a1ab3181a99c",
   "metadata": {},
   "outputs": [],
   "source": []
  },
  {
   "cell_type": "markdown",
   "id": "8b53370e-8765-4c37-9e99-fcf6760d97ab",
   "metadata": {},
   "source": [
    "# Baseline reference: [X-Punctuator](https://github.com/kaituoxu/X-Punctuator/tree/master)"
   ]
  },
  {
   "cell_type": "markdown",
   "id": "48560467-1166-4dce-93c1-a6c5fb98ac46",
   "metadata": {},
   "source": [
    "## Predicting only intrinsic punctuation"
   ]
  },
  {
   "cell_type": "markdown",
   "id": "633fc126-c176-48d7-a4a6-74b3dd18fbd7",
   "metadata": {},
   "source": [
    "### Load data"
   ]
  },
  {
   "cell_type": "code",
   "execution_count": 14,
   "id": "cdf2cb3c-9d67-4a0f-950c-87e42b144bd0",
   "metadata": {},
   "outputs": [],
   "source": [
    "prepared_dir = '../data/prepared'\n",
    "filename_csv = '02_punct_pushkin.csv'"
   ]
  },
  {
   "cell_type": "code",
   "execution_count": 15,
   "id": "870e7a24-ee52-406c-a052-e125af9f2a1e",
   "metadata": {},
   "outputs": [
    {
     "data": {
      "text/plain": [
       "(4456, 3)"
      ]
     },
     "execution_count": 15,
     "metadata": {},
     "output_type": "execute_result"
    }
   ],
   "source": [
    "# load saved dataset\n",
    "data_df = pd.read_csv(os.path.join(prepared_dir, filename_csv), index_col=0)\n",
    "data_df.shape"
   ]
  },
  {
   "cell_type": "code",
   "execution_count": 16,
   "id": "a05fde20-7346-4efe-a063-f72cf075666d",
   "metadata": {},
   "outputs": [
    {
     "data": {
      "text/html": [
       "<div>\n",
       "<style scoped>\n",
       "    .dataframe tbody tr th:only-of-type {\n",
       "        vertical-align: middle;\n",
       "    }\n",
       "\n",
       "    .dataframe tbody tr th {\n",
       "        vertical-align: top;\n",
       "    }\n",
       "\n",
       "    .dataframe thead th {\n",
       "        text-align: right;\n",
       "    }\n",
       "</style>\n",
       "<table border=\"1\" class=\"dataframe\">\n",
       "  <thead>\n",
       "    <tr style=\"text-align: right;\">\n",
       "      <th></th>\n",
       "      <th>input</th>\n",
       "      <th>input_lemma</th>\n",
       "      <th>new_target</th>\n",
       "    </tr>\n",
       "  </thead>\n",
       "  <tbody>\n",
       "    <tr>\n",
       "      <th>327</th>\n",
       "      <td>я слышал сказал я довольно некстати что на вашу крепость собираются напасть башкирцы</td>\n",
       "      <td>я слышать сказать я довольно некстати что на ваш крепость собираться напасть башкирец</td>\n",
       "      <td>S C S S S C S S S S S S F</td>\n",
       "    </tr>\n",
       "    <tr>\n",
       "      <th>4101</th>\n",
       "      <td>вижу как теперь самого хозяина человека лет пятидесяти свежего и бодрого и его длинный зеленый сертук с тремя медалями на полинялых лентах</td>\n",
       "      <td>видеть как теперь сам хозяин человек год пятьдесят свежий и бодрый и его длинный зеленый сертук с три медаль на полинялый лента</td>\n",
       "      <td>C S C S C S S C S S C S S S S S S S S S S F</td>\n",
       "    </tr>\n",
       "    <tr>\n",
       "      <th>2577</th>\n",
       "      <td>казанка была запружена мертвыми телами пять тысяч пленных и девять пушек остались в руках у победителя</td>\n",
       "      <td>казанка быть запрудить мертвый тело пять тысяча пленный и девять пушка остаться в рука у победитель</td>\n",
       "      <td>S S S S C S S S S S S S S S S F</td>\n",
       "    </tr>\n",
       "    <tr>\n",
       "      <th>1782</th>\n",
       "      <td>начальство поручено яицкому коменданту подполковнику симонову</td>\n",
       "      <td>начальство поручить яицкий комендант подполковник симонов</td>\n",
       "      <td>S S S C S F</td>\n",
       "    </tr>\n",
       "    <tr>\n",
       "      <th>862</th>\n",
       "      <td>я за то тебя детинушка пожалую середи поля хоромами высокими что двумя ли столбами с перекладиной</td>\n",
       "      <td>я за тот ты детинушка пожалую середь поле хоромы высокий что два ли столб с перекладиной</td>\n",
       "      <td>S S S C C S S S S C S S S S S F</td>\n",
       "    </tr>\n",
       "  </tbody>\n",
       "</table>\n",
       "</div>"
      ],
      "text/plain": [
       "                                                                                                                                           input  \\\n",
       "327                                                         я слышал сказал я довольно некстати что на вашу крепость собираются напасть башкирцы   \n",
       "4101  вижу как теперь самого хозяина человека лет пятидесяти свежего и бодрого и его длинный зеленый сертук с тремя медалями на полинялых лентах   \n",
       "2577                                      казанка была запружена мертвыми телами пять тысяч пленных и девять пушек остались в руках у победителя   \n",
       "1782                                                                               начальство поручено яицкому коменданту подполковнику симонову   \n",
       "862                                            я за то тебя детинушка пожалую середи поля хоромами высокими что двумя ли столбами с перекладиной   \n",
       "\n",
       "                                                                                                                          input_lemma  \\\n",
       "327                                             я слышать сказать я довольно некстати что на ваш крепость собираться напасть башкирец   \n",
       "4101  видеть как теперь сам хозяин человек год пятьдесят свежий и бодрый и его длинный зеленый сертук с три медаль на полинялый лента   \n",
       "2577                              казанка быть запрудить мертвый тело пять тысяча пленный и девять пушка остаться в рука у победитель   \n",
       "1782                                                                        начальство поручить яицкий комендант подполковник симонов   \n",
       "862                                          я за тот ты детинушка пожалую середь поле хоромы высокий что два ли столб с перекладиной   \n",
       "\n",
       "                                       new_target  \n",
       "327                     S C S S S C S S S S S S F  \n",
       "4101  C S C S C S S C S S C S S S S S S S S S S F  \n",
       "2577              S S S S C S S S S S S S S S S F  \n",
       "1782                                  S S S C S F  \n",
       "862               S S S C C S S S S C S S S S S F  "
      ]
     },
     "execution_count": 16,
     "metadata": {},
     "output_type": "execute_result"
    }
   ],
   "source": [
    "pd.options.display.max_colwidth = 150\n",
    "data_df.sample(5)"
   ]
  },
  {
   "cell_type": "markdown",
   "id": "b9f11fde-2081-4b66-8155-9f41aaa27545",
   "metadata": {},
   "source": [
    "### Vocab"
   ]
  },
  {
   "cell_type": "code",
   "execution_count": 46,
   "id": "bf50b9a6-b02f-4930-84ef-3ab94e8b8c17",
   "metadata": {},
   "outputs": [],
   "source": [
    "IGNORE_ID = -1  # token id to ignore"
   ]
  },
  {
   "cell_type": "code",
   "execution_count": 31,
   "id": "715e4eec-14e7-4db6-9cf2-9ed62be4a785",
   "metadata": {},
   "outputs": [],
   "source": [
    "unk_token = '<UNK>'"
   ]
  },
  {
   "cell_type": "code",
   "execution_count": 32,
   "id": "4bd3b369-64e9-42f1-97a6-c12ff2a48e07",
   "metadata": {},
   "outputs": [],
   "source": [
    "word2id = {unk_token: 0, '<END>': 1}\n",
    "ind_lemma = 2\n",
    "\n",
    "for ind_sent in data_df.index:\n",
    "    lemma_sent = data_df.iloc[ind_sent]['input_lemma']\n",
    "    for lemma in lemma_sent.split():\n",
    "        if lemma not in word2id.keys():  # new lemma\n",
    "            word2id[lemma] = ind_lemma\n",
    "            ind_lemma += 1"
   ]
  },
  {
   "cell_type": "code",
   "execution_count": 33,
   "id": "17cdd940-9cf6-450c-b8ea-440a09233710",
   "metadata": {},
   "outputs": [
    {
     "data": {
      "text/plain": [
       "8571"
      ]
     },
     "execution_count": 33,
     "metadata": {},
     "output_type": "execute_result"
    }
   ],
   "source": [
    "len(word2id)"
   ]
  },
  {
   "cell_type": "code",
   "execution_count": 241,
   "id": "b6cd59ab-6a0b-4d45-98ff-0b0a3d99fd19",
   "metadata": {},
   "outputs": [],
   "source": [
    "punc2id = {'S': 0, 'C': 1, 'F':2}\n",
    "id2punc = {v: k for k, v in punc2id.items()}"
   ]
  },
  {
   "cell_type": "markdown",
   "id": "c313817f-5980-4138-bdb2-5b1ad462d716",
   "metadata": {},
   "source": [
    "### Dataset"
   ]
  },
  {
   "cell_type": "code",
   "execution_count": 38,
   "id": "7a57b560-b9b4-4b2a-8651-3146b18eea7e",
   "metadata": {},
   "outputs": [],
   "source": [
    "class PuncDataset(Dataset):\n",
    "    \"\"\"Custom Dataset for punctuation prediction\"\"\"\n",
    "\n",
    "    def __init__(self, df, sent_col, target_col):\n",
    "        self.sentences = df[sent_col]  # all sentences\n",
    "        self.targets = df[target_col]  # all targets\n",
    "\n",
    "    def __len__(self):\n",
    "        \"\"\"Return number of sentences\"\"\"\n",
    "        return len(self.sentences)\n",
    "\n",
    "    def __getitem__(self, index):\n",
    "        \"\"\"Return one Tensor pair of (input id sequence, punc id sequence)\"\"\"\n",
    "        sentence = self.sentences[index]\n",
    "        target = self.targets[index]\n",
    "        \n",
    "        word_id_seq, punc_id_seq = self._preprocess(sentence, target)\n",
    "        return word_id_seq, punc_id_seq\n",
    "\n",
    "    def _preprocess(self, sentence, target):\n",
    "        \"\"\"Convert txt sequence to word-id-seq and punc-id-seq\"\"\"\n",
    "        input_seq = []\n",
    "        for word in sentence.split():\n",
    "            input_seq.append(word2id.get(word, unk_token))\n",
    "\n",
    "        output_seq = []\n",
    "        for punc in target.split():\n",
    "            output_seq.append(punc2id.get(punc))\n",
    "\n",
    "        assert len(input_seq) == len(output_seq)\n",
    "        # input_seq.append(self.word2id[\"<END>\"])\n",
    "        # output_seq.append(self.punc2id[punc])\n",
    "        return torch.LongTensor(input_seq), torch.LongTensor(output_seq)"
   ]
  },
  {
   "cell_type": "code",
   "execution_count": 43,
   "id": "be7a7639-e5be-4ae7-8721-b39662fbafb9",
   "metadata": {},
   "outputs": [
    {
     "name": "stdout",
     "output_type": "stream",
     "text": [
      "4456\n"
     ]
    }
   ],
   "source": [
    "data_ds = PuncDataset(\n",
    "    df=data_df, \n",
    "    sent_col='input_lemma', \n",
    "    target_col='new_target'\n",
    ")\n",
    "\n",
    "print(len(data_ds))  # dataset length"
   ]
  },
  {
   "cell_type": "code",
   "execution_count": 44,
   "id": "006de6a9-704a-4844-ae48-5b8e19fe7c2a",
   "metadata": {},
   "outputs": [
    {
     "data": {
      "text/plain": [
       "(tensor([1499,    6,  790, 1351,   78,  113,    6, 1206,    2,  583, 2849, 3243]),\n",
       " tensor([0, 0, 0, 0, 0, 0, 0, 1, 0, 0, 0, 2]))"
      ]
     },
     "execution_count": 44,
     "metadata": {},
     "output_type": "execute_result"
    }
   ],
   "source": [
    "data_ds[1111]  # example of dataset element"
   ]
  },
  {
   "cell_type": "markdown",
   "id": "65e95067-5e34-40f7-9958-5fd6d1b3fe29",
   "metadata": {},
   "source": [
    "### Batches"
   ]
  },
  {
   "cell_type": "code",
   "execution_count": 65,
   "id": "99dd383e-9bf5-450e-bda1-f07d13ca4119",
   "metadata": {},
   "outputs": [],
   "source": [
    "class RandomBatchSampler(object):\n",
    "    \"\"\"\n",
    "    Yields of mini-batch of indices, sequential within the batch, random between batches.\n",
    "    \n",
    "    I.e. it works like bucket, but it also supports random between batches.\n",
    "    Helpful for minimizing padding while retaining randomness with variable length inputs.\n",
    "\n",
    "    Args:\n",
    "        data_source (Dataset): dataset to sample from.\n",
    "        batch_size (int): Size of mini-batch.\n",
    "        drop_last (bool): If ``True``, the sampler will drop the last batch if\n",
    "            its size would be less than ``batch_size``\n",
    "    \"\"\"\n",
    "\n",
    "    def __init__(self, data_source, batch_size, drop_last):\n",
    "        # impl sequential within the batch\n",
    "        self.sampler = torch.randperm(len(data_source)).tolist() # random order of all sentences\n",
    "        self.batch_size = batch_size\n",
    "        self.drop_last = drop_last\n",
    "        self.random_batches = self._make_batches()  # impl random between batches\n",
    "\n",
    "    def _make_batches(self):\n",
    "        indices = [i for i in self.sampler]\n",
    "        batches = [\n",
    "            indices[i:i + self.batch_size]\n",
    "            for i in range(0, len(indices), self.batch_size)\n",
    "        ]\n",
    "        \n",
    "        if self.drop_last and len(self.sampler) % self.batch_size > 0:  # mix batches order\n",
    "            random_indices = torch.randperm(len(batches) - 1).tolist() + [len(batches) - 1]  # batches order\n",
    "        else:\n",
    "            random_indices = torch.randperm(len(batches)).tolist()\n",
    "        \n",
    "        return [batches[i] for i in random_indices]\n",
    "\n",
    "    def __iter__(self):\n",
    "        for batch in self.random_batches:\n",
    "            yield batch\n",
    "\n",
    "    def __len__(self):\n",
    "        return len(self.random_batches)"
   ]
  },
  {
   "cell_type": "code",
   "execution_count": 67,
   "id": "9d19922e-022d-4226-857d-113b73e7ac4a",
   "metadata": {},
   "outputs": [],
   "source": [
    "class SentencesCollate(object):\n",
    "    \"\"\"\n",
    "    Another way to implement collate_fn passed to DataLoader.\n",
    "    Use class but not function because this is easier to pass some parameters.\n",
    "    \"\"\"\n",
    "    def __init__(self):\n",
    "        pass\n",
    "\n",
    "    def __call__(self, batch, PAD=IGNORE_ID):\n",
    "        \"\"\"\n",
    "        Process one mini-batch samples, such as sorting and padding.\n",
    "        Args:\n",
    "            batch: a list of (text sequence, feature sequence)\n",
    "        Returns:\n",
    "            input_padded_seqs\n",
    "            output_padded_seqs\n",
    "            lengths\n",
    "        \"\"\"\n",
    "        # sort a list by sequence length (descending order) to use pack_padded_sequence\n",
    "        batch.sort(key=lambda x: len(x[0]), reverse=True)\n",
    "        # seperate inputs and labels\n",
    "        input_seqs, label_seqs = zip(*batch)\n",
    "        # padding\n",
    "        lengths = [len(seq) for seq in input_seqs]\n",
    "        input_padded_seqs = torch.zeros(len(input_seqs), max(lengths)).long()\n",
    "        output_padded_seqs = torch.zeros(len(input_seqs), max(lengths)).fill_(PAD).long()\n",
    "        \n",
    "        for i, (input_seq, output_seq) in enumerate(zip(input_seqs, label_seqs)):\n",
    "            end = lengths[i]\n",
    "            input_padded_seqs[i, :end] = input_seq[:end]\n",
    "            output_padded_seqs[i, :end] = output_seq[:end]\n",
    "            \n",
    "        return input_padded_seqs, torch.IntTensor(lengths), output_padded_seqs"
   ]
  },
  {
   "cell_type": "code",
   "execution_count": null,
   "id": "77f8405f-bb1f-4f7b-a129-c67c7d974e80",
   "metadata": {},
   "outputs": [],
   "source": []
  },
  {
   "cell_type": "code",
   "execution_count": 68,
   "id": "4ba4d7cc-9c33-4034-aa3a-bc9026be9791",
   "metadata": {},
   "outputs": [],
   "source": [
    "def build_data_loader(\n",
    "    df, sent_col, target_col,\n",
    "    batch_size=1, drop_last=False, num_workers=0\n",
    "):\n",
    "    \"\"\"\n",
    "    Return data loader for custom dataset\n",
    "    \"\"\"\n",
    "    dataset = PuncDataset(df, sent_col, target_col)\n",
    "    batch_sampler = RandomBatchSampler(\n",
    "        dataset,\n",
    "        batch_size=batch_size,\n",
    "        drop_last=drop_last\n",
    "    )\n",
    "    collate_fn = SentencesCollate()\n",
    "    \n",
    "    data_loader = DataLoader(\n",
    "        dataset, batch_sampler=batch_sampler,\n",
    "        collate_fn=collate_fn, num_workers=num_workers\n",
    "    )\n",
    "\n",
    "    return data_loader"
   ]
  },
  {
   "cell_type": "markdown",
   "id": "c7830e67-33ea-4276-84f8-a9b7488d93a1",
   "metadata": {},
   "source": [
    "## Model"
   ]
  },
  {
   "cell_type": "code",
   "execution_count": 158,
   "id": "971f53cb-f007-4a32-8c7e-b453afcde54a",
   "metadata": {},
   "outputs": [],
   "source": [
    "class LstmPunctuator(nn.Module):\n",
    "    def __init__(\n",
    "        self, num_embeddings, embedding_dim,\n",
    "        hidden_size, num_layers, bidirectional,\n",
    "        num_class, dropout=0.0\n",
    "    ):\n",
    "        super(LstmPunctuator, self).__init__()\n",
    "        \n",
    "        # Hyper-parameters\n",
    "        self.num_embeddings = num_embeddings  # size of the dictionary of embeddings\n",
    "        self.embedding_dim = embedding_dim\n",
    "        self.hidden_size = hidden_size\n",
    "        self.num_layers = num_layers\n",
    "        self.bidirectional = bidirectional\n",
    "        self.num_class = num_class\n",
    "        self.dropout = dropout\n",
    "        \n",
    "        # Components\n",
    "        self.embedding = nn.Embedding(num_embeddings, embedding_dim)\n",
    "        self.lstm = nn.LSTM(\n",
    "            embedding_dim, hidden_size, num_layers,\n",
    "            batch_first=True,\n",
    "            bidirectional=bool(bidirectional),\n",
    "            dropout=self.dropout\n",
    "        )\n",
    "        fc_in_dim = hidden_size * 2 if bidirectional else hidden_size\n",
    "        self.fc = nn.Linear(fc_in_dim, num_class)\n",
    "\n",
    "    def forward(self, padded_input, input_lengths):\n",
    "        \"\"\"\n",
    "        Args:\n",
    "            padded_input: N x T\n",
    "            input_lengths: N\n",
    "        Returns:\n",
    "            score: N x T x C\n",
    "        \"\"\"\n",
    "        # Embedding Layer\n",
    "        padded_input = self.embedding(padded_input)  # N x T x D\n",
    "        # LSTM Layers\n",
    "        total_length = padded_input.size(1)  # get the max sequence length\n",
    "        packed_input = pack_padded_sequence(\n",
    "            padded_input, input_lengths,\n",
    "            batch_first=True\n",
    "        )\n",
    "        packed_output, _ = self.lstm(packed_input)\n",
    "        output, _ = pad_packed_sequence(\n",
    "            packed_output,\n",
    "            batch_first=True,\n",
    "            total_length=total_length\n",
    "        )\n",
    "        # Output Layer\n",
    "        score = self.fc(output)\n",
    "        return score\n",
    "\n",
    "    def flatten_parameters(self):\n",
    "        self.lstm.flatten_parameters()"
   ]
  },
  {
   "cell_type": "code",
   "execution_count": 159,
   "id": "0ff67328-7c04-4d5c-9a3e-97b7cf3412bc",
   "metadata": {},
   "outputs": [],
   "source": [
    "def num_param(model):\n",
    "    \"\"\"\n",
    "    To count model parameters\n",
    "    \"\"\"\n",
    "    params = 0\n",
    "    for p in model.parameters():\n",
    "        tmp = 1\n",
    "        for x in p.size():\n",
    "            tmp *= x\n",
    "        params += tmp\n",
    "    return params"
   ]
  },
  {
   "cell_type": "markdown",
   "id": "f0844468-baee-43bd-8695-5ee5c86e771a",
   "metadata": {},
   "source": [
    "### Training and validation loops as Class"
   ]
  },
  {
   "cell_type": "code",
   "execution_count": 160,
   "id": "707764bd-6e9e-49fe-ac4d-f365c480294e",
   "metadata": {},
   "outputs": [],
   "source": [
    "line = '-' * 85"
   ]
  },
  {
   "cell_type": "code",
   "execution_count": 191,
   "id": "88ed301f-e610-46cf-9f0c-a6f225a98a01",
   "metadata": {},
   "outputs": [],
   "source": [
    "class Solver(object):\n",
    "    \n",
    "    def __init__(self, data, model, criterion, optimizer, args):\n",
    "        self.tr_loader = data['tr_loader']\n",
    "        self.cv_loader = data['cv_loader']\n",
    "        self.model = model\n",
    "        self.criterion = criterion\n",
    "        self.optimizer = optimizer\n",
    "\n",
    "        # Training config\n",
    "        self.use_cuda = args['use_cuda']\n",
    "        self.epochs = args['epochs']\n",
    "        self.half_lr = args['half_lr']\n",
    "        self.early_stop = args['early_stop']\n",
    "        self.max_norm = args['max_norm']\n",
    "        \n",
    "        # save and load model\n",
    "        # self.save_folder = args.save_folder\n",
    "        # self.checkpoint = args.checkpoint\n",
    "        # self.continue_from = args.continue_from\n",
    "        # self.model_path = args.model_path\n",
    "        \n",
    "        # logging\n",
    "        self.print_freq = args['print_freq']\n",
    "        \n",
    "        # visualizing loss using visdom\n",
    "        self.tr_loss = torch.Tensor(self.epochs)\n",
    "        self.cv_loss = torch.Tensor(self.epochs)\n",
    "\n",
    "        self._reset()\n",
    "\n",
    "    def _reset(self):\n",
    "        self.start_epoch = 0\n",
    "\n",
    "        self.prev_val_loss = float(\"inf\")\n",
    "        self.best_val_loss = float(\"inf\")\n",
    "        self.halving = False\n",
    "        self.val_no_impv = 0\n",
    "\n",
    "    def train(self):\n",
    "        # Train model multi-epoches\n",
    "        for epoch in range(self.start_epoch, self.epochs):\n",
    "            # Train one epoch\n",
    "            print(line)\n",
    "            print(f'Epoch {epoch + 1}')\n",
    "            \n",
    "            self.model.train()  # Turn on BatchNorm & Dropout\n",
    "            start = time.time()\n",
    "\n",
    "            tr_avg_loss = self._run_one_epoch(epoch)\n",
    "\n",
    "            print('\\tTrain Summary | Time {0:.2f}s | '\n",
    "                  'Train Loss {1:.6f}'.format(\n",
    "                      time.time() - start, tr_avg_loss))\n",
    "            \n",
    "            # Validation\n",
    "            # print(f'Epoch {epoch + 1} validation')\n",
    "            self.model.eval()  # Turn off Batchnorm & Dropout\n",
    "\n",
    "            val_loss = self._run_one_epoch(epoch, cross_valid=True)\n",
    "\n",
    "            print('\\tValid Summary | Time {0:.2f}s | '\n",
    "                  'Valid Loss {1:.6f}'.format(\n",
    "                      time.time() - start, val_loss))\n",
    "\n",
    "            # Adjust learning rate (halving)\n",
    "            if self.half_lr and val_loss >= self.prev_val_loss:\n",
    "                if self.early_stop and self.halving:\n",
    "                    print(\"Already start halving learing rate, it still gets \"\n",
    "                          \"too small imporvement, stop training early.\")\n",
    "                    break\n",
    "                self.halving = True\n",
    "            if self.halving:\n",
    "                optim_state = self.optimizer.state_dict()\n",
    "                optim_state['param_groups'][0]['lr'] = \\\n",
    "                    optim_state['param_groups'][0]['lr'] / 2.0\n",
    "                self.optimizer.load_state_dict(optim_state)\n",
    "                print('Learning rate adjusted to: {lr:.6f}'.format(\n",
    "                    lr=optim_state['param_groups'][0]['lr']))\n",
    "            self.prev_val_loss = val_loss\n",
    "\n",
    "            # Save the best model\n",
    "            self.cv_loss[epoch] = val_loss\n",
    "\n",
    "    def _run_one_epoch(self, epoch, cross_valid=False):\n",
    "        start = time.time()\n",
    "        total_loss = 0\n",
    "\n",
    "        data_loader = self.tr_loader if not cross_valid else self.cv_loader\n",
    "\n",
    "        # Main Loop\n",
    "        for i, (data) in enumerate(data_loader):\n",
    "            padded_input, input_lengths, padded_target = data\n",
    "            if self.use_cuda:\n",
    "                padded_input = padded_input.cuda()\n",
    "                input_lengths = input_lengths.cuda()\n",
    "                padded_target = padded_target.cuda()\n",
    "            pred = self.model(padded_input, input_lengths)\n",
    "            pred = pred.view(-1, pred.size(-1))\n",
    "            loss = self.criterion(pred, padded_target.view(-1))\n",
    "            if not cross_valid:\n",
    "                self.optimizer.zero_grad()\n",
    "                loss.backward()\n",
    "                torch.nn.utils.clip_grad_norm_(self.model.parameters(),\n",
    "                                               self.max_norm)\n",
    "                self.optimizer.step()\n",
    "\n",
    "            total_loss += loss.item()\n",
    "\n",
    "            if False:  # i % self.print_freq == 0:\n",
    "                print(\n",
    "                    '\\t\\tIter {0} | Average Loss {1:.3f} | '\n",
    "                    'Current Loss {2:.6f} | {3:.1f} ms/batch'.format(\n",
    "                    i + 1, total_loss / (i + 1),\n",
    "                    loss.item(), 1000 * (time.time() - start) / (i + 1)),\n",
    "                    flush=True\n",
    "                )\n",
    "\n",
    "        return total_loss / (i + 1)"
   ]
  },
  {
   "cell_type": "markdown",
   "id": "c8661019-034d-47c7-a28e-d281db6d521e",
   "metadata": {},
   "source": [
    "### Training"
   ]
  },
  {
   "cell_type": "code",
   "execution_count": 217,
   "id": "efad53ed-7f26-47eb-b6e3-f907e5267f99",
   "metadata": {},
   "outputs": [],
   "source": [
    "args = {\n",
    "    'bs': 25,\n",
    "    'num_workers': 0,\n",
    "    'use_cuda': 0,\n",
    "    'epochs': 1,\n",
    "    'half_lr': 0,\n",
    "    'early_stop': 0,\n",
    "    'max_norm': 10,\n",
    "    'lr': 1e-3,\n",
    "    'l2': 0.0,  # weight decay (L2 penalty)\n",
    "    'print_freq': 100,  # frequency of printing training infomation\n",
    "}\n",
    "\n",
    "splitting_random_state = 78\n",
    "test_ratio = 0.25"
   ]
  },
  {
   "cell_type": "code",
   "execution_count": null,
   "id": "2ca0fd29-626c-4c24-bb7a-decd75ebb653",
   "metadata": {},
   "outputs": [],
   "source": []
  },
  {
   "cell_type": "code",
   "execution_count": 218,
   "id": "c045aad0-f249-44b7-97c2-4d07c2f3e050",
   "metadata": {},
   "outputs": [],
   "source": [
    "# data splitting\n",
    "train, test = train_test_split(data_df, test_size=test_ratio, random_state=splitting_random_state)"
   ]
  },
  {
   "cell_type": "code",
   "execution_count": 219,
   "id": "19aa21f6-9886-40ac-ba22-57d7b19df2c8",
   "metadata": {},
   "outputs": [],
   "source": [
    "train.reset_index(drop=True, inplace=True)\n",
    "test.reset_index(drop=True, inplace=True)"
   ]
  },
  {
   "cell_type": "code",
   "execution_count": null,
   "id": "38c00b66-9e1a-4f65-aa90-fa3711849f2e",
   "metadata": {},
   "outputs": [],
   "source": []
  },
  {
   "cell_type": "code",
   "execution_count": 220,
   "id": "1f3edbf0-9460-4676-a792-6ee285b7431f",
   "metadata": {},
   "outputs": [
    {
     "name": "stdout",
     "output_type": "stream",
     "text": [
      "Number of parameters: 179507\n"
     ]
    }
   ],
   "source": [
    "tr_loader = build_data_loader(\n",
    "    train, sent_col='input_lemma', target_col='new_target',\n",
    "    batch_size=args['bs'], drop_last=False,\n",
    "    num_workers=args['num_workers']\n",
    ")\n",
    "cv_loader = build_data_loader(\n",
    "    test, sent_col='input_lemma', target_col='new_target',\n",
    "    batch_size=args['bs'], drop_last=False\n",
    ")\n",
    "data = {'tr_loader': tr_loader, 'cv_loader': cv_loader}\n",
    "\n",
    "# Build model\n",
    "model = LstmPunctuator(\n",
    "    num_embeddings=len(word2id), embedding_dim=16,\n",
    "    hidden_size=64, num_layers=1, bidirectional=1,\n",
    "    num_class=len(punc2id)\n",
    ")\n",
    "# print(model)\n",
    "print(\"Number of parameters: %d\" % num_param(model))"
   ]
  },
  {
   "cell_type": "code",
   "execution_count": 221,
   "id": "6b17c1d1-b256-4aaf-b20b-e9ad95a86a85",
   "metadata": {},
   "outputs": [],
   "source": [
    "# Build criterion\n",
    "criterion = torch.nn.CrossEntropyLoss(ignore_index=IGNORE_ID)\n",
    "# Build optimizer\n",
    "optimizier = torch.optim.Adam(\n",
    "    model.parameters(), lr=args['lr'],\n",
    "    weight_decay=args['l2']\n",
    ")"
   ]
  },
  {
   "cell_type": "code",
   "execution_count": 222,
   "id": "013a9df5-a99d-4130-b4c3-1ea098ad3cd5",
   "metadata": {},
   "outputs": [
    {
     "name": "stdout",
     "output_type": "stream",
     "text": [
      "-------------------------------------------------------------------------------------\n",
      "Epoch 1\n",
      "\tTrain Summary | Time 1.40s | Train Loss 0.631759\n",
      "\tValid Summary | Time 1.55s | Valid Loss 0.501120\n",
      "-------------------------------------------------------------------------------------\n",
      "Epoch 2\n",
      "\tTrain Summary | Time 1.35s | Train Loss 0.455041\n",
      "\tValid Summary | Time 1.50s | Valid Loss 0.415835\n",
      "-------------------------------------------------------------------------------------\n",
      "Epoch 3\n",
      "\tTrain Summary | Time 1.41s | Train Loss 0.387576\n",
      "\tValid Summary | Time 1.61s | Valid Loss 0.372592\n",
      "-------------------------------------------------------------------------------------\n",
      "Epoch 4\n",
      "\tTrain Summary | Time 1.80s | Train Loss 0.350948\n",
      "\tValid Summary | Time 1.94s | Valid Loss 0.350172\n",
      "-------------------------------------------------------------------------------------\n",
      "Epoch 5\n",
      "\tTrain Summary | Time 1.36s | Train Loss 0.327270\n",
      "\tValid Summary | Time 1.49s | Valid Loss 0.336604\n",
      "-------------------------------------------------------------------------------------\n",
      "Epoch 6\n",
      "\tTrain Summary | Time 1.48s | Train Loss 0.309750\n",
      "\tValid Summary | Time 1.61s | Valid Loss 0.327239\n",
      "-------------------------------------------------------------------------------------\n",
      "Epoch 7\n",
      "\tTrain Summary | Time 1.28s | Train Loss 0.295062\n",
      "\tValid Summary | Time 1.41s | Valid Loss 0.320412\n",
      "-------------------------------------------------------------------------------------\n",
      "Epoch 8\n",
      "\tTrain Summary | Time 1.30s | Train Loss 0.282094\n",
      "\tValid Summary | Time 1.44s | Valid Loss 0.315632\n",
      "-------------------------------------------------------------------------------------\n",
      "Epoch 9\n",
      "\tTrain Summary | Time 1.33s | Train Loss 0.270207\n",
      "\tValid Summary | Time 1.47s | Valid Loss 0.312530\n",
      "-------------------------------------------------------------------------------------\n",
      "Epoch 10\n",
      "\tTrain Summary | Time 1.28s | Train Loss 0.258942\n",
      "\tValid Summary | Time 1.42s | Valid Loss 0.310736\n",
      "-------------------------------------------------------------------------------------\n",
      "Epoch 11\n",
      "\tTrain Summary | Time 1.40s | Train Loss 0.248026\n",
      "\tValid Summary | Time 1.53s | Valid Loss 0.310036\n",
      "-------------------------------------------------------------------------------------\n",
      "Epoch 12\n",
      "\tTrain Summary | Time 1.30s | Train Loss 0.237237\n",
      "\tValid Summary | Time 1.45s | Valid Loss 0.310474\n"
     ]
    }
   ],
   "source": [
    "# Build Solver\n",
    "torch.manual_seed(48)\n",
    "\n",
    "solver = Solver(data, model, criterion, optimizier, args)\n",
    "solver.train()"
   ]
  },
  {
   "cell_type": "code",
   "execution_count": null,
   "id": "25ce8420-6fec-4262-afb4-5c76bf43a65b",
   "metadata": {},
   "outputs": [],
   "source": []
  },
  {
   "cell_type": "code",
   "execution_count": null,
   "id": "e33c661f-0dda-4c20-bcbe-c2d0b83bf0a3",
   "metadata": {},
   "outputs": [],
   "source": []
  },
  {
   "cell_type": "markdown",
   "id": "352d5d9b-9a2e-4c8c-bbd9-b00ff2f4bd8d",
   "metadata": {},
   "source": [
    "### Metrics"
   ]
  },
  {
   "cell_type": "code",
   "execution_count": 224,
   "id": "dcdf414b-83c5-4766-b20a-b3012803f058",
   "metadata": {},
   "outputs": [],
   "source": [
    "test_loader = build_data_loader(\n",
    "    test, sent_col='input_lemma', target_col='new_target',\n",
    "    batch_size=1, drop_last=False\n",
    ")"
   ]
  },
  {
   "cell_type": "code",
   "execution_count": 242,
   "id": "44438b94-c305-475d-9bf3-578b823f9909",
   "metadata": {
    "scrolled": true
   },
   "outputs": [],
   "source": [
    "all_test_targets = []  # by markers\n",
    "all_test_preds = []\n",
    "\n",
    "solver.model.eval()\n",
    "\n",
    "for i, (data) in enumerate(test_loader):\n",
    "    padded_input, input_lengths, padded_target = data\n",
    "    all_test_targets.append(' '.join([id2punc[ix.item()] for ix in padded_target[0]]))\n",
    "    \n",
    "    pred = solver.model(padded_input, input_lengths)\n",
    "    pred = torch.argmax(pred.view(-1, pred.size(-1)), dim=1)\n",
    "    all_test_preds.append(' '.join([id2punc[ix.item()] for ix in pred]))\n",
    "\n",
    "    assert len(pred) == len(padded_target[0])"
   ]
  },
  {
   "cell_type": "code",
   "execution_count": 243,
   "id": "5ac7c74f-5560-4236-a9ae-f95ae89ae263",
   "metadata": {},
   "outputs": [],
   "source": [
    "target_vs_pred_df = pd.DataFrame()\n",
    "\n",
    "target_vs_pred_df['target'] = all_test_targets\n",
    "target_vs_pred_df['predicted'] = all_test_preds"
   ]
  },
  {
   "cell_type": "code",
   "execution_count": 244,
   "id": "b63422c5-90a1-4465-8838-6150b0481fac",
   "metadata": {},
   "outputs": [
    {
     "data": {
      "text/html": [
       "<div>\n",
       "<style scoped>\n",
       "    .dataframe tbody tr th:only-of-type {\n",
       "        vertical-align: middle;\n",
       "    }\n",
       "\n",
       "    .dataframe tbody tr th {\n",
       "        vertical-align: top;\n",
       "    }\n",
       "\n",
       "    .dataframe thead th {\n",
       "        text-align: right;\n",
       "    }\n",
       "</style>\n",
       "<table border=\"1\" class=\"dataframe\">\n",
       "  <thead>\n",
       "    <tr style=\"text-align: right;\">\n",
       "      <th></th>\n",
       "      <th>target</th>\n",
       "      <th>predicted</th>\n",
       "    </tr>\n",
       "  </thead>\n",
       "  <tbody>\n",
       "    <tr>\n",
       "      <th>0</th>\n",
       "      <td>S S C S S C S S S S S S S C S S S S S S S F</td>\n",
       "      <td>S S S S S S S S S S S S S C S S S S S S S F</td>\n",
       "    </tr>\n",
       "    <tr>\n",
       "      <th>1</th>\n",
       "      <td>S S S S S C S S S S C S C S S S S S S C S S F</td>\n",
       "      <td>S S S S S S S S S S S S C S S S S S S S S S F</td>\n",
       "    </tr>\n",
       "    <tr>\n",
       "      <th>2</th>\n",
       "      <td>S C S C S S S S C S S S F</td>\n",
       "      <td>S S S C S S S S C S S S F</td>\n",
       "    </tr>\n",
       "    <tr>\n",
       "      <th>3</th>\n",
       "      <td>S S S S S C S C S S S C S S S F</td>\n",
       "      <td>S S S S S C S C S S S S S S S F</td>\n",
       "    </tr>\n",
       "    <tr>\n",
       "      <th>4</th>\n",
       "      <td>S S S S S S S S C S S S S S F</td>\n",
       "      <td>S S S S S S S S C S S S S S F</td>\n",
       "    </tr>\n",
       "    <tr>\n",
       "      <th>...</th>\n",
       "      <td>...</td>\n",
       "      <td>...</td>\n",
       "    </tr>\n",
       "    <tr>\n",
       "      <th>1109</th>\n",
       "      <td>S C S C S S S S S F</td>\n",
       "      <td>S S S C S S S S S F</td>\n",
       "    </tr>\n",
       "    <tr>\n",
       "      <th>1110</th>\n",
       "      <td>S S S S C S S S S S F</td>\n",
       "      <td>C S S S S S S S S S F</td>\n",
       "    </tr>\n",
       "    <tr>\n",
       "      <th>1111</th>\n",
       "      <td>S S C S S S S F</td>\n",
       "      <td>S S S S S S S F</td>\n",
       "    </tr>\n",
       "    <tr>\n",
       "      <th>1112</th>\n",
       "      <td>S S C C S S S C S S S S S S F</td>\n",
       "      <td>S S C S S S S S S S S S S S F</td>\n",
       "    </tr>\n",
       "    <tr>\n",
       "      <th>1113</th>\n",
       "      <td>S S S C S S F</td>\n",
       "      <td>S S C C S S F</td>\n",
       "    </tr>\n",
       "  </tbody>\n",
       "</table>\n",
       "<p>1114 rows × 2 columns</p>\n",
       "</div>"
      ],
      "text/plain": [
       "                                             target  \\\n",
       "0       S S C S S C S S S S S S S C S S S S S S S F   \n",
       "1     S S S S S C S S S S C S C S S S S S S C S S F   \n",
       "2                         S C S C S S S S C S S S F   \n",
       "3                   S S S S S C S C S S S C S S S F   \n",
       "4                     S S S S S S S S C S S S S S F   \n",
       "...                                             ...   \n",
       "1109                            S C S C S S S S S F   \n",
       "1110                          S S S S C S S S S S F   \n",
       "1111                                S S C S S S S F   \n",
       "1112                  S S C C S S S C S S S S S S F   \n",
       "1113                                  S S S C S S F   \n",
       "\n",
       "                                          predicted  \n",
       "0       S S S S S S S S S S S S S C S S S S S S S F  \n",
       "1     S S S S S S S S S S S S C S S S S S S S S S F  \n",
       "2                         S S S C S S S S C S S S F  \n",
       "3                   S S S S S C S C S S S S S S S F  \n",
       "4                     S S S S S S S S C S S S S S F  \n",
       "...                                             ...  \n",
       "1109                            S S S C S S S S S F  \n",
       "1110                          C S S S S S S S S S F  \n",
       "1111                                S S S S S S S F  \n",
       "1112                  S S C S S S S S S S S S S S F  \n",
       "1113                                  S S C C S S F  \n",
       "\n",
       "[1114 rows x 2 columns]"
      ]
     },
     "execution_count": 244,
     "metadata": {},
     "output_type": "execute_result"
    }
   ],
   "source": [
    "target_vs_pred_df"
   ]
  },
  {
   "cell_type": "markdown",
   "id": "839e7193-f3e7-4291-aed3-558df4ff024f",
   "metadata": {},
   "source": [
    "#### Precision, Recall, $F_1$"
   ]
  },
  {
   "cell_type": "code",
   "execution_count": 245,
   "id": "80d84305-bb59-4d62-a891-bdfef187f82b",
   "metadata": {},
   "outputs": [],
   "source": [
    "def return_separate_punct(target_vs_pred_df):\n",
    "    test_all_punc_target = []  # list of all punctuation\n",
    "    test_all_punc_preds = []\n",
    "    \n",
    "    for target_this, predicted_this in zip(target_vs_pred_df['target'], target_vs_pred_df['predicted']):\n",
    "        test_all_punc_target.extend(target_this.split(' '))\n",
    "        test_all_punc_preds.extend(predicted_this.split(' '))\n",
    "    \n",
    "    assert len(test_all_punc_target) == len(test_all_punc_preds)\n",
    "    \n",
    "    return test_all_punc_target, test_all_punc_preds"
   ]
  },
  {
   "cell_type": "code",
   "execution_count": 246,
   "id": "3aa3cc4d-d980-4b6c-8852-127f249d940a",
   "metadata": {},
   "outputs": [],
   "source": [
    "test_all_punc_target, test_all_punc_preds = return_separate_punct(target_vs_pred_df)\n",
    "\n",
    "cm = confusion_matrix(test_all_punc_target, test_all_punc_preds)\n",
    "# precision = TP / (TP + FP)\n",
    "precision = precision_score(test_all_punc_target, test_all_punc_preds, average=None, zero_division=np.nan)\n",
    "# recall = TP / (TP + FN)\n",
    "recall = recall_score(test_all_punc_target, test_all_punc_preds, average=None, zero_division=np.nan)\n",
    "# f1 = 2TP / (2TP + FP + FN)\n",
    "f1 = f1_score(test_all_punc_target, test_all_punc_preds, average=None)"
   ]
  },
  {
   "cell_type": "code",
   "execution_count": 252,
   "id": "63c5f583-a607-46f8-b26c-60a8da67e036",
   "metadata": {},
   "outputs": [],
   "source": [
    "END_PUNC = ['F']\n",
    "INTR_PUNC = ['S', 'C']\n",
    "\n",
    "NAMES_PUNC = {\n",
    "    'S': 'space (` `)',\n",
    "    'C': 'comma (`,`)',\n",
    "    'F': 'end of sent',\n",
    "}"
   ]
  },
  {
   "cell_type": "code",
   "execution_count": 253,
   "id": "9b3fce85-5aa9-44f9-a674-2a39cadb50d8",
   "metadata": {},
   "outputs": [
    {
     "data": {
      "image/png": "[encoded data removed]",
      "text/plain": [
       "<Figure size 500x400 with 2 Axes>"
      ]
     },
     "metadata": {
      "image/png": {
       "height": 384,
       "width": 436
      }
     },
     "output_type": "display_data"
    }
   ],
   "source": [
    "fig, ax = plt.subplots(figsize=(5, 4))\n",
    "\n",
    "# create a confusion matrix\n",
    "# cm = confusion_matrix(test_all_punc_target, test_all_punc_preds) / n_experiments\n",
    "classes = sorted(END_PUNC + INTR_PUNC)  # alphabetic order\n",
    "\n",
    "# plot the confusion matrix\n",
    "sns.heatmap(cm, annot=True, fmt='g', xticklabels=classes, yticklabels=classes)\n",
    "plt.ylabel('Prediction', fontsize=lables_fs)\n",
    "plt.xlabel('Actual', fontsize=lables_fs)\n",
    "plt.title(f'Confusion Matrix', fontsize=lables_fs)\n",
    "plt.show()"
   ]
  },
  {
   "cell_type": "code",
   "execution_count": null,
   "id": "1231907d-9a5d-4987-9ea1-2e012f3eab2a",
   "metadata": {},
   "outputs": [],
   "source": []
  },
  {
   "cell_type": "code",
   "execution_count": 254,
   "id": "258b3b92-4f02-4da1-97fb-5d43cda886ac",
   "metadata": {},
   "outputs": [
    {
     "name": "stdout",
     "output_type": "stream",
     "text": [
      "                  |comma (`,`)       |end of sent       |space (` `)       |\n",
      "------------------|------------------|------------------|------------------|\n",
      "Precision         |0.621684          |1.000000          |0.893749          |\n",
      "Recall            |0.467274          |1.000000          |0.940331          |\n",
      "F1 score          |0.533531          |1.000000          |0.916449          |\n"
     ]
    }
   ],
   "source": [
    "metrics_names = ['Precision', 'Recall', 'F1 score']\n",
    "metrics = {'Precision': precision, 'Recall': recall, 'F1 score': f1}\n",
    "col_w = 18\n",
    "\n",
    "print(' ' * col_w + '|' + ''.join([f\"{NAMES_PUNC[token] + (col_w - len(NAMES_PUNC[token])) * ' '}|\" for token in classes]))  # header\n",
    "print(''.join(['-' * col_w + '|' for _ in range(len(classes) + 1)]) )\n",
    "for ind, metric_name in enumerate(metrics_names):\n",
    "    row = f\"{metric_name + (col_w - len(metric_name)) * ' '}|\"\n",
    "    for score in metrics[metric_name]:\n",
    "        score_str = f'{score:.6f}'\n",
    "        row += f\"{score_str + (col_w - len(score_str)) * ' '}|\"\n",
    "    print(row)"
   ]
  },
  {
   "cell_type": "markdown",
   "id": "cb32bb3a-88f1-4b15-b040-06ae8c66f2f5",
   "metadata": {},
   "source": [
    "#### Levenshtein distance"
   ]
  },
  {
   "cell_type": "code",
   "execution_count": 250,
   "id": "c02b76a7-d271-461a-b8df-c539c57bdd0a",
   "metadata": {},
   "outputs": [],
   "source": [
    "target_vs_pred_df['levenshtein'] = target_vs_pred_df.apply(\n",
    "    lambda row: levenshtein_distance(row.target, row.predicted),\n",
    "    axis = 1\n",
    ")"
   ]
  },
  {
   "cell_type": "code",
   "execution_count": 251,
   "id": "f346c1c7-d3a7-4c70-9c75-e48cb0056670",
   "metadata": {},
   "outputs": [
    {
     "name": "stdout",
     "output_type": "stream",
     "text": [
      "\tMean: 1.689407540394973\n",
      "\tMIN : 0\n",
      "\tMAX : 13\n"
     ]
    }
   ],
   "source": [
    "print(f\"\\tMean: {target_vs_pred_df['levenshtein'].mean()}\")\n",
    "print(f\"\\tMIN : {target_vs_pred_df['levenshtein'].min()}\")\n",
    "print(f\"\\tMAX : {target_vs_pred_df['levenshtein'].max()}\")"
   ]
  },
  {
   "cell_type": "code",
   "execution_count": null,
   "id": "39fc02cc-9f3b-49f2-a4c2-ec90986d162e",
   "metadata": {},
   "outputs": [],
   "source": []
  },
  {
   "cell_type": "code",
   "execution_count": null,
   "id": "4d505c47-5aff-4c0a-b3c9-eecdec79356f",
   "metadata": {},
   "outputs": [],
   "source": []
  },
  {
   "cell_type": "markdown",
   "id": "91b0be70-3964-48ce-8c18-909bd8a4baa5",
   "metadata": {},
   "source": [
    "## Trying to predict all punctuation"
   ]
  },
  {
   "cell_type": "code",
   "execution_count": 255,
   "id": "ce3501e3-3d5e-4976-b6fe-6c2d4ba5ef78",
   "metadata": {},
   "outputs": [],
   "source": [
    "filename_csv = '01_punct_pushkin.csv'"
   ]
  },
  {
   "cell_type": "code",
   "execution_count": 256,
   "id": "72ecc5a7-fb72-4252-9c72-d11d57a2d4bb",
   "metadata": {},
   "outputs": [
    {
     "data": {
      "text/plain": [
       "(4456, 4)"
      ]
     },
     "execution_count": 256,
     "metadata": {},
     "output_type": "execute_result"
    }
   ],
   "source": [
    "# load saved dataset\n",
    "data_df2 = pd.read_csv(os.path.join(prepared_dir, filename_csv), index_col=0)\n",
    "data_df2.shape"
   ]
  },
  {
   "cell_type": "code",
   "execution_count": 257,
   "id": "47e7820b-9c6d-4a31-b3ca-9e1e81392526",
   "metadata": {},
   "outputs": [
    {
     "data": {
      "text/html": [
       "<div>\n",
       "<style scoped>\n",
       "    .dataframe tbody tr th:only-of-type {\n",
       "        vertical-align: middle;\n",
       "    }\n",
       "\n",
       "    .dataframe tbody tr th {\n",
       "        vertical-align: top;\n",
       "    }\n",
       "\n",
       "    .dataframe thead th {\n",
       "        text-align: right;\n",
       "    }\n",
       "</style>\n",
       "<table border=\"1\" class=\"dataframe\">\n",
       "  <thead>\n",
       "    <tr style=\"text-align: right;\">\n",
       "      <th></th>\n",
       "      <th>input</th>\n",
       "      <th>input_lemma</th>\n",
       "      <th>input_pos</th>\n",
       "      <th>target</th>\n",
       "    </tr>\n",
       "  </thead>\n",
       "  <tbody>\n",
       "    <tr>\n",
       "      <th>3253</th>\n",
       "      <td>когда встали изо стола антон пафнутьич стал вертеться около молодого француза покрякивая и откашливаясь и наконец обратился к нему с изъяснением</td>\n",
       "      <td>когда встать из стол антон пафнутьич стать вертеться около молодой француз покрякивая и откашливаясь и наконец обратиться к он с изъяснение</td>\n",
       "      <td>SCONJ VERB ADP NOUN NOUN NOUN VERB VERB ADP ADJ NOUN NOUN CCONJ NOUN CCONJ ADV VERB ADP PRON ADP NOUN</td>\n",
       "      <td>S S S C S S S S S S C S S C S S S S S S P</td>\n",
       "    </tr>\n",
       "    <tr>\n",
       "      <th>3141</th>\n",
       "      <td>накануне праздника гости начали съезжаться иные останавливались в господском доме и во флигелях другие у приказчика третьи у священника четвертые ...</td>\n",
       "      <td>накануне праздник гость начать съезжаться иной останавливаться в господский дом и в флигель другой у приказчик третий у священник четвертый у зажи...</td>\n",
       "      <td>ADP NOUN NOUN VERB VERB ADJ VERB ADP ADJ NOUN CCONJ ADP NOUN ADJ ADP NOUN ADJ ADP NOUN ADJ ADP ADJ NOUN</td>\n",
       "      <td>S S S S C S S S S S S S C S S C S S C S S S P</td>\n",
       "    </tr>\n",
       "    <tr>\n",
       "      <th>3508</th>\n",
       "      <td>папенька сердит и запретил всему дому вас слушаться но велите мне сделать что вам угодно и я для вас все сделаю</td>\n",
       "      <td>папенька сердитый и запретить весь дом вы слушаться но велеть я сделать что вы угодный и я для вы весь сделать</td>\n",
       "      <td>ADJ NOUN CCONJ VERB DET NOUN PRON VERB CCONJ VERB PRON VERB PRON PRON ADJ CCONJ PRON ADP PRON PRON VERB</td>\n",
       "      <td>S S S S S S S C S S S C S S C S S S S S P</td>\n",
       "    </tr>\n",
       "    <tr>\n",
       "      <th>2461</th>\n",
       "      <td>во все время пугачев лежал в своей палатке жестоко страдая от раны полученной им под магнитною</td>\n",
       "      <td>в весь время пугачев лежать в свой палатка жестоко страдать от рана получить он под магнитный</td>\n",
       "      <td>ADP DET NOUN NOUN VERB ADP DET NOUN ADV VERB ADP NOUN VERB PRON ADP NOUN</td>\n",
       "      <td>S S S S S S S C S S S C S S S P</td>\n",
       "    </tr>\n",
       "    <tr>\n",
       "      <th>1647</th>\n",
       "      <td>вы были для меня более чем благодетели</td>\n",
       "      <td>вы быть для я более чем благодетель</td>\n",
       "      <td>PRON AUX ADP PRON ADV SCONJ VERB</td>\n",
       "      <td>S S S S C S P</td>\n",
       "    </tr>\n",
       "  </tbody>\n",
       "</table>\n",
       "</div>"
      ],
      "text/plain": [
       "                                                                                                                                                      input  \\\n",
       "3253       когда встали изо стола антон пафнутьич стал вертеться около молодого француза покрякивая и откашливаясь и наконец обратился к нему с изъяснением   \n",
       "3141  накануне праздника гости начали съезжаться иные останавливались в господском доме и во флигелях другие у приказчика третьи у священника четвертые ...   \n",
       "3508                                        папенька сердит и запретил всему дому вас слушаться но велите мне сделать что вам угодно и я для вас все сделаю   \n",
       "2461                                                         во все время пугачев лежал в своей палатке жестоко страдая от раны полученной им под магнитною   \n",
       "1647                                                                                                                 вы были для меня более чем благодетели   \n",
       "\n",
       "                                                                                                                                                input_lemma  \\\n",
       "3253            когда встать из стол антон пафнутьич стать вертеться около молодой француз покрякивая и откашливаясь и наконец обратиться к он с изъяснение   \n",
       "3141  накануне праздник гость начать съезжаться иной останавливаться в господский дом и в флигель другой у приказчик третий у священник четвертый у зажи...   \n",
       "3508                                         папенька сердитый и запретить весь дом вы слушаться но велеть я сделать что вы угодный и я для вы весь сделать   \n",
       "2461                                                          в весь время пугачев лежать в свой палатка жестоко страдать от рана получить он под магнитный   \n",
       "1647                                                                                                                    вы быть для я более чем благодетель   \n",
       "\n",
       "                                                                                                    input_pos  \\\n",
       "3253    SCONJ VERB ADP NOUN NOUN NOUN VERB VERB ADP ADJ NOUN NOUN CCONJ NOUN CCONJ ADV VERB ADP PRON ADP NOUN   \n",
       "3141  ADP NOUN NOUN VERB VERB ADJ VERB ADP ADJ NOUN CCONJ ADP NOUN ADJ ADP NOUN ADJ ADP NOUN ADJ ADP ADJ NOUN   \n",
       "3508  ADJ NOUN CCONJ VERB DET NOUN PRON VERB CCONJ VERB PRON VERB PRON PRON ADJ CCONJ PRON ADP PRON PRON VERB   \n",
       "2461                                 ADP DET NOUN NOUN VERB ADP DET NOUN ADV VERB ADP NOUN VERB PRON ADP NOUN   \n",
       "1647                                                                         PRON AUX ADP PRON ADV SCONJ VERB   \n",
       "\n",
       "                                             target  \n",
       "3253      S S S C S S S S S S C S S C S S S S S S P  \n",
       "3141  S S S S C S S S S S S S C S S C S S C S S S P  \n",
       "3508      S S S S S S S C S S S C S S C S S S S S P  \n",
       "2461                S S S S S S S C S S S C S S S P  \n",
       "1647                                  S S S S C S P  "
      ]
     },
     "execution_count": 257,
     "metadata": {},
     "output_type": "execute_result"
    }
   ],
   "source": [
    "data_df2.sample(5)"
   ]
  },
  {
   "cell_type": "markdown",
   "id": "458664d6-5801-4681-acf0-99c28bc5e3d2",
   "metadata": {},
   "source": [
    "### Vocab"
   ]
  },
  {
   "cell_type": "code",
   "execution_count": 259,
   "id": "ff780451-7aa0-4680-a67b-aab21ae1c601",
   "metadata": {},
   "outputs": [],
   "source": [
    "punc2id = {'S': 0, 'C': 1, 'P': 2, 'Q': 3, 'EX': 4}\n",
    "id2punc = {v: k for k, v in punc2id.items()}"
   ]
  },
  {
   "cell_type": "code",
   "execution_count": null,
   "id": "4dddd235-4d5c-47a7-98f7-ba6496a44b76",
   "metadata": {},
   "outputs": [],
   "source": []
  },
  {
   "cell_type": "markdown",
   "id": "def4a756-09f7-4773-aa6e-0d4cc13d418d",
   "metadata": {},
   "source": [
    "### Training"
   ]
  },
  {
   "cell_type": "code",
   "execution_count": 291,
   "id": "d9628442-7db5-447c-b3ec-2cab5169943a",
   "metadata": {},
   "outputs": [],
   "source": [
    "args_2 = {\n",
    "    'bs': 20,\n",
    "    'num_workers': 0,\n",
    "    'use_cuda': 0,\n",
    "    'epochs': 11,\n",
    "    'half_lr': 0,\n",
    "    'early_stop': 0,\n",
    "    'max_norm': 5,\n",
    "    'lr': 1e-3,\n",
    "    'l2': 0.0,  # weight decay (L2 penalty)\n",
    "    'print_freq': 100,  # frequency of printing training infomation\n",
    "}"
   ]
  },
  {
   "cell_type": "code",
   "execution_count": null,
   "id": "9468bb26-71ac-4a96-a5c7-d59c336f3aeb",
   "metadata": {},
   "outputs": [],
   "source": []
  },
  {
   "cell_type": "code",
   "execution_count": 292,
   "id": "73f4f982-f455-4898-badf-9d530742b2dc",
   "metadata": {},
   "outputs": [],
   "source": [
    "# data splitting\n",
    "train_2, test_2 = train_test_split(data_df2, test_size=test_ratio, random_state=splitting_random_state)"
   ]
  },
  {
   "cell_type": "code",
   "execution_count": 293,
   "id": "1b2502e8-be2b-442e-8fef-2bdecb8725fd",
   "metadata": {},
   "outputs": [],
   "source": [
    "train_2.reset_index(drop=True, inplace=True)\n",
    "test_2.reset_index(drop=True, inplace=True)"
   ]
  },
  {
   "cell_type": "code",
   "execution_count": null,
   "id": "f67fcb80-e4ec-47dc-867e-8f3c0982fe52",
   "metadata": {},
   "outputs": [],
   "source": []
  },
  {
   "cell_type": "code",
   "execution_count": 294,
   "id": "abc30634-4021-4c41-9256-0c4502d467f0",
   "metadata": {},
   "outputs": [
    {
     "name": "stdout",
     "output_type": "stream",
     "text": [
      "Number of parameters: 179765\n"
     ]
    }
   ],
   "source": [
    "tr_loader_2 = build_data_loader(\n",
    "    train_2, sent_col='input_lemma', target_col='target',\n",
    "    batch_size=args_2['bs'], drop_last=False,\n",
    "    num_workers=args_2['num_workers']\n",
    ")\n",
    "cv_loader_2 = build_data_loader(\n",
    "    test_2, sent_col='input_lemma', target_col='target',\n",
    "    batch_size=args_2['bs'], drop_last=False\n",
    ")\n",
    "data_2 = {'tr_loader': tr_loader_2, 'cv_loader': cv_loader_2}\n",
    "\n",
    "# Build model\n",
    "model_2 = LstmPunctuator(\n",
    "    num_embeddings=len(word2id), embedding_dim=16,\n",
    "    hidden_size=64, num_layers=1, bidirectional=1,\n",
    "    num_class=len(punc2id)\n",
    ")\n",
    "# print(model)\n",
    "print(\"Number of parameters: %d\" % num_param(model_2))"
   ]
  },
  {
   "cell_type": "code",
   "execution_count": 295,
   "id": "e2c1a0fc-3f0b-4e7f-81f3-61d582e0c167",
   "metadata": {},
   "outputs": [],
   "source": [
    "# Build criterion\n",
    "criterion_2 = torch.nn.CrossEntropyLoss(ignore_index=IGNORE_ID)\n",
    "# Build optimizer\n",
    "optimizier_2 = torch.optim.Adam(\n",
    "    model_2.parameters(), lr=args_2['lr'],\n",
    "    weight_decay=args_2['l2']\n",
    ")"
   ]
  },
  {
   "cell_type": "code",
   "execution_count": 296,
   "id": "9181d425-3bb4-443c-aa80-42fb4fb69ac5",
   "metadata": {},
   "outputs": [
    {
     "name": "stdout",
     "output_type": "stream",
     "text": [
      "-------------------------------------------------------------------------------------\n",
      "Epoch 1\n",
      "\tTrain Summary | Time 2.95s | Train Loss 0.736881\n",
      "\tValid Summary | Time 3.40s | Valid Loss 0.516666\n",
      "-------------------------------------------------------------------------------------\n",
      "Epoch 2\n",
      "\tTrain Summary | Time 4.16s | Train Loss 0.474464\n",
      "\tValid Summary | Time 4.69s | Valid Loss 0.442783\n",
      "-------------------------------------------------------------------------------------\n",
      "Epoch 3\n",
      "\tTrain Summary | Time 4.79s | Train Loss 0.415233\n",
      "\tValid Summary | Time 5.70s | Valid Loss 0.402969\n",
      "-------------------------------------------------------------------------------------\n",
      "Epoch 4\n",
      "\tTrain Summary | Time 3.69s | Train Loss 0.378178\n",
      "\tValid Summary | Time 4.04s | Valid Loss 0.380438\n",
      "-------------------------------------------------------------------------------------\n",
      "Epoch 5\n",
      "\tTrain Summary | Time 3.07s | Train Loss 0.351826\n",
      "\tValid Summary | Time 3.40s | Valid Loss 0.365476\n",
      "-------------------------------------------------------------------------------------\n",
      "Epoch 6\n",
      "\tTrain Summary | Time 3.14s | Train Loss 0.331428\n",
      "\tValid Summary | Time 3.48s | Valid Loss 0.355574\n",
      "-------------------------------------------------------------------------------------\n",
      "Epoch 7\n",
      "\tTrain Summary | Time 4.80s | Train Loss 0.314675\n",
      "\tValid Summary | Time 5.15s | Valid Loss 0.348994\n",
      "-------------------------------------------------------------------------------------\n",
      "Epoch 8\n",
      "\tTrain Summary | Time 3.02s | Train Loss 0.299926\n",
      "\tValid Summary | Time 3.35s | Valid Loss 0.344683\n",
      "-------------------------------------------------------------------------------------\n",
      "Epoch 9\n",
      "\tTrain Summary | Time 2.90s | Train Loss 0.286123\n",
      "\tValid Summary | Time 3.22s | Valid Loss 0.342190\n",
      "-------------------------------------------------------------------------------------\n",
      "Epoch 10\n",
      "\tTrain Summary | Time 2.83s | Train Loss 0.273060\n",
      "\tValid Summary | Time 3.15s | Valid Loss 0.341339\n",
      "-------------------------------------------------------------------------------------\n",
      "Epoch 11\n",
      "\tTrain Summary | Time 4.14s | Train Loss 0.260552\n",
      "\tValid Summary | Time 4.46s | Valid Loss 0.341554\n"
     ]
    }
   ],
   "source": [
    "# Build Solver\n",
    "torch.manual_seed(48)\n",
    "\n",
    "solver_2 = Solver(data_2, model_2, criterion_2, optimizier_2, args_2)\n",
    "solver_2.train()"
   ]
  },
  {
   "cell_type": "code",
   "execution_count": null,
   "id": "a56456b7-28fb-4082-b1b6-10168eec4487",
   "metadata": {},
   "outputs": [],
   "source": []
  },
  {
   "cell_type": "code",
   "execution_count": null,
   "id": "51d2babc-918e-4f5f-956c-37b035a1d281",
   "metadata": {},
   "outputs": [],
   "source": []
  },
  {
   "cell_type": "markdown",
   "id": "7a1b0b72-25e9-499c-bb8a-71f4c00fbacb",
   "metadata": {},
   "source": [
    "### Metrics"
   ]
  },
  {
   "cell_type": "code",
   "execution_count": 297,
   "id": "5cd4ff21-989f-457e-b8c0-351fea970151",
   "metadata": {},
   "outputs": [],
   "source": [
    "test_loader_2 = build_data_loader(\n",
    "    test_2, sent_col='input_lemma', target_col='target',\n",
    "    batch_size=1, drop_last=False\n",
    ")"
   ]
  },
  {
   "cell_type": "code",
   "execution_count": 298,
   "id": "91189559-8481-43c9-aee4-b1a5289e26e3",
   "metadata": {
    "scrolled": true
   },
   "outputs": [],
   "source": [
    "all_test_targets = []  # by markers\n",
    "all_test_preds = []\n",
    "\n",
    "solver_2.model.eval()\n",
    "\n",
    "for i, (data) in enumerate(test_loader_2):\n",
    "    padded_input, input_lengths, padded_target = data\n",
    "    all_test_targets.append(' '.join([id2punc[ix.item()] for ix in padded_target[0]]))\n",
    "    \n",
    "    pred = solver_2.model(padded_input, input_lengths)\n",
    "    pred = torch.argmax(pred.view(-1, pred.size(-1)), dim=1)\n",
    "    all_test_preds.append(' '.join([id2punc[ix.item()] for ix in pred]))\n",
    "\n",
    "    assert len(pred) == len(padded_target[0])"
   ]
  },
  {
   "cell_type": "code",
   "execution_count": 299,
   "id": "ef1c6f21-b9e0-4680-ae9d-52adde4bab18",
   "metadata": {},
   "outputs": [],
   "source": [
    "target_vs_pred_df = pd.DataFrame()\n",
    "\n",
    "target_vs_pred_df['target'] = all_test_targets\n",
    "target_vs_pred_df['predicted'] = all_test_preds"
   ]
  },
  {
   "cell_type": "markdown",
   "id": "2e865386-e366-4d28-956a-dbe7a6dd752b",
   "metadata": {},
   "source": [
    "#### Precision, Recall, $F_1$"
   ]
  },
  {
   "cell_type": "code",
   "execution_count": 300,
   "id": "7eab6ea3-099b-457c-8683-de532cf166f1",
   "metadata": {},
   "outputs": [],
   "source": [
    "def return_separate_punct(target_vs_pred_df):\n",
    "    test_all_punc_target = []  # list of all punctuation\n",
    "    test_all_punc_preds = []\n",
    "    \n",
    "    for target_this, predicted_this in zip(target_vs_pred_df['target'], target_vs_pred_df['predicted']):\n",
    "        test_all_punc_target.extend(target_this.split(' '))\n",
    "        test_all_punc_preds.extend(predicted_this.split(' '))\n",
    "    \n",
    "    assert len(test_all_punc_target) == len(test_all_punc_preds)\n",
    "    \n",
    "    return test_all_punc_target, test_all_punc_preds"
   ]
  },
  {
   "cell_type": "code",
   "execution_count": 301,
   "id": "a5867b53-fecd-4004-a99c-d10a9fbe8e79",
   "metadata": {},
   "outputs": [],
   "source": [
    "test_all_punc_target, test_all_punc_preds = return_separate_punct(target_vs_pred_df)\n",
    "\n",
    "cm = confusion_matrix(test_all_punc_target, test_all_punc_preds)\n",
    "# precision = TP / (TP + FP)\n",
    "precision = precision_score(test_all_punc_target, test_all_punc_preds, average=None, zero_division=np.nan)\n",
    "# recall = TP / (TP + FN)\n",
    "recall = recall_score(test_all_punc_target, test_all_punc_preds, average=None, zero_division=np.nan)\n",
    "# f1 = 2TP / (2TP + FP + FN)\n",
    "f1 = f1_score(test_all_punc_target, test_all_punc_preds, average=None)"
   ]
  },
  {
   "cell_type": "code",
   "execution_count": 302,
   "id": "7bde78c4-05d6-44fd-a3b3-65285a94bf8f",
   "metadata": {},
   "outputs": [],
   "source": [
    "END_PUNC = ['P', 'EX', 'Q']\n",
    "INTR_PUNC = ['S', 'C']\n",
    "\n",
    "NAMES_PUNC = {\n",
    "    'S': 'space (` `)',\n",
    "    'C': 'comma (`,`)',\n",
    "    'P': 'period (`.`)',\n",
    "    'EX': 'exclamation (`!`)',\n",
    "    'Q': 'question (`?`)'\n",
    "}"
   ]
  },
  {
   "cell_type": "code",
   "execution_count": 303,
   "id": "780606b8-2ef4-4c56-9e12-6def5e3671fb",
   "metadata": {},
   "outputs": [
    {
     "data": {
      "image/png": "[encoded data removed]",
      "text/plain": [
       "<Figure size 500x400 with 2 Axes>"
      ]
     },
     "metadata": {
      "image/png": {
       "height": 384,
       "width": 436
      }
     },
     "output_type": "display_data"
    }
   ],
   "source": [
    "fig, ax = plt.subplots(figsize=(5, 4))\n",
    "\n",
    "# create a confusion matrix\n",
    "# cm = confusion_matrix(test_all_punc_target, test_all_punc_preds) / n_experiments\n",
    "classes = sorted(END_PUNC + INTR_PUNC)  # alphabetic order\n",
    "\n",
    "# plot the confusion matrix\n",
    "sns.heatmap(cm, annot=True, fmt='g', xticklabels=classes, yticklabels=classes)\n",
    "plt.ylabel('Prediction', fontsize=lables_fs)\n",
    "plt.xlabel('Actual', fontsize=lables_fs)\n",
    "plt.title(f'Confusion Matrix', fontsize=lables_fs)\n",
    "plt.show()"
   ]
  },
  {
   "cell_type": "code",
   "execution_count": null,
   "id": "7a0f2a40-cad3-4edf-935b-8518968926ec",
   "metadata": {},
   "outputs": [],
   "source": []
  },
  {
   "cell_type": "code",
   "execution_count": 304,
   "id": "50226eda-4b1c-4e15-a560-ea24ba8b5932",
   "metadata": {},
   "outputs": [
    {
     "name": "stdout",
     "output_type": "stream",
     "text": [
      "                  |comma (`,`)       |exclamation (`!`) |period (`.`)      |question (`?`)    |space (` `)       |\n",
      "------------------|------------------|------------------|------------------|------------------|------------------|\n",
      "Precision         |0.643087          |nan               |0.909926          |0.384615          |0.888728          |\n",
      "Recall            |0.433463          |0.000000          |0.988024          |0.138889          |0.949518          |\n",
      "F1 score          |0.517866          |0.000000          |0.947368          |0.204082          |0.918118          |\n"
     ]
    }
   ],
   "source": [
    "metrics_names = ['Precision', 'Recall', 'F1 score']\n",
    "metrics = {'Precision': precision, 'Recall': recall, 'F1 score': f1}\n",
    "col_w = 18\n",
    "\n",
    "print(' ' * col_w + '|' + ''.join([f\"{NAMES_PUNC[token] + (col_w - len(NAMES_PUNC[token])) * ' '}|\" for token in classes]))  # header\n",
    "print(''.join(['-' * col_w + '|' for _ in range(len(classes) + 1)]) )\n",
    "for ind, metric_name in enumerate(metrics_names):\n",
    "    row = f\"{metric_name + (col_w - len(metric_name)) * ' '}|\"\n",
    "    for score in metrics[metric_name]:\n",
    "        score_str = f'{score:.6f}'\n",
    "        row += f\"{score_str + (col_w - len(score_str)) * ' '}|\"\n",
    "    print(row)"
   ]
  },
  {
   "cell_type": "markdown",
   "id": "e80d41da-6f59-49a2-9895-3617571a6f8a",
   "metadata": {},
   "source": [
    "#### Levenshtein distance"
   ]
  },
  {
   "cell_type": "code",
   "execution_count": 305,
   "id": "685e5565-9b8c-4386-9491-58f3f27e80dd",
   "metadata": {},
   "outputs": [],
   "source": [
    "target_vs_pred_df['levenshtein'] = target_vs_pred_df.apply(\n",
    "    lambda row: levenshtein_distance(row.target, row.predicted),\n",
    "    axis = 1\n",
    ")"
   ]
  },
  {
   "cell_type": "code",
   "execution_count": 306,
   "id": "0baf43b9-8141-4d95-9cef-038aa6197566",
   "metadata": {},
   "outputs": [
    {
     "name": "stdout",
     "output_type": "stream",
     "text": [
      "\tMean: 1.8078994614003592\n",
      "\tMIN : 0\n",
      "\tMAX : 13\n"
     ]
    }
   ],
   "source": [
    "print(f\"\\tMean: {target_vs_pred_df['levenshtein'].mean()}\")\n",
    "print(f\"\\tMIN : {target_vs_pred_df['levenshtein'].min()}\")\n",
    "print(f\"\\tMAX : {target_vs_pred_df['levenshtein'].max()}\")"
   ]
  },
  {
   "cell_type": "code",
   "execution_count": null,
   "id": "8d0c12ec-6648-48ca-b369-82b5dfe72b5b",
   "metadata": {},
   "outputs": [],
   "source": []
  },
  {
   "cell_type": "code",
   "execution_count": null,
   "id": "aeb48dbb-9cca-4bb8-be5f-d82825d4cf47",
   "metadata": {},
   "outputs": [],
   "source": []
  },
  {
   "cell_type": "code",
   "execution_count": null,
   "id": "54a4e5e4-036b-423f-bf6c-978408d19890",
   "metadata": {},
   "outputs": [],
   "source": []
  },
  {
   "cell_type": "code",
   "execution_count": null,
   "id": "0f11e253-22ff-4ae8-aecb-af96cb04698c",
   "metadata": {},
   "outputs": [],
   "source": []
  }
 ],
 "metadata": {
  "kernelspec": {
   "display_name": "Python 3 (ipykernel)",
   "language": "python",
   "name": "python3"
  },
  "language_info": {
   "codemirror_mode": {
    "name": "ipython",
    "version": 3
   },
   "file_extension": ".py",
   "mimetype": "text/x-python",
   "name": "python",
   "nbconvert_exporter": "python",
   "pygments_lexer": "ipython3",
   "version": "3.8.10"
  }
 },
 "nbformat": 4,
 "nbformat_minor": 5
}
