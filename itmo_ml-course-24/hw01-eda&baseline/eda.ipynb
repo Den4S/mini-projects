{
 "cells": [
  {
   "cell_type": "code",
   "execution_count": 1,
   "id": "cfeb7787-120d-457e-aa90-7e71649cd83e",
   "metadata": {},
   "outputs": [],
   "source": [
    "import pandas as pd\n",
    "from pandas.api.types import is_object_dtype"
   ]
  },
  {
   "cell_type": "code",
   "execution_count": 2,
   "id": "37fcca6c-4d65-4705-bfca-7cf7fbc4b344",
   "metadata": {},
   "outputs": [],
   "source": [
    "import numpy as np"
   ]
  },
  {
   "cell_type": "code",
   "execution_count": 79,
   "id": "b00396ee-9f39-425f-881d-40af208b5a2d",
   "metadata": {},
   "outputs": [],
   "source": [
    "import seaborn as sns"
   ]
  },
  {
   "cell_type": "code",
   "execution_count": 3,
   "id": "704878bc-9e05-4c01-9f7c-9d2d38ee49b6",
   "metadata": {},
   "outputs": [],
   "source": [
    "import plotly.express as px"
   ]
  },
  {
   "cell_type": "code",
   "execution_count": 65,
   "id": "9bff647a-1080-455d-a212-6c640cea8464",
   "metadata": {},
   "outputs": [],
   "source": [
    "import matplotlib.pyplot as plt\n",
    "import scienceplots\n",
    "\n",
    "plt.style.use('science')\n",
    "%config InlineBackend.figure_format = 'retina'"
   ]
  },
  {
   "cell_type": "markdown",
   "id": "f01c476f-5259-4a74-a6df-560ef30db23b",
   "metadata": {},
   "source": [
    "## Data"
   ]
  },
  {
   "cell_type": "code",
   "execution_count": 5,
   "id": "6e0ba0f5-368c-41b5-84a9-0c38ced01942",
   "metadata": {},
   "outputs": [],
   "source": [
    "data_path = '../data/cars_dataset.csv'"
   ]
  },
  {
   "cell_type": "code",
   "execution_count": 25,
   "id": "2a4e3b01-1517-4792-b8c7-24661523eafe",
   "metadata": {},
   "outputs": [
    {
     "name": "stdout",
     "output_type": "stream",
     "text": [
      "DF shape: (22702, 54)\n"
     ]
    },
    {
     "data": {
      "text/html": [
       "<div>\n",
       "<style scoped>\n",
       "    .dataframe tbody tr th:only-of-type {\n",
       "        vertical-align: middle;\n",
       "    }\n",
       "\n",
       "    .dataframe tbody tr th {\n",
       "        vertical-align: top;\n",
       "    }\n",
       "\n",
       "    .dataframe thead th {\n",
       "        text-align: right;\n",
       "    }\n",
       "</style>\n",
       "<table border=\"1\" class=\"dataframe\">\n",
       "  <thead>\n",
       "    <tr style=\"text-align: right;\">\n",
       "      <th></th>\n",
       "      <th>mark</th>\n",
       "      <th>box</th>\n",
       "      <th>drive_unit</th>\n",
       "      <th>seats</th>\n",
       "      <th>doors</th>\n",
       "      <th>country</th>\n",
       "      <th>engine</th>\n",
       "      <th>volume</th>\n",
       "      <th>color</th>\n",
       "      <th>mileage</th>\n",
       "      <th>price</th>\n",
       "      <th>year</th>\n",
       "      <th>car_type</th>\n",
       "      <th>generation</th>\n",
       "      <th>model</th>\n",
       "      <th>drive</th>\n",
       "      <th>boost_type</th>\n",
       "      <th>cylinder_location</th>\n",
       "      <th>front_brakes</th>\n",
       "      <th>engine_volume</th>\n",
       "      <th>width</th>\n",
       "      <th>front_suspension_type</th>\n",
       "      <th>diameter_cylinder_and_stroke_piston</th>\n",
       "      <th>maximum_power</th>\n",
       "      <th>length</th>\n",
       "      <th>car_class</th>\n",
       "      <th>wheelbase</th>\n",
       "      <th>cylinders</th>\n",
       "      <th>height</th>\n",
       "      <th>fuel</th>\n",
       "      <th>torque</th>\n",
       "      <th>valves_per_cylinder</th>\n",
       "      <th>volume_fuel_tank</th>\n",
       "      <th>rear_track_width</th>\n",
       "      <th>front_track_width</th>\n",
       "      <th>curb_weight_kg</th>\n",
       "      <th>clearance</th>\n",
       "      <th>engine_location</th>\n",
       "      <th>maximum_speed</th>\n",
       "      <th>wheel_size</th>\n",
       "      <th>transmissions</th>\n",
       "      <th>speed_to_100</th>\n",
       "      <th>full_weight</th>\n",
       "      <th>compression_ratio</th>\n",
       "      <th>consumption</th>\n",
       "      <th>engine_power</th>\n",
       "      <th>restyling</th>\n",
       "      <th>release_start_series</th>\n",
       "      <th>end_serial</th>\n",
       "      <th>trunk_volume_max</th>\n",
       "      <th>trunk_volume_min</th>\n",
       "      <th>expense_city</th>\n",
       "      <th>expense_track</th>\n",
       "      <th>consumption_average</th>\n",
       "    </tr>\n",
       "  </thead>\n",
       "  <tbody>\n",
       "    <tr>\n",
       "      <th>19919</th>\n",
       "      <td>Nissan</td>\n",
       "      <td>automatic</td>\n",
       "      <td>front</td>\n",
       "      <td>5.0</td>\n",
       "      <td>4.0</td>\n",
       "      <td>Japan</td>\n",
       "      <td>gasoline</td>\n",
       "      <td>1.6</td>\n",
       "      <td>gray</td>\n",
       "      <td>145600.0</td>\n",
       "      <td>370000.0</td>\n",
       "      <td>2008.0</td>\n",
       "      <td>Sedan</td>\n",
       "      <td>I 2004 – 2012</td>\n",
       "      <td>Tiida</td>\n",
       "      <td>front</td>\n",
       "      <td>no</td>\n",
       "      <td>in-line</td>\n",
       "      <td>disc ventilated</td>\n",
       "      <td>1598.0</td>\n",
       "      <td>1695.0</td>\n",
       "      <td>independent, spring</td>\n",
       "      <td>0.0</td>\n",
       "      <td>110.0</td>\n",
       "      <td>4474.0</td>\n",
       "      <td>C</td>\n",
       "      <td>2600.0</td>\n",
       "      <td>4.0</td>\n",
       "      <td>1535.0</td>\n",
       "      <td>AI-95</td>\n",
       "      <td>156.0</td>\n",
       "      <td>4.0</td>\n",
       "      <td>45.0</td>\n",
       "      <td>1485.0</td>\n",
       "      <td>1480.0</td>\n",
       "      <td>1260.0</td>\n",
       "      <td>163.0</td>\n",
       "      <td>front, transverse</td>\n",
       "      <td>170.0</td>\n",
       "      <td>185/65/R15</td>\n",
       "      <td>4.000000</td>\n",
       "      <td>12.600000</td>\n",
       "      <td>1715.0</td>\n",
       "      <td>11.149437</td>\n",
       "      <td>7.4</td>\n",
       "      <td>distributed injection (multi-point)</td>\n",
       "      <td>0.0</td>\n",
       "      <td>2004.0</td>\n",
       "      <td>2012.0</td>\n",
       "      <td>463.0</td>\n",
       "      <td>0.0</td>\n",
       "      <td>10.0</td>\n",
       "      <td>5.9</td>\n",
       "      <td>7.4</td>\n",
       "    </tr>\n",
       "    <tr>\n",
       "      <th>2023</th>\n",
       "      <td>Skoda</td>\n",
       "      <td>automatic</td>\n",
       "      <td>front</td>\n",
       "      <td>5.0</td>\n",
       "      <td>5.0</td>\n",
       "      <td>Czech Republic</td>\n",
       "      <td>gasoline</td>\n",
       "      <td>1.4</td>\n",
       "      <td>silver</td>\n",
       "      <td>0.0</td>\n",
       "      <td>1908400.0</td>\n",
       "      <td>2020.0</td>\n",
       "      <td>Liftback</td>\n",
       "      <td>IV (A8) 2019 – now</td>\n",
       "      <td>Octavia</td>\n",
       "      <td>front</td>\n",
       "      <td>turbocharging</td>\n",
       "      <td>in-line</td>\n",
       "      <td>disc ventilated</td>\n",
       "      <td>1395.0</td>\n",
       "      <td>1829.0</td>\n",
       "      <td>independent, spring</td>\n",
       "      <td>74.5</td>\n",
       "      <td>150.0</td>\n",
       "      <td>4689.0</td>\n",
       "      <td>C</td>\n",
       "      <td>2686.0</td>\n",
       "      <td>4.0</td>\n",
       "      <td>1470.0</td>\n",
       "      <td>AI-95</td>\n",
       "      <td>250.0</td>\n",
       "      <td>4.0</td>\n",
       "      <td>45.0</td>\n",
       "      <td>1535.0</td>\n",
       "      <td>1543.0</td>\n",
       "      <td>1341.0</td>\n",
       "      <td>158.0</td>\n",
       "      <td>front, transverse</td>\n",
       "      <td>223.0</td>\n",
       "      <td>205/60/R16  205/55/R17  225/45/R18</td>\n",
       "      <td>8.000000</td>\n",
       "      <td>9.000000</td>\n",
       "      <td>1838.0</td>\n",
       "      <td>10.500000</td>\n",
       "      <td>5.5</td>\n",
       "      <td>direct injection (direct)</td>\n",
       "      <td>0.0</td>\n",
       "      <td>2019.0</td>\n",
       "      <td>2020.0</td>\n",
       "      <td>600.0</td>\n",
       "      <td>1555.0</td>\n",
       "      <td>7.0</td>\n",
       "      <td>4.7</td>\n",
       "      <td>5.5</td>\n",
       "    </tr>\n",
       "    <tr>\n",
       "      <th>25983</th>\n",
       "      <td>Nissan</td>\n",
       "      <td>variator</td>\n",
       "      <td>front</td>\n",
       "      <td>7.0</td>\n",
       "      <td>5.0</td>\n",
       "      <td>Japan</td>\n",
       "      <td>gasoline</td>\n",
       "      <td>2.0</td>\n",
       "      <td>silver</td>\n",
       "      <td>290000.0</td>\n",
       "      <td>120000.0</td>\n",
       "      <td>2001.0</td>\n",
       "      <td>Compact MPV</td>\n",
       "      <td>1998 – 2004</td>\n",
       "      <td>Liberty</td>\n",
       "      <td>front</td>\n",
       "      <td>no</td>\n",
       "      <td>in-line</td>\n",
       "      <td>disc ventilated</td>\n",
       "      <td>1998.0</td>\n",
       "      <td>1695.0</td>\n",
       "      <td>independent, spring</td>\n",
       "      <td>89.0</td>\n",
       "      <td>147.0</td>\n",
       "      <td>4575.0</td>\n",
       "      <td>M</td>\n",
       "      <td>2690.0</td>\n",
       "      <td>4.0</td>\n",
       "      <td>1200.0</td>\n",
       "      <td>AI-95</td>\n",
       "      <td>198.0</td>\n",
       "      <td>4.0</td>\n",
       "      <td>60.0</td>\n",
       "      <td>1470.0</td>\n",
       "      <td>1470.0</td>\n",
       "      <td>1500.0</td>\n",
       "      <td>160.0</td>\n",
       "      <td>front, transverse</td>\n",
       "      <td>180.0</td>\n",
       "      <td>185/65/R15</td>\n",
       "      <td>5.655326</td>\n",
       "      <td>10.423527</td>\n",
       "      <td>1885.0</td>\n",
       "      <td>9.900000</td>\n",
       "      <td>0.0</td>\n",
       "      <td>distributed injection (multi-point)</td>\n",
       "      <td>0.0</td>\n",
       "      <td>1998.0</td>\n",
       "      <td>2004.0</td>\n",
       "      <td>0.0</td>\n",
       "      <td>0.0</td>\n",
       "      <td>0.0</td>\n",
       "      <td>0.0</td>\n",
       "      <td>0.0</td>\n",
       "    </tr>\n",
       "  </tbody>\n",
       "</table>\n",
       "</div>"
      ],
      "text/plain": [
       "          mark        box drive_unit  seats  doors         country    engine  \\\n",
       "19919  Nissan   automatic      front    5.0    4.0           Japan  gasoline   \n",
       "2023    Skoda   automatic      front    5.0    5.0  Czech Republic  gasoline   \n",
       "25983  Nissan    variator      front    7.0    5.0           Japan  gasoline   \n",
       "\n",
       "       volume   color   mileage      price    year     car_type  \\\n",
       "19919     1.6    gray  145600.0   370000.0  2008.0        Sedan   \n",
       "2023      1.4  silver       0.0  1908400.0  2020.0     Liftback   \n",
       "25983     2.0  silver  290000.0   120000.0  2001.0  Compact MPV   \n",
       "\n",
       "                generation     model  drive     boost_type cylinder_location  \\\n",
       "19919       I 2004 – 2012     Tiida   front             no           in-line   \n",
       "2023   IV (A8) 2019 – now   Octavia   front  turbocharging           in-line   \n",
       "25983         1998 – 2004   Liberty   front             no           in-line   \n",
       "\n",
       "          front_brakes  engine_volume   width front_suspension_type  \\\n",
       "19919  disc ventilated         1598.0  1695.0   independent, spring   \n",
       "2023   disc ventilated         1395.0  1829.0   independent, spring   \n",
       "25983  disc ventilated         1998.0  1695.0   independent, spring   \n",
       "\n",
       "       diameter_cylinder_and_stroke_piston  maximum_power  length car_class  \\\n",
       "19919                                  0.0          110.0  4474.0         C   \n",
       "2023                                  74.5          150.0  4689.0         C   \n",
       "25983                                 89.0          147.0  4575.0         M   \n",
       "\n",
       "       wheelbase  cylinders  height   fuel  torque  valves_per_cylinder  \\\n",
       "19919     2600.0        4.0  1535.0  AI-95   156.0                  4.0   \n",
       "2023      2686.0        4.0  1470.0  AI-95   250.0                  4.0   \n",
       "25983     2690.0        4.0  1200.0  AI-95   198.0                  4.0   \n",
       "\n",
       "       volume_fuel_tank  rear_track_width  front_track_width  curb_weight_kg  \\\n",
       "19919              45.0            1485.0             1480.0          1260.0   \n",
       "2023               45.0            1535.0             1543.0          1341.0   \n",
       "25983              60.0            1470.0             1470.0          1500.0   \n",
       "\n",
       "       clearance    engine_location  maximum_speed  \\\n",
       "19919      163.0  front, transverse          170.0   \n",
       "2023       158.0  front, transverse          223.0   \n",
       "25983      160.0  front, transverse          180.0   \n",
       "\n",
       "                               wheel_size  transmissions  speed_to_100  \\\n",
       "19919                          185/65/R15       4.000000     12.600000   \n",
       "2023   205/60/R16  205/55/R17  225/45/R18       8.000000      9.000000   \n",
       "25983                          185/65/R15       5.655326     10.423527   \n",
       "\n",
       "       full_weight  compression_ratio  consumption  \\\n",
       "19919       1715.0          11.149437          7.4   \n",
       "2023        1838.0          10.500000          5.5   \n",
       "25983       1885.0           9.900000          0.0   \n",
       "\n",
       "                              engine_power  restyling  release_start_series  \\\n",
       "19919  distributed injection (multi-point)        0.0                2004.0   \n",
       "2023             direct injection (direct)        0.0                2019.0   \n",
       "25983  distributed injection (multi-point)        0.0                1998.0   \n",
       "\n",
       "       end_serial  trunk_volume_max  trunk_volume_min  expense_city  \\\n",
       "19919      2012.0             463.0               0.0          10.0   \n",
       "2023       2020.0             600.0            1555.0           7.0   \n",
       "25983      2004.0               0.0               0.0           0.0   \n",
       "\n",
       "       expense_track  consumption_average  \n",
       "19919            5.9                  7.4  \n",
       "2023             4.7                  5.5  \n",
       "25983            0.0                  0.0  "
      ]
     },
     "execution_count": 25,
     "metadata": {},
     "output_type": "execute_result"
    }
   ],
   "source": [
    "cars_df = pd.read_csv(data_path, index_col=0)\n",
    "n_rows, _ = cars_df.shape\n",
    "print(f'DF shape: {cars_df.shape}')\n",
    "\n",
    "for column_name in cars_df.columns:  # to make all columns names be in lowercase\n",
    "    cars_df = cars_df.rename(columns={column_name: column_name.lower()})\n",
    "\n",
    "pd.set_option('display.max_columns', None)\n",
    "cars_df.sample(3)"
   ]
  },
  {
   "cell_type": "code",
   "execution_count": 26,
   "id": "a9914e1d-2ec7-4315-b4f8-7c7c67cab2ce",
   "metadata": {},
   "outputs": [
    {
     "name": "stdout",
     "output_type": "stream",
     "text": [
      "Categorical (19):\n",
      "mark, box, drive_unit, country, engine, color, car_type, generation, model, drive, boost_type, cylinder_location, front_brakes, front_suspension_type, car_class, fuel, engine_location, wheel_size, engine_power\n",
      "\n",
      "Numerical (35):\n",
      "seats, doors, volume, mileage, price, year, engine_volume, width, diameter_cylinder_and_stroke_piston, maximum_power, length, wheelbase, cylinders, height, torque, valves_per_cylinder, volume_fuel_tank, rear_track_width, front_track_width, curb_weight_kg, clearance, maximum_speed, transmissions, speed_to_100, full_weight, compression_ratio, consumption, restyling, release_start_series, end_serial, trunk_volume_max, trunk_volume_min, expense_city, expense_track, consumption_average\n"
     ]
    }
   ],
   "source": [
    "cat_cols = []\n",
    "num_cols = []\n",
    "\n",
    "for column_name in cars_df.columns:  # find all categorical and numerical columns\n",
    "    if is_object_dtype(cars_df[column_name]):\n",
    "        cat_cols.append(column_name)\n",
    "    else:\n",
    "        num_cols.append(column_name)\n",
    "\n",
    "print(f'Categorical ({len(cat_cols)}):')\n",
    "print(*cat_cols, sep=', ', end='\\n\\n')\n",
    "print(f'Numerical ({len(num_cols)}):')\n",
    "print(*num_cols, sep=', ')"
   ]
  },
  {
   "cell_type": "code",
   "execution_count": 27,
   "id": "91aa7bee-cffe-45e7-bcd5-655354496263",
   "metadata": {},
   "outputs": [
    {
     "name": "stdout",
     "output_type": "stream",
     "text": [
      "Count NaN values in columns:\n",
      "\tdrive                    191\t(cat)\n",
      "\tboost_type               283\t(cat)\n",
      "\tcylinder_location        247\t(cat)\n",
      "\tfront_brakes             191\t(cat)\n",
      "\tfront_suspension_type    191\t(cat)\n",
      "\tcar_class                221\t(cat)\n",
      "\tfuel                     419\t(cat)\n",
      "\tengine_location          1357\t(cat)\n",
      "\twheel_size               1540\t(cat)\n",
      "\tengine_power             3562\t(cat)\n"
     ]
    }
   ],
   "source": [
    "print('Count NaN values in columns:')\n",
    "for column_name in cars_df.columns:  # count nan values by columns\n",
    "    nans = cars_df[column_name].isna().sum()\n",
    "    if nans > 0:  # if there is NaN's in column `column_name`\n",
    "        print(f\"\\t{column_name + (25 - len(column_name)) * ' '}{nans}\",end='')\n",
    "        if column_name in cat_cols:\n",
    "            print('\\t(cat)')\n",
    "        else:\n",
    "            print('\\t(num)')"
   ]
  },
  {
   "cell_type": "code",
   "execution_count": 28,
   "id": "2c62bfdf-de4d-4dc3-8f3f-4bab64a2c0c1",
   "metadata": {},
   "outputs": [],
   "source": [
    "def drop_all_from_list(lst, elements):\n",
    "    for elem in elements:\n",
    "        if elem in lst:\n",
    "            lst.remove(elem)"
   ]
  },
  {
   "cell_type": "markdown",
   "id": "63879f6c-39a1-44da-8eea-cf1ecba7ed8c",
   "metadata": {},
   "source": [
    "### Categorical features"
   ]
  },
  {
   "cell_type": "code",
   "execution_count": 29,
   "id": "50b49e2d-e64d-44d6-a921-ad6dbd541089",
   "metadata": {},
   "outputs": [
    {
     "data": {
      "text/html": [
       "<div>\n",
       "<style scoped>\n",
       "    .dataframe tbody tr th:only-of-type {\n",
       "        vertical-align: middle;\n",
       "    }\n",
       "\n",
       "    .dataframe tbody tr th {\n",
       "        vertical-align: top;\n",
       "    }\n",
       "\n",
       "    .dataframe thead th {\n",
       "        text-align: right;\n",
       "    }\n",
       "</style>\n",
       "<table border=\"1\" class=\"dataframe\">\n",
       "  <thead>\n",
       "    <tr style=\"text-align: right;\">\n",
       "      <th></th>\n",
       "      <th>mark</th>\n",
       "      <th>box</th>\n",
       "      <th>drive_unit</th>\n",
       "      <th>country</th>\n",
       "      <th>engine</th>\n",
       "      <th>color</th>\n",
       "      <th>car_type</th>\n",
       "      <th>generation</th>\n",
       "      <th>model</th>\n",
       "      <th>drive</th>\n",
       "      <th>boost_type</th>\n",
       "      <th>cylinder_location</th>\n",
       "      <th>front_brakes</th>\n",
       "      <th>front_suspension_type</th>\n",
       "      <th>car_class</th>\n",
       "      <th>fuel</th>\n",
       "      <th>engine_location</th>\n",
       "      <th>wheel_size</th>\n",
       "      <th>engine_power</th>\n",
       "    </tr>\n",
       "  </thead>\n",
       "  <tbody>\n",
       "    <tr>\n",
       "      <th>count</th>\n",
       "      <td>22702</td>\n",
       "      <td>22702</td>\n",
       "      <td>22702</td>\n",
       "      <td>22702</td>\n",
       "      <td>22702</td>\n",
       "      <td>22702</td>\n",
       "      <td>22702</td>\n",
       "      <td>22702</td>\n",
       "      <td>22702</td>\n",
       "      <td>22511</td>\n",
       "      <td>22419</td>\n",
       "      <td>22455</td>\n",
       "      <td>22511</td>\n",
       "      <td>22511</td>\n",
       "      <td>22481</td>\n",
       "      <td>22283</td>\n",
       "      <td>21345</td>\n",
       "      <td>21162</td>\n",
       "      <td>19140</td>\n",
       "    </tr>\n",
       "    <tr>\n",
       "      <th>unique</th>\n",
       "      <td>85</td>\n",
       "      <td>4</td>\n",
       "      <td>3</td>\n",
       "      <td>17</td>\n",
       "      <td>5</td>\n",
       "      <td>16</td>\n",
       "      <td>17</td>\n",
       "      <td>1144</td>\n",
       "      <td>749</td>\n",
       "      <td>3</td>\n",
       "      <td>3</td>\n",
       "      <td>6</td>\n",
       "      <td>4</td>\n",
       "      <td>7</td>\n",
       "      <td>9</td>\n",
       "      <td>7</td>\n",
       "      <td>4</td>\n",
       "      <td>667</td>\n",
       "      <td>5</td>\n",
       "    </tr>\n",
       "    <tr>\n",
       "      <th>top</th>\n",
       "      <td>Mercedes-Benz</td>\n",
       "      <td>automatic</td>\n",
       "      <td>front</td>\n",
       "      <td>German</td>\n",
       "      <td>gasoline</td>\n",
       "      <td>black</td>\n",
       "      <td>SUV</td>\n",
       "      <td>I 2006 – 2009</td>\n",
       "      <td>Astra</td>\n",
       "      <td>front</td>\n",
       "      <td>no</td>\n",
       "      <td>in-line</td>\n",
       "      <td>disc ventilated</td>\n",
       "      <td>independent, spring</td>\n",
       "      <td>J</td>\n",
       "      <td>AI-95</td>\n",
       "      <td>front, transverse</td>\n",
       "      <td>195/65/R15</td>\n",
       "      <td>distributed injection (multi-point)</td>\n",
       "    </tr>\n",
       "    <tr>\n",
       "      <th>freq</th>\n",
       "      <td>1950</td>\n",
       "      <td>12365</td>\n",
       "      <td>11161</td>\n",
       "      <td>6536</td>\n",
       "      <td>19167</td>\n",
       "      <td>6100</td>\n",
       "      <td>7086</td>\n",
       "      <td>160</td>\n",
       "      <td>275</td>\n",
       "      <td>11052</td>\n",
       "      <td>14551</td>\n",
       "      <td>16898</td>\n",
       "      <td>19195</td>\n",
       "      <td>20174</td>\n",
       "      <td>7520</td>\n",
       "      <td>15131</td>\n",
       "      <td>12540</td>\n",
       "      <td>1195</td>\n",
       "      <td>13421</td>\n",
       "    </tr>\n",
       "  </tbody>\n",
       "</table>\n",
       "</div>"
      ],
      "text/plain": [
       "                  mark        box drive_unit country    engine  color  \\\n",
       "count            22702      22702      22702   22702     22702  22702   \n",
       "unique              85          4          3      17         5     16   \n",
       "top     Mercedes-Benz   automatic      front  German  gasoline  black   \n",
       "freq              1950      12365      11161    6536     19167   6100   \n",
       "\n",
       "       car_type      generation   model  drive boost_type cylinder_location  \\\n",
       "count     22702           22702   22702  22511      22419             22455   \n",
       "unique       17            1144     749      3          3                 6   \n",
       "top         SUV  I 2006 – 2009   Astra   front         no           in-line   \n",
       "freq       7086             160     275  11052      14551             16898   \n",
       "\n",
       "           front_brakes front_suspension_type car_class   fuel  \\\n",
       "count             22511                 22511     22481  22283   \n",
       "unique                4                     7         9      7   \n",
       "top     disc ventilated   independent, spring         J  AI-95   \n",
       "freq              19195                 20174      7520  15131   \n",
       "\n",
       "          engine_location  wheel_size                         engine_power  \n",
       "count               21345       21162                                19140  \n",
       "unique                  4         667                                    5  \n",
       "top     front, transverse  195/65/R15  distributed injection (multi-point)  \n",
       "freq                12540        1195                                13421  "
      ]
     },
     "execution_count": 29,
     "metadata": {},
     "output_type": "execute_result"
    }
   ],
   "source": [
    "cars_df.describe(include='object')  # categorical columns"
   ]
  },
  {
   "cell_type": "code",
   "execution_count": 30,
   "id": "c1bed422-c9d3-45c6-8278-d8adfa643706",
   "metadata": {},
   "outputs": [
    {
     "data": {
      "text/plain": [
       "engine_power\n",
       "distributed injection (multi-point)                     13421\n",
       "direct injection (direct)                                4766\n",
       "carburetor                                                762\n",
       "central injection (single injection or single point)       99\n",
       "combined injection (direct-distributed)                    92\n",
       "Name: count, dtype: int64"
      ]
     },
     "execution_count": 30,
     "metadata": {},
     "output_type": "execute_result"
    }
   ],
   "source": [
    "cars_df['engine_power'].value_counts()  # count unique values in column"
   ]
  },
  {
   "cell_type": "code",
   "execution_count": 31,
   "id": "9be11fb9-ea7d-4d0b-8c6b-88dc926af18e",
   "metadata": {},
   "outputs": [],
   "source": [
    "    # too much unique values for categorical features - drop columns!\n",
    "to_drop = ['generation', 'model', 'wheel_size']\n",
    "cars_df = cars_df.drop(columns=to_drop)\n",
    "drop_all_from_list(cat_cols, to_drop)  # drop from list of categorical columns names\n",
    "    \n",
    "    # drop columns with high number of same elements\n",
    "to_drop = ['engine', 'cylinder_location', 'front_brakes', 'front_suspension_type']\n",
    "cars_df = cars_df.drop(columns=to_drop)\n",
    "drop_all_from_list(cat_cols, to_drop)  # drop from list of categorical columns names"
   ]
  },
  {
   "cell_type": "code",
   "execution_count": 34,
   "id": "b44b0cd4-374e-4dc8-9d6d-38ef682fb0f8",
   "metadata": {},
   "outputs": [],
   "source": [
    "    # data insides, that are known from \"my experience\"\n",
    "cars_df = cars_df.drop(columns=['color'])  # drop color colomn - it does not affect the price, or affects weakly\n",
    "drop_all_from_list(cat_cols, ['color'])"
   ]
  },
  {
   "cell_type": "code",
   "execution_count": 35,
   "id": "3d32b779-31d7-4e4f-9196-2e9c02212e40",
   "metadata": {},
   "outputs": [
    {
     "name": "stdout",
     "output_type": "stream",
     "text": [
      "Remaining categorical features: 11\n"
     ]
    }
   ],
   "source": [
    "print(f'Remaining categorical features: {len(cat_cols)}')"
   ]
  },
  {
   "cell_type": "code",
   "execution_count": null,
   "id": "79481082-cef4-4be8-89dc-17a79274a6aa",
   "metadata": {},
   "outputs": [],
   "source": []
  },
  {
   "cell_type": "markdown",
   "id": "00c97c5d-cd75-419c-b6d3-b28f5b5df3eb",
   "metadata": {},
   "source": [
    "### Numerical features"
   ]
  },
  {
   "cell_type": "code",
   "execution_count": 36,
   "id": "d17efb16-d68f-4bd7-b601-cd68514a133e",
   "metadata": {},
   "outputs": [
    {
     "data": {
      "text/html": [
       "<div>\n",
       "<style scoped>\n",
       "    .dataframe tbody tr th:only-of-type {\n",
       "        vertical-align: middle;\n",
       "    }\n",
       "\n",
       "    .dataframe tbody tr th {\n",
       "        vertical-align: top;\n",
       "    }\n",
       "\n",
       "    .dataframe thead th {\n",
       "        text-align: right;\n",
       "    }\n",
       "</style>\n",
       "<table border=\"1\" class=\"dataframe\">\n",
       "  <thead>\n",
       "    <tr style=\"text-align: right;\">\n",
       "      <th></th>\n",
       "      <th>seats</th>\n",
       "      <th>doors</th>\n",
       "      <th>volume</th>\n",
       "      <th>mileage</th>\n",
       "      <th>price</th>\n",
       "      <th>year</th>\n",
       "      <th>engine_volume</th>\n",
       "      <th>width</th>\n",
       "      <th>diameter_cylinder_and_stroke_piston</th>\n",
       "      <th>maximum_power</th>\n",
       "      <th>length</th>\n",
       "      <th>wheelbase</th>\n",
       "      <th>cylinders</th>\n",
       "      <th>height</th>\n",
       "      <th>torque</th>\n",
       "      <th>valves_per_cylinder</th>\n",
       "      <th>volume_fuel_tank</th>\n",
       "      <th>rear_track_width</th>\n",
       "      <th>front_track_width</th>\n",
       "      <th>curb_weight_kg</th>\n",
       "      <th>clearance</th>\n",
       "      <th>maximum_speed</th>\n",
       "      <th>transmissions</th>\n",
       "      <th>speed_to_100</th>\n",
       "      <th>full_weight</th>\n",
       "      <th>compression_ratio</th>\n",
       "      <th>consumption</th>\n",
       "      <th>restyling</th>\n",
       "      <th>release_start_series</th>\n",
       "      <th>end_serial</th>\n",
       "      <th>trunk_volume_max</th>\n",
       "      <th>trunk_volume_min</th>\n",
       "      <th>expense_city</th>\n",
       "      <th>expense_track</th>\n",
       "      <th>consumption_average</th>\n",
       "    </tr>\n",
       "  </thead>\n",
       "  <tbody>\n",
       "    <tr>\n",
       "      <th>count</th>\n",
       "      <td>22702.00000</td>\n",
       "      <td>22702.000000</td>\n",
       "      <td>22702.000000</td>\n",
       "      <td>22702.000000</td>\n",
       "      <td>2.270200e+04</td>\n",
       "      <td>22702.000000</td>\n",
       "      <td>22702.000000</td>\n",
       "      <td>22702.000000</td>\n",
       "      <td>22702.000000</td>\n",
       "      <td>22702.000000</td>\n",
       "      <td>22702.000000</td>\n",
       "      <td>22702.000000</td>\n",
       "      <td>22702.000000</td>\n",
       "      <td>22702.000000</td>\n",
       "      <td>22702.000000</td>\n",
       "      <td>22702.000000</td>\n",
       "      <td>22702.000000</td>\n",
       "      <td>22702.000000</td>\n",
       "      <td>22702.000000</td>\n",
       "      <td>22702.000000</td>\n",
       "      <td>22702.000000</td>\n",
       "      <td>22702.000000</td>\n",
       "      <td>22702.000000</td>\n",
       "      <td>22702.000000</td>\n",
       "      <td>22702.000000</td>\n",
       "      <td>22702.000000</td>\n",
       "      <td>22702.000000</td>\n",
       "      <td>22702.000000</td>\n",
       "      <td>22702.000000</td>\n",
       "      <td>22702.000000</td>\n",
       "      <td>22702.000000</td>\n",
       "      <td>22702.000000</td>\n",
       "      <td>22702.000000</td>\n",
       "      <td>22702.000000</td>\n",
       "      <td>22702.000000</td>\n",
       "    </tr>\n",
       "    <tr>\n",
       "      <th>mean</th>\n",
       "      <td>5.01251</td>\n",
       "      <td>4.418774</td>\n",
       "      <td>2.334922</td>\n",
       "      <td>136649.516210</td>\n",
       "      <td>1.353936e+06</td>\n",
       "      <td>2009.204563</td>\n",
       "      <td>2337.199911</td>\n",
       "      <td>1813.402914</td>\n",
       "      <td>73.521181</td>\n",
       "      <td>179.413488</td>\n",
       "      <td>4577.173249</td>\n",
       "      <td>2724.365421</td>\n",
       "      <td>4.743325</td>\n",
       "      <td>1579.989827</td>\n",
       "      <td>270.861378</td>\n",
       "      <td>3.736626</td>\n",
       "      <td>63.831030</td>\n",
       "      <td>1543.233221</td>\n",
       "      <td>1543.408864</td>\n",
       "      <td>1571.717261</td>\n",
       "      <td>159.504493</td>\n",
       "      <td>197.156414</td>\n",
       "      <td>5.655326</td>\n",
       "      <td>10.423527</td>\n",
       "      <td>2118.954231</td>\n",
       "      <td>11.149437</td>\n",
       "      <td>7.154378</td>\n",
       "      <td>0.339794</td>\n",
       "      <td>2006.610078</td>\n",
       "      <td>2011.682451</td>\n",
       "      <td>472.146991</td>\n",
       "      <td>853.949520</td>\n",
       "      <td>8.730698</td>\n",
       "      <td>5.339745</td>\n",
       "      <td>6.605114</td>\n",
       "    </tr>\n",
       "    <tr>\n",
       "      <th>std</th>\n",
       "      <td>0.76348</td>\n",
       "      <td>0.810206</td>\n",
       "      <td>1.049301</td>\n",
       "      <td>101154.431413</td>\n",
       "      <td>2.493866e+06</td>\n",
       "      <td>9.116164</td>\n",
       "      <td>1037.923141</td>\n",
       "      <td>98.746721</td>\n",
       "      <td>27.948965</td>\n",
       "      <td>103.903355</td>\n",
       "      <td>383.100158</td>\n",
       "      <td>216.190349</td>\n",
       "      <td>1.414290</td>\n",
       "      <td>165.620161</td>\n",
       "      <td>158.724709</td>\n",
       "      <td>0.681563</td>\n",
       "      <td>15.037745</td>\n",
       "      <td>82.304702</td>\n",
       "      <td>76.891334</td>\n",
       "      <td>391.001005</td>\n",
       "      <td>49.248771</td>\n",
       "      <td>31.802900</td>\n",
       "      <td>1.283463</td>\n",
       "      <td>3.281663</td>\n",
       "      <td>468.700030</td>\n",
       "      <td>2.438177</td>\n",
       "      <td>3.640578</td>\n",
       "      <td>0.473650</td>\n",
       "      <td>10.340075</td>\n",
       "      <td>8.284589</td>\n",
       "      <td>321.706597</td>\n",
       "      <td>937.394434</td>\n",
       "      <td>5.345248</td>\n",
       "      <td>3.120095</td>\n",
       "      <td>3.929169</td>\n",
       "    </tr>\n",
       "    <tr>\n",
       "      <th>min</th>\n",
       "      <td>1.00000</td>\n",
       "      <td>0.000000</td>\n",
       "      <td>0.000000</td>\n",
       "      <td>0.000000</td>\n",
       "      <td>2.000000e+04</td>\n",
       "      <td>1927.000000</td>\n",
       "      <td>599.000000</td>\n",
       "      <td>1275.000000</td>\n",
       "      <td>0.000000</td>\n",
       "      <td>0.000000</td>\n",
       "      <td>2499.000000</td>\n",
       "      <td>1450.000000</td>\n",
       "      <td>0.000000</td>\n",
       "      <td>1000.000000</td>\n",
       "      <td>0.000000</td>\n",
       "      <td>2.000000</td>\n",
       "      <td>22.000000</td>\n",
       "      <td>1160.000000</td>\n",
       "      <td>1105.000000</td>\n",
       "      <td>650.000000</td>\n",
       "      <td>0.000000</td>\n",
       "      <td>75.000000</td>\n",
       "      <td>1.000000</td>\n",
       "      <td>2.800000</td>\n",
       "      <td>980.000000</td>\n",
       "      <td>5.800000</td>\n",
       "      <td>0.000000</td>\n",
       "      <td>0.000000</td>\n",
       "      <td>1927.000000</td>\n",
       "      <td>1931.000000</td>\n",
       "      <td>0.000000</td>\n",
       "      <td>0.000000</td>\n",
       "      <td>0.000000</td>\n",
       "      <td>0.000000</td>\n",
       "      <td>0.000000</td>\n",
       "    </tr>\n",
       "    <tr>\n",
       "      <th>25%</th>\n",
       "      <td>5.00000</td>\n",
       "      <td>4.000000</td>\n",
       "      <td>1.600000</td>\n",
       "      <td>62322.000000</td>\n",
       "      <td>3.740750e+05</td>\n",
       "      <td>2006.000000</td>\n",
       "      <td>1598.000000</td>\n",
       "      <td>1755.000000</td>\n",
       "      <td>77.000000</td>\n",
       "      <td>114.000000</td>\n",
       "      <td>4344.000000</td>\n",
       "      <td>2602.000000</td>\n",
       "      <td>4.000000</td>\n",
       "      <td>1453.000000</td>\n",
       "      <td>155.000000</td>\n",
       "      <td>4.000000</td>\n",
       "      <td>53.000000</td>\n",
       "      <td>1497.000000</td>\n",
       "      <td>1498.000000</td>\n",
       "      <td>1285.000000</td>\n",
       "      <td>140.000000</td>\n",
       "      <td>177.000000</td>\n",
       "      <td>5.000000</td>\n",
       "      <td>8.400000</td>\n",
       "      <td>1788.000000</td>\n",
       "      <td>10.000000</td>\n",
       "      <td>6.100000</td>\n",
       "      <td>0.000000</td>\n",
       "      <td>2003.000000</td>\n",
       "      <td>2008.000000</td>\n",
       "      <td>352.000000</td>\n",
       "      <td>0.000000</td>\n",
       "      <td>6.900000</td>\n",
       "      <td>4.700000</td>\n",
       "      <td>5.600000</td>\n",
       "    </tr>\n",
       "    <tr>\n",
       "      <th>50%</th>\n",
       "      <td>5.00000</td>\n",
       "      <td>5.000000</td>\n",
       "      <td>2.000000</td>\n",
       "      <td>125000.000000</td>\n",
       "      <td>6.800000e+05</td>\n",
       "      <td>2011.000000</td>\n",
       "      <td>1997.000000</td>\n",
       "      <td>1810.000000</td>\n",
       "      <td>82.000000</td>\n",
       "      <td>150.000000</td>\n",
       "      <td>4600.000000</td>\n",
       "      <td>2700.000000</td>\n",
       "      <td>4.000000</td>\n",
       "      <td>1510.000000</td>\n",
       "      <td>223.000000</td>\n",
       "      <td>4.000000</td>\n",
       "      <td>61.000000</td>\n",
       "      <td>1543.233221</td>\n",
       "      <td>1543.408864</td>\n",
       "      <td>1523.000000</td>\n",
       "      <td>160.000000</td>\n",
       "      <td>195.000000</td>\n",
       "      <td>5.655326</td>\n",
       "      <td>10.423527</td>\n",
       "      <td>2060.000000</td>\n",
       "      <td>10.500000</td>\n",
       "      <td>7.400000</td>\n",
       "      <td>0.000000</td>\n",
       "      <td>2008.000000</td>\n",
       "      <td>2013.000000</td>\n",
       "      <td>456.000000</td>\n",
       "      <td>815.000000</td>\n",
       "      <td>9.400000</td>\n",
       "      <td>5.800000</td>\n",
       "      <td>7.200000</td>\n",
       "    </tr>\n",
       "    <tr>\n",
       "      <th>75%</th>\n",
       "      <td>5.00000</td>\n",
       "      <td>5.000000</td>\n",
       "      <td>2.700000</td>\n",
       "      <td>191786.000000</td>\n",
       "      <td>1.420000e+06</td>\n",
       "      <td>2015.000000</td>\n",
       "      <td>2693.000000</td>\n",
       "      <td>1875.000000</td>\n",
       "      <td>86.200000</td>\n",
       "      <td>218.000000</td>\n",
       "      <td>4822.000000</td>\n",
       "      <td>2840.000000</td>\n",
       "      <td>6.000000</td>\n",
       "      <td>1695.000000</td>\n",
       "      <td>350.000000</td>\n",
       "      <td>4.000000</td>\n",
       "      <td>71.000000</td>\n",
       "      <td>1594.750000</td>\n",
       "      <td>1589.000000</td>\n",
       "      <td>1814.000000</td>\n",
       "      <td>195.000000</td>\n",
       "      <td>215.000000</td>\n",
       "      <td>6.000000</td>\n",
       "      <td>12.000000</td>\n",
       "      <td>2380.000000</td>\n",
       "      <td>11.149437</td>\n",
       "      <td>9.100000</td>\n",
       "      <td>1.000000</td>\n",
       "      <td>2013.000000</td>\n",
       "      <td>2018.000000</td>\n",
       "      <td>530.000000</td>\n",
       "      <td>1547.000000</td>\n",
       "      <td>11.700000</td>\n",
       "      <td>7.100000</td>\n",
       "      <td>8.800000</td>\n",
       "    </tr>\n",
       "    <tr>\n",
       "      <th>max</th>\n",
       "      <td>9.00000</td>\n",
       "      <td>5.000000</td>\n",
       "      <td>8.100000</td>\n",
       "      <td>1000000.000000</td>\n",
       "      <td>1.300000e+08</td>\n",
       "      <td>2020.000000</td>\n",
       "      <td>8128.000000</td>\n",
       "      <td>2360.000000</td>\n",
       "      <td>108.000000</td>\n",
       "      <td>762.000000</td>\n",
       "      <td>6330.000000</td>\n",
       "      <td>4085.000000</td>\n",
       "      <td>12.000000</td>\n",
       "      <td>2235.000000</td>\n",
       "      <td>1000.000000</td>\n",
       "      <td>5.000000</td>\n",
       "      <td>166.000000</td>\n",
       "      <td>2649.000000</td>\n",
       "      <td>1955.000000</td>\n",
       "      <td>3370.000000</td>\n",
       "      <td>406.000000</td>\n",
       "      <td>341.000000</td>\n",
       "      <td>10.000000</td>\n",
       "      <td>37.000000</td>\n",
       "      <td>5000.000000</td>\n",
       "      <td>23.000000</td>\n",
       "      <td>28.200000</td>\n",
       "      <td>1.000000</td>\n",
       "      <td>2020.000000</td>\n",
       "      <td>2020.000000</td>\n",
       "      <td>5800.000000</td>\n",
       "      <td>9300.000000</td>\n",
       "      <td>36.200000</td>\n",
       "      <td>21.100000</td>\n",
       "      <td>28.200000</td>\n",
       "    </tr>\n",
       "  </tbody>\n",
       "</table>\n",
       "</div>"
      ],
      "text/plain": [
       "             seats         doors        volume         mileage         price  \\\n",
       "count  22702.00000  22702.000000  22702.000000    22702.000000  2.270200e+04   \n",
       "mean       5.01251      4.418774      2.334922   136649.516210  1.353936e+06   \n",
       "std        0.76348      0.810206      1.049301   101154.431413  2.493866e+06   \n",
       "min        1.00000      0.000000      0.000000        0.000000  2.000000e+04   \n",
       "25%        5.00000      4.000000      1.600000    62322.000000  3.740750e+05   \n",
       "50%        5.00000      5.000000      2.000000   125000.000000  6.800000e+05   \n",
       "75%        5.00000      5.000000      2.700000   191786.000000  1.420000e+06   \n",
       "max        9.00000      5.000000      8.100000  1000000.000000  1.300000e+08   \n",
       "\n",
       "               year  engine_volume         width  \\\n",
       "count  22702.000000   22702.000000  22702.000000   \n",
       "mean    2009.204563    2337.199911   1813.402914   \n",
       "std        9.116164    1037.923141     98.746721   \n",
       "min     1927.000000     599.000000   1275.000000   \n",
       "25%     2006.000000    1598.000000   1755.000000   \n",
       "50%     2011.000000    1997.000000   1810.000000   \n",
       "75%     2015.000000    2693.000000   1875.000000   \n",
       "max     2020.000000    8128.000000   2360.000000   \n",
       "\n",
       "       diameter_cylinder_and_stroke_piston  maximum_power        length  \\\n",
       "count                         22702.000000   22702.000000  22702.000000   \n",
       "mean                             73.521181     179.413488   4577.173249   \n",
       "std                              27.948965     103.903355    383.100158   \n",
       "min                               0.000000       0.000000   2499.000000   \n",
       "25%                              77.000000     114.000000   4344.000000   \n",
       "50%                              82.000000     150.000000   4600.000000   \n",
       "75%                              86.200000     218.000000   4822.000000   \n",
       "max                             108.000000     762.000000   6330.000000   \n",
       "\n",
       "          wheelbase     cylinders        height        torque  \\\n",
       "count  22702.000000  22702.000000  22702.000000  22702.000000   \n",
       "mean    2724.365421      4.743325   1579.989827    270.861378   \n",
       "std      216.190349      1.414290    165.620161    158.724709   \n",
       "min     1450.000000      0.000000   1000.000000      0.000000   \n",
       "25%     2602.000000      4.000000   1453.000000    155.000000   \n",
       "50%     2700.000000      4.000000   1510.000000    223.000000   \n",
       "75%     2840.000000      6.000000   1695.000000    350.000000   \n",
       "max     4085.000000     12.000000   2235.000000   1000.000000   \n",
       "\n",
       "       valves_per_cylinder  volume_fuel_tank  rear_track_width  \\\n",
       "count         22702.000000      22702.000000      22702.000000   \n",
       "mean              3.736626         63.831030       1543.233221   \n",
       "std               0.681563         15.037745         82.304702   \n",
       "min               2.000000         22.000000       1160.000000   \n",
       "25%               4.000000         53.000000       1497.000000   \n",
       "50%               4.000000         61.000000       1543.233221   \n",
       "75%               4.000000         71.000000       1594.750000   \n",
       "max               5.000000        166.000000       2649.000000   \n",
       "\n",
       "       front_track_width  curb_weight_kg     clearance  maximum_speed  \\\n",
       "count       22702.000000    22702.000000  22702.000000   22702.000000   \n",
       "mean         1543.408864     1571.717261    159.504493     197.156414   \n",
       "std            76.891334      391.001005     49.248771      31.802900   \n",
       "min          1105.000000      650.000000      0.000000      75.000000   \n",
       "25%          1498.000000     1285.000000    140.000000     177.000000   \n",
       "50%          1543.408864     1523.000000    160.000000     195.000000   \n",
       "75%          1589.000000     1814.000000    195.000000     215.000000   \n",
       "max          1955.000000     3370.000000    406.000000     341.000000   \n",
       "\n",
       "       transmissions  speed_to_100   full_weight  compression_ratio  \\\n",
       "count   22702.000000  22702.000000  22702.000000       22702.000000   \n",
       "mean        5.655326     10.423527   2118.954231          11.149437   \n",
       "std         1.283463      3.281663    468.700030           2.438177   \n",
       "min         1.000000      2.800000    980.000000           5.800000   \n",
       "25%         5.000000      8.400000   1788.000000          10.000000   \n",
       "50%         5.655326     10.423527   2060.000000          10.500000   \n",
       "75%         6.000000     12.000000   2380.000000          11.149437   \n",
       "max        10.000000     37.000000   5000.000000          23.000000   \n",
       "\n",
       "        consumption     restyling  release_start_series    end_serial  \\\n",
       "count  22702.000000  22702.000000          22702.000000  22702.000000   \n",
       "mean       7.154378      0.339794           2006.610078   2011.682451   \n",
       "std        3.640578      0.473650             10.340075      8.284589   \n",
       "min        0.000000      0.000000           1927.000000   1931.000000   \n",
       "25%        6.100000      0.000000           2003.000000   2008.000000   \n",
       "50%        7.400000      0.000000           2008.000000   2013.000000   \n",
       "75%        9.100000      1.000000           2013.000000   2018.000000   \n",
       "max       28.200000      1.000000           2020.000000   2020.000000   \n",
       "\n",
       "       trunk_volume_max  trunk_volume_min  expense_city  expense_track  \\\n",
       "count      22702.000000      22702.000000  22702.000000   22702.000000   \n",
       "mean         472.146991        853.949520      8.730698       5.339745   \n",
       "std          321.706597        937.394434      5.345248       3.120095   \n",
       "min            0.000000          0.000000      0.000000       0.000000   \n",
       "25%          352.000000          0.000000      6.900000       4.700000   \n",
       "50%          456.000000        815.000000      9.400000       5.800000   \n",
       "75%          530.000000       1547.000000     11.700000       7.100000   \n",
       "max         5800.000000       9300.000000     36.200000      21.100000   \n",
       "\n",
       "       consumption_average  \n",
       "count         22702.000000  \n",
       "mean              6.605114  \n",
       "std               3.929169  \n",
       "min               0.000000  \n",
       "25%               5.600000  \n",
       "50%               7.200000  \n",
       "75%               8.800000  \n",
       "max              28.200000  "
      ]
     },
     "execution_count": 36,
     "metadata": {},
     "output_type": "execute_result"
    }
   ],
   "source": [
    "cars_df.describe(include='float64')  # categorical columns"
   ]
  },
  {
   "cell_type": "code",
   "execution_count": 37,
   "id": "cf1f2010-d51b-41f5-a592-7300ce20d150",
   "metadata": {},
   "outputs": [],
   "source": [
    "num_cols_cor = cars_df[num_cols].corr()"
   ]
  },
  {
   "cell_type": "code",
   "execution_count": 38,
   "id": "607f42da-920e-444e-8de8-307daebe6188",
   "metadata": {},
   "outputs": [
    {
     "name": "stdout",
     "output_type": "stream",
     "text": [
      "seats                                   -0.0249\n",
      "doors                                   -0.0417\n",
      "diameter_cylinder_and_stroke_piston     -0.0059\n",
      "height                                  0.1239\n",
      "valves_per_cylinder                     0.1003\n",
      "clearance                               -0.0567\n",
      "compression_ratio                       0.0767\n",
      "restyling                               0.0108\n",
      "trunk_volume_max                        0.0657\n",
      "trunk_volume_min                        0.0527\n",
      "expense_city                            0.1070\n",
      "expense_track                           0.1306\n",
      "consumption_average                     0.1188\n"
     ]
    }
   ],
   "source": [
    "potential_drop = {}\n",
    "\n",
    "# check if correlation with price is too small\n",
    "drop_th = 0.15\n",
    "for _, col_name in enumerate(num_cols_cor['price'].index):\n",
    "    corr_this = num_cols_cor['price'][col_name]\n",
    "    if np.abs(corr_this) < drop_th:\n",
    "        potential_drop[col_name] = corr_this\n",
    "\n",
    "print(*[f\"{key + (40 - len(key)) * ' ' }{val:.4f}\" for key, val in potential_drop.items()], sep='\\n')"
   ]
  },
  {
   "cell_type": "code",
   "execution_count": 39,
   "id": "a7bb6d2f-a22b-4918-8d57-cbf4d5adfe34",
   "metadata": {},
   "outputs": [],
   "source": [
    "    # drop columns that are weak correlated with price\n",
    "to_drop = list(potential_drop.keys())\n",
    "cars_df = cars_df.drop(columns=to_drop)\n",
    "drop_all_from_list(num_cols, to_drop)  # drop from list of numerical columns names"
   ]
  },
  {
   "cell_type": "code",
   "execution_count": 41,
   "id": "e80a1806-458f-4c00-9ba4-1a9ee0493781",
   "metadata": {},
   "outputs": [
    {
     "data": {
      "text/plain": [
       "(22702, 33)"
      ]
     },
     "execution_count": 41,
     "metadata": {},
     "output_type": "execute_result"
    }
   ],
   "source": [
    "cars_df.shape  # the number of features decreased from 54 to 33"
   ]
  },
  {
   "cell_type": "code",
   "execution_count": 44,
   "id": "85115429-8d69-4c69-a7ea-de131cce8a0e",
   "metadata": {},
   "outputs": [
    {
     "data": {
      "application/vnd.plotly.v1+json": {
       "config": {
        "plotlyServerURL": "https://plot.ly"
       },
       "data": [
        {
         "coloraxis": "coloraxis",
         "hovertemplate": "x: %{x}<br>y: %{y}<br>color: %{z}<extra></extra>",
         "name": "0",
         "type": "heatmap",
         "x": [
          "volume",
          "mileage",
          "price",
          "year",
          "engine_volume",
          "width",
          "maximum_power",
          "length",
          "wheelbase",
          "cylinders",
          "torque",
          "volume_fuel_tank",
          "rear_track_width",
          "front_track_width",
          "curb_weight_kg",
          "maximum_speed",
          "transmissions",
          "speed_to_100",
          "full_weight",
          "consumption",
          "release_start_series",
          "end_serial"
         ],
         "xaxis": "x",
         "y": [
          "volume",
          "mileage",
          "price",
          "year",
          "engine_volume",
          "width",
          "maximum_power",
          "length",
          "wheelbase",
          "cylinders",
          "torque",
          "volume_fuel_tank",
          "rear_track_width",
          "front_track_width",
          "curb_weight_kg",
          "maximum_speed",
          "transmissions",
          "speed_to_100",
          "full_weight",
          "consumption",
          "release_start_series",
          "end_serial"
         ],
         "yaxis": "y",
         "z": [
          [
           1,
           0.04564441891806096,
           0.3598918683320047,
           -0.03980395137822288,
           0.9911183523991244,
           0.6402035540621608,
           0.7996789149187731,
           0.6374171168763919,
           0.5954220695190768,
           0.9024759508975568,
           0.7517720811970535,
           0.7678520021410372,
           0.5353044645421594,
           0.5503763210355315,
           0.7583598697460622,
           0.4427269894532367,
           0.23116638272999165,
           -0.46875166793667233,
           0.6839980926776401,
           0.3712609747462132,
           -0.02251811993447836,
           -0.03891775089130232
          ],
          [
           0.04564441891806096,
           1,
           -0.3491061157330606,
           -0.4415854493899939,
           0.03952410213409159,
           -0.11593912604787694,
           -0.14262181097657817,
           0.031223472467444665,
           -0.026802840261002155,
           0.04684110466117025,
           -0.15043005254893016,
           0.177927266824657,
           -0.13952447397775505,
           -0.1287332603950462,
           -0.024618758966276237,
           -0.085515045469649,
           -0.37076433233339023,
           0.13553849774242513,
           0.023807731947582053,
           -0.010274961813728846,
           -0.37775075160258076,
           -0.4356437217463197
          ],
          [
           0.3598918683320047,
           -0.3491061157330606,
           1,
           0.28104020434597693,
           0.3643236932786823,
           0.4003583066707147,
           0.5534422751539784,
           0.3459245058057934,
           0.3815357857860362,
           0.38312765464684934,
           0.5597216276751683,
           0.2436285529463208,
           0.3678696390199492,
           0.3721511073971612,
           0.3877421672499973,
           0.3727409919195629,
           0.4555712160398573,
           -0.35761403839925177,
           0.3293894751882837,
           0.15374154383394947,
           0.2624543760617417,
           0.2601326419073382
          ],
          [
           -0.03980395137822288,
           -0.4415854493899939,
           0.28104020434597693,
           1,
           -0.03883677741905907,
           0.31934017053137764,
           0.2515982816690385,
           0.17382912780991108,
           0.2507378424531719,
           -0.038075853940524255,
           0.27053716173778847,
           -0.027196973405400844,
           0.46791633250871223,
           0.46565090787912966,
           0.1726940327507814,
           0.3620858445845423,
           0.5537786470841889,
           -0.31237584965357407,
           0.1385779799064516,
           0.12909071055520957,
           0.9586212391355302,
           0.960263277333172
          ],
          [
           0.9911183523991244,
           0.03952410213409159,
           0.3643236932786823,
           -0.03883677741905907,
           1,
           0.6471888338724455,
           0.8020180201202469,
           0.6417228338942469,
           0.601699272463451,
           0.8926253338062902,
           0.7531130137742345,
           0.7722053782074553,
           0.5417754965332336,
           0.5566103923818191,
           0.7650879836714022,
           0.44765661961854825,
           0.22541169443285675,
           -0.47863969166638226,
           0.6880071773572138,
           0.36035358615804786,
           -0.02698002677365116,
           -0.03537773519443166
          ],
          [
           0.6402035540621608,
           -0.11593912604787694,
           0.4003583066707147,
           0.31934017053137764,
           0.6471888338724455,
           1,
           0.6398806384463681,
           0.7565495665489026,
           0.7525867589210116,
           0.5349913129404171,
           0.7101359804748503,
           0.7264424699136,
           0.8556504585721914,
           0.8697435950977864,
           0.8018037230213907,
           0.4562824100577685,
           0.46918005177678357,
           -0.46901264127953646,
           0.7496680813204636,
           0.25572063471586937,
           0.3325396055795897,
           0.31190312654200514
          ],
          [
           0.7996789149187731,
           -0.14262181097657817,
           0.5534422751539784,
           0.2515982816690385,
           0.8020180201202469,
           0.6398806384463681,
           1,
           0.594829990579687,
           0.5795079195055939,
           0.777129726494003,
           0.887607908496877,
           0.6006917159800509,
           0.6118289669448705,
           0.6157119994708184,
           0.6778988839070604,
           0.7249218706887741,
           0.5227696006085596,
           -0.702452654266531,
           0.5783328420255307,
           0.3925702723757755,
           0.2803535194399389,
           0.23033636803617327
          ],
          [
           0.6374171168763919,
           0.031223472467444665,
           0.3459245058057934,
           0.17382912780991108,
           0.6417228338942469,
           0.7565495665489026,
           0.594829990579687,
           1,
           0.8937851985577467,
           0.5369489304840307,
           0.6515568536178137,
           0.7373322271241206,
           0.6839605358616434,
           0.7009561357349829,
           0.7346360736398571,
           0.49308610892181304,
           0.3598731151392034,
           -0.4265809835217425,
           0.6957571303526998,
           0.25140689634905705,
           0.19748737174497863,
           0.16079828851195077
          ],
          [
           0.5954220695190768,
           -0.026802840261002155,
           0.3815357857860362,
           0.2507378424531719,
           0.601699272463451,
           0.7525867589210116,
           0.5795079195055939,
           0.8937851985577467,
           1,
           0.5109064978477131,
           0.6607832122792007,
           0.6929118755654687,
           0.6884109619957732,
           0.7169741470627472,
           0.719633514766062,
           0.45875140208580545,
           0.4081308114921789,
           -0.3918154314940821,
           0.6997776916709216,
           0.23025745207812331,
           0.2700307529956749,
           0.24210660118222138
          ],
          [
           0.9024759508975568,
           0.04684110466117025,
           0.38312765464684934,
           -0.038075853940524255,
           0.8926253338062902,
           0.5349913129404171,
           0.777129726494003,
           0.5369489304840307,
           0.5109064978477131,
           1,
           0.7119202883267485,
           0.6648973614624697,
           0.44097155740101823,
           0.44916037253752966,
           0.6445074107404785,
           0.48727494903845386,
           0.25154908415039434,
           -0.4658942929858755,
           0.5683566150653256,
           0.371728536832113,
           -0.025113201724673535,
           -0.0414070723491121
          ],
          [
           0.7517720811970535,
           -0.15043005254893016,
           0.5597216276751683,
           0.27053716173778847,
           0.7531130137742345,
           0.7101359804748503,
           0.887607908496877,
           0.6515568536178137,
           0.6607832122792007,
           0.7119202883267485,
           1,
           0.6540371942235684,
           0.6530521517857177,
           0.6570324869668193,
           0.772772490689097,
           0.63499692070744,
           0.5713160717664437,
           -0.6222537031873637,
           0.7003924710372873,
           0.32672560843655063,
           0.29140315098066216,
           0.25235586400861376
          ],
          [
           0.7678520021410372,
           0.177927266824657,
           0.2436285529463208,
           -0.027196973405400844,
           0.7722053782074553,
           0.7264424699136,
           0.6006917159800509,
           0.7373322271241206,
           0.6929118755654687,
           0.6648973614624697,
           0.6540371942235684,
           1,
           0.6177456807393682,
           0.6272785186303576,
           0.8367232550995836,
           0.33710571869714273,
           0.21159856257582454,
           -0.3439614606803412,
           0.8060575014542993,
           0.30201299653976355,
           -0.004103588827840598,
           -0.020156546816152192
          ],
          [
           0.5353044645421594,
           -0.13952447397775505,
           0.3678696390199492,
           0.46791633250871223,
           0.5417754965332336,
           0.8556504585721914,
           0.6118289669448705,
           0.6839605358616434,
           0.6884109619957732,
           0.44097155740101823,
           0.6530521517857177,
           0.6177456807393682,
           1,
           0.9547899420013098,
           0.7176590677712473,
           0.5280409165605064,
           0.5371975332456566,
           -0.5384275748630022,
           0.6642251312493963,
           0.2546209150133588,
           0.4985264415409701,
           0.44215693172470627
          ],
          [
           0.5503763210355315,
           -0.1287332603950462,
           0.3721511073971612,
           0.46565090787912966,
           0.5566103923818191,
           0.8697435950977864,
           0.6157119994708184,
           0.7009561357349829,
           0.7169741470627472,
           0.44916037253752966,
           0.6570324869668193,
           0.6272785186303576,
           0.9547899420013098,
           1,
           0.7272492233740662,
           0.5190557057044738,
           0.5249426165646723,
           -0.5222725649223037,
           0.6756116264910434,
           0.2548991731280099,
           0.49070248238599357,
           0.44323730050369914
          ],
          [
           0.7583598697460622,
           -0.024618758966276237,
           0.3877421672499973,
           0.1726940327507814,
           0.7650879836714022,
           0.8018037230213907,
           0.6778988839070604,
           0.7346360736398571,
           0.719633514766062,
           0.6445074107404785,
           0.772772490689097,
           0.8367232550995836,
           0.7176590677712473,
           0.7272492233740662,
           1,
           0.37497680641646447,
           0.38965552166093387,
           -0.4154871350631993,
           0.9174176064700613,
           0.33516835767841374,
           0.1778424160749822,
           0.17150313715299767
          ],
          [
           0.4427269894532367,
           -0.085515045469649,
           0.3727409919195629,
           0.3620858445845423,
           0.44765661961854825,
           0.4562824100577685,
           0.7249218706887741,
           0.49308610892181304,
           0.45875140208580545,
           0.48727494903845386,
           0.63499692070744,
           0.33710571869714273,
           0.5280409165605064,
           0.5190557057044738,
           0.37497680641646447,
           1,
           0.6024462812636705,
           -0.7953344713719466,
           0.2951201671729079,
           0.24810610119562895,
           0.41148017471323417,
           0.33388013546465306
          ],
          [
           0.23116638272999165,
           -0.37076433233339023,
           0.4555712160398573,
           0.5537786470841889,
           0.22541169443285675,
           0.46918005177678357,
           0.5227696006085596,
           0.3598731151392034,
           0.4081308114921789,
           0.25154908415039434,
           0.5713160717664437,
           0.21159856257582454,
           0.5371975332456566,
           0.5249426165646723,
           0.38965552166093387,
           0.6024462812636705,
           1,
           -0.5638199426585953,
           0.347822112425854,
           0.1905684759117114,
           0.5504546584579472,
           0.5323968759693958
          ],
          [
           -0.46875166793667233,
           0.13553849774242513,
           -0.35761403839925177,
           -0.31237584965357407,
           -0.47863969166638226,
           -0.46901264127953646,
           -0.702452654266531,
           -0.4265809835217425,
           -0.3918154314940821,
           -0.4658942929858755,
           -0.6222537031873637,
           -0.3439614606803412,
           -0.5384275748630022,
           -0.5222725649223037,
           -0.4154871350631993,
           -0.7953344713719466,
           -0.5638199426585953,
           1,
           -0.3443808659540842,
           -0.21679204252849488,
           -0.3609882152448038,
           -0.2672764478856971
          ],
          [
           0.6839980926776401,
           0.023807731947582053,
           0.3293894751882837,
           0.1385779799064516,
           0.6880071773572138,
           0.7496680813204636,
           0.5783328420255307,
           0.6957571303526998,
           0.6997776916709216,
           0.5683566150653256,
           0.7003924710372873,
           0.8060575014542993,
           0.6642251312493963,
           0.6756116264910434,
           0.9174176064700613,
           0.2951201671729079,
           0.347822112425854,
           -0.3443808659540842,
           1,
           0.29410461566199386,
           0.14304393806216,
           0.14411408553917313
          ],
          [
           0.3712609747462132,
           -0.010274961813728846,
           0.15374154383394947,
           0.12909071055520957,
           0.36035358615804786,
           0.25572063471586937,
           0.3925702723757755,
           0.25140689634905705,
           0.23025745207812331,
           0.371728536832113,
           0.32672560843655063,
           0.30201299653976355,
           0.2546209150133588,
           0.2548991731280099,
           0.33516835767841374,
           0.24810610119562895,
           0.1905684759117114,
           -0.21679204252849488,
           0.29410461566199386,
           1,
           0.1438626197920701,
           0.11345555032807009
          ],
          [
           -0.02251811993447836,
           -0.37775075160258076,
           0.2624543760617417,
           0.9586212391355302,
           -0.02698002677365116,
           0.3325396055795897,
           0.2803535194399389,
           0.19748737174497863,
           0.2700307529956749,
           -0.025113201724673535,
           0.29140315098066216,
           -0.004103588827840598,
           0.4985264415409701,
           0.49070248238599357,
           0.1778424160749822,
           0.41148017471323417,
           0.5504546584579472,
           -0.3609882152448038,
           0.14304393806216,
           0.1438626197920701,
           1,
           0.9224901526812924
          ],
          [
           -0.03891775089130232,
           -0.4356437217463197,
           0.2601326419073382,
           0.960263277333172,
           -0.03537773519443166,
           0.31190312654200514,
           0.23033636803617327,
           0.16079828851195077,
           0.24210660118222138,
           -0.0414070723491121,
           0.25235586400861376,
           -0.020156546816152192,
           0.44215693172470627,
           0.44323730050369914,
           0.17150313715299767,
           0.33388013546465306,
           0.5323968759693958,
           -0.2672764478856971,
           0.14411408553917313,
           0.11345555032807009,
           0.9224901526812924,
           1
          ]
         ]
        }
       ],
       "layout": {
        "coloraxis": {
         "colorscale": [
          [
           0,
           "rgb(103,0,31)"
          ],
          [
           0.1,
           "rgb(178,24,43)"
          ],
          [
           0.2,
           "rgb(214,96,77)"
          ],
          [
           0.3,
           "rgb(244,165,130)"
          ],
          [
           0.4,
           "rgb(253,219,199)"
          ],
          [
           0.5,
           "rgb(247,247,247)"
          ],
          [
           0.6,
           "rgb(209,229,240)"
          ],
          [
           0.7,
           "rgb(146,197,222)"
          ],
          [
           0.8,
           "rgb(67,147,195)"
          ],
          [
           0.9,
           "rgb(33,102,172)"
          ],
          [
           1,
           "rgb(5,48,97)"
          ]
         ]
        },
        "height": 1100,
        "margin": {
         "t": 60
        },
        "template": {
         "data": {
          "bar": [
           {
            "error_x": {
             "color": "#2a3f5f"
            },
            "error_y": {
             "color": "#2a3f5f"
            },
            "marker": {
             "line": {
              "color": "#E5ECF6",
              "width": 0.5
             },
             "pattern": {
              "fillmode": "overlay",
              "size": 10,
              "solidity": 0.2
             }
            },
            "type": "bar"
           }
          ],
          "barpolar": [
           {
            "marker": {
             "line": {
              "color": "#E5ECF6",
              "width": 0.5
             },
             "pattern": {
              "fillmode": "overlay",
              "size": 10,
              "solidity": 0.2
             }
            },
            "type": "barpolar"
           }
          ],
          "carpet": [
           {
            "aaxis": {
             "endlinecolor": "#2a3f5f",
             "gridcolor": "white",
             "linecolor": "white",
             "minorgridcolor": "white",
             "startlinecolor": "#2a3f5f"
            },
            "baxis": {
             "endlinecolor": "#2a3f5f",
             "gridcolor": "white",
             "linecolor": "white",
             "minorgridcolor": "white",
             "startlinecolor": "#2a3f5f"
            },
            "type": "carpet"
           }
          ],
          "choropleth": [
           {
            "colorbar": {
             "outlinewidth": 0,
             "ticks": ""
            },
            "type": "choropleth"
           }
          ],
          "contour": [
           {
            "colorbar": {
             "outlinewidth": 0,
             "ticks": ""
            },
            "colorscale": [
             [
              0,
              "#0d0887"
             ],
             [
              0.1111111111111111,
              "#46039f"
             ],
             [
              0.2222222222222222,
              "#7201a8"
             ],
             [
              0.3333333333333333,
              "#9c179e"
             ],
             [
              0.4444444444444444,
              "#bd3786"
             ],
             [
              0.5555555555555556,
              "#d8576b"
             ],
             [
              0.6666666666666666,
              "#ed7953"
             ],
             [
              0.7777777777777778,
              "#fb9f3a"
             ],
             [
              0.8888888888888888,
              "#fdca26"
             ],
             [
              1,
              "#f0f921"
             ]
            ],
            "type": "contour"
           }
          ],
          "contourcarpet": [
           {
            "colorbar": {
             "outlinewidth": 0,
             "ticks": ""
            },
            "type": "contourcarpet"
           }
          ],
          "heatmap": [
           {
            "colorbar": {
             "outlinewidth": 0,
             "ticks": ""
            },
            "colorscale": [
             [
              0,
              "#0d0887"
             ],
             [
              0.1111111111111111,
              "#46039f"
             ],
             [
              0.2222222222222222,
              "#7201a8"
             ],
             [
              0.3333333333333333,
              "#9c179e"
             ],
             [
              0.4444444444444444,
              "#bd3786"
             ],
             [
              0.5555555555555556,
              "#d8576b"
             ],
             [
              0.6666666666666666,
              "#ed7953"
             ],
             [
              0.7777777777777778,
              "#fb9f3a"
             ],
             [
              0.8888888888888888,
              "#fdca26"
             ],
             [
              1,
              "#f0f921"
             ]
            ],
            "type": "heatmap"
           }
          ],
          "heatmapgl": [
           {
            "colorbar": {
             "outlinewidth": 0,
             "ticks": ""
            },
            "colorscale": [
             [
              0,
              "#0d0887"
             ],
             [
              0.1111111111111111,
              "#46039f"
             ],
             [
              0.2222222222222222,
              "#7201a8"
             ],
             [
              0.3333333333333333,
              "#9c179e"
             ],
             [
              0.4444444444444444,
              "#bd3786"
             ],
             [
              0.5555555555555556,
              "#d8576b"
             ],
             [
              0.6666666666666666,
              "#ed7953"
             ],
             [
              0.7777777777777778,
              "#fb9f3a"
             ],
             [
              0.8888888888888888,
              "#fdca26"
             ],
             [
              1,
              "#f0f921"
             ]
            ],
            "type": "heatmapgl"
           }
          ],
          "histogram": [
           {
            "marker": {
             "pattern": {
              "fillmode": "overlay",
              "size": 10,
              "solidity": 0.2
             }
            },
            "type": "histogram"
           }
          ],
          "histogram2d": [
           {
            "colorbar": {
             "outlinewidth": 0,
             "ticks": ""
            },
            "colorscale": [
             [
              0,
              "#0d0887"
             ],
             [
              0.1111111111111111,
              "#46039f"
             ],
             [
              0.2222222222222222,
              "#7201a8"
             ],
             [
              0.3333333333333333,
              "#9c179e"
             ],
             [
              0.4444444444444444,
              "#bd3786"
             ],
             [
              0.5555555555555556,
              "#d8576b"
             ],
             [
              0.6666666666666666,
              "#ed7953"
             ],
             [
              0.7777777777777778,
              "#fb9f3a"
             ],
             [
              0.8888888888888888,
              "#fdca26"
             ],
             [
              1,
              "#f0f921"
             ]
            ],
            "type": "histogram2d"
           }
          ],
          "histogram2dcontour": [
           {
            "colorbar": {
             "outlinewidth": 0,
             "ticks": ""
            },
            "colorscale": [
             [
              0,
              "#0d0887"
             ],
             [
              0.1111111111111111,
              "#46039f"
             ],
             [
              0.2222222222222222,
              "#7201a8"
             ],
             [
              0.3333333333333333,
              "#9c179e"
             ],
             [
              0.4444444444444444,
              "#bd3786"
             ],
             [
              0.5555555555555556,
              "#d8576b"
             ],
             [
              0.6666666666666666,
              "#ed7953"
             ],
             [
              0.7777777777777778,
              "#fb9f3a"
             ],
             [
              0.8888888888888888,
              "#fdca26"
             ],
             [
              1,
              "#f0f921"
             ]
            ],
            "type": "histogram2dcontour"
           }
          ],
          "mesh3d": [
           {
            "colorbar": {
             "outlinewidth": 0,
             "ticks": ""
            },
            "type": "mesh3d"
           }
          ],
          "parcoords": [
           {
            "line": {
             "colorbar": {
              "outlinewidth": 0,
              "ticks": ""
             }
            },
            "type": "parcoords"
           }
          ],
          "pie": [
           {
            "automargin": true,
            "type": "pie"
           }
          ],
          "scatter": [
           {
            "fillpattern": {
             "fillmode": "overlay",
             "size": 10,
             "solidity": 0.2
            },
            "type": "scatter"
           }
          ],
          "scatter3d": [
           {
            "line": {
             "colorbar": {
              "outlinewidth": 0,
              "ticks": ""
             }
            },
            "marker": {
             "colorbar": {
              "outlinewidth": 0,
              "ticks": ""
             }
            },
            "type": "scatter3d"
           }
          ],
          "scattercarpet": [
           {
            "marker": {
             "colorbar": {
              "outlinewidth": 0,
              "ticks": ""
             }
            },
            "type": "scattercarpet"
           }
          ],
          "scattergeo": [
           {
            "marker": {
             "colorbar": {
              "outlinewidth": 0,
              "ticks": ""
             }
            },
            "type": "scattergeo"
           }
          ],
          "scattergl": [
           {
            "marker": {
             "colorbar": {
              "outlinewidth": 0,
              "ticks": ""
             }
            },
            "type": "scattergl"
           }
          ],
          "scattermapbox": [
           {
            "marker": {
             "colorbar": {
              "outlinewidth": 0,
              "ticks": ""
             }
            },
            "type": "scattermapbox"
           }
          ],
          "scatterpolar": [
           {
            "marker": {
             "colorbar": {
              "outlinewidth": 0,
              "ticks": ""
             }
            },
            "type": "scatterpolar"
           }
          ],
          "scatterpolargl": [
           {
            "marker": {
             "colorbar": {
              "outlinewidth": 0,
              "ticks": ""
             }
            },
            "type": "scatterpolargl"
           }
          ],
          "scatterternary": [
           {
            "marker": {
             "colorbar": {
              "outlinewidth": 0,
              "ticks": ""
             }
            },
            "type": "scatterternary"
           }
          ],
          "surface": [
           {
            "colorbar": {
             "outlinewidth": 0,
             "ticks": ""
            },
            "colorscale": [
             [
              0,
              "#0d0887"
             ],
             [
              0.1111111111111111,
              "#46039f"
             ],
             [
              0.2222222222222222,
              "#7201a8"
             ],
             [
              0.3333333333333333,
              "#9c179e"
             ],
             [
              0.4444444444444444,
              "#bd3786"
             ],
             [
              0.5555555555555556,
              "#d8576b"
             ],
             [
              0.6666666666666666,
              "#ed7953"
             ],
             [
              0.7777777777777778,
              "#fb9f3a"
             ],
             [
              0.8888888888888888,
              "#fdca26"
             ],
             [
              1,
              "#f0f921"
             ]
            ],
            "type": "surface"
           }
          ],
          "table": [
           {
            "cells": {
             "fill": {
              "color": "#EBF0F8"
             },
             "line": {
              "color": "white"
             }
            },
            "header": {
             "fill": {
              "color": "#C8D4E3"
             },
             "line": {
              "color": "white"
             }
            },
            "type": "table"
           }
          ]
         },
         "layout": {
          "annotationdefaults": {
           "arrowcolor": "#2a3f5f",
           "arrowhead": 0,
           "arrowwidth": 1
          },
          "autotypenumbers": "strict",
          "coloraxis": {
           "colorbar": {
            "outlinewidth": 0,
            "ticks": ""
           }
          },
          "colorscale": {
           "diverging": [
            [
             0,
             "#8e0152"
            ],
            [
             0.1,
             "#c51b7d"
            ],
            [
             0.2,
             "#de77ae"
            ],
            [
             0.3,
             "#f1b6da"
            ],
            [
             0.4,
             "#fde0ef"
            ],
            [
             0.5,
             "#f7f7f7"
            ],
            [
             0.6,
             "#e6f5d0"
            ],
            [
             0.7,
             "#b8e186"
            ],
            [
             0.8,
             "#7fbc41"
            ],
            [
             0.9,
             "#4d9221"
            ],
            [
             1,
             "#276419"
            ]
           ],
           "sequential": [
            [
             0,
             "#0d0887"
            ],
            [
             0.1111111111111111,
             "#46039f"
            ],
            [
             0.2222222222222222,
             "#7201a8"
            ],
            [
             0.3333333333333333,
             "#9c179e"
            ],
            [
             0.4444444444444444,
             "#bd3786"
            ],
            [
             0.5555555555555556,
             "#d8576b"
            ],
            [
             0.6666666666666666,
             "#ed7953"
            ],
            [
             0.7777777777777778,
             "#fb9f3a"
            ],
            [
             0.8888888888888888,
             "#fdca26"
            ],
            [
             1,
             "#f0f921"
            ]
           ],
           "sequentialminus": [
            [
             0,
             "#0d0887"
            ],
            [
             0.1111111111111111,
             "#46039f"
            ],
            [
             0.2222222222222222,
             "#7201a8"
            ],
            [
             0.3333333333333333,
             "#9c179e"
            ],
            [
             0.4444444444444444,
             "#bd3786"
            ],
            [
             0.5555555555555556,
             "#d8576b"
            ],
            [
             0.6666666666666666,
             "#ed7953"
            ],
            [
             0.7777777777777778,
             "#fb9f3a"
            ],
            [
             0.8888888888888888,
             "#fdca26"
            ],
            [
             1,
             "#f0f921"
            ]
           ]
          },
          "colorway": [
           "#636efa",
           "#EF553B",
           "#00cc96",
           "#ab63fa",
           "#FFA15A",
           "#19d3f3",
           "#FF6692",
           "#B6E880",
           "#FF97FF",
           "#FECB52"
          ],
          "font": {
           "color": "#2a3f5f"
          },
          "geo": {
           "bgcolor": "white",
           "lakecolor": "white",
           "landcolor": "#E5ECF6",
           "showlakes": true,
           "showland": true,
           "subunitcolor": "white"
          },
          "hoverlabel": {
           "align": "left"
          },
          "hovermode": "closest",
          "mapbox": {
           "style": "light"
          },
          "paper_bgcolor": "white",
          "plot_bgcolor": "#E5ECF6",
          "polar": {
           "angularaxis": {
            "gridcolor": "white",
            "linecolor": "white",
            "ticks": ""
           },
           "bgcolor": "#E5ECF6",
           "radialaxis": {
            "gridcolor": "white",
            "linecolor": "white",
            "ticks": ""
           }
          },
          "scene": {
           "xaxis": {
            "backgroundcolor": "#E5ECF6",
            "gridcolor": "white",
            "gridwidth": 2,
            "linecolor": "white",
            "showbackground": true,
            "ticks": "",
            "zerolinecolor": "white"
           },
           "yaxis": {
            "backgroundcolor": "#E5ECF6",
            "gridcolor": "white",
            "gridwidth": 2,
            "linecolor": "white",
            "showbackground": true,
            "ticks": "",
            "zerolinecolor": "white"
           },
           "zaxis": {
            "backgroundcolor": "#E5ECF6",
            "gridcolor": "white",
            "gridwidth": 2,
            "linecolor": "white",
            "showbackground": true,
            "ticks": "",
            "zerolinecolor": "white"
           }
          },
          "shapedefaults": {
           "line": {
            "color": "#2a3f5f"
           }
          },
          "ternary": {
           "aaxis": {
            "gridcolor": "white",
            "linecolor": "white",
            "ticks": ""
           },
           "baxis": {
            "gridcolor": "white",
            "linecolor": "white",
            "ticks": ""
           },
           "bgcolor": "#E5ECF6",
           "caxis": {
            "gridcolor": "white",
            "linecolor": "white",
            "ticks": ""
           }
          },
          "title": {
           "x": 0.05
          },
          "xaxis": {
           "automargin": true,
           "gridcolor": "white",
           "linecolor": "white",
           "ticks": "",
           "title": {
            "standoff": 15
           },
           "zerolinecolor": "white",
           "zerolinewidth": 2
          },
          "yaxis": {
           "automargin": true,
           "gridcolor": "white",
           "linecolor": "white",
           "ticks": "",
           "title": {
            "standoff": 15
           },
           "zerolinecolor": "white",
           "zerolinewidth": 2
          }
         }
        },
        "width": 1100,
        "xaxis": {
         "anchor": "y",
         "autorange": true,
         "constrain": "domain",
         "domain": [
          0,
          1
         ],
         "range": [
          -0.5,
          21.5
         ],
         "scaleanchor": "y",
         "type": "category"
        },
        "yaxis": {
         "anchor": "x",
         "autorange": true,
         "constrain": "domain",
         "domain": [
          0.05416666666666664,
          0.9458333333333333
         ],
         "range": [
          21.5,
          -0.5
         ],
         "type": "category"
        }
       }
      },
      "image/png": "[encoded data removed]",
      "text/html": [
       "<div>                            <div id=\"2d7b6f8c-4be2-4451-9534-c001250cf93b\" class=\"plotly-graph-div\" style=\"height:1100px; width:1100px;\"></div>            <script type=\"text/javascript\">                require([\"plotly\"], function(Plotly) {                    window.PLOTLYENV=window.PLOTLYENV || {};                                    if (document.getElementById(\"2d7b6f8c-4be2-4451-9534-c001250cf93b\")) {                    Plotly.newPlot(                        \"2d7b6f8c-4be2-4451-9534-c001250cf93b\",                        [{\"coloraxis\":\"coloraxis\",\"name\":\"0\",\"x\":[\"volume\",\"mileage\",\"price\",\"year\",\"engine_volume\",\"width\",\"maximum_power\",\"length\",\"wheelbase\",\"cylinders\",\"torque\",\"volume_fuel_tank\",\"rear_track_width\",\"front_track_width\",\"curb_weight_kg\",\"maximum_speed\",\"transmissions\",\"speed_to_100\",\"full_weight\",\"consumption\",\"release_start_series\",\"end_serial\"],\"y\":[\"volume\",\"mileage\",\"price\",\"year\",\"engine_volume\",\"width\",\"maximum_power\",\"length\",\"wheelbase\",\"cylinders\",\"torque\",\"volume_fuel_tank\",\"rear_track_width\",\"front_track_width\",\"curb_weight_kg\",\"maximum_speed\",\"transmissions\",\"speed_to_100\",\"full_weight\",\"consumption\",\"release_start_series\",\"end_serial\"],\"z\":[[1.0,0.04564441891806096,0.3598918683320047,-0.03980395137822288,0.9911183523991244,0.6402035540621608,0.7996789149187731,0.6374171168763919,0.5954220695190768,0.9024759508975568,0.7517720811970535,0.7678520021410372,0.5353044645421594,0.5503763210355315,0.7583598697460622,0.4427269894532367,0.23116638272999165,-0.46875166793667233,0.6839980926776401,0.3712609747462132,-0.02251811993447836,-0.03891775089130232],[0.04564441891806096,1.0,-0.3491061157330606,-0.4415854493899939,0.03952410213409159,-0.11593912604787694,-0.14262181097657817,0.031223472467444665,-0.026802840261002155,0.04684110466117025,-0.15043005254893016,0.177927266824657,-0.13952447397775505,-0.1287332603950462,-0.024618758966276237,-0.085515045469649,-0.37076433233339023,0.13553849774242513,0.023807731947582053,-0.010274961813728846,-0.37775075160258076,-0.4356437217463197],[0.3598918683320047,-0.3491061157330606,1.0,0.28104020434597693,0.3643236932786823,0.4003583066707147,0.5534422751539784,0.3459245058057934,0.3815357857860362,0.38312765464684934,0.5597216276751683,0.2436285529463208,0.3678696390199492,0.3721511073971612,0.3877421672499973,0.3727409919195629,0.4555712160398573,-0.35761403839925177,0.3293894751882837,0.15374154383394947,0.2624543760617417,0.2601326419073382],[-0.03980395137822288,-0.4415854493899939,0.28104020434597693,1.0,-0.03883677741905907,0.31934017053137764,0.2515982816690385,0.17382912780991108,0.2507378424531719,-0.038075853940524255,0.27053716173778847,-0.027196973405400844,0.46791633250871223,0.46565090787912966,0.1726940327507814,0.3620858445845423,0.5537786470841889,-0.31237584965357407,0.1385779799064516,0.12909071055520957,0.9586212391355302,0.960263277333172],[0.9911183523991244,0.03952410213409159,0.3643236932786823,-0.03883677741905907,1.0,0.6471888338724455,0.8020180201202469,0.6417228338942469,0.601699272463451,0.8926253338062902,0.7531130137742345,0.7722053782074553,0.5417754965332336,0.5566103923818191,0.7650879836714022,0.44765661961854825,0.22541169443285675,-0.47863969166638226,0.6880071773572138,0.36035358615804786,-0.02698002677365116,-0.03537773519443166],[0.6402035540621608,-0.11593912604787694,0.4003583066707147,0.31934017053137764,0.6471888338724455,1.0,0.6398806384463681,0.7565495665489026,0.7525867589210116,0.5349913129404171,0.7101359804748503,0.7264424699136,0.8556504585721914,0.8697435950977864,0.8018037230213907,0.4562824100577685,0.46918005177678357,-0.46901264127953646,0.7496680813204636,0.25572063471586937,0.3325396055795897,0.31190312654200514],[0.7996789149187731,-0.14262181097657817,0.5534422751539784,0.2515982816690385,0.8020180201202469,0.6398806384463681,1.0,0.594829990579687,0.5795079195055939,0.777129726494003,0.887607908496877,0.6006917159800509,0.6118289669448705,0.6157119994708184,0.6778988839070604,0.7249218706887741,0.5227696006085596,-0.702452654266531,0.5783328420255307,0.3925702723757755,0.2803535194399389,0.23033636803617327],[0.6374171168763919,0.031223472467444665,0.3459245058057934,0.17382912780991108,0.6417228338942469,0.7565495665489026,0.594829990579687,1.0,0.8937851985577467,0.5369489304840307,0.6515568536178137,0.7373322271241206,0.6839605358616434,0.7009561357349829,0.7346360736398571,0.49308610892181304,0.3598731151392034,-0.4265809835217425,0.6957571303526998,0.25140689634905705,0.19748737174497863,0.16079828851195077],[0.5954220695190768,-0.026802840261002155,0.3815357857860362,0.2507378424531719,0.601699272463451,0.7525867589210116,0.5795079195055939,0.8937851985577467,1.0,0.5109064978477131,0.6607832122792007,0.6929118755654687,0.6884109619957732,0.7169741470627472,0.719633514766062,0.45875140208580545,0.4081308114921789,-0.3918154314940821,0.6997776916709216,0.23025745207812331,0.2700307529956749,0.24210660118222138],[0.9024759508975568,0.04684110466117025,0.38312765464684934,-0.038075853940524255,0.8926253338062902,0.5349913129404171,0.777129726494003,0.5369489304840307,0.5109064978477131,1.0,0.7119202883267485,0.6648973614624697,0.44097155740101823,0.44916037253752966,0.6445074107404785,0.48727494903845386,0.25154908415039434,-0.4658942929858755,0.5683566150653256,0.371728536832113,-0.025113201724673535,-0.0414070723491121],[0.7517720811970535,-0.15043005254893016,0.5597216276751683,0.27053716173778847,0.7531130137742345,0.7101359804748503,0.887607908496877,0.6515568536178137,0.6607832122792007,0.7119202883267485,1.0,0.6540371942235684,0.6530521517857177,0.6570324869668193,0.772772490689097,0.63499692070744,0.5713160717664437,-0.6222537031873637,0.7003924710372873,0.32672560843655063,0.29140315098066216,0.25235586400861376],[0.7678520021410372,0.177927266824657,0.2436285529463208,-0.027196973405400844,0.7722053782074553,0.7264424699136,0.6006917159800509,0.7373322271241206,0.6929118755654687,0.6648973614624697,0.6540371942235684,1.0,0.6177456807393682,0.6272785186303576,0.8367232550995836,0.33710571869714273,0.21159856257582454,-0.3439614606803412,0.8060575014542993,0.30201299653976355,-0.004103588827840598,-0.020156546816152192],[0.5353044645421594,-0.13952447397775505,0.3678696390199492,0.46791633250871223,0.5417754965332336,0.8556504585721914,0.6118289669448705,0.6839605358616434,0.6884109619957732,0.44097155740101823,0.6530521517857177,0.6177456807393682,1.0,0.9547899420013098,0.7176590677712473,0.5280409165605064,0.5371975332456566,-0.5384275748630022,0.6642251312493963,0.2546209150133588,0.4985264415409701,0.44215693172470627],[0.5503763210355315,-0.1287332603950462,0.3721511073971612,0.46565090787912966,0.5566103923818191,0.8697435950977864,0.6157119994708184,0.7009561357349829,0.7169741470627472,0.44916037253752966,0.6570324869668193,0.6272785186303576,0.9547899420013098,1.0,0.7272492233740662,0.5190557057044738,0.5249426165646723,-0.5222725649223037,0.6756116264910434,0.2548991731280099,0.49070248238599357,0.44323730050369914],[0.7583598697460622,-0.024618758966276237,0.3877421672499973,0.1726940327507814,0.7650879836714022,0.8018037230213907,0.6778988839070604,0.7346360736398571,0.719633514766062,0.6445074107404785,0.772772490689097,0.8367232550995836,0.7176590677712473,0.7272492233740662,1.0,0.37497680641646447,0.38965552166093387,-0.4154871350631993,0.9174176064700613,0.33516835767841374,0.1778424160749822,0.17150313715299767],[0.4427269894532367,-0.085515045469649,0.3727409919195629,0.3620858445845423,0.44765661961854825,0.4562824100577685,0.7249218706887741,0.49308610892181304,0.45875140208580545,0.48727494903845386,0.63499692070744,0.33710571869714273,0.5280409165605064,0.5190557057044738,0.37497680641646447,1.0,0.6024462812636705,-0.7953344713719466,0.2951201671729079,0.24810610119562895,0.41148017471323417,0.33388013546465306],[0.23116638272999165,-0.37076433233339023,0.4555712160398573,0.5537786470841889,0.22541169443285675,0.46918005177678357,0.5227696006085596,0.3598731151392034,0.4081308114921789,0.25154908415039434,0.5713160717664437,0.21159856257582454,0.5371975332456566,0.5249426165646723,0.38965552166093387,0.6024462812636705,1.0,-0.5638199426585953,0.347822112425854,0.1905684759117114,0.5504546584579472,0.5323968759693958],[-0.46875166793667233,0.13553849774242513,-0.35761403839925177,-0.31237584965357407,-0.47863969166638226,-0.46901264127953646,-0.702452654266531,-0.4265809835217425,-0.3918154314940821,-0.4658942929858755,-0.6222537031873637,-0.3439614606803412,-0.5384275748630022,-0.5222725649223037,-0.4154871350631993,-0.7953344713719466,-0.5638199426585953,1.0,-0.3443808659540842,-0.21679204252849488,-0.3609882152448038,-0.2672764478856971],[0.6839980926776401,0.023807731947582053,0.3293894751882837,0.1385779799064516,0.6880071773572138,0.7496680813204636,0.5783328420255307,0.6957571303526998,0.6997776916709216,0.5683566150653256,0.7003924710372873,0.8060575014542993,0.6642251312493963,0.6756116264910434,0.9174176064700613,0.2951201671729079,0.347822112425854,-0.3443808659540842,1.0,0.29410461566199386,0.14304393806216,0.14411408553917313],[0.3712609747462132,-0.010274961813728846,0.15374154383394947,0.12909071055520957,0.36035358615804786,0.25572063471586937,0.3925702723757755,0.25140689634905705,0.23025745207812331,0.371728536832113,0.32672560843655063,0.30201299653976355,0.2546209150133588,0.2548991731280099,0.33516835767841374,0.24810610119562895,0.1905684759117114,-0.21679204252849488,0.29410461566199386,1.0,0.1438626197920701,0.11345555032807009],[-0.02251811993447836,-0.37775075160258076,0.2624543760617417,0.9586212391355302,-0.02698002677365116,0.3325396055795897,0.2803535194399389,0.19748737174497863,0.2700307529956749,-0.025113201724673535,0.29140315098066216,-0.004103588827840598,0.4985264415409701,0.49070248238599357,0.1778424160749822,0.41148017471323417,0.5504546584579472,-0.3609882152448038,0.14304393806216,0.1438626197920701,1.0,0.9224901526812924],[-0.03891775089130232,-0.4356437217463197,0.2601326419073382,0.960263277333172,-0.03537773519443166,0.31190312654200514,0.23033636803617327,0.16079828851195077,0.24210660118222138,-0.0414070723491121,0.25235586400861376,-0.020156546816152192,0.44215693172470627,0.44323730050369914,0.17150313715299767,0.33388013546465306,0.5323968759693958,-0.2672764478856971,0.14411408553917313,0.11345555032807009,0.9224901526812924,1.0]],\"type\":\"heatmap\",\"xaxis\":\"x\",\"yaxis\":\"y\",\"hovertemplate\":\"x: %{x}\\u003cbr\\u003ey: %{y}\\u003cbr\\u003ecolor: %{z}\\u003cextra\\u003e\\u003c\\u002fextra\\u003e\"}],                        {\"template\":{\"data\":{\"histogram2dcontour\":[{\"type\":\"histogram2dcontour\",\"colorbar\":{\"outlinewidth\":0,\"ticks\":\"\"},\"colorscale\":[[0.0,\"#0d0887\"],[0.1111111111111111,\"#46039f\"],[0.2222222222222222,\"#7201a8\"],[0.3333333333333333,\"#9c179e\"],[0.4444444444444444,\"#bd3786\"],[0.5555555555555556,\"#d8576b\"],[0.6666666666666666,\"#ed7953\"],[0.7777777777777778,\"#fb9f3a\"],[0.8888888888888888,\"#fdca26\"],[1.0,\"#f0f921\"]]}],\"choropleth\":[{\"type\":\"choropleth\",\"colorbar\":{\"outlinewidth\":0,\"ticks\":\"\"}}],\"histogram2d\":[{\"type\":\"histogram2d\",\"colorbar\":{\"outlinewidth\":0,\"ticks\":\"\"},\"colorscale\":[[0.0,\"#0d0887\"],[0.1111111111111111,\"#46039f\"],[0.2222222222222222,\"#7201a8\"],[0.3333333333333333,\"#9c179e\"],[0.4444444444444444,\"#bd3786\"],[0.5555555555555556,\"#d8576b\"],[0.6666666666666666,\"#ed7953\"],[0.7777777777777778,\"#fb9f3a\"],[0.8888888888888888,\"#fdca26\"],[1.0,\"#f0f921\"]]}],\"heatmap\":[{\"type\":\"heatmap\",\"colorbar\":{\"outlinewidth\":0,\"ticks\":\"\"},\"colorscale\":[[0.0,\"#0d0887\"],[0.1111111111111111,\"#46039f\"],[0.2222222222222222,\"#7201a8\"],[0.3333333333333333,\"#9c179e\"],[0.4444444444444444,\"#bd3786\"],[0.5555555555555556,\"#d8576b\"],[0.6666666666666666,\"#ed7953\"],[0.7777777777777778,\"#fb9f3a\"],[0.8888888888888888,\"#fdca26\"],[1.0,\"#f0f921\"]]}],\"heatmapgl\":[{\"type\":\"heatmapgl\",\"colorbar\":{\"outlinewidth\":0,\"ticks\":\"\"},\"colorscale\":[[0.0,\"#0d0887\"],[0.1111111111111111,\"#46039f\"],[0.2222222222222222,\"#7201a8\"],[0.3333333333333333,\"#9c179e\"],[0.4444444444444444,\"#bd3786\"],[0.5555555555555556,\"#d8576b\"],[0.6666666666666666,\"#ed7953\"],[0.7777777777777778,\"#fb9f3a\"],[0.8888888888888888,\"#fdca26\"],[1.0,\"#f0f921\"]]}],\"contourcarpet\":[{\"type\":\"contourcarpet\",\"colorbar\":{\"outlinewidth\":0,\"ticks\":\"\"}}],\"contour\":[{\"type\":\"contour\",\"colorbar\":{\"outlinewidth\":0,\"ticks\":\"\"},\"colorscale\":[[0.0,\"#0d0887\"],[0.1111111111111111,\"#46039f\"],[0.2222222222222222,\"#7201a8\"],[0.3333333333333333,\"#9c179e\"],[0.4444444444444444,\"#bd3786\"],[0.5555555555555556,\"#d8576b\"],[0.6666666666666666,\"#ed7953\"],[0.7777777777777778,\"#fb9f3a\"],[0.8888888888888888,\"#fdca26\"],[1.0,\"#f0f921\"]]}],\"surface\":[{\"type\":\"surface\",\"colorbar\":{\"outlinewidth\":0,\"ticks\":\"\"},\"colorscale\":[[0.0,\"#0d0887\"],[0.1111111111111111,\"#46039f\"],[0.2222222222222222,\"#7201a8\"],[0.3333333333333333,\"#9c179e\"],[0.4444444444444444,\"#bd3786\"],[0.5555555555555556,\"#d8576b\"],[0.6666666666666666,\"#ed7953\"],[0.7777777777777778,\"#fb9f3a\"],[0.8888888888888888,\"#fdca26\"],[1.0,\"#f0f921\"]]}],\"mesh3d\":[{\"type\":\"mesh3d\",\"colorbar\":{\"outlinewidth\":0,\"ticks\":\"\"}}],\"scatter\":[{\"fillpattern\":{\"fillmode\":\"overlay\",\"size\":10,\"solidity\":0.2},\"type\":\"scatter\"}],\"parcoords\":[{\"type\":\"parcoords\",\"line\":{\"colorbar\":{\"outlinewidth\":0,\"ticks\":\"\"}}}],\"scatterpolargl\":[{\"type\":\"scatterpolargl\",\"marker\":{\"colorbar\":{\"outlinewidth\":0,\"ticks\":\"\"}}}],\"bar\":[{\"error_x\":{\"color\":\"#2a3f5f\"},\"error_y\":{\"color\":\"#2a3f5f\"},\"marker\":{\"line\":{\"color\":\"#E5ECF6\",\"width\":0.5},\"pattern\":{\"fillmode\":\"overlay\",\"size\":10,\"solidity\":0.2}},\"type\":\"bar\"}],\"scattergeo\":[{\"type\":\"scattergeo\",\"marker\":{\"colorbar\":{\"outlinewidth\":0,\"ticks\":\"\"}}}],\"scatterpolar\":[{\"type\":\"scatterpolar\",\"marker\":{\"colorbar\":{\"outlinewidth\":0,\"ticks\":\"\"}}}],\"histogram\":[{\"marker\":{\"pattern\":{\"fillmode\":\"overlay\",\"size\":10,\"solidity\":0.2}},\"type\":\"histogram\"}],\"scattergl\":[{\"type\":\"scattergl\",\"marker\":{\"colorbar\":{\"outlinewidth\":0,\"ticks\":\"\"}}}],\"scatter3d\":[{\"type\":\"scatter3d\",\"line\":{\"colorbar\":{\"outlinewidth\":0,\"ticks\":\"\"}},\"marker\":{\"colorbar\":{\"outlinewidth\":0,\"ticks\":\"\"}}}],\"scattermapbox\":[{\"type\":\"scattermapbox\",\"marker\":{\"colorbar\":{\"outlinewidth\":0,\"ticks\":\"\"}}}],\"scatterternary\":[{\"type\":\"scatterternary\",\"marker\":{\"colorbar\":{\"outlinewidth\":0,\"ticks\":\"\"}}}],\"scattercarpet\":[{\"type\":\"scattercarpet\",\"marker\":{\"colorbar\":{\"outlinewidth\":0,\"ticks\":\"\"}}}],\"carpet\":[{\"aaxis\":{\"endlinecolor\":\"#2a3f5f\",\"gridcolor\":\"white\",\"linecolor\":\"white\",\"minorgridcolor\":\"white\",\"startlinecolor\":\"#2a3f5f\"},\"baxis\":{\"endlinecolor\":\"#2a3f5f\",\"gridcolor\":\"white\",\"linecolor\":\"white\",\"minorgridcolor\":\"white\",\"startlinecolor\":\"#2a3f5f\"},\"type\":\"carpet\"}],\"table\":[{\"cells\":{\"fill\":{\"color\":\"#EBF0F8\"},\"line\":{\"color\":\"white\"}},\"header\":{\"fill\":{\"color\":\"#C8D4E3\"},\"line\":{\"color\":\"white\"}},\"type\":\"table\"}],\"barpolar\":[{\"marker\":{\"line\":{\"color\":\"#E5ECF6\",\"width\":0.5},\"pattern\":{\"fillmode\":\"overlay\",\"size\":10,\"solidity\":0.2}},\"type\":\"barpolar\"}],\"pie\":[{\"automargin\":true,\"type\":\"pie\"}]},\"layout\":{\"autotypenumbers\":\"strict\",\"colorway\":[\"#636efa\",\"#EF553B\",\"#00cc96\",\"#ab63fa\",\"#FFA15A\",\"#19d3f3\",\"#FF6692\",\"#B6E880\",\"#FF97FF\",\"#FECB52\"],\"font\":{\"color\":\"#2a3f5f\"},\"hovermode\":\"closest\",\"hoverlabel\":{\"align\":\"left\"},\"paper_bgcolor\":\"white\",\"plot_bgcolor\":\"#E5ECF6\",\"polar\":{\"bgcolor\":\"#E5ECF6\",\"angularaxis\":{\"gridcolor\":\"white\",\"linecolor\":\"white\",\"ticks\":\"\"},\"radialaxis\":{\"gridcolor\":\"white\",\"linecolor\":\"white\",\"ticks\":\"\"}},\"ternary\":{\"bgcolor\":\"#E5ECF6\",\"aaxis\":{\"gridcolor\":\"white\",\"linecolor\":\"white\",\"ticks\":\"\"},\"baxis\":{\"gridcolor\":\"white\",\"linecolor\":\"white\",\"ticks\":\"\"},\"caxis\":{\"gridcolor\":\"white\",\"linecolor\":\"white\",\"ticks\":\"\"}},\"coloraxis\":{\"colorbar\":{\"outlinewidth\":0,\"ticks\":\"\"}},\"colorscale\":{\"sequential\":[[0.0,\"#0d0887\"],[0.1111111111111111,\"#46039f\"],[0.2222222222222222,\"#7201a8\"],[0.3333333333333333,\"#9c179e\"],[0.4444444444444444,\"#bd3786\"],[0.5555555555555556,\"#d8576b\"],[0.6666666666666666,\"#ed7953\"],[0.7777777777777778,\"#fb9f3a\"],[0.8888888888888888,\"#fdca26\"],[1.0,\"#f0f921\"]],\"sequentialminus\":[[0.0,\"#0d0887\"],[0.1111111111111111,\"#46039f\"],[0.2222222222222222,\"#7201a8\"],[0.3333333333333333,\"#9c179e\"],[0.4444444444444444,\"#bd3786\"],[0.5555555555555556,\"#d8576b\"],[0.6666666666666666,\"#ed7953\"],[0.7777777777777778,\"#fb9f3a\"],[0.8888888888888888,\"#fdca26\"],[1.0,\"#f0f921\"]],\"diverging\":[[0,\"#8e0152\"],[0.1,\"#c51b7d\"],[0.2,\"#de77ae\"],[0.3,\"#f1b6da\"],[0.4,\"#fde0ef\"],[0.5,\"#f7f7f7\"],[0.6,\"#e6f5d0\"],[0.7,\"#b8e186\"],[0.8,\"#7fbc41\"],[0.9,\"#4d9221\"],[1,\"#276419\"]]},\"xaxis\":{\"gridcolor\":\"white\",\"linecolor\":\"white\",\"ticks\":\"\",\"title\":{\"standoff\":15},\"zerolinecolor\":\"white\",\"automargin\":true,\"zerolinewidth\":2},\"yaxis\":{\"gridcolor\":\"white\",\"linecolor\":\"white\",\"ticks\":\"\",\"title\":{\"standoff\":15},\"zerolinecolor\":\"white\",\"automargin\":true,\"zerolinewidth\":2},\"scene\":{\"xaxis\":{\"backgroundcolor\":\"#E5ECF6\",\"gridcolor\":\"white\",\"linecolor\":\"white\",\"showbackground\":true,\"ticks\":\"\",\"zerolinecolor\":\"white\",\"gridwidth\":2},\"yaxis\":{\"backgroundcolor\":\"#E5ECF6\",\"gridcolor\":\"white\",\"linecolor\":\"white\",\"showbackground\":true,\"ticks\":\"\",\"zerolinecolor\":\"white\",\"gridwidth\":2},\"zaxis\":{\"backgroundcolor\":\"#E5ECF6\",\"gridcolor\":\"white\",\"linecolor\":\"white\",\"showbackground\":true,\"ticks\":\"\",\"zerolinecolor\":\"white\",\"gridwidth\":2}},\"shapedefaults\":{\"line\":{\"color\":\"#2a3f5f\"}},\"annotationdefaults\":{\"arrowcolor\":\"#2a3f5f\",\"arrowhead\":0,\"arrowwidth\":1},\"geo\":{\"bgcolor\":\"white\",\"landcolor\":\"#E5ECF6\",\"subunitcolor\":\"white\",\"showland\":true,\"showlakes\":true,\"lakecolor\":\"white\"},\"title\":{\"x\":0.05},\"mapbox\":{\"style\":\"light\"}}},\"xaxis\":{\"anchor\":\"y\",\"domain\":[0.0,1.0],\"scaleanchor\":\"y\",\"constrain\":\"domain\"},\"yaxis\":{\"anchor\":\"x\",\"domain\":[0.0,1.0],\"autorange\":\"reversed\",\"constrain\":\"domain\"},\"coloraxis\":{\"colorscale\":[[0.0,\"rgb(103,0,31)\"],[0.1,\"rgb(178,24,43)\"],[0.2,\"rgb(214,96,77)\"],[0.3,\"rgb(244,165,130)\"],[0.4,\"rgb(253,219,199)\"],[0.5,\"rgb(247,247,247)\"],[0.6,\"rgb(209,229,240)\"],[0.7,\"rgb(146,197,222)\"],[0.8,\"rgb(67,147,195)\"],[0.9,\"rgb(33,102,172)\"],[1.0,\"rgb(5,48,97)\"]]},\"margin\":{\"t\":60},\"height\":1100,\"width\":1100},                        {\"responsive\": true}                    ).then(function(){\n",
       "                            \n",
       "var gd = document.getElementById('2d7b6f8c-4be2-4451-9534-c001250cf93b');\n",
       "var x = new MutationObserver(function (mutations, observer) {{\n",
       "        var display = window.getComputedStyle(gd).display;\n",
       "        if (!display || display === 'none') {{\n",
       "            console.log([gd, 'removed!']);\n",
       "            Plotly.purge(gd);\n",
       "            observer.disconnect();\n",
       "        }}\n",
       "}});\n",
       "\n",
       "// Listen for the removal of the full notebook cells\n",
       "var notebookContainer = gd.closest('#notebook-container');\n",
       "if (notebookContainer) {{\n",
       "    x.observe(notebookContainer, {childList: true});\n",
       "}}\n",
       "\n",
       "// Listen for the clearing of the current output cell\n",
       "var outputEl = gd.closest('.output');\n",
       "if (outputEl) {{\n",
       "    x.observe(outputEl, {childList: true});\n",
       "}}\n",
       "\n",
       "                        })                };                });            </script>        </div>"
      ]
     },
     "metadata": {},
     "output_type": "display_data"
    }
   ],
   "source": [
    "# correlation with plotly\n",
    "fig = px.imshow(\n",
    "    cars_df[num_cols].corr(),\n",
    "    color_continuous_scale='RdBu',\n",
    "    width=1100, height=1100\n",
    ")\n",
    "fig.show()"
   ]
  },
  {
   "cell_type": "markdown",
   "id": "38326728-5267-48ed-b394-5be2d3698084",
   "metadata": {},
   "source": [
    "### Let's drop high correlated features"
   ]
  },
  {
   "cell_type": "code",
   "execution_count": 46,
   "id": "a4ebd73b-4363-4d6f-bd7d-f56f63cd90ed",
   "metadata": {},
   "outputs": [],
   "source": [
    "    # `release_start_series`, `end_serial` and `year` are highly correlated (> 0.92) - leave only `year`\n",
    "to_drop = ['release_start_series', 'end_serial']\n",
    "cars_df = cars_df.drop(columns=to_drop)\n",
    "drop_all_from_list(num_cols, to_drop)  # drop from list of numerical columns names"
   ]
  },
  {
   "cell_type": "code",
   "execution_count": 51,
   "id": "40684fc1-0c8a-4fbb-b7db-43260fe7d2ca",
   "metadata": {},
   "outputs": [],
   "source": [
    "    # `cylinders` and `volume` (~0.9)\n",
    "    # `engine_volume` and `volume` are highly correlated (> 0.99) - the same thing\n",
    "    # `curb_weight_kg` and `full_weight` (~0.91)\n",
    "    # `rear_track_width` and `front_track_width` (~0.95)\n",
    "to_drop = ['cylinders', 'engine_volume', 'curb_weight_kg', 'rear_track_width']\n",
    "cars_df = cars_df.drop(columns=to_drop)\n",
    "drop_all_from_list(num_cols, to_drop)  # drop from list of numerical columns names"
   ]
  },
  {
   "cell_type": "code",
   "execution_count": 56,
   "id": "d065a785-ccd8-482e-99a3-6a6135a8019f",
   "metadata": {},
   "outputs": [],
   "source": [
    "    # `weelbase` and `length` (~ 0.89)\n",
    "    # `torque` and `maximum_power` (~ 0.88)\n",
    "    # 'front_track_width' and `width`(~0.87)\n",
    "to_drop = ['wheelbase', 'torque', 'front_track_width']\n",
    "cars_df = cars_df.drop(columns=to_drop)\n",
    "drop_all_from_list(num_cols, to_drop)  # drop from list of numerical columns names"
   ]
  },
  {
   "cell_type": "code",
   "execution_count": 60,
   "id": "41564823-ce1d-458b-9d74-aab9658ff098",
   "metadata": {},
   "outputs": [],
   "source": [
    "    # `maximum_speed` and `speed_to_100` (~0.80)\n",
    "    # `volume_fuel_tank` and `full_weight` (~0.80)\n",
    "to_drop = ['maximum_speed', 'volume_fuel_tank']\n",
    "cars_df = cars_df.drop(columns=to_drop)\n",
    "drop_all_from_list(num_cols, to_drop)  # drop from list of numerical columns names"
   ]
  },
  {
   "cell_type": "code",
   "execution_count": 75,
   "id": "652ff9a5-f70d-440e-912d-c001e9ca5a7b",
   "metadata": {},
   "outputs": [
    {
     "data": {
      "text/plain": [
       "(22702, 22)"
      ]
     },
     "execution_count": 75,
     "metadata": {},
     "output_type": "execute_result"
    }
   ],
   "source": [
    "cars_df.shape"
   ]
  },
  {
   "cell_type": "code",
   "execution_count": 74,
   "id": "8337654b-1595-4fa5-aafb-f7dcb40e5c08",
   "metadata": {},
   "outputs": [
    {
     "data": {
      "application/vnd.plotly.v1+json": {
       "config": {
        "plotlyServerURL": "https://plot.ly"
       },
       "data": [
        {
         "coloraxis": "coloraxis",
         "hovertemplate": "x: %{x}<br>y: %{y}<br>color: %{z}<extra></extra>",
         "name": "0",
         "type": "heatmap",
         "x": [
          "volume",
          "mileage",
          "price",
          "year",
          "width",
          "maximum_power",
          "length",
          "transmissions",
          "speed_to_100",
          "full_weight",
          "consumption"
         ],
         "xaxis": "x",
         "y": [
          "volume",
          "mileage",
          "price",
          "year",
          "width",
          "maximum_power",
          "length",
          "transmissions",
          "speed_to_100",
          "full_weight",
          "consumption"
         ],
         "yaxis": "y",
         "z": [
          [
           1,
           0.04564441891806096,
           0.3598918683320047,
           -0.03980395137822288,
           0.6402035540621608,
           0.7996789149187731,
           0.6374171168763919,
           0.23116638272999165,
           -0.46875166793667233,
           0.6839980926776401,
           0.3712609747462132
          ],
          [
           0.04564441891806096,
           1,
           -0.3491061157330606,
           -0.4415854493899939,
           -0.11593912604787694,
           -0.14262181097657817,
           0.031223472467444665,
           -0.37076433233339023,
           0.13553849774242513,
           0.023807731947582053,
           -0.010274961813728846
          ],
          [
           0.3598918683320047,
           -0.3491061157330606,
           1,
           0.28104020434597693,
           0.4003583066707147,
           0.5534422751539784,
           0.3459245058057934,
           0.4555712160398573,
           -0.35761403839925177,
           0.3293894751882837,
           0.15374154383394947
          ],
          [
           -0.03980395137822288,
           -0.4415854493899939,
           0.28104020434597693,
           1,
           0.31934017053137764,
           0.2515982816690385,
           0.17382912780991108,
           0.5537786470841889,
           -0.31237584965357407,
           0.1385779799064516,
           0.12909071055520957
          ],
          [
           0.6402035540621608,
           -0.11593912604787694,
           0.4003583066707147,
           0.31934017053137764,
           1,
           0.6398806384463681,
           0.7565495665489026,
           0.46918005177678357,
           -0.46901264127953646,
           0.7496680813204636,
           0.25572063471586937
          ],
          [
           0.7996789149187731,
           -0.14262181097657817,
           0.5534422751539784,
           0.2515982816690385,
           0.6398806384463681,
           1,
           0.594829990579687,
           0.5227696006085596,
           -0.702452654266531,
           0.5783328420255307,
           0.3925702723757755
          ],
          [
           0.6374171168763919,
           0.031223472467444665,
           0.3459245058057934,
           0.17382912780991108,
           0.7565495665489026,
           0.594829990579687,
           1,
           0.3598731151392034,
           -0.4265809835217425,
           0.6957571303526998,
           0.25140689634905705
          ],
          [
           0.23116638272999165,
           -0.37076433233339023,
           0.4555712160398573,
           0.5537786470841889,
           0.46918005177678357,
           0.5227696006085596,
           0.3598731151392034,
           1,
           -0.5638199426585953,
           0.347822112425854,
           0.1905684759117114
          ],
          [
           -0.46875166793667233,
           0.13553849774242513,
           -0.35761403839925177,
           -0.31237584965357407,
           -0.46901264127953646,
           -0.702452654266531,
           -0.4265809835217425,
           -0.5638199426585953,
           1,
           -0.3443808659540842,
           -0.21679204252849488
          ],
          [
           0.6839980926776401,
           0.023807731947582053,
           0.3293894751882837,
           0.1385779799064516,
           0.7496680813204636,
           0.5783328420255307,
           0.6957571303526998,
           0.347822112425854,
           -0.3443808659540842,
           1,
           0.29410461566199386
          ],
          [
           0.3712609747462132,
           -0.010274961813728846,
           0.15374154383394947,
           0.12909071055520957,
           0.25572063471586937,
           0.3925702723757755,
           0.25140689634905705,
           0.1905684759117114,
           -0.21679204252849488,
           0.29410461566199386,
           1
          ]
         ]
        }
       ],
       "layout": {
        "coloraxis": {
         "colorscale": [
          [
           0,
           "rgb(103,0,31)"
          ],
          [
           0.1,
           "rgb(178,24,43)"
          ],
          [
           0.2,
           "rgb(214,96,77)"
          ],
          [
           0.3,
           "rgb(244,165,130)"
          ],
          [
           0.4,
           "rgb(253,219,199)"
          ],
          [
           0.5,
           "rgb(247,247,247)"
          ],
          [
           0.6,
           "rgb(209,229,240)"
          ],
          [
           0.7,
           "rgb(146,197,222)"
          ],
          [
           0.8,
           "rgb(67,147,195)"
          ],
          [
           0.9,
           "rgb(33,102,172)"
          ],
          [
           1,
           "rgb(5,48,97)"
          ]
         ]
        },
        "height": 700,
        "margin": {
         "t": 60
        },
        "template": {
         "data": {
          "bar": [
           {
            "error_x": {
             "color": "#2a3f5f"
            },
            "error_y": {
             "color": "#2a3f5f"
            },
            "marker": {
             "line": {
              "color": "#E5ECF6",
              "width": 0.5
             },
             "pattern": {
              "fillmode": "overlay",
              "size": 10,
              "solidity": 0.2
             }
            },
            "type": "bar"
           }
          ],
          "barpolar": [
           {
            "marker": {
             "line": {
              "color": "#E5ECF6",
              "width": 0.5
             },
             "pattern": {
              "fillmode": "overlay",
              "size": 10,
              "solidity": 0.2
             }
            },
            "type": "barpolar"
           }
          ],
          "carpet": [
           {
            "aaxis": {
             "endlinecolor": "#2a3f5f",
             "gridcolor": "white",
             "linecolor": "white",
             "minorgridcolor": "white",
             "startlinecolor": "#2a3f5f"
            },
            "baxis": {
             "endlinecolor": "#2a3f5f",
             "gridcolor": "white",
             "linecolor": "white",
             "minorgridcolor": "white",
             "startlinecolor": "#2a3f5f"
            },
            "type": "carpet"
           }
          ],
          "choropleth": [
           {
            "colorbar": {
             "outlinewidth": 0,
             "ticks": ""
            },
            "type": "choropleth"
           }
          ],
          "contour": [
           {
            "colorbar": {
             "outlinewidth": 0,
             "ticks": ""
            },
            "colorscale": [
             [
              0,
              "#0d0887"
             ],
             [
              0.1111111111111111,
              "#46039f"
             ],
             [
              0.2222222222222222,
              "#7201a8"
             ],
             [
              0.3333333333333333,
              "#9c179e"
             ],
             [
              0.4444444444444444,
              "#bd3786"
             ],
             [
              0.5555555555555556,
              "#d8576b"
             ],
             [
              0.6666666666666666,
              "#ed7953"
             ],
             [
              0.7777777777777778,
              "#fb9f3a"
             ],
             [
              0.8888888888888888,
              "#fdca26"
             ],
             [
              1,
              "#f0f921"
             ]
            ],
            "type": "contour"
           }
          ],
          "contourcarpet": [
           {
            "colorbar": {
             "outlinewidth": 0,
             "ticks": ""
            },
            "type": "contourcarpet"
           }
          ],
          "heatmap": [
           {
            "colorbar": {
             "outlinewidth": 0,
             "ticks": ""
            },
            "colorscale": [
             [
              0,
              "#0d0887"
             ],
             [
              0.1111111111111111,
              "#46039f"
             ],
             [
              0.2222222222222222,
              "#7201a8"
             ],
             [
              0.3333333333333333,
              "#9c179e"
             ],
             [
              0.4444444444444444,
              "#bd3786"
             ],
             [
              0.5555555555555556,
              "#d8576b"
             ],
             [
              0.6666666666666666,
              "#ed7953"
             ],
             [
              0.7777777777777778,
              "#fb9f3a"
             ],
             [
              0.8888888888888888,
              "#fdca26"
             ],
             [
              1,
              "#f0f921"
             ]
            ],
            "type": "heatmap"
           }
          ],
          "heatmapgl": [
           {
            "colorbar": {
             "outlinewidth": 0,
             "ticks": ""
            },
            "colorscale": [
             [
              0,
              "#0d0887"
             ],
             [
              0.1111111111111111,
              "#46039f"
             ],
             [
              0.2222222222222222,
              "#7201a8"
             ],
             [
              0.3333333333333333,
              "#9c179e"
             ],
             [
              0.4444444444444444,
              "#bd3786"
             ],
             [
              0.5555555555555556,
              "#d8576b"
             ],
             [
              0.6666666666666666,
              "#ed7953"
             ],
             [
              0.7777777777777778,
              "#fb9f3a"
             ],
             [
              0.8888888888888888,
              "#fdca26"
             ],
             [
              1,
              "#f0f921"
             ]
            ],
            "type": "heatmapgl"
           }
          ],
          "histogram": [
           {
            "marker": {
             "pattern": {
              "fillmode": "overlay",
              "size": 10,
              "solidity": 0.2
             }
            },
            "type": "histogram"
           }
          ],
          "histogram2d": [
           {
            "colorbar": {
             "outlinewidth": 0,
             "ticks": ""
            },
            "colorscale": [
             [
              0,
              "#0d0887"
             ],
             [
              0.1111111111111111,
              "#46039f"
             ],
             [
              0.2222222222222222,
              "#7201a8"
             ],
             [
              0.3333333333333333,
              "#9c179e"
             ],
             [
              0.4444444444444444,
              "#bd3786"
             ],
             [
              0.5555555555555556,
              "#d8576b"
             ],
             [
              0.6666666666666666,
              "#ed7953"
             ],
             [
              0.7777777777777778,
              "#fb9f3a"
             ],
             [
              0.8888888888888888,
              "#fdca26"
             ],
             [
              1,
              "#f0f921"
             ]
            ],
            "type": "histogram2d"
           }
          ],
          "histogram2dcontour": [
           {
            "colorbar": {
             "outlinewidth": 0,
             "ticks": ""
            },
            "colorscale": [
             [
              0,
              "#0d0887"
             ],
             [
              0.1111111111111111,
              "#46039f"
             ],
             [
              0.2222222222222222,
              "#7201a8"
             ],
             [
              0.3333333333333333,
              "#9c179e"
             ],
             [
              0.4444444444444444,
              "#bd3786"
             ],
             [
              0.5555555555555556,
              "#d8576b"
             ],
             [
              0.6666666666666666,
              "#ed7953"
             ],
             [
              0.7777777777777778,
              "#fb9f3a"
             ],
             [
              0.8888888888888888,
              "#fdca26"
             ],
             [
              1,
              "#f0f921"
             ]
            ],
            "type": "histogram2dcontour"
           }
          ],
          "mesh3d": [
           {
            "colorbar": {
             "outlinewidth": 0,
             "ticks": ""
            },
            "type": "mesh3d"
           }
          ],
          "parcoords": [
           {
            "line": {
             "colorbar": {
              "outlinewidth": 0,
              "ticks": ""
             }
            },
            "type": "parcoords"
           }
          ],
          "pie": [
           {
            "automargin": true,
            "type": "pie"
           }
          ],
          "scatter": [
           {
            "fillpattern": {
             "fillmode": "overlay",
             "size": 10,
             "solidity": 0.2
            },
            "type": "scatter"
           }
          ],
          "scatter3d": [
           {
            "line": {
             "colorbar": {
              "outlinewidth": 0,
              "ticks": ""
             }
            },
            "marker": {
             "colorbar": {
              "outlinewidth": 0,
              "ticks": ""
             }
            },
            "type": "scatter3d"
           }
          ],
          "scattercarpet": [
           {
            "marker": {
             "colorbar": {
              "outlinewidth": 0,
              "ticks": ""
             }
            },
            "type": "scattercarpet"
           }
          ],
          "scattergeo": [
           {
            "marker": {
             "colorbar": {
              "outlinewidth": 0,
              "ticks": ""
             }
            },
            "type": "scattergeo"
           }
          ],
          "scattergl": [
           {
            "marker": {
             "colorbar": {
              "outlinewidth": 0,
              "ticks": ""
             }
            },
            "type": "scattergl"
           }
          ],
          "scattermapbox": [
           {
            "marker": {
             "colorbar": {
              "outlinewidth": 0,
              "ticks": ""
             }
            },
            "type": "scattermapbox"
           }
          ],
          "scatterpolar": [
           {
            "marker": {
             "colorbar": {
              "outlinewidth": 0,
              "ticks": ""
             }
            },
            "type": "scatterpolar"
           }
          ],
          "scatterpolargl": [
           {
            "marker": {
             "colorbar": {
              "outlinewidth": 0,
              "ticks": ""
             }
            },
            "type": "scatterpolargl"
           }
          ],
          "scatterternary": [
           {
            "marker": {
             "colorbar": {
              "outlinewidth": 0,
              "ticks": ""
             }
            },
            "type": "scatterternary"
           }
          ],
          "surface": [
           {
            "colorbar": {
             "outlinewidth": 0,
             "ticks": ""
            },
            "colorscale": [
             [
              0,
              "#0d0887"
             ],
             [
              0.1111111111111111,
              "#46039f"
             ],
             [
              0.2222222222222222,
              "#7201a8"
             ],
             [
              0.3333333333333333,
              "#9c179e"
             ],
             [
              0.4444444444444444,
              "#bd3786"
             ],
             [
              0.5555555555555556,
              "#d8576b"
             ],
             [
              0.6666666666666666,
              "#ed7953"
             ],
             [
              0.7777777777777778,
              "#fb9f3a"
             ],
             [
              0.8888888888888888,
              "#fdca26"
             ],
             [
              1,
              "#f0f921"
             ]
            ],
            "type": "surface"
           }
          ],
          "table": [
           {
            "cells": {
             "fill": {
              "color": "#EBF0F8"
             },
             "line": {
              "color": "white"
             }
            },
            "header": {
             "fill": {
              "color": "#C8D4E3"
             },
             "line": {
              "color": "white"
             }
            },
            "type": "table"
           }
          ]
         },
         "layout": {
          "annotationdefaults": {
           "arrowcolor": "#2a3f5f",
           "arrowhead": 0,
           "arrowwidth": 1
          },
          "autotypenumbers": "strict",
          "coloraxis": {
           "colorbar": {
            "outlinewidth": 0,
            "ticks": ""
           }
          },
          "colorscale": {
           "diverging": [
            [
             0,
             "#8e0152"
            ],
            [
             0.1,
             "#c51b7d"
            ],
            [
             0.2,
             "#de77ae"
            ],
            [
             0.3,
             "#f1b6da"
            ],
            [
             0.4,
             "#fde0ef"
            ],
            [
             0.5,
             "#f7f7f7"
            ],
            [
             0.6,
             "#e6f5d0"
            ],
            [
             0.7,
             "#b8e186"
            ],
            [
             0.8,
             "#7fbc41"
            ],
            [
             0.9,
             "#4d9221"
            ],
            [
             1,
             "#276419"
            ]
           ],
           "sequential": [
            [
             0,
             "#0d0887"
            ],
            [
             0.1111111111111111,
             "#46039f"
            ],
            [
             0.2222222222222222,
             "#7201a8"
            ],
            [
             0.3333333333333333,
             "#9c179e"
            ],
            [
             0.4444444444444444,
             "#bd3786"
            ],
            [
             0.5555555555555556,
             "#d8576b"
            ],
            [
             0.6666666666666666,
             "#ed7953"
            ],
            [
             0.7777777777777778,
             "#fb9f3a"
            ],
            [
             0.8888888888888888,
             "#fdca26"
            ],
            [
             1,
             "#f0f921"
            ]
           ],
           "sequentialminus": [
            [
             0,
             "#0d0887"
            ],
            [
             0.1111111111111111,
             "#46039f"
            ],
            [
             0.2222222222222222,
             "#7201a8"
            ],
            [
             0.3333333333333333,
             "#9c179e"
            ],
            [
             0.4444444444444444,
             "#bd3786"
            ],
            [
             0.5555555555555556,
             "#d8576b"
            ],
            [
             0.6666666666666666,
             "#ed7953"
            ],
            [
             0.7777777777777778,
             "#fb9f3a"
            ],
            [
             0.8888888888888888,
             "#fdca26"
            ],
            [
             1,
             "#f0f921"
            ]
           ]
          },
          "colorway": [
           "#636efa",
           "#EF553B",
           "#00cc96",
           "#ab63fa",
           "#FFA15A",
           "#19d3f3",
           "#FF6692",
           "#B6E880",
           "#FF97FF",
           "#FECB52"
          ],
          "font": {
           "color": "#2a3f5f"
          },
          "geo": {
           "bgcolor": "white",
           "lakecolor": "white",
           "landcolor": "#E5ECF6",
           "showlakes": true,
           "showland": true,
           "subunitcolor": "white"
          },
          "hoverlabel": {
           "align": "left"
          },
          "hovermode": "closest",
          "mapbox": {
           "style": "light"
          },
          "paper_bgcolor": "white",
          "plot_bgcolor": "#E5ECF6",
          "polar": {
           "angularaxis": {
            "gridcolor": "white",
            "linecolor": "white",
            "ticks": ""
           },
           "bgcolor": "#E5ECF6",
           "radialaxis": {
            "gridcolor": "white",
            "linecolor": "white",
            "ticks": ""
           }
          },
          "scene": {
           "xaxis": {
            "backgroundcolor": "#E5ECF6",
            "gridcolor": "white",
            "gridwidth": 2,
            "linecolor": "white",
            "showbackground": true,
            "ticks": "",
            "zerolinecolor": "white"
           },
           "yaxis": {
            "backgroundcolor": "#E5ECF6",
            "gridcolor": "white",
            "gridwidth": 2,
            "linecolor": "white",
            "showbackground": true,
            "ticks": "",
            "zerolinecolor": "white"
           },
           "zaxis": {
            "backgroundcolor": "#E5ECF6",
            "gridcolor": "white",
            "gridwidth": 2,
            "linecolor": "white",
            "showbackground": true,
            "ticks": "",
            "zerolinecolor": "white"
           }
          },
          "shapedefaults": {
           "line": {
            "color": "#2a3f5f"
           }
          },
          "ternary": {
           "aaxis": {
            "gridcolor": "white",
            "linecolor": "white",
            "ticks": ""
           },
           "baxis": {
            "gridcolor": "white",
            "linecolor": "white",
            "ticks": ""
           },
           "bgcolor": "#E5ECF6",
           "caxis": {
            "gridcolor": "white",
            "linecolor": "white",
            "ticks": ""
           }
          },
          "title": {
           "x": 0.05
          },
          "xaxis": {
           "automargin": true,
           "gridcolor": "white",
           "linecolor": "white",
           "ticks": "",
           "title": {
            "standoff": 15
           },
           "zerolinecolor": "white",
           "zerolinewidth": 2
          },
          "yaxis": {
           "automargin": true,
           "gridcolor": "white",
           "linecolor": "white",
           "ticks": "",
           "title": {
            "standoff": 15
           },
           "zerolinecolor": "white",
           "zerolinewidth": 2
          }
         }
        },
        "width": 700,
        "xaxis": {
         "anchor": "y",
         "autorange": true,
         "constrain": "domain",
         "domain": [
          0,
          1
         ],
         "range": [
          -0.5,
          10.5
         ],
         "scaleanchor": "y",
         "type": "category"
        },
        "yaxis": {
         "anchor": "x",
         "autorange": true,
         "constrain": "domain",
         "domain": [
          0.07053571428571431,
          0.9294642857142856
         ],
         "range": [
          10.5,
          -0.5
         ],
         "type": "category"
        }
       }
      },
      "image/png": "[encoded data removed]",
      "text/html": [
       "<div>                            <div id=\"2b147fa8-0549-474b-927e-36998b1eaa13\" class=\"plotly-graph-div\" style=\"height:700px; width:700px;\"></div>            <script type=\"text/javascript\">                require([\"plotly\"], function(Plotly) {                    window.PLOTLYENV=window.PLOTLYENV || {};                                    if (document.getElementById(\"2b147fa8-0549-474b-927e-36998b1eaa13\")) {                    Plotly.newPlot(                        \"2b147fa8-0549-474b-927e-36998b1eaa13\",                        [{\"coloraxis\":\"coloraxis\",\"name\":\"0\",\"x\":[\"volume\",\"mileage\",\"price\",\"year\",\"width\",\"maximum_power\",\"length\",\"transmissions\",\"speed_to_100\",\"full_weight\",\"consumption\"],\"y\":[\"volume\",\"mileage\",\"price\",\"year\",\"width\",\"maximum_power\",\"length\",\"transmissions\",\"speed_to_100\",\"full_weight\",\"consumption\"],\"z\":[[1.0,0.04564441891806096,0.3598918683320047,-0.03980395137822288,0.6402035540621608,0.7996789149187731,0.6374171168763919,0.23116638272999165,-0.46875166793667233,0.6839980926776401,0.3712609747462132],[0.04564441891806096,1.0,-0.3491061157330606,-0.4415854493899939,-0.11593912604787694,-0.14262181097657817,0.031223472467444665,-0.37076433233339023,0.13553849774242513,0.023807731947582053,-0.010274961813728846],[0.3598918683320047,-0.3491061157330606,1.0,0.28104020434597693,0.4003583066707147,0.5534422751539784,0.3459245058057934,0.4555712160398573,-0.35761403839925177,0.3293894751882837,0.15374154383394947],[-0.03980395137822288,-0.4415854493899939,0.28104020434597693,1.0,0.31934017053137764,0.2515982816690385,0.17382912780991108,0.5537786470841889,-0.31237584965357407,0.1385779799064516,0.12909071055520957],[0.6402035540621608,-0.11593912604787694,0.4003583066707147,0.31934017053137764,1.0,0.6398806384463681,0.7565495665489026,0.46918005177678357,-0.46901264127953646,0.7496680813204636,0.25572063471586937],[0.7996789149187731,-0.14262181097657817,0.5534422751539784,0.2515982816690385,0.6398806384463681,1.0,0.594829990579687,0.5227696006085596,-0.702452654266531,0.5783328420255307,0.3925702723757755],[0.6374171168763919,0.031223472467444665,0.3459245058057934,0.17382912780991108,0.7565495665489026,0.594829990579687,1.0,0.3598731151392034,-0.4265809835217425,0.6957571303526998,0.25140689634905705],[0.23116638272999165,-0.37076433233339023,0.4555712160398573,0.5537786470841889,0.46918005177678357,0.5227696006085596,0.3598731151392034,1.0,-0.5638199426585953,0.347822112425854,0.1905684759117114],[-0.46875166793667233,0.13553849774242513,-0.35761403839925177,-0.31237584965357407,-0.46901264127953646,-0.702452654266531,-0.4265809835217425,-0.5638199426585953,1.0,-0.3443808659540842,-0.21679204252849488],[0.6839980926776401,0.023807731947582053,0.3293894751882837,0.1385779799064516,0.7496680813204636,0.5783328420255307,0.6957571303526998,0.347822112425854,-0.3443808659540842,1.0,0.29410461566199386],[0.3712609747462132,-0.010274961813728846,0.15374154383394947,0.12909071055520957,0.25572063471586937,0.3925702723757755,0.25140689634905705,0.1905684759117114,-0.21679204252849488,0.29410461566199386,1.0]],\"type\":\"heatmap\",\"xaxis\":\"x\",\"yaxis\":\"y\",\"hovertemplate\":\"x: %{x}\\u003cbr\\u003ey: %{y}\\u003cbr\\u003ecolor: %{z}\\u003cextra\\u003e\\u003c\\u002fextra\\u003e\"}],                        {\"template\":{\"data\":{\"histogram2dcontour\":[{\"type\":\"histogram2dcontour\",\"colorbar\":{\"outlinewidth\":0,\"ticks\":\"\"},\"colorscale\":[[0.0,\"#0d0887\"],[0.1111111111111111,\"#46039f\"],[0.2222222222222222,\"#7201a8\"],[0.3333333333333333,\"#9c179e\"],[0.4444444444444444,\"#bd3786\"],[0.5555555555555556,\"#d8576b\"],[0.6666666666666666,\"#ed7953\"],[0.7777777777777778,\"#fb9f3a\"],[0.8888888888888888,\"#fdca26\"],[1.0,\"#f0f921\"]]}],\"choropleth\":[{\"type\":\"choropleth\",\"colorbar\":{\"outlinewidth\":0,\"ticks\":\"\"}}],\"histogram2d\":[{\"type\":\"histogram2d\",\"colorbar\":{\"outlinewidth\":0,\"ticks\":\"\"},\"colorscale\":[[0.0,\"#0d0887\"],[0.1111111111111111,\"#46039f\"],[0.2222222222222222,\"#7201a8\"],[0.3333333333333333,\"#9c179e\"],[0.4444444444444444,\"#bd3786\"],[0.5555555555555556,\"#d8576b\"],[0.6666666666666666,\"#ed7953\"],[0.7777777777777778,\"#fb9f3a\"],[0.8888888888888888,\"#fdca26\"],[1.0,\"#f0f921\"]]}],\"heatmap\":[{\"type\":\"heatmap\",\"colorbar\":{\"outlinewidth\":0,\"ticks\":\"\"},\"colorscale\":[[0.0,\"#0d0887\"],[0.1111111111111111,\"#46039f\"],[0.2222222222222222,\"#7201a8\"],[0.3333333333333333,\"#9c179e\"],[0.4444444444444444,\"#bd3786\"],[0.5555555555555556,\"#d8576b\"],[0.6666666666666666,\"#ed7953\"],[0.7777777777777778,\"#fb9f3a\"],[0.8888888888888888,\"#fdca26\"],[1.0,\"#f0f921\"]]}],\"heatmapgl\":[{\"type\":\"heatmapgl\",\"colorbar\":{\"outlinewidth\":0,\"ticks\":\"\"},\"colorscale\":[[0.0,\"#0d0887\"],[0.1111111111111111,\"#46039f\"],[0.2222222222222222,\"#7201a8\"],[0.3333333333333333,\"#9c179e\"],[0.4444444444444444,\"#bd3786\"],[0.5555555555555556,\"#d8576b\"],[0.6666666666666666,\"#ed7953\"],[0.7777777777777778,\"#fb9f3a\"],[0.8888888888888888,\"#fdca26\"],[1.0,\"#f0f921\"]]}],\"contourcarpet\":[{\"type\":\"contourcarpet\",\"colorbar\":{\"outlinewidth\":0,\"ticks\":\"\"}}],\"contour\":[{\"type\":\"contour\",\"colorbar\":{\"outlinewidth\":0,\"ticks\":\"\"},\"colorscale\":[[0.0,\"#0d0887\"],[0.1111111111111111,\"#46039f\"],[0.2222222222222222,\"#7201a8\"],[0.3333333333333333,\"#9c179e\"],[0.4444444444444444,\"#bd3786\"],[0.5555555555555556,\"#d8576b\"],[0.6666666666666666,\"#ed7953\"],[0.7777777777777778,\"#fb9f3a\"],[0.8888888888888888,\"#fdca26\"],[1.0,\"#f0f921\"]]}],\"surface\":[{\"type\":\"surface\",\"colorbar\":{\"outlinewidth\":0,\"ticks\":\"\"},\"colorscale\":[[0.0,\"#0d0887\"],[0.1111111111111111,\"#46039f\"],[0.2222222222222222,\"#7201a8\"],[0.3333333333333333,\"#9c179e\"],[0.4444444444444444,\"#bd3786\"],[0.5555555555555556,\"#d8576b\"],[0.6666666666666666,\"#ed7953\"],[0.7777777777777778,\"#fb9f3a\"],[0.8888888888888888,\"#fdca26\"],[1.0,\"#f0f921\"]]}],\"mesh3d\":[{\"type\":\"mesh3d\",\"colorbar\":{\"outlinewidth\":0,\"ticks\":\"\"}}],\"scatter\":[{\"fillpattern\":{\"fillmode\":\"overlay\",\"size\":10,\"solidity\":0.2},\"type\":\"scatter\"}],\"parcoords\":[{\"type\":\"parcoords\",\"line\":{\"colorbar\":{\"outlinewidth\":0,\"ticks\":\"\"}}}],\"scatterpolargl\":[{\"type\":\"scatterpolargl\",\"marker\":{\"colorbar\":{\"outlinewidth\":0,\"ticks\":\"\"}}}],\"bar\":[{\"error_x\":{\"color\":\"#2a3f5f\"},\"error_y\":{\"color\":\"#2a3f5f\"},\"marker\":{\"line\":{\"color\":\"#E5ECF6\",\"width\":0.5},\"pattern\":{\"fillmode\":\"overlay\",\"size\":10,\"solidity\":0.2}},\"type\":\"bar\"}],\"scattergeo\":[{\"type\":\"scattergeo\",\"marker\":{\"colorbar\":{\"outlinewidth\":0,\"ticks\":\"\"}}}],\"scatterpolar\":[{\"type\":\"scatterpolar\",\"marker\":{\"colorbar\":{\"outlinewidth\":0,\"ticks\":\"\"}}}],\"histogram\":[{\"marker\":{\"pattern\":{\"fillmode\":\"overlay\",\"size\":10,\"solidity\":0.2}},\"type\":\"histogram\"}],\"scattergl\":[{\"type\":\"scattergl\",\"marker\":{\"colorbar\":{\"outlinewidth\":0,\"ticks\":\"\"}}}],\"scatter3d\":[{\"type\":\"scatter3d\",\"line\":{\"colorbar\":{\"outlinewidth\":0,\"ticks\":\"\"}},\"marker\":{\"colorbar\":{\"outlinewidth\":0,\"ticks\":\"\"}}}],\"scattermapbox\":[{\"type\":\"scattermapbox\",\"marker\":{\"colorbar\":{\"outlinewidth\":0,\"ticks\":\"\"}}}],\"scatterternary\":[{\"type\":\"scatterternary\",\"marker\":{\"colorbar\":{\"outlinewidth\":0,\"ticks\":\"\"}}}],\"scattercarpet\":[{\"type\":\"scattercarpet\",\"marker\":{\"colorbar\":{\"outlinewidth\":0,\"ticks\":\"\"}}}],\"carpet\":[{\"aaxis\":{\"endlinecolor\":\"#2a3f5f\",\"gridcolor\":\"white\",\"linecolor\":\"white\",\"minorgridcolor\":\"white\",\"startlinecolor\":\"#2a3f5f\"},\"baxis\":{\"endlinecolor\":\"#2a3f5f\",\"gridcolor\":\"white\",\"linecolor\":\"white\",\"minorgridcolor\":\"white\",\"startlinecolor\":\"#2a3f5f\"},\"type\":\"carpet\"}],\"table\":[{\"cells\":{\"fill\":{\"color\":\"#EBF0F8\"},\"line\":{\"color\":\"white\"}},\"header\":{\"fill\":{\"color\":\"#C8D4E3\"},\"line\":{\"color\":\"white\"}},\"type\":\"table\"}],\"barpolar\":[{\"marker\":{\"line\":{\"color\":\"#E5ECF6\",\"width\":0.5},\"pattern\":{\"fillmode\":\"overlay\",\"size\":10,\"solidity\":0.2}},\"type\":\"barpolar\"}],\"pie\":[{\"automargin\":true,\"type\":\"pie\"}]},\"layout\":{\"autotypenumbers\":\"strict\",\"colorway\":[\"#636efa\",\"#EF553B\",\"#00cc96\",\"#ab63fa\",\"#FFA15A\",\"#19d3f3\",\"#FF6692\",\"#B6E880\",\"#FF97FF\",\"#FECB52\"],\"font\":{\"color\":\"#2a3f5f\"},\"hovermode\":\"closest\",\"hoverlabel\":{\"align\":\"left\"},\"paper_bgcolor\":\"white\",\"plot_bgcolor\":\"#E5ECF6\",\"polar\":{\"bgcolor\":\"#E5ECF6\",\"angularaxis\":{\"gridcolor\":\"white\",\"linecolor\":\"white\",\"ticks\":\"\"},\"radialaxis\":{\"gridcolor\":\"white\",\"linecolor\":\"white\",\"ticks\":\"\"}},\"ternary\":{\"bgcolor\":\"#E5ECF6\",\"aaxis\":{\"gridcolor\":\"white\",\"linecolor\":\"white\",\"ticks\":\"\"},\"baxis\":{\"gridcolor\":\"white\",\"linecolor\":\"white\",\"ticks\":\"\"},\"caxis\":{\"gridcolor\":\"white\",\"linecolor\":\"white\",\"ticks\":\"\"}},\"coloraxis\":{\"colorbar\":{\"outlinewidth\":0,\"ticks\":\"\"}},\"colorscale\":{\"sequential\":[[0.0,\"#0d0887\"],[0.1111111111111111,\"#46039f\"],[0.2222222222222222,\"#7201a8\"],[0.3333333333333333,\"#9c179e\"],[0.4444444444444444,\"#bd3786\"],[0.5555555555555556,\"#d8576b\"],[0.6666666666666666,\"#ed7953\"],[0.7777777777777778,\"#fb9f3a\"],[0.8888888888888888,\"#fdca26\"],[1.0,\"#f0f921\"]],\"sequentialminus\":[[0.0,\"#0d0887\"],[0.1111111111111111,\"#46039f\"],[0.2222222222222222,\"#7201a8\"],[0.3333333333333333,\"#9c179e\"],[0.4444444444444444,\"#bd3786\"],[0.5555555555555556,\"#d8576b\"],[0.6666666666666666,\"#ed7953\"],[0.7777777777777778,\"#fb9f3a\"],[0.8888888888888888,\"#fdca26\"],[1.0,\"#f0f921\"]],\"diverging\":[[0,\"#8e0152\"],[0.1,\"#c51b7d\"],[0.2,\"#de77ae\"],[0.3,\"#f1b6da\"],[0.4,\"#fde0ef\"],[0.5,\"#f7f7f7\"],[0.6,\"#e6f5d0\"],[0.7,\"#b8e186\"],[0.8,\"#7fbc41\"],[0.9,\"#4d9221\"],[1,\"#276419\"]]},\"xaxis\":{\"gridcolor\":\"white\",\"linecolor\":\"white\",\"ticks\":\"\",\"title\":{\"standoff\":15},\"zerolinecolor\":\"white\",\"automargin\":true,\"zerolinewidth\":2},\"yaxis\":{\"gridcolor\":\"white\",\"linecolor\":\"white\",\"ticks\":\"\",\"title\":{\"standoff\":15},\"zerolinecolor\":\"white\",\"automargin\":true,\"zerolinewidth\":2},\"scene\":{\"xaxis\":{\"backgroundcolor\":\"#E5ECF6\",\"gridcolor\":\"white\",\"linecolor\":\"white\",\"showbackground\":true,\"ticks\":\"\",\"zerolinecolor\":\"white\",\"gridwidth\":2},\"yaxis\":{\"backgroundcolor\":\"#E5ECF6\",\"gridcolor\":\"white\",\"linecolor\":\"white\",\"showbackground\":true,\"ticks\":\"\",\"zerolinecolor\":\"white\",\"gridwidth\":2},\"zaxis\":{\"backgroundcolor\":\"#E5ECF6\",\"gridcolor\":\"white\",\"linecolor\":\"white\",\"showbackground\":true,\"ticks\":\"\",\"zerolinecolor\":\"white\",\"gridwidth\":2}},\"shapedefaults\":{\"line\":{\"color\":\"#2a3f5f\"}},\"annotationdefaults\":{\"arrowcolor\":\"#2a3f5f\",\"arrowhead\":0,\"arrowwidth\":1},\"geo\":{\"bgcolor\":\"white\",\"landcolor\":\"#E5ECF6\",\"subunitcolor\":\"white\",\"showland\":true,\"showlakes\":true,\"lakecolor\":\"white\"},\"title\":{\"x\":0.05},\"mapbox\":{\"style\":\"light\"}}},\"xaxis\":{\"anchor\":\"y\",\"domain\":[0.0,1.0],\"scaleanchor\":\"y\",\"constrain\":\"domain\"},\"yaxis\":{\"anchor\":\"x\",\"domain\":[0.0,1.0],\"autorange\":\"reversed\",\"constrain\":\"domain\"},\"coloraxis\":{\"colorscale\":[[0.0,\"rgb(103,0,31)\"],[0.1,\"rgb(178,24,43)\"],[0.2,\"rgb(214,96,77)\"],[0.3,\"rgb(244,165,130)\"],[0.4,\"rgb(253,219,199)\"],[0.5,\"rgb(247,247,247)\"],[0.6,\"rgb(209,229,240)\"],[0.7,\"rgb(146,197,222)\"],[0.8,\"rgb(67,147,195)\"],[0.9,\"rgb(33,102,172)\"],[1.0,\"rgb(5,48,97)\"]]},\"margin\":{\"t\":60},\"height\":700,\"width\":700},                        {\"responsive\": true}                    ).then(function(){\n",
       "                            \n",
       "var gd = document.getElementById('2b147fa8-0549-474b-927e-36998b1eaa13');\n",
       "var x = new MutationObserver(function (mutations, observer) {{\n",
       "        var display = window.getComputedStyle(gd).display;\n",
       "        if (!display || display === 'none') {{\n",
       "            console.log([gd, 'removed!']);\n",
       "            Plotly.purge(gd);\n",
       "            observer.disconnect();\n",
       "        }}\n",
       "}});\n",
       "\n",
       "// Listen for the removal of the full notebook cells\n",
       "var notebookContainer = gd.closest('#notebook-container');\n",
       "if (notebookContainer) {{\n",
       "    x.observe(notebookContainer, {childList: true});\n",
       "}}\n",
       "\n",
       "// Listen for the clearing of the current output cell\n",
       "var outputEl = gd.closest('.output');\n",
       "if (outputEl) {{\n",
       "    x.observe(outputEl, {childList: true});\n",
       "}}\n",
       "\n",
       "                        })                };                });            </script>        </div>"
      ]
     },
     "metadata": {},
     "output_type": "display_data"
    }
   ],
   "source": [
    "# correlation with plotly\n",
    "fig = px.imshow(\n",
    "    cars_df[num_cols].corr(),\n",
    "    color_continuous_scale='RdBu',\n",
    "    width=700, height=700\n",
    ")\n",
    "fig.show()\n",
    "fig.write_html('eda_html/num_cols_corr.html')"
   ]
  },
  {
   "cell_type": "code",
   "execution_count": 77,
   "id": "fc26097e-0c68-4579-8787-d252570f827c",
   "metadata": {},
   "outputs": [
    {
     "data": {
      "image/png": "[encoded data removed]",
      "text/plain": [
       "<Figure size 1500x700 with 12 Axes>"
      ]
     },
     "metadata": {
      "image/png": {
       "height": 586,
       "width": 1205
      }
     },
     "output_type": "display_data"
    }
   ],
   "source": [
    "cars_df.hist(figsize=(15, 7), layout=(2, 6));  # numerical features histograms"
   ]
  },
  {
   "cell_type": "markdown",
   "id": "ab11f9ec-7763-4720-92bb-7f86044afb4a",
   "metadata": {},
   "source": [
    "### Target"
   ]
  },
  {
   "cell_type": "code",
   "execution_count": 98,
   "id": "6635b7fd-5c69-40ce-ac97-407930a4fa79",
   "metadata": {},
   "outputs": [
    {
     "name": "stdout",
     "output_type": "stream",
     "text": [
      "Number of cars: 22702\n",
      "Number of cars cheaper than 7.000m: 22108\n"
     ]
    }
   ],
   "source": [
    "print(f'Number of cars: {len(cars_df)}')\n",
    "price_th = 7 * 1e6\n",
    "print(f\"Number of cars cheaper than {price_th / 1e6:.3f}m: {len(cars_df[cars_df['price'] < price_th])}\")"
   ]
  },
  {
   "cell_type": "code",
   "execution_count": 99,
   "id": "262f8bfc-2115-4588-8c11-81940e52207b",
   "metadata": {},
   "outputs": [
    {
     "data": {
      "image/png": "[encoded data removed]",
      "text/plain": [
       "<Figure size 500x500 with 1 Axes>"
      ]
     },
     "metadata": {
      "image/png": {
       "height": 430,
       "width": 447
      }
     },
     "output_type": "display_data"
    }
   ],
   "source": [
    "fig, axes = plt.subplots(figsize=(5, 5))\n",
    "sns.histplot(cars_df['price'][cars_df['price'] < price_th], bins=100, color='r', ax=axes);"
   ]
  },
  {
   "cell_type": "code",
   "execution_count": 100,
   "id": "7ddbc956-56eb-4fa7-a166-9ef56aff8d4a",
   "metadata": {},
   "outputs": [
    {
     "data": {
      "text/plain": [
       "680000.0"
      ]
     },
     "execution_count": 100,
     "metadata": {},
     "output_type": "execute_result"
    }
   ],
   "source": [
    "cars_df['price'].median()  # median value of the price"
   ]
  },
  {
   "cell_type": "code",
   "execution_count": 101,
   "id": "c6628504-15e6-4ee9-a2fe-ff8e39947668",
   "metadata": {},
   "outputs": [
    {
     "data": {
      "text/plain": [
       "1353936.4108448594"
      ]
     },
     "execution_count": 101,
     "metadata": {},
     "output_type": "execute_result"
    }
   ],
   "source": [
    "cars_df['price'].mean()  # 2 times larger than median"
   ]
  },
  {
   "cell_type": "code",
   "execution_count": null,
   "id": "6c946d01-fdf1-4a6b-a196-761af00e790c",
   "metadata": {},
   "outputs": [],
   "source": []
  }
 ],
 "metadata": {
  "kernelspec": {
   "display_name": "Python 3 (ipykernel)",
   "language": "python",
   "name": "python3"
  },
  "language_info": {
   "codemirror_mode": {
    "name": "ipython",
    "version": 3
   },
   "file_extension": ".py",
   "mimetype": "text/x-python",
   "name": "python",
   "nbconvert_exporter": "python",
   "pygments_lexer": "ipython3",
   "version": "3.8.10"
  }
 },
 "nbformat": 4,
 "nbformat_minor": 5
}
