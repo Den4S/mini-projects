{
 "cells": [
  {
   "cell_type": "code",
   "execution_count": 1,
   "id": "7fde6969",
   "metadata": {},
   "outputs": [],
   "source": [
    "import numpy as np\n",
    "import pandas as pd"
   ]
  },
  {
   "cell_type": "code",
   "execution_count": 2,
   "id": "baf83d2c",
   "metadata": {},
   "outputs": [],
   "source": [
    "from pandas.api.types import is_object_dtype"
   ]
  },
  {
   "cell_type": "code",
   "execution_count": 3,
   "id": "62588660",
   "metadata": {},
   "outputs": [],
   "source": [
    "from sklearn.pipeline import Pipeline\n",
    "from sklearn.compose import ColumnTransformer\n",
    "\n",
    "from sklearn.impute import SimpleImputer\n",
    "from sklearn.preprocessing import OneHotEncoder, StandardScaler\n",
    "\n",
    "import category_encoders as ce"
   ]
  },
  {
   "cell_type": "code",
   "execution_count": 4,
   "id": "d0f79e50",
   "metadata": {},
   "outputs": [],
   "source": [
    "from sklearn.model_selection import train_test_split\n",
    "from sklearn.ensemble import RandomForestRegressor"
   ]
  },
  {
   "cell_type": "code",
   "execution_count": 24,
   "id": "10a84003",
   "metadata": {},
   "outputs": [],
   "source": [
    "import optuna"
   ]
  },
  {
   "cell_type": "code",
   "execution_count": 77,
   "id": "31ef3173",
   "metadata": {},
   "outputs": [],
   "source": [
    "from optuna.visualization import plot_optimization_history"
   ]
  },
  {
   "cell_type": "code",
   "execution_count": 30,
   "id": "2a936227",
   "metadata": {},
   "outputs": [],
   "source": [
    "from sklearn.model_selection import KFold, cross_validate, cross_val_score"
   ]
  },
  {
   "cell_type": "code",
   "execution_count": 75,
   "id": "c1b3e382",
   "metadata": {},
   "outputs": [],
   "source": [
    "import os"
   ]
  },
  {
   "cell_type": "code",
   "execution_count": 5,
   "id": "9ef5af26",
   "metadata": {},
   "outputs": [],
   "source": [
    "import matplotlib.pyplot as plt\n",
    "import scienceplots\n",
    "\n",
    "plt.style.use('science')\n",
    "%config InlineBackend.figure_format = 'retina'"
   ]
  },
  {
   "cell_type": "markdown",
   "id": "8fc0c272",
   "metadata": {},
   "source": [
    "### Data preparation"
   ]
  },
  {
   "cell_type": "code",
   "execution_count": 7,
   "id": "43c4a646",
   "metadata": {},
   "outputs": [],
   "source": [
    "data_path = '../data/cars_dataset_new_v2.csv'"
   ]
  },
  {
   "cell_type": "code",
   "execution_count": 8,
   "id": "dc424db9",
   "metadata": {},
   "outputs": [
    {
     "name": "stdout",
     "output_type": "stream",
     "text": [
      "DF shape: (22702, 29)\n"
     ]
    },
    {
     "data": {
      "text/html": [
       "<div>\n",
       "<style scoped>\n",
       "    .dataframe tbody tr th:only-of-type {\n",
       "        vertical-align: middle;\n",
       "    }\n",
       "\n",
       "    .dataframe tbody tr th {\n",
       "        vertical-align: top;\n",
       "    }\n",
       "\n",
       "    .dataframe thead th {\n",
       "        text-align: right;\n",
       "    }\n",
       "</style>\n",
       "<table border=\"1\" class=\"dataframe\">\n",
       "  <thead>\n",
       "    <tr style=\"text-align: right;\">\n",
       "      <th></th>\n",
       "      <th>box</th>\n",
       "      <th>drive_unit</th>\n",
       "      <th>seats</th>\n",
       "      <th>doors</th>\n",
       "      <th>country</th>\n",
       "      <th>volume</th>\n",
       "      <th>mileage</th>\n",
       "      <th>price</th>\n",
       "      <th>year</th>\n",
       "      <th>car_type</th>\n",
       "      <th>drive</th>\n",
       "      <th>boost_type</th>\n",
       "      <th>width</th>\n",
       "      <th>diemeter</th>\n",
       "      <th>length</th>\n",
       "      <th>car_class</th>\n",
       "      <th>height</th>\n",
       "      <th>fuel</th>\n",
       "      <th>torque</th>\n",
       "      <th>valves_per_cylinder</th>\n",
       "      <th>clearance</th>\n",
       "      <th>maximum_speed</th>\n",
       "      <th>transmissions</th>\n",
       "      <th>full_weight</th>\n",
       "      <th>compression_ratio</th>\n",
       "      <th>consumption</th>\n",
       "      <th>restyling</th>\n",
       "      <th>trunk_volume_max</th>\n",
       "      <th>trunk_volume_min</th>\n",
       "    </tr>\n",
       "  </thead>\n",
       "  <tbody>\n",
       "    <tr>\n",
       "      <th>12259</th>\n",
       "      <td>automatic</td>\n",
       "      <td>full</td>\n",
       "      <td>5.0</td>\n",
       "      <td>5.0</td>\n",
       "      <td>UK</td>\n",
       "      <td>2.2</td>\n",
       "      <td>90006.0</td>\n",
       "      <td>1.597</td>\n",
       "      <td>2013.0</td>\n",
       "      <td>SUV</td>\n",
       "      <td>full</td>\n",
       "      <td>turbocharging</td>\n",
       "      <td>1965.0</td>\n",
       "      <td>85.0</td>\n",
       "      <td>4365.0</td>\n",
       "      <td>J</td>\n",
       "      <td>1635.0</td>\n",
       "      <td>diesel</td>\n",
       "      <td>400.0</td>\n",
       "      <td>4.0</td>\n",
       "      <td>215.0</td>\n",
       "      <td>182.0</td>\n",
       "      <td>9.0</td>\n",
       "      <td>2495.0</td>\n",
       "      <td>16.0</td>\n",
       "      <td>6.0</td>\n",
       "      <td>0.0</td>\n",
       "      <td>575.0</td>\n",
       "      <td>1445.0</td>\n",
       "    </tr>\n",
       "    <tr>\n",
       "      <th>29253</th>\n",
       "      <td>mechanics</td>\n",
       "      <td>front</td>\n",
       "      <td>5.0</td>\n",
       "      <td>3.0</td>\n",
       "      <td>German</td>\n",
       "      <td>1.0</td>\n",
       "      <td>321000.0</td>\n",
       "      <td>0.060</td>\n",
       "      <td>2000.0</td>\n",
       "      <td>Hatchback</td>\n",
       "      <td>front</td>\n",
       "      <td>no</td>\n",
       "      <td>1610.0</td>\n",
       "      <td>72.5</td>\n",
       "      <td>3740.0</td>\n",
       "      <td>B</td>\n",
       "      <td>1420.0</td>\n",
       "      <td>AI-95</td>\n",
       "      <td>82.0</td>\n",
       "      <td>4.0</td>\n",
       "      <td>140.0</td>\n",
       "      <td>150.0</td>\n",
       "      <td>5.0</td>\n",
       "      <td>1360.0</td>\n",
       "      <td>10.1</td>\n",
       "      <td>0.0</td>\n",
       "      <td>0.0</td>\n",
       "      <td>260.0</td>\n",
       "      <td>1050.0</td>\n",
       "    </tr>\n",
       "    <tr>\n",
       "      <th>31018</th>\n",
       "      <td>mechanics</td>\n",
       "      <td>full</td>\n",
       "      <td>7.0</td>\n",
       "      <td>2.0</td>\n",
       "      <td>Russia</td>\n",
       "      <td>2.1</td>\n",
       "      <td>38464.0</td>\n",
       "      <td>0.650</td>\n",
       "      <td>1968.0</td>\n",
       "      <td>SUV</td>\n",
       "      <td>full</td>\n",
       "      <td>no</td>\n",
       "      <td>1750.0</td>\n",
       "      <td>82.0</td>\n",
       "      <td>3850.0</td>\n",
       "      <td>J</td>\n",
       "      <td>1930.0</td>\n",
       "      <td>AI-80</td>\n",
       "      <td>150.0</td>\n",
       "      <td>2.0</td>\n",
       "      <td>210.0</td>\n",
       "      <td>90.0</td>\n",
       "      <td>3.0</td>\n",
       "      <td>2175.0</td>\n",
       "      <td>6.2</td>\n",
       "      <td>0.0</td>\n",
       "      <td>0.0</td>\n",
       "      <td>0.0</td>\n",
       "      <td>0.0</td>\n",
       "    </tr>\n",
       "  </tbody>\n",
       "</table>\n",
       "</div>"
      ],
      "text/plain": [
       "             box drive_unit  seats  doors country  volume   mileage  price  \\\n",
       "12259  automatic       full    5.0    5.0      UK     2.2   90006.0  1.597   \n",
       "29253  mechanics      front    5.0    3.0  German     1.0  321000.0  0.060   \n",
       "31018  mechanics       full    7.0    2.0  Russia     2.1   38464.0  0.650   \n",
       "\n",
       "         year   car_type  drive     boost_type   width  diemeter  length  \\\n",
       "12259  2013.0        SUV   full  turbocharging  1965.0      85.0  4365.0   \n",
       "29253  2000.0  Hatchback  front             no  1610.0      72.5  3740.0   \n",
       "31018  1968.0        SUV   full             no  1750.0      82.0  3850.0   \n",
       "\n",
       "      car_class  height    fuel  torque  valves_per_cylinder  clearance  \\\n",
       "12259         J  1635.0  diesel   400.0                  4.0      215.0   \n",
       "29253         B  1420.0   AI-95    82.0                  4.0      140.0   \n",
       "31018         J  1930.0   AI-80   150.0                  2.0      210.0   \n",
       "\n",
       "       maximum_speed  transmissions  full_weight  compression_ratio  \\\n",
       "12259          182.0            9.0       2495.0               16.0   \n",
       "29253          150.0            5.0       1360.0               10.1   \n",
       "31018           90.0            3.0       2175.0                6.2   \n",
       "\n",
       "       consumption  restyling  trunk_volume_max  trunk_volume_min  \n",
       "12259          6.0        0.0             575.0            1445.0  \n",
       "29253          0.0        0.0             260.0            1050.0  \n",
       "31018          0.0        0.0               0.0               0.0  "
      ]
     },
     "execution_count": 8,
     "metadata": {},
     "output_type": "execute_result"
    }
   ],
   "source": [
    "cars_df = pd.read_csv(data_path, index_col=0)\n",
    "n_rows, _ = cars_df.shape\n",
    "print(f'DF shape: {cars_df.shape}')\n",
    "\n",
    "cars_df['price'] = cars_df['price'] / 1e6  # NORMALIZE PRICE TO MILLIONS!\n",
    "\n",
    "pd.set_option('display.max_columns', None)\n",
    "cars_df.sample(3)"
   ]
  },
  {
   "cell_type": "code",
   "execution_count": 9,
   "id": "e08227f8",
   "metadata": {},
   "outputs": [],
   "source": [
    "TARGET_COL = 'price'"
   ]
  },
  {
   "cell_type": "code",
   "execution_count": 163,
   "id": "65ee879d",
   "metadata": {},
   "outputs": [
    {
     "name": "stdout",
     "output_type": "stream",
     "text": [
      "Categorical (8):\n",
      "box, drive_unit, country, car_type, drive, boost_type, car_class, fuel\n",
      "\n",
      "Numerical (20):\n",
      "seats, doors, volume, mileage, year, width, diemeter, length, height, torque, valves_per_cylinder, clearance, maximum_speed, transmissions, full_weight, compression_ratio, consumption, restyling, trunk_volume_max, trunk_volume_min\n"
     ]
    }
   ],
   "source": [
    "cat_cols = []\n",
    "num_cols = []\n",
    "\n",
    "for column_name in cars_df.columns:  # find all categorical and numerical columns\n",
    "    if not column_name == TARGET_COL:\n",
    "        if is_object_dtype(cars_df[column_name]):\n",
    "            cat_cols.append(column_name)\n",
    "        else:\n",
    "            num_cols.append(column_name)\n",
    "\n",
    "print(f'Categorical ({len(cat_cols)}):')\n",
    "print(*cat_cols, sep=', ', end='\\n\\n')\n",
    "print(f'Numerical ({len(num_cols)}):')\n",
    "print(*num_cols, sep=', ')"
   ]
  },
  {
   "cell_type": "code",
   "execution_count": 11,
   "id": "9ad25fe8",
   "metadata": {},
   "outputs": [
    {
     "name": "stdout",
     "output_type": "stream",
     "text": [
      "Count NaN values in columns:\n",
      "\tdrive                    191\t(cat)\n",
      "\tboost_type               283\t(cat)\n",
      "\tcar_class                221\t(cat)\n",
      "\tfuel                     419\t(cat)\n"
     ]
    }
   ],
   "source": [
    "print('Count NaN values in columns:')\n",
    "for column_name in cars_df.columns:  # count nan values by columns\n",
    "    nans = cars_df[column_name].isna().sum()\n",
    "    if nans > 0:  # if there is NaN's in column `column_name`\n",
    "        print(f\"\\t{column_name + (25 - len(column_name)) * ' '}{nans}\",end='')\n",
    "        if column_name in cat_cols:\n",
    "            print('\\t(cat)')\n",
    "        else:\n",
    "            print('\\t(num)')"
   ]
  },
  {
   "cell_type": "code",
   "execution_count": 12,
   "id": "c5959ae3",
   "metadata": {},
   "outputs": [
    {
     "data": {
      "text/html": [
       "<div>\n",
       "<style scoped>\n",
       "    .dataframe tbody tr th:only-of-type {\n",
       "        vertical-align: middle;\n",
       "    }\n",
       "\n",
       "    .dataframe tbody tr th {\n",
       "        vertical-align: top;\n",
       "    }\n",
       "\n",
       "    .dataframe thead th {\n",
       "        text-align: right;\n",
       "    }\n",
       "</style>\n",
       "<table border=\"1\" class=\"dataframe\">\n",
       "  <thead>\n",
       "    <tr style=\"text-align: right;\">\n",
       "      <th></th>\n",
       "      <th>box</th>\n",
       "      <th>drive_unit</th>\n",
       "      <th>country</th>\n",
       "      <th>car_type</th>\n",
       "      <th>drive</th>\n",
       "      <th>boost_type</th>\n",
       "      <th>car_class</th>\n",
       "      <th>fuel</th>\n",
       "    </tr>\n",
       "  </thead>\n",
       "  <tbody>\n",
       "    <tr>\n",
       "      <th>count</th>\n",
       "      <td>22702</td>\n",
       "      <td>22702</td>\n",
       "      <td>22702</td>\n",
       "      <td>22702</td>\n",
       "      <td>22511</td>\n",
       "      <td>22419</td>\n",
       "      <td>22481</td>\n",
       "      <td>22283</td>\n",
       "    </tr>\n",
       "    <tr>\n",
       "      <th>unique</th>\n",
       "      <td>4</td>\n",
       "      <td>3</td>\n",
       "      <td>17</td>\n",
       "      <td>17</td>\n",
       "      <td>3</td>\n",
       "      <td>3</td>\n",
       "      <td>9</td>\n",
       "      <td>7</td>\n",
       "    </tr>\n",
       "    <tr>\n",
       "      <th>top</th>\n",
       "      <td>automatic</td>\n",
       "      <td>front</td>\n",
       "      <td>German</td>\n",
       "      <td>SUV</td>\n",
       "      <td>front</td>\n",
       "      <td>no</td>\n",
       "      <td>J</td>\n",
       "      <td>AI-95</td>\n",
       "    </tr>\n",
       "    <tr>\n",
       "      <th>freq</th>\n",
       "      <td>12365</td>\n",
       "      <td>11161</td>\n",
       "      <td>6536</td>\n",
       "      <td>7086</td>\n",
       "      <td>11052</td>\n",
       "      <td>14551</td>\n",
       "      <td>7520</td>\n",
       "      <td>15131</td>\n",
       "    </tr>\n",
       "  </tbody>\n",
       "</table>\n",
       "</div>"
      ],
      "text/plain": [
       "              box drive_unit country car_type  drive boost_type car_class  \\\n",
       "count       22702      22702   22702    22702  22511      22419     22481   \n",
       "unique          4          3      17       17      3          3         9   \n",
       "top     automatic      front  German      SUV  front         no         J   \n",
       "freq        12365      11161    6536     7086  11052      14551      7520   \n",
       "\n",
       "         fuel  \n",
       "count   22283  \n",
       "unique      7  \n",
       "top     AI-95  \n",
       "freq    15131  "
      ]
     },
     "execution_count": 12,
     "metadata": {},
     "output_type": "execute_result"
    }
   ],
   "source": [
    "cars_df.describe(include='object')  # categorical columns"
   ]
  },
  {
   "cell_type": "code",
   "execution_count": 13,
   "id": "6b6e475e",
   "metadata": {},
   "outputs": [],
   "source": [
    "cat_cols_1 = ['box', 'drive_unit', 'drive', 'boost_type', 'car_class', 'fuel']  # no more than 9 options - binary_encoder\n",
    "cat_cols_2 = ['country', 'car_type']  # more ore equal to 17 options"
   ]
  },
  {
   "cell_type": "code",
   "execution_count": 153,
   "id": "d6ab7795",
   "metadata": {},
   "outputs": [
    {
     "data": {
      "text/plain": [
       "4"
      ]
     },
     "execution_count": 153,
     "metadata": {},
     "output_type": "execute_result"
    }
   ],
   "source": [
    "cat_cols_1_n = [2, 2, 2, 2, 4, 3]"
   ]
  },
  {
   "cell_type": "code",
   "execution_count": 154,
   "id": "9ae8e87e",
   "metadata": {},
   "outputs": [],
   "source": [
    "N_LIM = 4"
   ]
  },
  {
   "cell_type": "markdown",
   "id": "fdfa8cb5",
   "metadata": {},
   "source": [
    "### Pipelines"
   ]
  },
  {
   "cell_type": "code",
   "execution_count": 15,
   "id": "c61f3ea4",
   "metadata": {},
   "outputs": [],
   "source": [
    "num_transformer = Pipeline(\n",
    "    steps=[\n",
    "        (\"imputer\", SimpleImputer(strategy=\"median\")),  # but ther is no NaN's in numerical data in our case\n",
    "        (\"scaler\", StandardScaler())]\n",
    ")\n",
    "\n",
    "cat_transformer_1 = Pipeline(\n",
    "    steps=[\n",
    "        ('imputer', SimpleImputer(strategy='most_frequent')),\n",
    "        ('scaler', ce.BinaryEncoder())\n",
    "    ]\n",
    ")\n",
    "\n",
    "cat_transformer_2 = Pipeline(\n",
    "    steps=[\n",
    "        ('imputer', SimpleImputer(strategy='most_frequent')),\n",
    "        ('scaler', ce.HashingEncoder(n_components=N_LIM))\n",
    "    ]\n",
    ")"
   ]
  },
  {
   "cell_type": "code",
   "execution_count": 16,
   "id": "a1215151",
   "metadata": {},
   "outputs": [],
   "source": [
    "preprocessor = ColumnTransformer(\n",
    "    transformers=[\n",
    "        ('num', num_transformer, num_cols),\n",
    "        ('cat_1', cat_transformer_1, cat_cols_1),\n",
    "        ('cat_2', cat_transformer_2, cat_cols_2)\n",
    "    ]\n",
    ")"
   ]
  },
  {
   "cell_type": "markdown",
   "id": "69705d35",
   "metadata": {},
   "source": [
    "### Data splitting"
   ]
  },
  {
   "cell_type": "code",
   "execution_count": 17,
   "id": "063c07e2",
   "metadata": {},
   "outputs": [],
   "source": [
    "TRAIN_SZ = 0.8\n",
    "SEED = 42"
   ]
  },
  {
   "cell_type": "code",
   "execution_count": 18,
   "id": "7e3f323c",
   "metadata": {},
   "outputs": [],
   "source": [
    "X = cars_df.drop(columns=[TARGET_COL])\n",
    "y = cars_df[TARGET_COL]"
   ]
  },
  {
   "cell_type": "code",
   "execution_count": 35,
   "id": "8aae0aee",
   "metadata": {},
   "outputs": [
    {
     "name": "stdout",
     "output_type": "stream",
     "text": [
      "Train size: 18161\n",
      "Test size:  4541\n"
     ]
    }
   ],
   "source": [
    "X_train, X_test, y_train, y_test = train_test_split(X, y, train_size=TRAIN_SZ, random_state=SEED)\n",
    "\n",
    "print(f'Train size: {len(y_train)}')\n",
    "print(f'Test size:  {len(y_test)}')"
   ]
  },
  {
   "cell_type": "markdown",
   "id": "46d56576",
   "metadata": {},
   "source": [
    "### RandomForest without optimization of hyperparameters (1st hw)"
   ]
  },
  {
   "cell_type": "code",
   "execution_count": 20,
   "id": "683b0db4",
   "metadata": {},
   "outputs": [],
   "source": [
    "FOREST_STATE = 78"
   ]
  },
  {
   "cell_type": "code",
   "execution_count": 21,
   "id": "ef794493",
   "metadata": {},
   "outputs": [
    {
     "name": "stdout",
     "output_type": "stream",
     "text": [
      "CPU times: user 1min 21s, sys: 97.2 ms, total: 1min 21s\n",
      "Wall time: 1min 26s\n"
     ]
    }
   ],
   "source": [
    "%%time\n",
    "\n",
    "clf_forest = Pipeline(\n",
    "    steps=[(\"preprocessor\", preprocessor), \n",
    "           (\"classifier\", RandomForestRegressor(\n",
    "               n_estimators=10,\n",
    "               criterion='absolute_error',\n",
    "               max_depth=10,\n",
    "               min_samples_leaf=5,\n",
    "               random_state=FOREST_STATE\n",
    "           )\n",
    "           )\n",
    "          ]\n",
    ")\n",
    "\n",
    "clf_forest.fit(X_train, y_train);"
   ]
  },
  {
   "cell_type": "code",
   "execution_count": 22,
   "id": "95769ee4",
   "metadata": {},
   "outputs": [
    {
     "name": "stdout",
     "output_type": "stream",
     "text": [
      "l1-score for forest model: 0.262111\n",
      "R^2 score for forest model: 0.801333\n"
     ]
    }
   ],
   "source": [
    "y_pred_forest = clf_forest.predict(X_test) \n",
    "l1_score_forest = np.abs(y_pred_forest - y_test).mean()  # l1-score\n",
    "\n",
    "print(f'l1-score for forest model: {l1_score_forest:.6f}')\n",
    "print(f'R^2 score for forest model: {clf_forest.score(X_test, y_test):.6f}')"
   ]
  },
  {
   "cell_type": "code",
   "execution_count": 25,
   "id": "4c4f8b76",
   "metadata": {},
   "outputs": [
    {
     "data": {
      "image/png": "[encoded data removed]",
      "text/plain": [
       "<Figure size 500x500 with 1 Axes>"
      ]
     },
     "metadata": {
      "image/png": {
       "height": 458,
       "width": 454
      }
     },
     "output_type": "display_data"
    }
   ],
   "source": [
    "    # predictions visualization in matplotlib\n",
    "lables_fs = 16\n",
    "ticks_fs = 12\n",
    "\n",
    "fig, ax = plt.subplots(1, 1, figsize=(5, 5))\n",
    "low_lim = -10\n",
    "up_lim = 40\n",
    "delta = 5\n",
    "\n",
    "ax.scatter(\n",
    "    clf_forest.predict(X_train),\n",
    "    y_train, \n",
    "    c='cornflowerblue', s=0.5,\n",
    "    alpha=0.5,\n",
    "    label='train'\n",
    ")\n",
    "ax.scatter(\n",
    "    y_pred_forest,\n",
    "    y_test, \n",
    "    c='tomato', s=0.5, \n",
    "    alpha=0.5,\n",
    "    label='test'\n",
    ")\n",
    "\n",
    "    # ideal predictor\n",
    "ax.plot(\n",
    "    [low_lim + delta, up_lim - delta],\n",
    "    [low_lim + delta, up_lim - delta],\n",
    "    c='k', linestyle='--', lw=0.50, \n",
    "    label='ideal'\n",
    ")\n",
    "\n",
    "ax.set_ylabel('target', fontsize=lables_fs - 2)\n",
    "ax.set_xlabel('predicted', fontsize=lables_fs - 2)\n",
    "ax.set_title('RandomForestRegressor', fontsize=lables_fs)\n",
    "\n",
    "ax.grid(color='silver', linestyle='-', linewidth=0.1)\n",
    "\n",
    "ax.set(aspect='equal')\n",
    "ax.set_xlim([low_lim, up_lim])\n",
    "ax.set_ylim([low_lim, up_lim])\n",
    "\n",
    "lgnd = ax.legend(loc='upper left')\n",
    "for legend_handle in lgnd.legend_handles: legend_handle._sizes = [20]\n",
    "\n",
    "plt.show()"
   ]
  },
  {
   "cell_type": "markdown",
   "id": "2c263521",
   "metadata": {},
   "source": [
    "### RandomForest: `optuna` hyperparameters optimization"
   ]
  },
  {
   "cell_type": "code",
   "execution_count": 63,
   "id": "bd548d22",
   "metadata": {},
   "outputs": [
    {
     "name": "stdout",
     "output_type": "stream",
     "text": [
      "Train size: 18161\n",
      "Test size:  4541\n",
      "CPU times: user 172 ms, sys: 106 ms, total: 278 ms\n",
      "Wall time: 7.26 s\n"
     ]
    }
   ],
   "source": [
    "%%time\n",
    "    # transform data so as not to waste time every trial!\n",
    "X_trans_train = preprocessor.fit_transform(X_train)\n",
    "X_trans_test = preprocessor.fit_transform(X_test)\n",
    "\n",
    "print(f'Train size: {len(X_trans_train)}')\n",
    "print(f'Test size:  {len(X_trans_test)}')"
   ]
  },
  {
   "cell_type": "code",
   "execution_count": 68,
   "id": "1115e088",
   "metadata": {},
   "outputs": [],
   "source": [
    "def objective(trial, X_tr, y_tr, X_val, y_val, cv=5):\n",
    "    \n",
    "    n_estimators = trial.suggest_int('n_estimators', 10, 25)\n",
    "    max_depth = trial.suggest_int('max_depth', 5, 20)\n",
    "    min_samples_leaf = trial.suggest_int('min_samples_leaf', 2, 10)\n",
    "    \n",
    "    \n",
    "    rf_classifier = RandomForestRegressor(\n",
    "        n_estimators=n_estimators,\n",
    "        criterion='absolute_error',\n",
    "        max_depth=max_depth,\n",
    "        min_samples_leaf=min_samples_leaf,\n",
    "        random_state=FOREST_STATE    # fix random state for all trials\n",
    "    )\n",
    "\n",
    "    # cross-validation here is too long...(\n",
    "    # \n",
    "#     cv_results = cross_validate(\n",
    "#         rf_classifier, data_X, data_y, cv=cv, \n",
    "#         scoring='neg_mean_absolute_error'\n",
    "#     )\n",
    "    \n",
    "#     return cv_results['test_score'].mean()\n",
    "\n",
    "    # no cross-validation\n",
    "    rf_classifier.fit(X_tr, y_tr)\n",
    "    \n",
    "    y_pred = rf_classifier.predict(X_val) \n",
    "    l1_val = np.abs(y_pred - y_val).mean()  # l1-score\n",
    "\n",
    "    return l1_val"
   ]
  },
  {
   "cell_type": "code",
   "execution_count": 69,
   "id": "4875bed8",
   "metadata": {
    "scrolled": true
   },
   "outputs": [
    {
     "name": "stderr",
     "output_type": "stream",
     "text": [
      "[I 2024-02-20 18:14:31,663] A new study created in memory with name: no-name-6b036787-b387-4cd8-a8a0-098e0c8a6f36\n",
      "[I 2024-02-20 18:16:07,175] Trial 0 finished with value: 0.2902922138387286 and parameters: {'n_estimators': 12, 'max_depth': 11, 'min_samples_leaf': 9}. Best is trial 0 with value: 0.2902922138387286.\n",
      "[I 2024-02-20 18:19:16,077] Trial 1 finished with value: 0.36681452072230786 and parameters: {'n_estimators': 25, 'max_depth': 6, 'min_samples_leaf': 3}. Best is trial 0 with value: 0.2902922138387286.\n",
      "[I 2024-02-20 18:21:05,627] Trial 2 finished with value: 0.31725982009941167 and parameters: {'n_estimators': 14, 'max_depth': 8, 'min_samples_leaf': 3}. Best is trial 0 with value: 0.2902922138387286.\n",
      "[I 2024-02-20 18:24:12,521] Trial 3 finished with value: 0.261056195159082 and parameters: {'n_estimators': 23, 'max_depth': 17, 'min_samples_leaf': 5}. Best is trial 3 with value: 0.261056195159082.\n",
      "[I 2024-02-20 18:27:10,457] Trial 4 finished with value: 0.2698720040689876 and parameters: {'n_estimators': 22, 'max_depth': 15, 'min_samples_leaf': 6}. Best is trial 3 with value: 0.261056195159082.\n",
      "[I 2024-02-20 18:30:16,817] Trial 5 finished with value: 0.274037230570742 and parameters: {'n_estimators': 23, 'max_depth': 19, 'min_samples_leaf': 7}. Best is trial 3 with value: 0.261056195159082.\n",
      "[I 2024-02-20 18:32:19,436] Trial 6 finished with value: 0.2785759078396829 and parameters: {'n_estimators': 15, 'max_depth': 11, 'min_samples_leaf': 6}. Best is trial 3 with value: 0.261056195159082.\n",
      "[I 2024-02-20 18:35:12,795] Trial 7 finished with value: 0.3123303252487437 and parameters: {'n_estimators': 22, 'max_depth': 8, 'min_samples_leaf': 7}. Best is trial 3 with value: 0.261056195159082.\n",
      "[I 2024-02-20 18:36:33,173] Trial 8 finished with value: 0.2870463443514645 and parameters: {'n_estimators': 10, 'max_depth': 20, 'min_samples_leaf': 9}. Best is trial 3 with value: 0.261056195159082.\n",
      "[I 2024-02-20 18:38:18,672] Trial 9 finished with value: 0.3622167246673168 and parameters: {'n_estimators': 14, 'max_depth': 6, 'min_samples_leaf': 10}. Best is trial 3 with value: 0.261056195159082.\n",
      "[I 2024-02-20 18:40:53,985] Trial 10 finished with value: 0.2609685950694839 and parameters: {'n_estimators': 19, 'max_depth': 16, 'min_samples_leaf': 4}. Best is trial 10 with value: 0.2609685950694839.\n",
      "[I 2024-02-20 18:43:29,231] Trial 11 finished with value: 0.2609685950694839 and parameters: {'n_estimators': 19, 'max_depth': 16, 'min_samples_leaf': 4}. Best is trial 10 with value: 0.2609685950694839.\n",
      "[I 2024-02-20 18:46:05,914] Trial 12 finished with value: 0.2515405569489679 and parameters: {'n_estimators': 19, 'max_depth': 15, 'min_samples_leaf': 2}. Best is trial 12 with value: 0.2515405569489679.\n",
      "[I 2024-02-20 18:48:33,939] Trial 13 finished with value: 0.24838630524358316 and parameters: {'n_estimators': 18, 'max_depth': 14, 'min_samples_leaf': 2}. Best is trial 13 with value: 0.24838630524358316.\n",
      "[I 2024-02-20 18:50:53,225] Trial 14 finished with value: 0.2514493808243844 and parameters: {'n_estimators': 17, 'max_depth': 13, 'min_samples_leaf': 2}. Best is trial 13 with value: 0.24838630524358316.\n",
      "[I 2024-02-20 18:53:12,568] Trial 15 finished with value: 0.2514493808243844 and parameters: {'n_estimators': 17, 'max_depth': 13, 'min_samples_leaf': 2}. Best is trial 13 with value: 0.24838630524358316.\n",
      "[I 2024-02-20 18:55:31,601] Trial 16 finished with value: 0.2514493808243844 and parameters: {'n_estimators': 17, 'max_depth': 13, 'min_samples_leaf': 2}. Best is trial 13 with value: 0.24838630524358316.\n",
      "[I 2024-02-20 18:57:40,371] Trial 17 finished with value: 0.2760278146608677 and parameters: {'n_estimators': 16, 'max_depth': 11, 'min_samples_leaf': 4}. Best is trial 13 with value: 0.24838630524358316.\n",
      "[I 2024-02-20 19:00:18,873] Trial 18 finished with value: 0.2943107308797622 and parameters: {'n_estimators': 20, 'max_depth': 9, 'min_samples_leaf': 3}. Best is trial 13 with value: 0.24838630524358316.\n",
      "[I 2024-02-20 19:02:04,796] Trial 19 finished with value: 0.2707747080531228 and parameters: {'n_estimators': 13, 'max_depth': 18, 'min_samples_leaf': 5}. Best is trial 13 with value: 0.24838630524358316.\n",
      "[I 2024-02-20 19:04:49,188] Trial 20 finished with value: 0.24764796146223295 and parameters: {'n_estimators': 20, 'max_depth': 14, 'min_samples_leaf': 2}. Best is trial 20 with value: 0.24764796146223295.\n",
      "[I 2024-02-20 19:07:32,975] Trial 21 finished with value: 0.24857048464545253 and parameters: {'n_estimators': 20, 'max_depth': 13, 'min_samples_leaf': 2}. Best is trial 20 with value: 0.24764796146223295.\n",
      "[I 2024-02-20 19:10:24,254] Trial 22 finished with value: 0.2638497732616059 and parameters: {'n_estimators': 21, 'max_depth': 14, 'min_samples_leaf': 3}. Best is trial 20 with value: 0.24764796146223295.\n",
      "[I 2024-02-20 19:13:07,129] Trial 23 finished with value: 0.25433991010240037 and parameters: {'n_estimators': 20, 'max_depth': 12, 'min_samples_leaf': 2}. Best is trial 20 with value: 0.24764796146223295.\n",
      "[I 2024-02-20 19:15:34,414] Trial 24 finished with value: 0.2649241085541609 and parameters: {'n_estimators': 18, 'max_depth': 15, 'min_samples_leaf': 3}. Best is trial 20 with value: 0.24764796146223295.\n",
      "[I 2024-02-20 19:18:22,555] Trial 25 finished with value: 0.27952861127714684 and parameters: {'n_estimators': 21, 'max_depth': 10, 'min_samples_leaf': 4}. Best is trial 20 with value: 0.24764796146223295.\n",
      "[I 2024-02-20 19:20:48,391] Trial 26 finished with value: 0.26669311884313296 and parameters: {'n_estimators': 18, 'max_depth': 14, 'min_samples_leaf': 5}. Best is trial 20 with value: 0.24764796146223295.\n",
      "[I 2024-02-20 19:24:15,684] Trial 27 finished with value: 0.25077284198634664 and parameters: {'n_estimators': 25, 'max_depth': 17, 'min_samples_leaf': 2}. Best is trial 20 with value: 0.24764796146223295.\n",
      "[I 2024-02-20 19:26:58,055] Trial 28 finished with value: 0.268397465167364 and parameters: {'n_estimators': 20, 'max_depth': 12, 'min_samples_leaf': 3}. Best is trial 20 with value: 0.24764796146223295.\n",
      "[I 2024-02-20 19:30:04,568] Trial 29 finished with value: 0.2761832840209492 and parameters: {'n_estimators': 23, 'max_depth': 14, 'min_samples_leaf': 8}. Best is trial 20 with value: 0.24764796146223295.\n",
      "[I 2024-02-20 19:32:14,617] Trial 30 finished with value: 0.2813815457704801 and parameters: {'n_estimators': 16, 'max_depth': 10, 'min_samples_leaf': 4}. Best is trial 20 with value: 0.24764796146223295.\n",
      "[I 2024-02-20 19:35:43,255] Trial 31 finished with value: 0.25077284198634664 and parameters: {'n_estimators': 25, 'max_depth': 17, 'min_samples_leaf': 2}. Best is trial 20 with value: 0.24764796146223295.\n",
      "[I 2024-02-20 19:39:11,306] Trial 32 finished with value: 0.25077284198634664 and parameters: {'n_estimators': 25, 'max_depth': 17, 'min_samples_leaf': 2}. Best is trial 20 with value: 0.24764796146223295.\n",
      "[I 2024-02-20 19:42:29,294] Trial 33 finished with value: 0.26047091273030903 and parameters: {'n_estimators': 24, 'max_depth': 16, 'min_samples_leaf': 3}. Best is trial 20 with value: 0.24764796146223295.\n",
      "[I 2024-02-20 19:45:32,432] Trial 34 finished with value: 0.24526671649216233 and parameters: {'n_estimators': 22, 'max_depth': 19, 'min_samples_leaf': 2}. Best is trial 34 with value: 0.24526671649216233.\n",
      "[I 2024-02-20 19:48:26,803] Trial 35 finished with value: 0.261767403823366 and parameters: {'n_estimators': 21, 'max_depth': 19, 'min_samples_leaf': 3}. Best is trial 34 with value: 0.24526671649216233.\n",
      "[I 2024-02-20 19:51:25,664] Trial 36 finished with value: 0.2666192087645893 and parameters: {'n_estimators': 22, 'max_depth': 12, 'min_samples_leaf': 3}. Best is trial 34 with value: 0.24526671649216233.\n",
      "[I 2024-02-20 19:54:03,955] Trial 37 finished with value: 0.245621026941666 and parameters: {'n_estimators': 19, 'max_depth': 19, 'min_samples_leaf': 2}. Best is trial 34 with value: 0.24526671649216233.\n",
      "[I 2024-02-20 19:56:31,771] Trial 38 finished with value: 0.26622987600626385 and parameters: {'n_estimators': 18, 'max_depth': 20, 'min_samples_leaf': 5}. Best is trial 34 with value: 0.24526671649216233.\n",
      "[I 2024-02-20 19:59:33,609] Trial 39 finished with value: 0.26014588789513726 and parameters: {'n_estimators': 22, 'max_depth': 19, 'min_samples_leaf': 3}. Best is trial 34 with value: 0.24526671649216233.\n"
     ]
    },
    {
     "name": "stderr",
     "output_type": "stream",
     "text": [
      "[I 2024-02-20 20:01:46,509] Trial 40 finished with value: 0.24718432323552084 and parameters: {'n_estimators': 16, 'max_depth': 18, 'min_samples_leaf': 2}. Best is trial 34 with value: 0.24526671649216233.\n",
      "[I 2024-02-20 20:03:51,797] Trial 41 finished with value: 0.24859456061807236 and parameters: {'n_estimators': 15, 'max_depth': 18, 'min_samples_leaf': 2}. Best is trial 34 with value: 0.24526671649216233.\n",
      "[I 2024-02-20 20:06:05,561] Trial 42 finished with value: 0.24718432323552084 and parameters: {'n_estimators': 16, 'max_depth': 18, 'min_samples_leaf': 2}. Best is trial 34 with value: 0.24526671649216233.\n",
      "[I 2024-02-20 20:08:09,852] Trial 43 finished with value: 0.2693617192468619 and parameters: {'n_estimators': 15, 'max_depth': 18, 'min_samples_leaf': 3}. Best is trial 34 with value: 0.24526671649216233.\n",
      "[I 2024-02-20 20:09:43,546] Trial 44 finished with value: 0.264942514354067 and parameters: {'n_estimators': 11, 'max_depth': 20, 'min_samples_leaf': 2}. Best is trial 34 with value: 0.24526671649216233.\n",
      "[I 2024-02-20 20:11:53,306] Trial 45 finished with value: 0.2789979426819533 and parameters: {'n_estimators': 16, 'max_depth': 19, 'min_samples_leaf': 7}. Best is trial 34 with value: 0.24526671649216233.\n",
      "[I 2024-02-20 20:13:36,711] Trial 46 finished with value: 0.4082285232091735 and parameters: {'n_estimators': 14, 'max_depth': 5, 'min_samples_leaf': 4}. Best is trial 34 with value: 0.24526671649216233.\n",
      "[I 2024-02-20 20:16:13,757] Trial 47 finished with value: 0.2661570005041783 and parameters: {'n_estimators': 19, 'max_depth': 18, 'min_samples_leaf': 3}. Best is trial 34 with value: 0.24526671649216233.\n",
      "[I 2024-02-20 20:19:25,858] Trial 48 finished with value: 0.2468952080608561 and parameters: {'n_estimators': 23, 'max_depth': 20, 'min_samples_leaf': 2}. Best is trial 34 with value: 0.24526671649216233.\n",
      "[I 2024-02-20 20:22:37,285] Trial 49 finished with value: 0.2468952080608561 and parameters: {'n_estimators': 23, 'max_depth': 20, 'min_samples_leaf': 2}. Best is trial 34 with value: 0.24526671649216233.\n"
     ]
    },
    {
     "name": "stdout",
     "output_type": "stream",
     "text": [
      "CPU times: user 2h 7min 35s, sys: 1.9 s, total: 2h 7min 37s\n",
      "Wall time: 2h 8min 5s\n"
     ]
    }
   ],
   "source": [
    "%%time\n",
    "\n",
    "study = optuna.create_study(direction='minimize')  # to minimize l1-score\n",
    "\n",
    "# cross-validation is too long :(\n",
    "# kf = KFold(n_splits = 3, shuffle = True, random_state = 42)  # also fix `random_state`\n",
    "\n",
    "study.optimize(\n",
    "    lambda trial: objective(\n",
    "        trial,\n",
    "        X_trans_train, y_train,\n",
    "        X_trans_test, y_test,\n",
    "    ), \n",
    "    n_trials=50\n",
    ")"
   ]
  },
  {
   "cell_type": "markdown",
   "id": "aae0c82d",
   "metadata": {},
   "source": [
    "### DataFrame with optuna trials results"
   ]
  },
  {
   "cell_type": "code",
   "execution_count": 73,
   "id": "2a9c29c2",
   "metadata": {},
   "outputs": [],
   "source": [
    "    # obtaining DataFrame with trials results\n",
    "optuna_trials_df = study.trials_dataframe().drop(\n",
    "    ['datetime_start', 'datetime_complete', 'duration'],\n",
    "    axis=1\n",
    ")  # exclude columns\n",
    "optuna_trials_df = optuna_trials_df.loc[optuna_trials_df['state'] == 'COMPLETE']  # keep only results that did not prune\n",
    "optuna_trials_df = optuna_trials_df.drop('state', axis=1)  # exclude state column\n",
    "optuna_trials_df = optuna_trials_df.sort_values('value')  # sort based on l1-loss"
   ]
  },
  {
   "cell_type": "code",
   "execution_count": 82,
   "id": "164fc905",
   "metadata": {},
   "outputs": [],
   "source": [
    "    # DataFrame with results can be loaded from `optuna/`\n",
    "# directory = 'optuna'\n",
    "# filename = f'01_randomforest_optuna_res.txt'\n",
    "\n",
    "# optuna_trials_df = pd.read_csv(os.path.join(directory, filename + '.csv'), index_col=0)"
   ]
  },
  {
   "cell_type": "code",
   "execution_count": 83,
   "id": "753332ca",
   "metadata": {},
   "outputs": [
    {
     "data": {
      "text/html": [
       "<div>\n",
       "<style scoped>\n",
       "    .dataframe tbody tr th:only-of-type {\n",
       "        vertical-align: middle;\n",
       "    }\n",
       "\n",
       "    .dataframe tbody tr th {\n",
       "        vertical-align: top;\n",
       "    }\n",
       "\n",
       "    .dataframe thead th {\n",
       "        text-align: right;\n",
       "    }\n",
       "</style>\n",
       "<table border=\"1\" class=\"dataframe\">\n",
       "  <thead>\n",
       "    <tr style=\"text-align: right;\">\n",
       "      <th></th>\n",
       "      <th>value</th>\n",
       "      <th>params_max_depth</th>\n",
       "      <th>params_min_samples_leaf</th>\n",
       "      <th>params_n_estimators</th>\n",
       "    </tr>\n",
       "    <tr>\n",
       "      <th>number</th>\n",
       "      <th></th>\n",
       "      <th></th>\n",
       "      <th></th>\n",
       "      <th></th>\n",
       "    </tr>\n",
       "  </thead>\n",
       "  <tbody>\n",
       "    <tr>\n",
       "      <th>34</th>\n",
       "      <td>0.245267</td>\n",
       "      <td>19</td>\n",
       "      <td>2</td>\n",
       "      <td>22</td>\n",
       "    </tr>\n",
       "    <tr>\n",
       "      <th>37</th>\n",
       "      <td>0.245621</td>\n",
       "      <td>19</td>\n",
       "      <td>2</td>\n",
       "      <td>19</td>\n",
       "    </tr>\n",
       "    <tr>\n",
       "      <th>49</th>\n",
       "      <td>0.246895</td>\n",
       "      <td>20</td>\n",
       "      <td>2</td>\n",
       "      <td>23</td>\n",
       "    </tr>\n",
       "    <tr>\n",
       "      <th>48</th>\n",
       "      <td>0.246895</td>\n",
       "      <td>20</td>\n",
       "      <td>2</td>\n",
       "      <td>23</td>\n",
       "    </tr>\n",
       "    <tr>\n",
       "      <th>40</th>\n",
       "      <td>0.247184</td>\n",
       "      <td>18</td>\n",
       "      <td>2</td>\n",
       "      <td>16</td>\n",
       "    </tr>\n",
       "  </tbody>\n",
       "</table>\n",
       "</div>"
      ],
      "text/plain": [
       "           value  params_max_depth  params_min_samples_leaf  \\\n",
       "number                                                        \n",
       "34      0.245267                19                        2   \n",
       "37      0.245621                19                        2   \n",
       "49      0.246895                20                        2   \n",
       "48      0.246895                20                        2   \n",
       "40      0.247184                18                        2   \n",
       "\n",
       "        params_n_estimators  \n",
       "number                       \n",
       "34                       22  \n",
       "37                       19  \n",
       "49                       23  \n",
       "48                       23  \n",
       "40                       16  "
      ]
     },
     "execution_count": 83,
     "metadata": {},
     "output_type": "execute_result"
    }
   ],
   "source": [
    "optuna_trials_df.head()"
   ]
  },
  {
   "cell_type": "code",
   "execution_count": 76,
   "id": "a8bded9d",
   "metadata": {},
   "outputs": [],
   "source": [
    "    # saving DataFrame\n",
    "# directory = 'optuna'\n",
    "# filename = f'01_randomforest_optuna_res.txt'\n",
    "\n",
    "# optuna_trials_df.to_csv(os.path.join(directory, filename + '.csv'), index=False)  # save to csv file"
   ]
  },
  {
   "cell_type": "code",
   "execution_count": 134,
   "id": "c3787010",
   "metadata": {},
   "outputs": [
    {
     "data": {
      "application/vnd.plotly.v1+json": {
       "config": {
        "plotlyServerURL": "https://plot.ly"
       },
       "data": [
        {
         "mode": "markers",
         "name": "Objective Value",
         "type": "scatter",
         "x": [
          0,
          1,
          2,
          3,
          4,
          5,
          6,
          7,
          8,
          9,
          10,
          11,
          12,
          13,
          14,
          15,
          16,
          17,
          18,
          19,
          20,
          21,
          22,
          23,
          24,
          25,
          26,
          27,
          28,
          29,
          30,
          31,
          32,
          33,
          34,
          35,
          36,
          37,
          38,
          39,
          40,
          41,
          42,
          43,
          44,
          45,
          46,
          47,
          48,
          49
         ],
         "y": [
          0.2902922138387286,
          0.36681452072230786,
          0.31725982009941167,
          0.261056195159082,
          0.2698720040689876,
          0.274037230570742,
          0.2785759078396829,
          0.3123303252487437,
          0.2870463443514645,
          0.3622167246673168,
          0.2609685950694839,
          0.2609685950694839,
          0.2515405569489679,
          0.24838630524358316,
          0.2514493808243844,
          0.2514493808243844,
          0.2514493808243844,
          0.2760278146608677,
          0.2943107308797622,
          0.2707747080531228,
          0.24764796146223295,
          0.24857048464545253,
          0.2638497732616059,
          0.25433991010240037,
          0.2649241085541609,
          0.27952861127714684,
          0.26669311884313296,
          0.25077284198634664,
          0.268397465167364,
          0.2761832840209492,
          0.2813815457704801,
          0.25077284198634664,
          0.25077284198634664,
          0.26047091273030903,
          0.24526671649216233,
          0.261767403823366,
          0.2666192087645893,
          0.245621026941666,
          0.26622987600626385,
          0.26014588789513726,
          0.24718432323552084,
          0.24859456061807236,
          0.24718432323552084,
          0.2693617192468619,
          0.264942514354067,
          0.2789979426819533,
          0.4082285232091735,
          0.2661570005041783,
          0.2468952080608561,
          0.2468952080608561
         ]
        },
        {
         "mode": "lines",
         "name": "Best Value",
         "type": "scatter",
         "x": [
          0,
          1,
          2,
          3,
          4,
          5,
          6,
          7,
          8,
          9,
          10,
          11,
          12,
          13,
          14,
          15,
          16,
          17,
          18,
          19,
          20,
          21,
          22,
          23,
          24,
          25,
          26,
          27,
          28,
          29,
          30,
          31,
          32,
          33,
          34,
          35,
          36,
          37,
          38,
          39,
          40,
          41,
          42,
          43,
          44,
          45,
          46,
          47,
          48,
          49
         ],
         "y": [
          0.2902922138387286,
          0.2902922138387286,
          0.2902922138387286,
          0.261056195159082,
          0.261056195159082,
          0.261056195159082,
          0.261056195159082,
          0.261056195159082,
          0.261056195159082,
          0.261056195159082,
          0.2609685950694839,
          0.2609685950694839,
          0.2515405569489679,
          0.24838630524358316,
          0.24838630524358316,
          0.24838630524358316,
          0.24838630524358316,
          0.24838630524358316,
          0.24838630524358316,
          0.24838630524358316,
          0.24764796146223295,
          0.24764796146223295,
          0.24764796146223295,
          0.24764796146223295,
          0.24764796146223295,
          0.24764796146223295,
          0.24764796146223295,
          0.24764796146223295,
          0.24764796146223295,
          0.24764796146223295,
          0.24764796146223295,
          0.24764796146223295,
          0.24764796146223295,
          0.24764796146223295,
          0.24526671649216233,
          0.24526671649216233,
          0.24526671649216233,
          0.24526671649216233,
          0.24526671649216233,
          0.24526671649216233,
          0.24526671649216233,
          0.24526671649216233,
          0.24526671649216233,
          0.24526671649216233,
          0.24526671649216233,
          0.24526671649216233,
          0.24526671649216233,
          0.24526671649216233,
          0.24526671649216233,
          0.24526671649216233
         ]
        },
        {
         "marker": {
          "color": "#cccccc"
         },
         "mode": "markers",
         "name": "Infeasible Trial",
         "showlegend": false,
         "type": "scatter",
         "x": [],
         "y": []
        }
       ],
       "layout": {
        "template": {
         "data": {
          "bar": [
           {
            "error_x": {
             "color": "#2a3f5f"
            },
            "error_y": {
             "color": "#2a3f5f"
            },
            "marker": {
             "line": {
              "color": "#E5ECF6",
              "width": 0.5
             },
             "pattern": {
              "fillmode": "overlay",
              "size": 10,
              "solidity": 0.2
             }
            },
            "type": "bar"
           }
          ],
          "barpolar": [
           {
            "marker": {
             "line": {
              "color": "#E5ECF6",
              "width": 0.5
             },
             "pattern": {
              "fillmode": "overlay",
              "size": 10,
              "solidity": 0.2
             }
            },
            "type": "barpolar"
           }
          ],
          "carpet": [
           {
            "aaxis": {
             "endlinecolor": "#2a3f5f",
             "gridcolor": "white",
             "linecolor": "white",
             "minorgridcolor": "white",
             "startlinecolor": "#2a3f5f"
            },
            "baxis": {
             "endlinecolor": "#2a3f5f",
             "gridcolor": "white",
             "linecolor": "white",
             "minorgridcolor": "white",
             "startlinecolor": "#2a3f5f"
            },
            "type": "carpet"
           }
          ],
          "choropleth": [
           {
            "colorbar": {
             "outlinewidth": 0,
             "ticks": ""
            },
            "type": "choropleth"
           }
          ],
          "contour": [
           {
            "colorbar": {
             "outlinewidth": 0,
             "ticks": ""
            },
            "colorscale": [
             [
              0,
              "#0d0887"
             ],
             [
              0.1111111111111111,
              "#46039f"
             ],
             [
              0.2222222222222222,
              "#7201a8"
             ],
             [
              0.3333333333333333,
              "#9c179e"
             ],
             [
              0.4444444444444444,
              "#bd3786"
             ],
             [
              0.5555555555555556,
              "#d8576b"
             ],
             [
              0.6666666666666666,
              "#ed7953"
             ],
             [
              0.7777777777777778,
              "#fb9f3a"
             ],
             [
              0.8888888888888888,
              "#fdca26"
             ],
             [
              1,
              "#f0f921"
             ]
            ],
            "type": "contour"
           }
          ],
          "contourcarpet": [
           {
            "colorbar": {
             "outlinewidth": 0,
             "ticks": ""
            },
            "type": "contourcarpet"
           }
          ],
          "heatmap": [
           {
            "colorbar": {
             "outlinewidth": 0,
             "ticks": ""
            },
            "colorscale": [
             [
              0,
              "#0d0887"
             ],
             [
              0.1111111111111111,
              "#46039f"
             ],
             [
              0.2222222222222222,
              "#7201a8"
             ],
             [
              0.3333333333333333,
              "#9c179e"
             ],
             [
              0.4444444444444444,
              "#bd3786"
             ],
             [
              0.5555555555555556,
              "#d8576b"
             ],
             [
              0.6666666666666666,
              "#ed7953"
             ],
             [
              0.7777777777777778,
              "#fb9f3a"
             ],
             [
              0.8888888888888888,
              "#fdca26"
             ],
             [
              1,
              "#f0f921"
             ]
            ],
            "type": "heatmap"
           }
          ],
          "heatmapgl": [
           {
            "colorbar": {
             "outlinewidth": 0,
             "ticks": ""
            },
            "colorscale": [
             [
              0,
              "#0d0887"
             ],
             [
              0.1111111111111111,
              "#46039f"
             ],
             [
              0.2222222222222222,
              "#7201a8"
             ],
             [
              0.3333333333333333,
              "#9c179e"
             ],
             [
              0.4444444444444444,
              "#bd3786"
             ],
             [
              0.5555555555555556,
              "#d8576b"
             ],
             [
              0.6666666666666666,
              "#ed7953"
             ],
             [
              0.7777777777777778,
              "#fb9f3a"
             ],
             [
              0.8888888888888888,
              "#fdca26"
             ],
             [
              1,
              "#f0f921"
             ]
            ],
            "type": "heatmapgl"
           }
          ],
          "histogram": [
           {
            "marker": {
             "pattern": {
              "fillmode": "overlay",
              "size": 10,
              "solidity": 0.2
             }
            },
            "type": "histogram"
           }
          ],
          "histogram2d": [
           {
            "colorbar": {
             "outlinewidth": 0,
             "ticks": ""
            },
            "colorscale": [
             [
              0,
              "#0d0887"
             ],
             [
              0.1111111111111111,
              "#46039f"
             ],
             [
              0.2222222222222222,
              "#7201a8"
             ],
             [
              0.3333333333333333,
              "#9c179e"
             ],
             [
              0.4444444444444444,
              "#bd3786"
             ],
             [
              0.5555555555555556,
              "#d8576b"
             ],
             [
              0.6666666666666666,
              "#ed7953"
             ],
             [
              0.7777777777777778,
              "#fb9f3a"
             ],
             [
              0.8888888888888888,
              "#fdca26"
             ],
             [
              1,
              "#f0f921"
             ]
            ],
            "type": "histogram2d"
           }
          ],
          "histogram2dcontour": [
           {
            "colorbar": {
             "outlinewidth": 0,
             "ticks": ""
            },
            "colorscale": [
             [
              0,
              "#0d0887"
             ],
             [
              0.1111111111111111,
              "#46039f"
             ],
             [
              0.2222222222222222,
              "#7201a8"
             ],
             [
              0.3333333333333333,
              "#9c179e"
             ],
             [
              0.4444444444444444,
              "#bd3786"
             ],
             [
              0.5555555555555556,
              "#d8576b"
             ],
             [
              0.6666666666666666,
              "#ed7953"
             ],
             [
              0.7777777777777778,
              "#fb9f3a"
             ],
             [
              0.8888888888888888,
              "#fdca26"
             ],
             [
              1,
              "#f0f921"
             ]
            ],
            "type": "histogram2dcontour"
           }
          ],
          "mesh3d": [
           {
            "colorbar": {
             "outlinewidth": 0,
             "ticks": ""
            },
            "type": "mesh3d"
           }
          ],
          "parcoords": [
           {
            "line": {
             "colorbar": {
              "outlinewidth": 0,
              "ticks": ""
             }
            },
            "type": "parcoords"
           }
          ],
          "pie": [
           {
            "automargin": true,
            "type": "pie"
           }
          ],
          "scatter": [
           {
            "fillpattern": {
             "fillmode": "overlay",
             "size": 10,
             "solidity": 0.2
            },
            "type": "scatter"
           }
          ],
          "scatter3d": [
           {
            "line": {
             "colorbar": {
              "outlinewidth": 0,
              "ticks": ""
             }
            },
            "marker": {
             "colorbar": {
              "outlinewidth": 0,
              "ticks": ""
             }
            },
            "type": "scatter3d"
           }
          ],
          "scattercarpet": [
           {
            "marker": {
             "colorbar": {
              "outlinewidth": 0,
              "ticks": ""
             }
            },
            "type": "scattercarpet"
           }
          ],
          "scattergeo": [
           {
            "marker": {
             "colorbar": {
              "outlinewidth": 0,
              "ticks": ""
             }
            },
            "type": "scattergeo"
           }
          ],
          "scattergl": [
           {
            "marker": {
             "colorbar": {
              "outlinewidth": 0,
              "ticks": ""
             }
            },
            "type": "scattergl"
           }
          ],
          "scattermapbox": [
           {
            "marker": {
             "colorbar": {
              "outlinewidth": 0,
              "ticks": ""
             }
            },
            "type": "scattermapbox"
           }
          ],
          "scatterpolar": [
           {
            "marker": {
             "colorbar": {
              "outlinewidth": 0,
              "ticks": ""
             }
            },
            "type": "scatterpolar"
           }
          ],
          "scatterpolargl": [
           {
            "marker": {
             "colorbar": {
              "outlinewidth": 0,
              "ticks": ""
             }
            },
            "type": "scatterpolargl"
           }
          ],
          "scatterternary": [
           {
            "marker": {
             "colorbar": {
              "outlinewidth": 0,
              "ticks": ""
             }
            },
            "type": "scatterternary"
           }
          ],
          "surface": [
           {
            "colorbar": {
             "outlinewidth": 0,
             "ticks": ""
            },
            "colorscale": [
             [
              0,
              "#0d0887"
             ],
             [
              0.1111111111111111,
              "#46039f"
             ],
             [
              0.2222222222222222,
              "#7201a8"
             ],
             [
              0.3333333333333333,
              "#9c179e"
             ],
             [
              0.4444444444444444,
              "#bd3786"
             ],
             [
              0.5555555555555556,
              "#d8576b"
             ],
             [
              0.6666666666666666,
              "#ed7953"
             ],
             [
              0.7777777777777778,
              "#fb9f3a"
             ],
             [
              0.8888888888888888,
              "#fdca26"
             ],
             [
              1,
              "#f0f921"
             ]
            ],
            "type": "surface"
           }
          ],
          "table": [
           {
            "cells": {
             "fill": {
              "color": "#EBF0F8"
             },
             "line": {
              "color": "white"
             }
            },
            "header": {
             "fill": {
              "color": "#C8D4E3"
             },
             "line": {
              "color": "white"
             }
            },
            "type": "table"
           }
          ]
         },
         "layout": {
          "annotationdefaults": {
           "arrowcolor": "#2a3f5f",
           "arrowhead": 0,
           "arrowwidth": 1
          },
          "autotypenumbers": "strict",
          "coloraxis": {
           "colorbar": {
            "outlinewidth": 0,
            "ticks": ""
           }
          },
          "colorscale": {
           "diverging": [
            [
             0,
             "#8e0152"
            ],
            [
             0.1,
             "#c51b7d"
            ],
            [
             0.2,
             "#de77ae"
            ],
            [
             0.3,
             "#f1b6da"
            ],
            [
             0.4,
             "#fde0ef"
            ],
            [
             0.5,
             "#f7f7f7"
            ],
            [
             0.6,
             "#e6f5d0"
            ],
            [
             0.7,
             "#b8e186"
            ],
            [
             0.8,
             "#7fbc41"
            ],
            [
             0.9,
             "#4d9221"
            ],
            [
             1,
             "#276419"
            ]
           ],
           "sequential": [
            [
             0,
             "#0d0887"
            ],
            [
             0.1111111111111111,
             "#46039f"
            ],
            [
             0.2222222222222222,
             "#7201a8"
            ],
            [
             0.3333333333333333,
             "#9c179e"
            ],
            [
             0.4444444444444444,
             "#bd3786"
            ],
            [
             0.5555555555555556,
             "#d8576b"
            ],
            [
             0.6666666666666666,
             "#ed7953"
            ],
            [
             0.7777777777777778,
             "#fb9f3a"
            ],
            [
             0.8888888888888888,
             "#fdca26"
            ],
            [
             1,
             "#f0f921"
            ]
           ],
           "sequentialminus": [
            [
             0,
             "#0d0887"
            ],
            [
             0.1111111111111111,
             "#46039f"
            ],
            [
             0.2222222222222222,
             "#7201a8"
            ],
            [
             0.3333333333333333,
             "#9c179e"
            ],
            [
             0.4444444444444444,
             "#bd3786"
            ],
            [
             0.5555555555555556,
             "#d8576b"
            ],
            [
             0.6666666666666666,
             "#ed7953"
            ],
            [
             0.7777777777777778,
             "#fb9f3a"
            ],
            [
             0.8888888888888888,
             "#fdca26"
            ],
            [
             1,
             "#f0f921"
            ]
           ]
          },
          "colorway": [
           "#636efa",
           "#EF553B",
           "#00cc96",
           "#ab63fa",
           "#FFA15A",
           "#19d3f3",
           "#FF6692",
           "#B6E880",
           "#FF97FF",
           "#FECB52"
          ],
          "font": {
           "color": "#2a3f5f"
          },
          "geo": {
           "bgcolor": "white",
           "lakecolor": "white",
           "landcolor": "#E5ECF6",
           "showlakes": true,
           "showland": true,
           "subunitcolor": "white"
          },
          "hoverlabel": {
           "align": "left"
          },
          "hovermode": "closest",
          "mapbox": {
           "style": "light"
          },
          "paper_bgcolor": "white",
          "plot_bgcolor": "#E5ECF6",
          "polar": {
           "angularaxis": {
            "gridcolor": "white",
            "linecolor": "white",
            "ticks": ""
           },
           "bgcolor": "#E5ECF6",
           "radialaxis": {
            "gridcolor": "white",
            "linecolor": "white",
            "ticks": ""
           }
          },
          "scene": {
           "xaxis": {
            "backgroundcolor": "#E5ECF6",
            "gridcolor": "white",
            "gridwidth": 2,
            "linecolor": "white",
            "showbackground": true,
            "ticks": "",
            "zerolinecolor": "white"
           },
           "yaxis": {
            "backgroundcolor": "#E5ECF6",
            "gridcolor": "white",
            "gridwidth": 2,
            "linecolor": "white",
            "showbackground": true,
            "ticks": "",
            "zerolinecolor": "white"
           },
           "zaxis": {
            "backgroundcolor": "#E5ECF6",
            "gridcolor": "white",
            "gridwidth": 2,
            "linecolor": "white",
            "showbackground": true,
            "ticks": "",
            "zerolinecolor": "white"
           }
          },
          "shapedefaults": {
           "line": {
            "color": "#2a3f5f"
           }
          },
          "ternary": {
           "aaxis": {
            "gridcolor": "white",
            "linecolor": "white",
            "ticks": ""
           },
           "baxis": {
            "gridcolor": "white",
            "linecolor": "white",
            "ticks": ""
           },
           "bgcolor": "#E5ECF6",
           "caxis": {
            "gridcolor": "white",
            "linecolor": "white",
            "ticks": ""
           }
          },
          "title": {
           "x": 0.05
          },
          "xaxis": {
           "automargin": true,
           "gridcolor": "white",
           "linecolor": "white",
           "ticks": "",
           "title": {
            "standoff": 15
           },
           "zerolinecolor": "white",
           "zerolinewidth": 2
          },
          "yaxis": {
           "automargin": true,
           "gridcolor": "white",
           "linecolor": "white",
           "ticks": "",
           "title": {
            "standoff": 15
           },
           "zerolinecolor": "white",
           "zerolinewidth": 2
          }
         }
        },
        "title": {
         "text": "Optimization History Plot"
        },
        "xaxis": {
         "title": {
          "text": "Trial"
         }
        },
        "yaxis": {
         "title": {
          "text": "Objective Value"
         }
        }
       }
      },
      "text/html": [
       "<div>                            <div id=\"e310cdcf-50bc-473a-be86-e37295c2e676\" class=\"plotly-graph-div\" style=\"height:525px; width:100%;\"></div>            <script type=\"text/javascript\">                require([\"plotly\"], function(Plotly) {                    window.PLOTLYENV=window.PLOTLYENV || {};                                    if (document.getElementById(\"e310cdcf-50bc-473a-be86-e37295c2e676\")) {                    Plotly.newPlot(                        \"e310cdcf-50bc-473a-be86-e37295c2e676\",                        [{\"mode\":\"markers\",\"name\":\"Objective Value\",\"x\":[0,1,2,3,4,5,6,7,8,9,10,11,12,13,14,15,16,17,18,19,20,21,22,23,24,25,26,27,28,29,30,31,32,33,34,35,36,37,38,39,40,41,42,43,44,45,46,47,48,49],\"y\":[0.2902922138387286,0.36681452072230786,0.31725982009941167,0.261056195159082,0.2698720040689876,0.274037230570742,0.2785759078396829,0.3123303252487437,0.2870463443514645,0.3622167246673168,0.2609685950694839,0.2609685950694839,0.2515405569489679,0.24838630524358316,0.2514493808243844,0.2514493808243844,0.2514493808243844,0.2760278146608677,0.2943107308797622,0.2707747080531228,0.24764796146223295,0.24857048464545253,0.2638497732616059,0.25433991010240037,0.2649241085541609,0.27952861127714684,0.26669311884313296,0.25077284198634664,0.268397465167364,0.2761832840209492,0.2813815457704801,0.25077284198634664,0.25077284198634664,0.26047091273030903,0.24526671649216233,0.261767403823366,0.2666192087645893,0.245621026941666,0.26622987600626385,0.26014588789513726,0.24718432323552084,0.24859456061807236,0.24718432323552084,0.2693617192468619,0.264942514354067,0.2789979426819533,0.4082285232091735,0.2661570005041783,0.2468952080608561,0.2468952080608561],\"type\":\"scatter\"},{\"mode\":\"lines\",\"name\":\"Best Value\",\"x\":[0,1,2,3,4,5,6,7,8,9,10,11,12,13,14,15,16,17,18,19,20,21,22,23,24,25,26,27,28,29,30,31,32,33,34,35,36,37,38,39,40,41,42,43,44,45,46,47,48,49],\"y\":[0.2902922138387286,0.2902922138387286,0.2902922138387286,0.261056195159082,0.261056195159082,0.261056195159082,0.261056195159082,0.261056195159082,0.261056195159082,0.261056195159082,0.2609685950694839,0.2609685950694839,0.2515405569489679,0.24838630524358316,0.24838630524358316,0.24838630524358316,0.24838630524358316,0.24838630524358316,0.24838630524358316,0.24838630524358316,0.24764796146223295,0.24764796146223295,0.24764796146223295,0.24764796146223295,0.24764796146223295,0.24764796146223295,0.24764796146223295,0.24764796146223295,0.24764796146223295,0.24764796146223295,0.24764796146223295,0.24764796146223295,0.24764796146223295,0.24764796146223295,0.24526671649216233,0.24526671649216233,0.24526671649216233,0.24526671649216233,0.24526671649216233,0.24526671649216233,0.24526671649216233,0.24526671649216233,0.24526671649216233,0.24526671649216233,0.24526671649216233,0.24526671649216233,0.24526671649216233,0.24526671649216233,0.24526671649216233,0.24526671649216233],\"type\":\"scatter\"},{\"marker\":{\"color\":\"#cccccc\"},\"mode\":\"markers\",\"name\":\"Infeasible Trial\",\"showlegend\":false,\"x\":[],\"y\":[],\"type\":\"scatter\"}],                        {\"title\":{\"text\":\"Optimization History Plot\"},\"xaxis\":{\"title\":{\"text\":\"Trial\"}},\"yaxis\":{\"title\":{\"text\":\"Objective Value\"}},\"template\":{\"data\":{\"histogram2dcontour\":[{\"type\":\"histogram2dcontour\",\"colorbar\":{\"outlinewidth\":0,\"ticks\":\"\"},\"colorscale\":[[0.0,\"#0d0887\"],[0.1111111111111111,\"#46039f\"],[0.2222222222222222,\"#7201a8\"],[0.3333333333333333,\"#9c179e\"],[0.4444444444444444,\"#bd3786\"],[0.5555555555555556,\"#d8576b\"],[0.6666666666666666,\"#ed7953\"],[0.7777777777777778,\"#fb9f3a\"],[0.8888888888888888,\"#fdca26\"],[1.0,\"#f0f921\"]]}],\"choropleth\":[{\"type\":\"choropleth\",\"colorbar\":{\"outlinewidth\":0,\"ticks\":\"\"}}],\"histogram2d\":[{\"type\":\"histogram2d\",\"colorbar\":{\"outlinewidth\":0,\"ticks\":\"\"},\"colorscale\":[[0.0,\"#0d0887\"],[0.1111111111111111,\"#46039f\"],[0.2222222222222222,\"#7201a8\"],[0.3333333333333333,\"#9c179e\"],[0.4444444444444444,\"#bd3786\"],[0.5555555555555556,\"#d8576b\"],[0.6666666666666666,\"#ed7953\"],[0.7777777777777778,\"#fb9f3a\"],[0.8888888888888888,\"#fdca26\"],[1.0,\"#f0f921\"]]}],\"heatmap\":[{\"type\":\"heatmap\",\"colorbar\":{\"outlinewidth\":0,\"ticks\":\"\"},\"colorscale\":[[0.0,\"#0d0887\"],[0.1111111111111111,\"#46039f\"],[0.2222222222222222,\"#7201a8\"],[0.3333333333333333,\"#9c179e\"],[0.4444444444444444,\"#bd3786\"],[0.5555555555555556,\"#d8576b\"],[0.6666666666666666,\"#ed7953\"],[0.7777777777777778,\"#fb9f3a\"],[0.8888888888888888,\"#fdca26\"],[1.0,\"#f0f921\"]]}],\"heatmapgl\":[{\"type\":\"heatmapgl\",\"colorbar\":{\"outlinewidth\":0,\"ticks\":\"\"},\"colorscale\":[[0.0,\"#0d0887\"],[0.1111111111111111,\"#46039f\"],[0.2222222222222222,\"#7201a8\"],[0.3333333333333333,\"#9c179e\"],[0.4444444444444444,\"#bd3786\"],[0.5555555555555556,\"#d8576b\"],[0.6666666666666666,\"#ed7953\"],[0.7777777777777778,\"#fb9f3a\"],[0.8888888888888888,\"#fdca26\"],[1.0,\"#f0f921\"]]}],\"contourcarpet\":[{\"type\":\"contourcarpet\",\"colorbar\":{\"outlinewidth\":0,\"ticks\":\"\"}}],\"contour\":[{\"type\":\"contour\",\"colorbar\":{\"outlinewidth\":0,\"ticks\":\"\"},\"colorscale\":[[0.0,\"#0d0887\"],[0.1111111111111111,\"#46039f\"],[0.2222222222222222,\"#7201a8\"],[0.3333333333333333,\"#9c179e\"],[0.4444444444444444,\"#bd3786\"],[0.5555555555555556,\"#d8576b\"],[0.6666666666666666,\"#ed7953\"],[0.7777777777777778,\"#fb9f3a\"],[0.8888888888888888,\"#fdca26\"],[1.0,\"#f0f921\"]]}],\"surface\":[{\"type\":\"surface\",\"colorbar\":{\"outlinewidth\":0,\"ticks\":\"\"},\"colorscale\":[[0.0,\"#0d0887\"],[0.1111111111111111,\"#46039f\"],[0.2222222222222222,\"#7201a8\"],[0.3333333333333333,\"#9c179e\"],[0.4444444444444444,\"#bd3786\"],[0.5555555555555556,\"#d8576b\"],[0.6666666666666666,\"#ed7953\"],[0.7777777777777778,\"#fb9f3a\"],[0.8888888888888888,\"#fdca26\"],[1.0,\"#f0f921\"]]}],\"mesh3d\":[{\"type\":\"mesh3d\",\"colorbar\":{\"outlinewidth\":0,\"ticks\":\"\"}}],\"scatter\":[{\"fillpattern\":{\"fillmode\":\"overlay\",\"size\":10,\"solidity\":0.2},\"type\":\"scatter\"}],\"parcoords\":[{\"type\":\"parcoords\",\"line\":{\"colorbar\":{\"outlinewidth\":0,\"ticks\":\"\"}}}],\"scatterpolargl\":[{\"type\":\"scatterpolargl\",\"marker\":{\"colorbar\":{\"outlinewidth\":0,\"ticks\":\"\"}}}],\"bar\":[{\"error_x\":{\"color\":\"#2a3f5f\"},\"error_y\":{\"color\":\"#2a3f5f\"},\"marker\":{\"line\":{\"color\":\"#E5ECF6\",\"width\":0.5},\"pattern\":{\"fillmode\":\"overlay\",\"size\":10,\"solidity\":0.2}},\"type\":\"bar\"}],\"scattergeo\":[{\"type\":\"scattergeo\",\"marker\":{\"colorbar\":{\"outlinewidth\":0,\"ticks\":\"\"}}}],\"scatterpolar\":[{\"type\":\"scatterpolar\",\"marker\":{\"colorbar\":{\"outlinewidth\":0,\"ticks\":\"\"}}}],\"histogram\":[{\"marker\":{\"pattern\":{\"fillmode\":\"overlay\",\"size\":10,\"solidity\":0.2}},\"type\":\"histogram\"}],\"scattergl\":[{\"type\":\"scattergl\",\"marker\":{\"colorbar\":{\"outlinewidth\":0,\"ticks\":\"\"}}}],\"scatter3d\":[{\"type\":\"scatter3d\",\"line\":{\"colorbar\":{\"outlinewidth\":0,\"ticks\":\"\"}},\"marker\":{\"colorbar\":{\"outlinewidth\":0,\"ticks\":\"\"}}}],\"scattermapbox\":[{\"type\":\"scattermapbox\",\"marker\":{\"colorbar\":{\"outlinewidth\":0,\"ticks\":\"\"}}}],\"scatterternary\":[{\"type\":\"scatterternary\",\"marker\":{\"colorbar\":{\"outlinewidth\":0,\"ticks\":\"\"}}}],\"scattercarpet\":[{\"type\":\"scattercarpet\",\"marker\":{\"colorbar\":{\"outlinewidth\":0,\"ticks\":\"\"}}}],\"carpet\":[{\"aaxis\":{\"endlinecolor\":\"#2a3f5f\",\"gridcolor\":\"white\",\"linecolor\":\"white\",\"minorgridcolor\":\"white\",\"startlinecolor\":\"#2a3f5f\"},\"baxis\":{\"endlinecolor\":\"#2a3f5f\",\"gridcolor\":\"white\",\"linecolor\":\"white\",\"minorgridcolor\":\"white\",\"startlinecolor\":\"#2a3f5f\"},\"type\":\"carpet\"}],\"table\":[{\"cells\":{\"fill\":{\"color\":\"#EBF0F8\"},\"line\":{\"color\":\"white\"}},\"header\":{\"fill\":{\"color\":\"#C8D4E3\"},\"line\":{\"color\":\"white\"}},\"type\":\"table\"}],\"barpolar\":[{\"marker\":{\"line\":{\"color\":\"#E5ECF6\",\"width\":0.5},\"pattern\":{\"fillmode\":\"overlay\",\"size\":10,\"solidity\":0.2}},\"type\":\"barpolar\"}],\"pie\":[{\"automargin\":true,\"type\":\"pie\"}]},\"layout\":{\"autotypenumbers\":\"strict\",\"colorway\":[\"#636efa\",\"#EF553B\",\"#00cc96\",\"#ab63fa\",\"#FFA15A\",\"#19d3f3\",\"#FF6692\",\"#B6E880\",\"#FF97FF\",\"#FECB52\"],\"font\":{\"color\":\"#2a3f5f\"},\"hovermode\":\"closest\",\"hoverlabel\":{\"align\":\"left\"},\"paper_bgcolor\":\"white\",\"plot_bgcolor\":\"#E5ECF6\",\"polar\":{\"bgcolor\":\"#E5ECF6\",\"angularaxis\":{\"gridcolor\":\"white\",\"linecolor\":\"white\",\"ticks\":\"\"},\"radialaxis\":{\"gridcolor\":\"white\",\"linecolor\":\"white\",\"ticks\":\"\"}},\"ternary\":{\"bgcolor\":\"#E5ECF6\",\"aaxis\":{\"gridcolor\":\"white\",\"linecolor\":\"white\",\"ticks\":\"\"},\"baxis\":{\"gridcolor\":\"white\",\"linecolor\":\"white\",\"ticks\":\"\"},\"caxis\":{\"gridcolor\":\"white\",\"linecolor\":\"white\",\"ticks\":\"\"}},\"coloraxis\":{\"colorbar\":{\"outlinewidth\":0,\"ticks\":\"\"}},\"colorscale\":{\"sequential\":[[0.0,\"#0d0887\"],[0.1111111111111111,\"#46039f\"],[0.2222222222222222,\"#7201a8\"],[0.3333333333333333,\"#9c179e\"],[0.4444444444444444,\"#bd3786\"],[0.5555555555555556,\"#d8576b\"],[0.6666666666666666,\"#ed7953\"],[0.7777777777777778,\"#fb9f3a\"],[0.8888888888888888,\"#fdca26\"],[1.0,\"#f0f921\"]],\"sequentialminus\":[[0.0,\"#0d0887\"],[0.1111111111111111,\"#46039f\"],[0.2222222222222222,\"#7201a8\"],[0.3333333333333333,\"#9c179e\"],[0.4444444444444444,\"#bd3786\"],[0.5555555555555556,\"#d8576b\"],[0.6666666666666666,\"#ed7953\"],[0.7777777777777778,\"#fb9f3a\"],[0.8888888888888888,\"#fdca26\"],[1.0,\"#f0f921\"]],\"diverging\":[[0,\"#8e0152\"],[0.1,\"#c51b7d\"],[0.2,\"#de77ae\"],[0.3,\"#f1b6da\"],[0.4,\"#fde0ef\"],[0.5,\"#f7f7f7\"],[0.6,\"#e6f5d0\"],[0.7,\"#b8e186\"],[0.8,\"#7fbc41\"],[0.9,\"#4d9221\"],[1,\"#276419\"]]},\"xaxis\":{\"gridcolor\":\"white\",\"linecolor\":\"white\",\"ticks\":\"\",\"title\":{\"standoff\":15},\"zerolinecolor\":\"white\",\"automargin\":true,\"zerolinewidth\":2},\"yaxis\":{\"gridcolor\":\"white\",\"linecolor\":\"white\",\"ticks\":\"\",\"title\":{\"standoff\":15},\"zerolinecolor\":\"white\",\"automargin\":true,\"zerolinewidth\":2},\"scene\":{\"xaxis\":{\"backgroundcolor\":\"#E5ECF6\",\"gridcolor\":\"white\",\"linecolor\":\"white\",\"showbackground\":true,\"ticks\":\"\",\"zerolinecolor\":\"white\",\"gridwidth\":2},\"yaxis\":{\"backgroundcolor\":\"#E5ECF6\",\"gridcolor\":\"white\",\"linecolor\":\"white\",\"showbackground\":true,\"ticks\":\"\",\"zerolinecolor\":\"white\",\"gridwidth\":2},\"zaxis\":{\"backgroundcolor\":\"#E5ECF6\",\"gridcolor\":\"white\",\"linecolor\":\"white\",\"showbackground\":true,\"ticks\":\"\",\"zerolinecolor\":\"white\",\"gridwidth\":2}},\"shapedefaults\":{\"line\":{\"color\":\"#2a3f5f\"}},\"annotationdefaults\":{\"arrowcolor\":\"#2a3f5f\",\"arrowhead\":0,\"arrowwidth\":1},\"geo\":{\"bgcolor\":\"white\",\"landcolor\":\"#E5ECF6\",\"subunitcolor\":\"white\",\"showland\":true,\"showlakes\":true,\"lakecolor\":\"white\"},\"title\":{\"x\":0.05},\"mapbox\":{\"style\":\"light\"}}}},                        {\"responsive\": true}                    ).then(function(){\n",
       "                            \n",
       "var gd = document.getElementById('e310cdcf-50bc-473a-be86-e37295c2e676');\n",
       "var x = new MutationObserver(function (mutations, observer) {{\n",
       "        var display = window.getComputedStyle(gd).display;\n",
       "        if (!display || display === 'none') {{\n",
       "            console.log([gd, 'removed!']);\n",
       "            Plotly.purge(gd);\n",
       "            observer.disconnect();\n",
       "        }}\n",
       "}});\n",
       "\n",
       "// Listen for the removal of the full notebook cells\n",
       "var notebookContainer = gd.closest('#notebook-container');\n",
       "if (notebookContainer) {{\n",
       "    x.observe(notebookContainer, {childList: true});\n",
       "}}\n",
       "\n",
       "// Listen for the clearing of the current output cell\n",
       "var outputEl = gd.closest('.output');\n",
       "if (outputEl) {{\n",
       "    x.observe(outputEl, {childList: true});\n",
       "}}\n",
       "\n",
       "                        })                };                });            </script>        </div>"
      ]
     },
     "metadata": {},
     "output_type": "display_data"
    }
   ],
   "source": [
    "plot_optimization_history(study)"
   ]
  },
  {
   "cell_type": "markdown",
   "id": "72a1583c",
   "metadata": {},
   "source": [
    "### Test the best RandomForest configuration"
   ]
  },
  {
   "cell_type": "code",
   "execution_count": 101,
   "id": "eafd9653",
   "metadata": {},
   "outputs": [],
   "source": [
    "_, max_depth_best, min_samples_leaf_best, n_est_best = np.array(optuna_trials_df[\n",
    "    optuna_trials_df['value'] == min(optuna_trials_df['value'])  # find the trial with minimal loss\n",
    "])[0]  # best params for RandomForest"
   ]
  },
  {
   "cell_type": "code",
   "execution_count": 106,
   "id": "be6e9f3a",
   "metadata": {},
   "outputs": [
    {
     "name": "stdout",
     "output_type": "stream",
     "text": [
      "CPU times: user 3min 3s, sys: 56.9 ms, total: 3min 3s\n",
      "Wall time: 3min 4s\n"
     ]
    },
    {
     "data": {
      "text/html": [
       "<style>#sk-container-id-2 {color: black;}#sk-container-id-2 pre{padding: 0;}#sk-container-id-2 div.sk-toggleable {background-color: white;}#sk-container-id-2 label.sk-toggleable__label {cursor: pointer;display: block;width: 100%;margin-bottom: 0;padding: 0.3em;box-sizing: border-box;text-align: center;}#sk-container-id-2 label.sk-toggleable__label-arrow:before {content: \"▸\";float: left;margin-right: 0.25em;color: #696969;}#sk-container-id-2 label.sk-toggleable__label-arrow:hover:before {color: black;}#sk-container-id-2 div.sk-estimator:hover label.sk-toggleable__label-arrow:before {color: black;}#sk-container-id-2 div.sk-toggleable__content {max-height: 0;max-width: 0;overflow: hidden;text-align: left;background-color: #f0f8ff;}#sk-container-id-2 div.sk-toggleable__content pre {margin: 0.2em;color: black;border-radius: 0.25em;background-color: #f0f8ff;}#sk-container-id-2 input.sk-toggleable__control:checked~div.sk-toggleable__content {max-height: 200px;max-width: 100%;overflow: auto;}#sk-container-id-2 input.sk-toggleable__control:checked~label.sk-toggleable__label-arrow:before {content: \"▾\";}#sk-container-id-2 div.sk-estimator input.sk-toggleable__control:checked~label.sk-toggleable__label {background-color: #d4ebff;}#sk-container-id-2 div.sk-label input.sk-toggleable__control:checked~label.sk-toggleable__label {background-color: #d4ebff;}#sk-container-id-2 input.sk-hidden--visually {border: 0;clip: rect(1px 1px 1px 1px);clip: rect(1px, 1px, 1px, 1px);height: 1px;margin: -1px;overflow: hidden;padding: 0;position: absolute;width: 1px;}#sk-container-id-2 div.sk-estimator {font-family: monospace;background-color: #f0f8ff;border: 1px dotted black;border-radius: 0.25em;box-sizing: border-box;margin-bottom: 0.5em;}#sk-container-id-2 div.sk-estimator:hover {background-color: #d4ebff;}#sk-container-id-2 div.sk-parallel-item::after {content: \"\";width: 100%;border-bottom: 1px solid gray;flex-grow: 1;}#sk-container-id-2 div.sk-label:hover label.sk-toggleable__label {background-color: #d4ebff;}#sk-container-id-2 div.sk-serial::before {content: \"\";position: absolute;border-left: 1px solid gray;box-sizing: border-box;top: 0;bottom: 0;left: 50%;z-index: 0;}#sk-container-id-2 div.sk-serial {display: flex;flex-direction: column;align-items: center;background-color: white;padding-right: 0.2em;padding-left: 0.2em;position: relative;}#sk-container-id-2 div.sk-item {position: relative;z-index: 1;}#sk-container-id-2 div.sk-parallel {display: flex;align-items: stretch;justify-content: center;background-color: white;position: relative;}#sk-container-id-2 div.sk-item::before, #sk-container-id-2 div.sk-parallel-item::before {content: \"\";position: absolute;border-left: 1px solid gray;box-sizing: border-box;top: 0;bottom: 0;left: 50%;z-index: -1;}#sk-container-id-2 div.sk-parallel-item {display: flex;flex-direction: column;z-index: 1;position: relative;background-color: white;}#sk-container-id-2 div.sk-parallel-item:first-child::after {align-self: flex-end;width: 50%;}#sk-container-id-2 div.sk-parallel-item:last-child::after {align-self: flex-start;width: 50%;}#sk-container-id-2 div.sk-parallel-item:only-child::after {width: 0;}#sk-container-id-2 div.sk-dashed-wrapped {border: 1px dashed gray;margin: 0 0.4em 0.5em 0.4em;box-sizing: border-box;padding-bottom: 0.4em;background-color: white;}#sk-container-id-2 div.sk-label label {font-family: monospace;font-weight: bold;display: inline-block;line-height: 1.2em;}#sk-container-id-2 div.sk-label-container {text-align: center;}#sk-container-id-2 div.sk-container {/* jupyter's `normalize.less` sets `[hidden] { display: none; }` but bootstrap.min.css set `[hidden] { display: none !important; }` so we also need the `!important` here to be able to override the default hidden behavior on the sphinx rendered scikit-learn.org. See: https://github.com/scikit-learn/scikit-learn/issues/21755 */display: inline-block !important;position: relative;}#sk-container-id-2 div.sk-text-repr-fallback {display: none;}</style><div id=\"sk-container-id-2\" class=\"sk-top-container\"><div class=\"sk-text-repr-fallback\"><pre>RandomForestRegressor(criterion=&#x27;absolute_error&#x27;, max_depth=19,\n",
       "                      min_samples_leaf=2, n_estimators=22, random_state=78)</pre><b>In a Jupyter environment, please rerun this cell to show the HTML representation or trust the notebook. <br />On GitHub, the HTML representation is unable to render, please try loading this page with nbviewer.org.</b></div><div class=\"sk-container\" hidden><div class=\"sk-item\"><div class=\"sk-estimator sk-toggleable\"><input class=\"sk-toggleable__control sk-hidden--visually\" id=\"sk-estimator-id-11\" type=\"checkbox\" checked><label for=\"sk-estimator-id-11\" class=\"sk-toggleable__label sk-toggleable__label-arrow\">RandomForestRegressor</label><div class=\"sk-toggleable__content\"><pre>RandomForestRegressor(criterion=&#x27;absolute_error&#x27;, max_depth=19,\n",
       "                      min_samples_leaf=2, n_estimators=22, random_state=78)</pre></div></div></div></div></div>"
      ],
      "text/plain": [
       "RandomForestRegressor(criterion='absolute_error', max_depth=19,\n",
       "                      min_samples_leaf=2, n_estimators=22, random_state=78)"
      ]
     },
     "execution_count": 106,
     "metadata": {},
     "output_type": "execute_result"
    }
   ],
   "source": [
    "%%time\n",
    "\n",
    "best_rf = RandomForestRegressor(\n",
    "    n_estimators=int(n_est_best),\n",
    "    criterion='absolute_error',\n",
    "    max_depth=int(max_depth_best),\n",
    "    min_samples_leaf=int(min_samples_leaf_best),\n",
    "    random_state=FOREST_STATE    # fix random state for all trials\n",
    ")\n",
    "\n",
    "best_rf.fit(X_trans_train, y_train)"
   ]
  },
  {
   "cell_type": "code",
   "execution_count": 113,
   "id": "74a5f85b",
   "metadata": {},
   "outputs": [
    {
     "name": "stdout",
     "output_type": "stream",
     "text": [
      "l1-score for BEST forest model: 0.245267\n",
      "R^2 score for BEST forest model: 0.853076\n"
     ]
    }
   ],
   "source": [
    "y_pred_best = best_rf.predict(X_trans_test) \n",
    "l1_val_best = np.abs(y_pred_best - y_test).mean()  # l1-score\n",
    "\n",
    "print(f'l1-score for BEST forest model: {l1_val_best:.6f}')\n",
    "print(f'R^2 score for BEST forest model: {best_rf.score(X_trans_test, y_test):.6f}')"
   ]
  },
  {
   "cell_type": "code",
   "execution_count": 114,
   "id": "be66de2f",
   "metadata": {},
   "outputs": [
    {
     "data": {
      "image/png": "[encoded data removed]",
      "text/plain": [
       "<Figure size 500x500 with 1 Axes>"
      ]
     },
     "metadata": {
      "image/png": {
       "height": 459,
       "width": 454
      }
     },
     "output_type": "display_data"
    }
   ],
   "source": [
    "    # predictions visualization in matplotlib\n",
    "lables_fs = 16\n",
    "ticks_fs = 12\n",
    "\n",
    "fig, ax = plt.subplots(1, 1, figsize=(5, 5))\n",
    "low_lim = -10\n",
    "up_lim = 40\n",
    "delta = 5\n",
    "\n",
    "ax.scatter(\n",
    "    best_rf.predict(X_trans_train),\n",
    "    y_train, \n",
    "    c='cornflowerblue', s=0.5,\n",
    "    alpha=0.5,\n",
    "    label='train'\n",
    ")\n",
    "ax.scatter(\n",
    "    y_pred_best,\n",
    "    y_test, \n",
    "    c='tomato', s=0.5, \n",
    "    alpha=0.5,\n",
    "    label='test'\n",
    ")\n",
    "\n",
    "    # ideal predictor\n",
    "ax.plot(\n",
    "    [low_lim + delta, up_lim - delta],\n",
    "    [low_lim + delta, up_lim - delta],\n",
    "    c='k', linestyle='--', lw=0.50, \n",
    "    label='ideal'\n",
    ")\n",
    "\n",
    "ax.set_ylabel('target', fontsize=lables_fs - 2)\n",
    "ax.set_xlabel('predicted', fontsize=lables_fs - 2)\n",
    "ax.set_title('RandomForestRegressor (best)', fontsize=lables_fs)\n",
    "\n",
    "ax.grid(color='silver', linestyle='-', linewidth=0.1)\n",
    "\n",
    "ax.set(aspect='equal')\n",
    "ax.set_xlim([low_lim, up_lim])\n",
    "ax.set_ylim([low_lim, up_lim])\n",
    "\n",
    "lgnd = ax.legend(loc='upper left')\n",
    "for legend_handle in lgnd.legend_handles: legend_handle._sizes = [20]\n",
    "\n",
    "plt.show()"
   ]
  },
  {
   "cell_type": "markdown",
   "id": "707c5002",
   "metadata": {},
   "source": [
    "### Comparison of two forests "
   ]
  },
  {
   "cell_type": "code",
   "execution_count": 133,
   "id": "5eb79655",
   "metadata": {},
   "outputs": [
    {
     "data": {
      "image/png": "[encoded data removed]",
      "text/plain": [
       "<Figure size 500x500 with 1 Axes>"
      ]
     },
     "metadata": {
      "image/png": {
       "height": 459,
       "width": 436
      }
     },
     "output_type": "display_data"
    }
   ],
   "source": [
    "    # predictions (on all data) visualization in matplotlib\n",
    "lables_fs = 16\n",
    "ticks_fs = 12\n",
    "\n",
    "fig, ax = plt.subplots(1, 1, figsize=(5, 5))\n",
    "low_lim = 0\n",
    "up_lim = 15\n",
    "\n",
    "old_color = 'k'\n",
    "best_color = 'r'\n",
    "ms = 1\n",
    "\n",
    "    # old model\n",
    "ax.scatter(\n",
    "    clf_forest.predict(X_train),\n",
    "    y_train, \n",
    "    c=old_color, s=ms,\n",
    ")\n",
    "ax.scatter(\n",
    "    y_pred_forest,\n",
    "    y_test, \n",
    "    c=old_color, s=ms, \n",
    "    label='old'\n",
    ")\n",
    "\n",
    "    # best model\n",
    "ax.scatter(\n",
    "    best_rf.predict(X_trans_train),\n",
    "    y_train, \n",
    "    c=best_color, s=0.5,\n",
    "    alpha=1,\n",
    ")\n",
    "ax.scatter(\n",
    "    y_pred_best,\n",
    "    y_test, \n",
    "    c=best_color, s=0.5, \n",
    "    alpha=1,\n",
    "    label='best'\n",
    ")\n",
    "\n",
    "    # ideal predictor\n",
    "ax.plot(\n",
    "    [low_lim, up_lim],\n",
    "    [low_lim, up_lim],\n",
    "    c='g', linestyle='--', lw=2, \n",
    "    label='ideal'\n",
    ")\n",
    "\n",
    "ax.set_ylabel('target', fontsize=lables_fs - 2)\n",
    "ax.set_xlabel('predicted', fontsize=lables_fs - 2)\n",
    "ax.set_title('forest (vs) forest', fontsize=lables_fs)\n",
    "\n",
    "# ax.grid(color='silver', linestyle='-', linewidth=0.1)\n",
    "\n",
    "ax.set(aspect='equal')\n",
    "ax.set_xlim([low_lim, up_lim])\n",
    "ax.set_ylim([low_lim, up_lim])\n",
    "\n",
    "lgnd = ax.legend(loc='upper left')\n",
    "for legend_handle in lgnd.legend_handles: legend_handle._sizes = [20]\n",
    "\n",
    "plt.show()"
   ]
  },
  {
   "cell_type": "markdown",
   "id": "2137866a",
   "metadata": {},
   "source": [
    "### Results\n",
    "\n",
    "`PandomForest` with _optimal_ parameters obtained via `optuna` is not much better than the initial forest with _random_ parameters:(\n",
    "\n",
    "$L_1$-loss becomes lower (for _the best model_), but not dramatically: `0.262` vs `0.245` \n",
    "\n",
    "**Interpretation:** predictions (of _the best model_) for `price` becomes closer to the true values by `20k` rubles (average)"
   ]
  },
  {
   "cell_type": "markdown",
   "id": "edb4a96a",
   "metadata": {},
   "source": [
    "### Feature importance"
   ]
  },
  {
   "cell_type": "code",
   "execution_count": 165,
   "id": "b8e2544e",
   "metadata": {},
   "outputs": [],
   "source": [
    "feature_names = num_cols.copy()\n",
    "feature_names.extend([f'cat_{i + 1}' for i in range(X_trans_train.shape[1] - len(num_cols))])"
   ]
  },
  {
   "cell_type": "code",
   "execution_count": 166,
   "id": "72f1f133",
   "metadata": {},
   "outputs": [],
   "source": [
    "rf_importances = best_rf.feature_importances_\n",
    "rf_std = np.std([tree.feature_importances_ for tree in best_rf.estimators_], axis=0)"
   ]
  },
  {
   "cell_type": "code",
   "execution_count": 170,
   "id": "dcf7b1ee",
   "metadata": {},
   "outputs": [
    {
     "data": {
      "image/png": "[encoded data removed]",
      "text/plain": [
       "<Figure size 1000x500 with 1 Axes>"
      ]
     },
     "metadata": {
      "image/png": {
       "height": 480,
       "width": 980
      }
     },
     "output_type": "display_data"
    }
   ],
   "source": [
    "best_forest_importances = pd.Series(rf_importances, index=feature_names)\n",
    "\n",
    "fig, ax = plt.subplots(figsize=(10, 5))\n",
    "best_forest_importances.plot.bar(yerr=rf_std, ax=ax)\n",
    "ax.set_title('Feature importances using MDI')\n",
    "ax.set_ylabel('Mean decrease in impurity')\n",
    "fig.tight_layout()"
   ]
  },
  {
   "cell_type": "markdown",
   "id": "ec3ca3bf",
   "metadata": {},
   "source": [
    "Top of the most important features for price prediction:\n",
    "\n",
    "1. `torque`\n",
    "2. `year`\n",
    "3. `transmissions`"
   ]
  },
  {
   "cell_type": "code",
   "execution_count": null,
   "id": "ba184f37",
   "metadata": {},
   "outputs": [],
   "source": []
  },
  {
   "cell_type": "code",
   "execution_count": null,
   "id": "654e23dd",
   "metadata": {},
   "outputs": [],
   "source": []
  }
 ],
 "metadata": {
  "kernelspec": {
   "display_name": "Python 3 (ipykernel)",
   "language": "python",
   "name": "python3"
  },
  "language_info": {
   "codemirror_mode": {
    "name": "ipython",
    "version": 3
   },
   "file_extension": ".py",
   "mimetype": "text/x-python",
   "name": "python",
   "nbconvert_exporter": "python",
   "pygments_lexer": "ipython3",
   "version": "3.8.10"
  }
 },
 "nbformat": 4,
 "nbformat_minor": 5
}
